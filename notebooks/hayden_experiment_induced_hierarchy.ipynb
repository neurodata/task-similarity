{
 "cells": [
  {
   "cell_type": "code",
   "execution_count": 92,
   "metadata": {},
   "outputs": [],
   "source": [
    "%matplotlib inline\n",
    "import numpy as np\n",
    "import sklearn\n",
    "import pandas as pd\n",
    "from PIL import Image\n",
    "from matplotlib import pyplot as plt\n",
    "import torchvision\n",
    "import torch\n",
    "import os\n",
    "import random\n",
    "from tqdm import tqdm\n",
    "from sklearn.metrics import roc_auc_score, roc_curve, plot_roc_curve, auc\n",
    "from torch.utils.data import Dataset\n",
    "from torchvision import datasets\n",
    "from torchvision.transforms import ToTensor, Lambda\n",
    "from torch.utils.data import DataLoader\n",
    "import pickle\n",
    "from sklearn.metrics import accuracy_score, f1_score\n",
    "import torch.utils.data as data_utils\n",
    "from collections import defaultdict\n",
    "import gc"
   ]
  },
  {
   "cell_type": "code",
   "execution_count": 93,
   "metadata": {},
   "outputs": [],
   "source": [
    "def load_and_transform_cifar100(label_noise=0.0):\n",
    "    training_data = datasets.CIFAR100(\n",
    "        root=\"data\",\n",
    "        train=True,\n",
    "        download=True,\n",
    "    )\n",
    "\n",
    "    test_data = datasets.CIFAR100(\n",
    "        root=\"data\",\n",
    "        train=False,\n",
    "        download=True,\n",
    "    )\n",
    "    \n",
    "    if label_noise > 0:\n",
    "        size = int(label_noise * len(training_data))\n",
    "        noise_idx = set(np.random.choice(len(training_data), size, replace=False))\n",
    "        print('injecting noise ...%s' %len(noise_idx))\n",
    "        targets = []\n",
    "        for idx, t in enumerate(training_data.targets):\n",
    "            if idx in noise_idx:\n",
    "                targets.append(np.random.randint(100))\n",
    "            else:\n",
    "                targets.append(t)\n",
    "                \n",
    "        training_data.targets = targets\n",
    "        \n",
    "    image_size = (128, 128)\n",
    "    resnet_mean = [0.485, 0.456, 0.406]\n",
    "    resnet_std = [0.229, 0.224, 0.225]\n",
    "\n",
    "    #Creating a Transformation Object\n",
    "    data_transform = torchvision.transforms.Compose([\n",
    "        torchvision.transforms.Resize(size=image_size),\n",
    "        torchvision.transforms.ToTensor(), #Converting to tensor\n",
    "        torchvision.transforms.Normalize(mean = resnet_mean,\n",
    "                                        std = resnet_std) \n",
    "    ])\n",
    "    training_data.transform = data_transform\n",
    "    test_data.transform = data_transform\n",
    "    return training_data, test_data\n",
    "    "
   ]
  },
  {
   "cell_type": "code",
   "execution_count": null,
   "metadata": {},
   "outputs": [],
   "source": [
    "#creates original cifar coarse to fine and back dictionaries\n",
    " \n",
    "class Dictlist(dict):\n",
    "    def __setitem__(self, key, value):\n",
    "        try:\n",
    "            self[key]\n",
    "        except KeyError:\n",
    "            super(Dictlist, self).__setitem__(key, [])\n",
    "        self[key].append(value)\n",
    "def unpickle(file):\n",
    "    import pickle\n",
    "    with open(file, 'rb') as fo:\n",
    "        dic = pickle.load(fo, encoding='bytes')\n",
    "    return dic\n",
    " \n",
    "x=unpickle('data/cifar-100-python/test')\n",
    "d=Dictlist()\n",
    " \n",
    "for i in range(0,len(x[b'coarse_labels'])):\n",
    "    d[x[b'coarse_labels'][i]]=x[ b'fine_labels'][i]\n",
    "coarse_to_fine=dict(d)\n",
    "for i in coarse_to_fine.keys():\n",
    "    coarse_to_fine[i]=list(dict.fromkeys(coarse_to_fine[i]))\n",
    "\n",
    "fine_to_coarse = dict()\n",
    "for k,v in coarse_to_fine.items():\n",
    "    for each in v:\n",
    "        fine_to_coarse[each] = k"
   ]
  },
  {
   "cell_type": "code",
   "execution_count": 94,
   "metadata": {},
   "outputs": [],
   "source": [
    "def filter_data(training_data, test_data, filter_by_coarse=False, \n",
    "                coarse_label=None, coarse_to_fine=None, valid_size=0.1, batch_size=64):\n",
    "    \"\"\"Filters datasets by coarse label if needed and split to train and validation subsets\"\"\"\n",
    "    if filter_by_coarse:\n",
    "        labels = coarse_to_fine[coarse_label]\n",
    "        indices = [idx for idx,v in enumerate(training_data.targets) if v in labels]\n",
    "        indices_test = [idx for idx,v in enumerate(test_data.targets) if v in labels]     \n",
    "    else:\n",
    "        indices = [i for i in range(len(training_data.targets))]\n",
    "        indices_test = [i for i in range(len(test_data.targets))]\n",
    "    validate_len = int(len(indices)*valid_size)\n",
    "    validate_filter_indices = random.sample(range(0,len(indices)), validate_len)\n",
    "    indices_val = [indices[i] for i in validate_filter_indices]  \n",
    "    indices_train = [v for i,v in enumerate(indices) if i not in validate_filter_indices]    \n",
    "        \n",
    "    train = data_utils.Subset(training_data, indices_train)\n",
    "    validate = data_utils.Subset(training_data, indices_val)\n",
    "    test = data_utils.Subset(test_data, indices_test)\n",
    "    \n",
    "    train_dl = DataLoader(train,  batch_size=batch_size, shuffle=True)\n",
    "    validate_dl = DataLoader(validate, batch_size=batch_size, shuffle=True)\n",
    "    test_dl = DataLoader(test,  batch_size=batch_size, shuffle=True)\n",
    "    return train_dl, validate_dl, test_dl"
   ]
  },
  {
   "cell_type": "code",
   "execution_count": 95,
   "metadata": {},
   "outputs": [],
   "source": [
    "def create_label_dictionaries(cluster_list):\n",
    "    \"\"\"Creates dictionaries from coarse to fine, from fine to coarse and concatenated list \n",
    "    of fine clusters\n",
    "    \n",
    "    Parameters:\n",
    "    cluster_list: list\n",
    "        A list where the index of the element represents the fine label and the value represents\n",
    "        the coarse label(cluster)    \n",
    "    \"\"\"\n",
    "    fine_to_coarse = {i:v for i,v in enumerate(cluster_list)}\n",
    "    coarse_to_fine = defaultdict(list)\n",
    "    for k, v in fine_to_coarse.items():\n",
    "        coarse_to_fine[v].append(k)\n",
    "    return fine_to_coarse, coarse_to_fine\n",
    "\n",
    "\n",
    "\n",
    "\n",
    "# #creates original cifar coarse to fine and back dictionaries\n",
    "\n",
    "# class Dictlist(dict):\n",
    "#     def __setitem__(self, key, value):\n",
    "#         try:\n",
    "#             self[key]\n",
    "#         except KeyError:\n",
    "#             super(Dictlist, self).__setitem__(key, [])\n",
    "#         self[key].append(value)\n",
    "\n",
    "# def unpickle(file):\n",
    "#     import pickle\n",
    "#     with open(file, 'rb') as fo:\n",
    "#         dic = pickle.load(fo, encoding='bytes')\n",
    "#     return dic\n",
    "\n",
    "\n",
    "# x=unpickle('data/cifar-100-python/test')\n",
    "# d=Dictlist()\n",
    "\n",
    "# for i in range(0,len(x[b'coarse_labels'])):\n",
    "#     d[x[b'coarse_labels'][i]]=x[ b'fine_labels'][i]\n",
    "# coarse_to_fine=dict(d)\n",
    "# for i in coarse_to_fine.keys():\n",
    "#     coarse_to_fine[i]=list(dict.fromkeys(coarse_to_fine[i]))\n",
    "    \n",
    "# fine_to_coarse = dict()\n",
    "# for k,v in coarse_to_fine.items():\n",
    "#     for each in v:\n",
    "#         fine_to_coarse[each] = k\n",
    "    "
   ]
  },
  {
   "cell_type": "code",
   "execution_count": 96,
   "metadata": {},
   "outputs": [],
   "source": [
    "class Resnext50(torch.nn.Module):\n",
    "    def __init__(self, n_classes, name):\n",
    "        super().__init__()\n",
    "        self.name = name\n",
    "        resnet = torchvision.models.resnext50_32x4d(pretrained=True, progress=True)\n",
    "        resnet.fc = torch.nn.Sequential(\n",
    "            torch.nn.Dropout(p=0.2),\n",
    "            torch.nn.Linear(in_features=resnet.fc.in_features, out_features=n_classes)\n",
    "        )\n",
    "        self.base_model = resnet\n",
    "        self.soft = torch.nn.Softmax()\n",
    "\n",
    "    def forward(self, x):\n",
    "        return self.soft(self.base_model(x))   \n",
    "    "
   ]
  },
  {
   "cell_type": "code",
   "execution_count": 97,
   "metadata": {},
   "outputs": [],
   "source": [
    "def train_loop(dataloader, model, loss_fn, optimizer, mode=\"flat\", lookup=[], fine_to_coarse={}, batch_size=64):\n",
    "    size = len(dataloader.dataset)\n",
    "    model.train()\n",
    "    train_loss = 0\n",
    "    counter = 0\n",
    "    with tqdm(dataloader, unit=\"batch\") as tepoch:\n",
    "        counter += 1\n",
    "        for X_cpu, y_cpu in tepoch:\n",
    "            if mode == \"fine\":\n",
    "                y_cpu = torch.tensor([lookup.index(i) for i in y_cpu])\n",
    "            elif mode == \"coarse\":\n",
    "                y_cpu = torch.tensor([fine_to_coarse[int(target)] for target in y_cpu])\n",
    "            X, y = X_cpu.to(device), y_cpu.to(device)\n",
    "            optimizer.zero_grad()\n",
    "            outputs = model(X)\n",
    "            loss = loss_fn(outputs, y.type(torch.long))\n",
    "            loss.backward() \n",
    "            optimizer.step() \n",
    "            train_loss += loss.item() \n",
    "            avg_loss = train_loss / (counter * batch_size)\n",
    "            tepoch.set_postfix(loss=avg_loss)\n",
    "    return avg_loss\n",
    "    \n",
    "    \n",
    "def eval_model(dataloader, model, mode=\"flat\", lookup=[], fine_to_coarse={}, return_probab=False):\n",
    "    model.eval()\n",
    "    predicts = []\n",
    "    targets = []\n",
    "    for counter, (images, labels) in enumerate(dataloader):\n",
    "        if mode == \"fine\":\n",
    "            labels = [lookup.index(i) for i in labels]\n",
    "        elif mode == \"coarse\":\n",
    "            labels = [fine_to_coarse[int(i)] for i in labels]\n",
    "        imageGPU = images.to(device)\n",
    "        \n",
    "        outputs = torch.Tensor.cpu(model(imageGPU))\n",
    "        predicts.append(outputs.detach().numpy())\n",
    "        targets.append(labels)\n",
    "        \n",
    "    predicts = np.vstack(predicts)\n",
    "    targets = np.hstack(targets)\n",
    "    if return_probab:\n",
    "        return predicts, targets\n",
    "    else:\n",
    "        predicts = np.argmax(predicts, axis=1)\n",
    "        return accuracy_score(targets, predicts)\n",
    "    \n"
   ]
  },
  {
   "cell_type": "code",
   "execution_count": 98,
   "metadata": {
    "scrolled": false
   },
   "outputs": [],
   "source": [
    "def train_and_validate(epochs, model, loss_fn, optimizer, train_dl, val_dl, test_dl, \n",
    "                       mode=\"flat\", fine_to_coarse={}, coarse_label=None, lookup=[], model_path = None):\n",
    "    if model_path is None:\n",
    "        model_path = '/models/%s.pth' %model.name\n",
    "    min_loss= 1000\n",
    "    max_acc = 0\n",
    "    for t in range(epochs):\n",
    "        if mode == \"fine\":\n",
    "            print(f\"Coarse label {coarse_label} Epoch {t+1}\\n-------------------------------\")\n",
    "        else:\n",
    "            print(f\"Epoch {t+1}\\n-------------------------------\")\n",
    "        train_loss = train_loop(train_dl, model, loss_fn, optimizer, mode=mode, fine_to_coarse=fine_to_coarse, lookup=lookup)\n",
    "        val_acc = eval_model(val_dl, model, mode=mode, fine_to_coarse=fine_to_coarse, lookup=lookup)\n",
    "        if train_loss < min_loss:\n",
    "            max_acc = val_acc\n",
    "            min_loss = train_loss\n",
    "            torch.save(model, model_path)\n",
    "        elif train_loss == min_loss and val_acc>max_acc:\n",
    "            max_acc = val_acc\n",
    "            min_loss = train_loss\n",
    "            torch.save(model, model_path)\n",
    "        print(\"validation acc %s and loss %s\" %(val_acc, train_loss))\n",
    "        test_acc = eval_model(test_dl, model, mode=mode, fine_to_coarse=fine_to_coarse, lookup=lookup)\n",
    "        print(\"done epoch %s : test_acc %s\" %(t, test_acc))\n",
    "    print(\"Done! Saved model with validation accuracy %s and loss %s\" %(max_acc, min_loss))\n",
    "    return (max_acc, test_acc)"
   ]
  },
  {
   "cell_type": "code",
   "execution_count": 102,
   "metadata": {},
   "outputs": [
    {
     "data": {
      "text/plain": [
       "[array([11,  6,  7, 15,  3,  2,  5, 17,  2, 16, 23,  7, 12, 22,  6,  4, 18,\n",
       "        12,  6, 13,  0,  3, 18,  8,  6,  0,  6,  3, 18,  4, 20,  4, 21,  1,\n",
       "        14,  7,  3, 12, 15, 18, 23,  2,  3, 14,  6,  6,  7,  1, 22,  8, 15,\n",
       "         4, 19, 11,  5,  3, 13, 23,  9,  1,  1, 23,  5, 15, 15, 15, 15, 21,\n",
       "        12, 12,  5,  8, 20, 10, 15, 15, 12,  6,  6,  6, 15,  9,  5, 23,  0,\n",
       "        12, 18,  0, 15,  2, 12, 21, 24, 21,  0, 20,  1, 14,  7,  6])]"
      ]
     },
     "execution_count": 102,
     "metadata": {},
     "output_type": "execute_result"
    }
   ],
   "source": [
    "#load clusters data\n",
    "tasksim_clusters = pickle.load(open('../../hierarchical/notebooks/real-data/cifar-paper-experiments/cifar_tasksim_clusters_1.pkl', 'rb'))\n",
    "tasksim_clusters"
   ]
  },
  {
   "cell_type": "code",
   "execution_count": 103,
   "metadata": {},
   "outputs": [],
   "source": [
    "acorn = 1234\n",
    "torch.manual_seed(acorn)\n",
    "np.random.seed(acorn)\n",
    "\n",
    "torch.cuda.is_available()\n",
    "\n",
    "if torch.cuda.is_available():  \n",
    "    dev = \"cuda:0\" \n",
    "else:  \n",
    "    dev = \"cpu\"  \n",
    "    \n",
    "device = torch.device(dev)  \n",
    "\n",
    "batch_size = 64\n",
    "valid_size = 0.1"
   ]
  },
  {
   "cell_type": "code",
   "execution_count": null,
   "metadata": {},
   "outputs": [
    {
     "name": "stdout",
     "output_type": "stream",
     "text": [
      "Files already downloaded and verified\n",
      "Files already downloaded and verified\n"
     ]
    },
    {
     "name": "stderr",
     "output_type": "stream",
     "text": [
      "\r",
      "  0%|          | 0/704 [00:00<?, ?batch/s]"
     ]
    },
    {
     "name": "stdout",
     "output_type": "stream",
     "text": [
      "Epoch 1\n",
      "-------------------------------\n"
     ]
    },
    {
     "name": "stderr",
     "output_type": "stream",
     "text": [
      "/home/transmedia-eg/test_env/lib/python3.6/site-packages/ipykernel_launcher.py:14: UserWarning: Implicit dimension choice for softmax has been deprecated. Change the call to include dim=X as an argument.\n",
      "  \n",
      "100%|██████████| 704/704 [16:33<00:00,  1.41s/batch, loss=29.6]\n"
     ]
    },
    {
     "name": "stdout",
     "output_type": "stream",
     "text": [
      "validation acc 0.68 and loss 29.57446577399969\n"
     ]
    },
    {
     "name": "stderr",
     "output_type": "stream",
     "text": [
      "/home/transmedia-eg/test_env/lib/python3.6/site-packages/ipykernel_launcher.py:14: UserWarning: Implicit dimension choice for softmax has been deprecated. Change the call to include dim=X as an argument.\n",
      "  \n",
      "  0%|          | 0/704 [00:00<?, ?batch/s]"
     ]
    },
    {
     "name": "stdout",
     "output_type": "stream",
     "text": [
      "done epoch 0 : test_acc 0.6767\n",
      "Epoch 2\n",
      "-------------------------------\n"
     ]
    },
    {
     "name": "stderr",
     "output_type": "stream",
     "text": [
      "/home/transmedia-eg/test_env/lib/python3.6/site-packages/ipykernel_launcher.py:14: UserWarning: Implicit dimension choice for softmax has been deprecated. Change the call to include dim=X as an argument.\n",
      "  \n",
      "100%|██████████| 704/704 [16:37<00:00,  1.42s/batch, loss=28.5]\n"
     ]
    },
    {
     "name": "stdout",
     "output_type": "stream",
     "text": [
      "validation acc 0.7158 and loss 28.5456687733531\n"
     ]
    },
    {
     "name": "stderr",
     "output_type": "stream",
     "text": [
      "/home/transmedia-eg/test_env/lib/python3.6/site-packages/ipykernel_launcher.py:14: UserWarning: Implicit dimension choice for softmax has been deprecated. Change the call to include dim=X as an argument.\n",
      "  \n",
      "  0%|          | 0/704 [00:00<?, ?batch/s]"
     ]
    },
    {
     "name": "stdout",
     "output_type": "stream",
     "text": [
      "done epoch 1 : test_acc 0.7056\n",
      "Epoch 3\n",
      "-------------------------------\n"
     ]
    },
    {
     "name": "stderr",
     "output_type": "stream",
     "text": [
      "/home/transmedia-eg/test_env/lib/python3.6/site-packages/ipykernel_launcher.py:14: UserWarning: Implicit dimension choice for softmax has been deprecated. Change the call to include dim=X as an argument.\n",
      "  \n",
      "100%|██████████| 704/704 [16:41<00:00,  1.42s/batch, loss=28.1]\n"
     ]
    },
    {
     "name": "stdout",
     "output_type": "stream",
     "text": [
      "validation acc 0.7272 and loss 28.058810610324144\n"
     ]
    },
    {
     "name": "stderr",
     "output_type": "stream",
     "text": [
      "/home/transmedia-eg/test_env/lib/python3.6/site-packages/ipykernel_launcher.py:14: UserWarning: Implicit dimension choice for softmax has been deprecated. Change the call to include dim=X as an argument.\n",
      "  \n",
      "  0%|          | 0/704 [00:00<?, ?batch/s]"
     ]
    },
    {
     "name": "stdout",
     "output_type": "stream",
     "text": [
      "done epoch 2 : test_acc 0.7152\n",
      "Epoch 4\n",
      "-------------------------------\n"
     ]
    },
    {
     "name": "stderr",
     "output_type": "stream",
     "text": [
      "/home/transmedia-eg/test_env/lib/python3.6/site-packages/ipykernel_launcher.py:14: UserWarning: Implicit dimension choice for softmax has been deprecated. Change the call to include dim=X as an argument.\n",
      "  \n",
      "100%|██████████| 704/704 [16:37<00:00,  1.42s/batch, loss=27.8]\n"
     ]
    },
    {
     "name": "stdout",
     "output_type": "stream",
     "text": [
      "validation acc 0.7476 and loss 27.82037367299199\n"
     ]
    },
    {
     "name": "stderr",
     "output_type": "stream",
     "text": [
      "/home/transmedia-eg/test_env/lib/python3.6/site-packages/ipykernel_launcher.py:14: UserWarning: Implicit dimension choice for softmax has been deprecated. Change the call to include dim=X as an argument.\n",
      "  \n",
      "  0%|          | 0/704 [00:00<?, ?batch/s]"
     ]
    },
    {
     "name": "stdout",
     "output_type": "stream",
     "text": [
      "done epoch 3 : test_acc 0.7371\n",
      "Epoch 5\n",
      "-------------------------------\n"
     ]
    },
    {
     "name": "stderr",
     "output_type": "stream",
     "text": [
      "/home/transmedia-eg/test_env/lib/python3.6/site-packages/ipykernel_launcher.py:14: UserWarning: Implicit dimension choice for softmax has been deprecated. Change the call to include dim=X as an argument.\n",
      "  \n",
      "100%|██████████| 704/704 [16:34<00:00,  1.41s/batch, loss=27.6]\n"
     ]
    },
    {
     "name": "stdout",
     "output_type": "stream",
     "text": [
      "validation acc 0.7594 and loss 27.64203044772148\n"
     ]
    },
    {
     "name": "stderr",
     "output_type": "stream",
     "text": [
      "/home/transmedia-eg/test_env/lib/python3.6/site-packages/ipykernel_launcher.py:14: UserWarning: Implicit dimension choice for softmax has been deprecated. Change the call to include dim=X as an argument.\n",
      "  \n",
      "  0%|          | 0/704 [00:00<?, ?batch/s]"
     ]
    },
    {
     "name": "stdout",
     "output_type": "stream",
     "text": [
      "done epoch 4 : test_acc 0.7499\n",
      "Epoch 6\n",
      "-------------------------------\n"
     ]
    },
    {
     "name": "stderr",
     "output_type": "stream",
     "text": [
      "/home/transmedia-eg/test_env/lib/python3.6/site-packages/ipykernel_launcher.py:14: UserWarning: Implicit dimension choice for softmax has been deprecated. Change the call to include dim=X as an argument.\n",
      "  \n",
      "100%|██████████| 704/704 [16:42<00:00,  1.42s/batch, loss=27.4]\n"
     ]
    },
    {
     "name": "stdout",
     "output_type": "stream",
     "text": [
      "validation acc 0.7496 and loss 27.44090499728918\n"
     ]
    },
    {
     "name": "stderr",
     "output_type": "stream",
     "text": [
      "/home/transmedia-eg/test_env/lib/python3.6/site-packages/ipykernel_launcher.py:14: UserWarning: Implicit dimension choice for softmax has been deprecated. Change the call to include dim=X as an argument.\n",
      "  \n",
      "  0%|          | 0/704 [00:00<?, ?batch/s]"
     ]
    },
    {
     "name": "stdout",
     "output_type": "stream",
     "text": [
      "done epoch 5 : test_acc 0.7445\n",
      "Epoch 7\n",
      "-------------------------------\n"
     ]
    },
    {
     "name": "stderr",
     "output_type": "stream",
     "text": [
      "/home/transmedia-eg/test_env/lib/python3.6/site-packages/ipykernel_launcher.py:14: UserWarning: Implicit dimension choice for softmax has been deprecated. Change the call to include dim=X as an argument.\n",
      "  \n",
      "100%|██████████| 704/704 [16:34<00:00,  1.41s/batch, loss=27.4]\n"
     ]
    },
    {
     "name": "stdout",
     "output_type": "stream",
     "text": [
      "validation acc 0.7444 and loss 27.403844486922026\n"
     ]
    },
    {
     "name": "stderr",
     "output_type": "stream",
     "text": [
      "/home/transmedia-eg/test_env/lib/python3.6/site-packages/ipykernel_launcher.py:14: UserWarning: Implicit dimension choice for softmax has been deprecated. Change the call to include dim=X as an argument.\n",
      "  \n",
      "  0%|          | 0/704 [00:00<?, ?batch/s]"
     ]
    },
    {
     "name": "stdout",
     "output_type": "stream",
     "text": [
      "done epoch 6 : test_acc 0.7363\n",
      "Epoch 8\n",
      "-------------------------------\n"
     ]
    },
    {
     "name": "stderr",
     "output_type": "stream",
     "text": [
      "/home/transmedia-eg/test_env/lib/python3.6/site-packages/ipykernel_launcher.py:14: UserWarning: Implicit dimension choice for softmax has been deprecated. Change the call to include dim=X as an argument.\n",
      "  \n",
      "100%|██████████| 704/704 [16:35<00:00,  1.41s/batch, loss=27.3]\n"
     ]
    },
    {
     "name": "stdout",
     "output_type": "stream",
     "text": [
      "validation acc 0.7602 and loss 27.292595710605383\n"
     ]
    },
    {
     "name": "stderr",
     "output_type": "stream",
     "text": [
      "/home/transmedia-eg/test_env/lib/python3.6/site-packages/ipykernel_launcher.py:14: UserWarning: Implicit dimension choice for softmax has been deprecated. Change the call to include dim=X as an argument.\n",
      "  \n",
      "  0%|          | 0/704 [00:00<?, ?batch/s]"
     ]
    },
    {
     "name": "stdout",
     "output_type": "stream",
     "text": [
      "done epoch 7 : test_acc 0.7575\n",
      "Epoch 9\n",
      "-------------------------------\n"
     ]
    },
    {
     "name": "stderr",
     "output_type": "stream",
     "text": [
      "/home/transmedia-eg/test_env/lib/python3.6/site-packages/ipykernel_launcher.py:14: UserWarning: Implicit dimension choice for softmax has been deprecated. Change the call to include dim=X as an argument.\n",
      "  \n",
      "100%|██████████| 704/704 [16:29<00:00,  1.41s/batch, loss=27.3]\n"
     ]
    },
    {
     "name": "stdout",
     "output_type": "stream",
     "text": [
      "validation acc 0.749 and loss 27.266039077192545\n"
     ]
    },
    {
     "name": "stderr",
     "output_type": "stream",
     "text": [
      "/home/transmedia-eg/test_env/lib/python3.6/site-packages/ipykernel_launcher.py:14: UserWarning: Implicit dimension choice for softmax has been deprecated. Change the call to include dim=X as an argument.\n",
      "  \n",
      "  0%|          | 0/704 [00:00<?, ?batch/s]"
     ]
    },
    {
     "name": "stdout",
     "output_type": "stream",
     "text": [
      "done epoch 8 : test_acc 0.7502\n",
      "Epoch 10\n",
      "-------------------------------\n"
     ]
    },
    {
     "name": "stderr",
     "output_type": "stream",
     "text": [
      "/home/transmedia-eg/test_env/lib/python3.6/site-packages/ipykernel_launcher.py:14: UserWarning: Implicit dimension choice for softmax has been deprecated. Change the call to include dim=X as an argument.\n",
      "  \n",
      " 28%|██▊       | 197/704 [04:37<12:17,  1.46s/batch, loss=7.59]"
     ]
    }
   ],
   "source": [
    "#Prepare data for a coarse classifier training\n",
    "\n",
    "fine_to_coarse, coarse_to_fine = create_label_dictionaries(tasksim_clusters[0])\n",
    "number_of_clusters = len(coarse_to_fine.keys())\n",
    "training_data, test_data=load_and_transform_cifar100()\n",
    "train_dl, validate_dl, test_dl = filter_data(training_data, test_data, valid_size=valid_size, batch_size=batch_size)\n",
    "\n",
    "#coarse classifier training\n",
    "\n",
    "learning_rate = 1e-4\n",
    "epochs = 15\n",
    "model = Resnext50(number_of_clusters, name=\"hierarchical_coarse_model_Resnext50_25components\")\n",
    "optimizer = torch.optim.Adam(model.parameters(), lr=learning_rate)\n",
    "\n",
    "model.to(device)\n",
    "loss_fn = torch.nn.CrossEntropyLoss().to(device)\n",
    "\n",
    "coarse_max_acc, coarse_test_acc =train_and_validate(epochs, model, loss_fn, optimizer, train_dl, validate_dl, test_dl, \n",
    "                                                    mode=\"coarse\", fine_to_coarse=fine_to_coarse,\n",
    "                                                    model_path = 'models/hierarchical/%s.pth' %model.name )\n",
    "print(\"coarse accuracy %s\" %coarse_test_acc)"
   ]
  },
  {
   "cell_type": "code",
   "execution_count": 67,
   "metadata": {},
   "outputs": [
    {
     "name": "stdout",
     "output_type": "stream",
     "text": [
      "Files already downloaded and verified\n",
      "Files already downloaded and verified\n"
     ]
    },
    {
     "name": "stderr",
     "output_type": "stream",
     "text": [
      "\r",
      "  0%|          | 0/29 [00:00<?, ?batch/s]"
     ]
    },
    {
     "name": "stdout",
     "output_type": "stream",
     "text": [
      "Coarse label 0 Epoch 1\n",
      "-------------------------------\n"
     ]
    },
    {
     "name": "stderr",
     "output_type": "stream",
     "text": [
      "/home/transmedia-eg/test_env/lib/python3.6/site-packages/ipykernel_launcher.py:14: UserWarning: Implicit dimension choice for softmax has been deprecated. Change the call to include dim=X as an argument.\n",
      "  \n",
      "100%|██████████| 29/29 [00:39<00:00,  1.38s/batch, loss=0.45] \n"
     ]
    },
    {
     "name": "stdout",
     "output_type": "stream",
     "text": [
      "current acc 0.93 and loss 0.45014575589448214\n"
     ]
    },
    {
     "name": "stderr",
     "output_type": "stream",
     "text": [
      "/home/transmedia-eg/test_env/lib/python3.6/site-packages/ipykernel_launcher.py:14: UserWarning: Implicit dimension choice for softmax has been deprecated. Change the call to include dim=X as an argument.\n",
      "  \n",
      "  0%|          | 0/29 [00:00<?, ?batch/s]"
     ]
    },
    {
     "name": "stdout",
     "output_type": "stream",
     "text": [
      "done epoch 0 : test_acc 0.9275\n",
      "Coarse label 0 Epoch 2\n",
      "-------------------------------\n"
     ]
    },
    {
     "name": "stderr",
     "output_type": "stream",
     "text": [
      "/home/transmedia-eg/test_env/lib/python3.6/site-packages/ipykernel_launcher.py:14: UserWarning: Implicit dimension choice for softmax has been deprecated. Change the call to include dim=X as an argument.\n",
      "  \n",
      "100%|██████████| 29/29 [00:39<00:00,  1.38s/batch, loss=0.359]\n"
     ]
    },
    {
     "name": "stdout",
     "output_type": "stream",
     "text": [
      "current acc 0.945 and loss 0.3589812656864524\n"
     ]
    },
    {
     "name": "stderr",
     "output_type": "stream",
     "text": [
      "/home/transmedia-eg/test_env/lib/python3.6/site-packages/ipykernel_launcher.py:14: UserWarning: Implicit dimension choice for softmax has been deprecated. Change the call to include dim=X as an argument.\n",
      "  \n",
      "  0%|          | 0/29 [00:00<?, ?batch/s]"
     ]
    },
    {
     "name": "stdout",
     "output_type": "stream",
     "text": [
      "done epoch 1 : test_acc 0.9325\n",
      "Coarse label 0 Epoch 3\n",
      "-------------------------------\n"
     ]
    },
    {
     "name": "stderr",
     "output_type": "stream",
     "text": [
      "/home/transmedia-eg/test_env/lib/python3.6/site-packages/ipykernel_launcher.py:14: UserWarning: Implicit dimension choice for softmax has been deprecated. Change the call to include dim=X as an argument.\n",
      "  \n",
      "100%|██████████| 29/29 [00:39<00:00,  1.38s/batch, loss=0.351]\n"
     ]
    },
    {
     "name": "stdout",
     "output_type": "stream",
     "text": [
      "current acc 0.95 and loss 0.3507223166525364\n"
     ]
    },
    {
     "name": "stderr",
     "output_type": "stream",
     "text": [
      "/home/transmedia-eg/test_env/lib/python3.6/site-packages/ipykernel_launcher.py:14: UserWarning: Implicit dimension choice for softmax has been deprecated. Change the call to include dim=X as an argument.\n",
      "  \n",
      "  0%|          | 0/29 [00:00<?, ?batch/s]"
     ]
    },
    {
     "name": "stdout",
     "output_type": "stream",
     "text": [
      "done epoch 2 : test_acc 0.9175\n",
      "Coarse label 0 Epoch 4\n",
      "-------------------------------\n"
     ]
    },
    {
     "name": "stderr",
     "output_type": "stream",
     "text": [
      "/home/transmedia-eg/test_env/lib/python3.6/site-packages/ipykernel_launcher.py:14: UserWarning: Implicit dimension choice for softmax has been deprecated. Change the call to include dim=X as an argument.\n",
      "  \n",
      "100%|██████████| 29/29 [00:40<00:00,  1.38s/batch, loss=0.348]\n"
     ]
    },
    {
     "name": "stdout",
     "output_type": "stream",
     "text": [
      "current acc 0.95 and loss 0.3475485034286976\n"
     ]
    },
    {
     "name": "stderr",
     "output_type": "stream",
     "text": [
      "/home/transmedia-eg/test_env/lib/python3.6/site-packages/ipykernel_launcher.py:14: UserWarning: Implicit dimension choice for softmax has been deprecated. Change the call to include dim=X as an argument.\n",
      "  \n",
      "  0%|          | 0/29 [00:00<?, ?batch/s]"
     ]
    },
    {
     "name": "stdout",
     "output_type": "stream",
     "text": [
      "done epoch 3 : test_acc 0.9075\n",
      "Coarse label 0 Epoch 5\n",
      "-------------------------------\n"
     ]
    },
    {
     "name": "stderr",
     "output_type": "stream",
     "text": [
      "/home/transmedia-eg/test_env/lib/python3.6/site-packages/ipykernel_launcher.py:14: UserWarning: Implicit dimension choice for softmax has been deprecated. Change the call to include dim=X as an argument.\n",
      "  \n",
      "100%|██████████| 29/29 [00:40<00:00,  1.38s/batch, loss=0.346]\n"
     ]
    },
    {
     "name": "stdout",
     "output_type": "stream",
     "text": [
      "current acc 0.95 and loss 0.3456695107743144\n"
     ]
    },
    {
     "name": "stderr",
     "output_type": "stream",
     "text": [
      "/home/transmedia-eg/test_env/lib/python3.6/site-packages/ipykernel_launcher.py:14: UserWarning: Implicit dimension choice for softmax has been deprecated. Change the call to include dim=X as an argument.\n",
      "  \n",
      "  0%|          | 0/29 [00:00<?, ?batch/s]"
     ]
    },
    {
     "name": "stdout",
     "output_type": "stream",
     "text": [
      "done epoch 4 : test_acc 0.9225\n",
      "Coarse label 0 Epoch 6\n",
      "-------------------------------\n"
     ]
    },
    {
     "name": "stderr",
     "output_type": "stream",
     "text": [
      "/home/transmedia-eg/test_env/lib/python3.6/site-packages/ipykernel_launcher.py:14: UserWarning: Implicit dimension choice for softmax has been deprecated. Change the call to include dim=X as an argument.\n",
      "  \n",
      "100%|██████████| 29/29 [00:39<00:00,  1.37s/batch, loss=0.347]\n"
     ]
    },
    {
     "name": "stdout",
     "output_type": "stream",
     "text": [
      "current acc 0.935 and loss 0.3465087180957198\n"
     ]
    },
    {
     "name": "stderr",
     "output_type": "stream",
     "text": [
      "/home/transmedia-eg/test_env/lib/python3.6/site-packages/ipykernel_launcher.py:14: UserWarning: Implicit dimension choice for softmax has been deprecated. Change the call to include dim=X as an argument.\n",
      "  \n",
      "  0%|          | 0/29 [00:00<?, ?batch/s]"
     ]
    },
    {
     "name": "stdout",
     "output_type": "stream",
     "text": [
      "done epoch 5 : test_acc 0.92\n",
      "Coarse label 0 Epoch 7\n",
      "-------------------------------\n"
     ]
    },
    {
     "name": "stderr",
     "output_type": "stream",
     "text": [
      "/home/transmedia-eg/test_env/lib/python3.6/site-packages/ipykernel_launcher.py:14: UserWarning: Implicit dimension choice for softmax has been deprecated. Change the call to include dim=X as an argument.\n",
      "  \n",
      "100%|██████████| 29/29 [00:40<00:00,  1.40s/batch, loss=0.35] \n"
     ]
    },
    {
     "name": "stdout",
     "output_type": "stream",
     "text": [
      "current acc 0.92 and loss 0.3498077839612961\n"
     ]
    },
    {
     "name": "stderr",
     "output_type": "stream",
     "text": [
      "/home/transmedia-eg/test_env/lib/python3.6/site-packages/ipykernel_launcher.py:14: UserWarning: Implicit dimension choice for softmax has been deprecated. Change the call to include dim=X as an argument.\n",
      "  \n",
      "  0%|          | 0/29 [00:00<?, ?batch/s]"
     ]
    },
    {
     "name": "stdout",
     "output_type": "stream",
     "text": [
      "done epoch 6 : test_acc 0.925\n",
      "Coarse label 0 Epoch 8\n",
      "-------------------------------\n"
     ]
    },
    {
     "name": "stderr",
     "output_type": "stream",
     "text": [
      "/home/transmedia-eg/test_env/lib/python3.6/site-packages/ipykernel_launcher.py:14: UserWarning: Implicit dimension choice for softmax has been deprecated. Change the call to include dim=X as an argument.\n",
      "  \n",
      "100%|██████████| 29/29 [00:40<00:00,  1.38s/batch, loss=0.35] \n"
     ]
    },
    {
     "name": "stdout",
     "output_type": "stream",
     "text": [
      "current acc 0.935 and loss 0.35030373372137547\n"
     ]
    },
    {
     "name": "stderr",
     "output_type": "stream",
     "text": [
      "/home/transmedia-eg/test_env/lib/python3.6/site-packages/ipykernel_launcher.py:14: UserWarning: Implicit dimension choice for softmax has been deprecated. Change the call to include dim=X as an argument.\n",
      "  \n",
      "  0%|          | 0/29 [00:00<?, ?batch/s]"
     ]
    },
    {
     "name": "stdout",
     "output_type": "stream",
     "text": [
      "done epoch 7 : test_acc 0.925\n",
      "Coarse label 0 Epoch 9\n",
      "-------------------------------\n"
     ]
    },
    {
     "name": "stderr",
     "output_type": "stream",
     "text": [
      "/home/transmedia-eg/test_env/lib/python3.6/site-packages/ipykernel_launcher.py:14: UserWarning: Implicit dimension choice for softmax has been deprecated. Change the call to include dim=X as an argument.\n",
      "  \n",
      "100%|██████████| 29/29 [00:39<00:00,  1.37s/batch, loss=0.345]\n"
     ]
    },
    {
     "name": "stdout",
     "output_type": "stream",
     "text": [
      "current acc 0.93 and loss 0.3453147355467081\n"
     ]
    },
    {
     "name": "stderr",
     "output_type": "stream",
     "text": [
      "/home/transmedia-eg/test_env/lib/python3.6/site-packages/ipykernel_launcher.py:14: UserWarning: Implicit dimension choice for softmax has been deprecated. Change the call to include dim=X as an argument.\n",
      "  \n",
      "  0%|          | 0/29 [00:00<?, ?batch/s]"
     ]
    },
    {
     "name": "stdout",
     "output_type": "stream",
     "text": [
      "done epoch 8 : test_acc 0.92\n",
      "Coarse label 0 Epoch 10\n",
      "-------------------------------\n"
     ]
    },
    {
     "name": "stderr",
     "output_type": "stream",
     "text": [
      "/home/transmedia-eg/test_env/lib/python3.6/site-packages/ipykernel_launcher.py:14: UserWarning: Implicit dimension choice for softmax has been deprecated. Change the call to include dim=X as an argument.\n",
      "  \n",
      "100%|██████████| 29/29 [00:40<00:00,  1.40s/batch, loss=0.341]\n"
     ]
    },
    {
     "name": "stdout",
     "output_type": "stream",
     "text": [
      "current acc 0.935 and loss 0.3414880810305476\n"
     ]
    },
    {
     "name": "stderr",
     "output_type": "stream",
     "text": [
      "/home/transmedia-eg/test_env/lib/python3.6/site-packages/ipykernel_launcher.py:14: UserWarning: Implicit dimension choice for softmax has been deprecated. Change the call to include dim=X as an argument.\n",
      "  \n"
     ]
    },
    {
     "name": "stdout",
     "output_type": "stream",
     "text": [
      "done epoch 9 : test_acc 0.925\n",
      "Done! Saved model with validation accuracy 0.935 and loss 0.3414880810305476\n",
      "{0: (0.935, 0.925)}\n"
     ]
    },
    {
     "name": "stderr",
     "output_type": "stream",
     "text": [
      "\r",
      "  0%|          | 0/64 [00:00<?, ?batch/s]"
     ]
    },
    {
     "name": "stdout",
     "output_type": "stream",
     "text": [
      "Coarse label 1 Epoch 1\n",
      "-------------------------------\n"
     ]
    },
    {
     "name": "stderr",
     "output_type": "stream",
     "text": [
      "/home/transmedia-eg/test_env/lib/python3.6/site-packages/ipykernel_launcher.py:14: UserWarning: Implicit dimension choice for softmax has been deprecated. Change the call to include dim=X as an argument.\n",
      "  \n",
      "100%|██████████| 64/64 [01:28<00:00,  1.39s/batch, loss=1.78] \n"
     ]
    },
    {
     "name": "stdout",
     "output_type": "stream",
     "text": [
      "current acc 0.7955555555555556 and loss 1.7751475386321545\n"
     ]
    },
    {
     "name": "stderr",
     "output_type": "stream",
     "text": [
      "/home/transmedia-eg/test_env/lib/python3.6/site-packages/ipykernel_launcher.py:14: UserWarning: Implicit dimension choice for softmax has been deprecated. Change the call to include dim=X as an argument.\n",
      "  \n",
      "  0%|          | 0/64 [00:00<?, ?batch/s]"
     ]
    },
    {
     "name": "stdout",
     "output_type": "stream",
     "text": [
      "done epoch 0 : test_acc 0.8133333333333334\n",
      "Coarse label 1 Epoch 2\n",
      "-------------------------------\n"
     ]
    },
    {
     "name": "stderr",
     "output_type": "stream",
     "text": [
      "/home/transmedia-eg/test_env/lib/python3.6/site-packages/ipykernel_launcher.py:14: UserWarning: Implicit dimension choice for softmax has been deprecated. Change the call to include dim=X as an argument.\n",
      "  \n",
      "100%|██████████| 64/64 [01:29<00:00,  1.40s/batch, loss=1.5]  \n"
     ]
    },
    {
     "name": "stdout",
     "output_type": "stream",
     "text": [
      "current acc 0.8333333333333334 and loss 1.500550128519535\n"
     ]
    },
    {
     "name": "stderr",
     "output_type": "stream",
     "text": [
      "/home/transmedia-eg/test_env/lib/python3.6/site-packages/ipykernel_launcher.py:14: UserWarning: Implicit dimension choice for softmax has been deprecated. Change the call to include dim=X as an argument.\n",
      "  \n",
      "  0%|          | 0/64 [00:00<?, ?batch/s]"
     ]
    },
    {
     "name": "stdout",
     "output_type": "stream",
     "text": [
      "done epoch 1 : test_acc 0.84\n",
      "Coarse label 1 Epoch 3\n",
      "-------------------------------\n"
     ]
    },
    {
     "name": "stderr",
     "output_type": "stream",
     "text": [
      "/home/transmedia-eg/test_env/lib/python3.6/site-packages/ipykernel_launcher.py:14: UserWarning: Implicit dimension choice for softmax has been deprecated. Change the call to include dim=X as an argument.\n",
      "  \n",
      "100%|██████████| 64/64 [01:30<00:00,  1.41s/batch, loss=1.45] \n"
     ]
    },
    {
     "name": "stdout",
     "output_type": "stream",
     "text": [
      "current acc 0.8133333333333334 and loss 1.4458081666380167\n"
     ]
    },
    {
     "name": "stderr",
     "output_type": "stream",
     "text": [
      "/home/transmedia-eg/test_env/lib/python3.6/site-packages/ipykernel_launcher.py:14: UserWarning: Implicit dimension choice for softmax has been deprecated. Change the call to include dim=X as an argument.\n",
      "  \n",
      "  0%|          | 0/64 [00:00<?, ?batch/s]"
     ]
    },
    {
     "name": "stdout",
     "output_type": "stream",
     "text": [
      "done epoch 2 : test_acc 0.8288888888888889\n",
      "Coarse label 1 Epoch 4\n",
      "-------------------------------\n"
     ]
    },
    {
     "name": "stderr",
     "output_type": "stream",
     "text": [
      "/home/transmedia-eg/test_env/lib/python3.6/site-packages/ipykernel_launcher.py:14: UserWarning: Implicit dimension choice for softmax has been deprecated. Change the call to include dim=X as an argument.\n",
      "  \n",
      "100%|██████████| 64/64 [01:29<00:00,  1.40s/batch, loss=1.42] \n"
     ]
    },
    {
     "name": "stdout",
     "output_type": "stream",
     "text": [
      "current acc 0.8333333333333334 and loss 1.4220799952745438\n"
     ]
    },
    {
     "name": "stderr",
     "output_type": "stream",
     "text": [
      "/home/transmedia-eg/test_env/lib/python3.6/site-packages/ipykernel_launcher.py:14: UserWarning: Implicit dimension choice for softmax has been deprecated. Change the call to include dim=X as an argument.\n",
      "  \n",
      "  0%|          | 0/64 [00:00<?, ?batch/s]"
     ]
    },
    {
     "name": "stdout",
     "output_type": "stream",
     "text": [
      "done epoch 3 : test_acc 0.8366666666666667\n",
      "Coarse label 1 Epoch 5\n",
      "-------------------------------\n"
     ]
    },
    {
     "name": "stderr",
     "output_type": "stream",
     "text": [
      "/home/transmedia-eg/test_env/lib/python3.6/site-packages/ipykernel_launcher.py:14: UserWarning: Implicit dimension choice for softmax has been deprecated. Change the call to include dim=X as an argument.\n",
      "  \n",
      "100%|██████████| 64/64 [01:28<00:00,  1.38s/batch, loss=1.41] \n"
     ]
    },
    {
     "name": "stdout",
     "output_type": "stream",
     "text": [
      "current acc 0.8288888888888889 and loss 1.4134299289435148\n"
     ]
    },
    {
     "name": "stderr",
     "output_type": "stream",
     "text": [
      "/home/transmedia-eg/test_env/lib/python3.6/site-packages/ipykernel_launcher.py:14: UserWarning: Implicit dimension choice for softmax has been deprecated. Change the call to include dim=X as an argument.\n",
      "  \n",
      "  0%|          | 0/64 [00:00<?, ?batch/s]"
     ]
    },
    {
     "name": "stdout",
     "output_type": "stream",
     "text": [
      "done epoch 4 : test_acc 0.8488888888888889\n",
      "Coarse label 1 Epoch 6\n",
      "-------------------------------\n"
     ]
    },
    {
     "name": "stderr",
     "output_type": "stream",
     "text": [
      "/home/transmedia-eg/test_env/lib/python3.6/site-packages/ipykernel_launcher.py:14: UserWarning: Implicit dimension choice for softmax has been deprecated. Change the call to include dim=X as an argument.\n",
      "  \n",
      "100%|██████████| 64/64 [01:29<00:00,  1.40s/batch, loss=1.41] \n"
     ]
    },
    {
     "name": "stdout",
     "output_type": "stream",
     "text": [
      "current acc 0.8511111111111112 and loss 1.405225533992052\n"
     ]
    },
    {
     "name": "stderr",
     "output_type": "stream",
     "text": [
      "/home/transmedia-eg/test_env/lib/python3.6/site-packages/ipykernel_launcher.py:14: UserWarning: Implicit dimension choice for softmax has been deprecated. Change the call to include dim=X as an argument.\n",
      "  \n",
      "  0%|          | 0/64 [00:00<?, ?batch/s]"
     ]
    },
    {
     "name": "stdout",
     "output_type": "stream",
     "text": [
      "done epoch 5 : test_acc 0.8566666666666667\n",
      "Coarse label 1 Epoch 7\n",
      "-------------------------------\n"
     ]
    },
    {
     "name": "stderr",
     "output_type": "stream",
     "text": [
      "/home/transmedia-eg/test_env/lib/python3.6/site-packages/ipykernel_launcher.py:14: UserWarning: Implicit dimension choice for softmax has been deprecated. Change the call to include dim=X as an argument.\n",
      "  \n",
      "100%|██████████| 64/64 [01:29<00:00,  1.40s/batch, loss=1.41] \n"
     ]
    },
    {
     "name": "stdout",
     "output_type": "stream",
     "text": [
      "current acc 0.8355555555555556 and loss 1.4067913442850113\n"
     ]
    },
    {
     "name": "stderr",
     "output_type": "stream",
     "text": [
      "/home/transmedia-eg/test_env/lib/python3.6/site-packages/ipykernel_launcher.py:14: UserWarning: Implicit dimension choice for softmax has been deprecated. Change the call to include dim=X as an argument.\n",
      "  \n",
      "  0%|          | 0/64 [00:00<?, ?batch/s]"
     ]
    },
    {
     "name": "stdout",
     "output_type": "stream",
     "text": [
      "done epoch 6 : test_acc 0.8222222222222222\n",
      "Coarse label 1 Epoch 8\n",
      "-------------------------------\n"
     ]
    },
    {
     "name": "stderr",
     "output_type": "stream",
     "text": [
      "/home/transmedia-eg/test_env/lib/python3.6/site-packages/ipykernel_launcher.py:14: UserWarning: Implicit dimension choice for softmax has been deprecated. Change the call to include dim=X as an argument.\n",
      "  \n",
      "100%|██████████| 64/64 [01:29<00:00,  1.40s/batch, loss=1.4]  \n"
     ]
    },
    {
     "name": "stdout",
     "output_type": "stream",
     "text": [
      "current acc 0.8155555555555556 and loss 1.40482147783041\n"
     ]
    },
    {
     "name": "stderr",
     "output_type": "stream",
     "text": [
      "/home/transmedia-eg/test_env/lib/python3.6/site-packages/ipykernel_launcher.py:14: UserWarning: Implicit dimension choice for softmax has been deprecated. Change the call to include dim=X as an argument.\n",
      "  \n",
      "  0%|          | 0/64 [00:00<?, ?batch/s]"
     ]
    },
    {
     "name": "stdout",
     "output_type": "stream",
     "text": [
      "done epoch 7 : test_acc 0.8211111111111111\n",
      "Coarse label 1 Epoch 9\n",
      "-------------------------------\n"
     ]
    },
    {
     "name": "stderr",
     "output_type": "stream",
     "text": [
      "/home/transmedia-eg/test_env/lib/python3.6/site-packages/ipykernel_launcher.py:14: UserWarning: Implicit dimension choice for softmax has been deprecated. Change the call to include dim=X as an argument.\n",
      "  \n",
      "100%|██████████| 64/64 [01:31<00:00,  1.42s/batch, loss=1.4]  \n"
     ]
    },
    {
     "name": "stdout",
     "output_type": "stream",
     "text": [
      "current acc 0.8288888888888889 and loss 1.403272708877921\n"
     ]
    },
    {
     "name": "stderr",
     "output_type": "stream",
     "text": [
      "/home/transmedia-eg/test_env/lib/python3.6/site-packages/ipykernel_launcher.py:14: UserWarning: Implicit dimension choice for softmax has been deprecated. Change the call to include dim=X as an argument.\n",
      "  \n",
      "  0%|          | 0/64 [00:00<?, ?batch/s]"
     ]
    },
    {
     "name": "stdout",
     "output_type": "stream",
     "text": [
      "done epoch 8 : test_acc 0.84\n",
      "Coarse label 1 Epoch 10\n",
      "-------------------------------\n"
     ]
    },
    {
     "name": "stderr",
     "output_type": "stream",
     "text": [
      "/home/transmedia-eg/test_env/lib/python3.6/site-packages/ipykernel_launcher.py:14: UserWarning: Implicit dimension choice for softmax has been deprecated. Change the call to include dim=X as an argument.\n",
      "  \n",
      "100%|██████████| 64/64 [01:29<00:00,  1.40s/batch, loss=1.4]  \n"
     ]
    },
    {
     "name": "stdout",
     "output_type": "stream",
     "text": [
      "current acc 0.84 and loss 1.3954344019293785\n"
     ]
    },
    {
     "name": "stderr",
     "output_type": "stream",
     "text": [
      "/home/transmedia-eg/test_env/lib/python3.6/site-packages/ipykernel_launcher.py:14: UserWarning: Implicit dimension choice for softmax has been deprecated. Change the call to include dim=X as an argument.\n",
      "  \n"
     ]
    },
    {
     "name": "stdout",
     "output_type": "stream",
     "text": [
      "done epoch 9 : test_acc 0.8433333333333334\n",
      "Done! Saved model with validation accuracy 0.84 and loss 1.3954344019293785\n",
      "{0: (0.935, 0.925), 1: (0.84, 0.8433333333333334)}\n"
     ]
    },
    {
     "name": "stderr",
     "output_type": "stream",
     "text": [
      "\r",
      "  0%|          | 0/22 [00:00<?, ?batch/s]"
     ]
    },
    {
     "name": "stdout",
     "output_type": "stream",
     "text": [
      "Coarse label 2 Epoch 1\n",
      "-------------------------------\n"
     ]
    },
    {
     "name": "stderr",
     "output_type": "stream",
     "text": [
      "/home/transmedia-eg/test_env/lib/python3.6/site-packages/ipykernel_launcher.py:14: UserWarning: Implicit dimension choice for softmax has been deprecated. Change the call to include dim=X as an argument.\n",
      "  \n",
      "100%|██████████| 22/22 [00:31<00:00,  1.42s/batch, loss=0.247]\n"
     ]
    },
    {
     "name": "stdout",
     "output_type": "stream",
     "text": [
      "current acc 0.98 and loss 0.24652226082980633\n"
     ]
    },
    {
     "name": "stderr",
     "output_type": "stream",
     "text": [
      "/home/transmedia-eg/test_env/lib/python3.6/site-packages/ipykernel_launcher.py:14: UserWarning: Implicit dimension choice for softmax has been deprecated. Change the call to include dim=X as an argument.\n",
      "  \n",
      "  0%|          | 0/22 [00:00<?, ?batch/s]"
     ]
    },
    {
     "name": "stdout",
     "output_type": "stream",
     "text": [
      "done epoch 0 : test_acc 0.9533333333333334\n",
      "Coarse label 2 Epoch 2\n",
      "-------------------------------\n"
     ]
    },
    {
     "name": "stderr",
     "output_type": "stream",
     "text": [
      "/home/transmedia-eg/test_env/lib/python3.6/site-packages/ipykernel_launcher.py:14: UserWarning: Implicit dimension choice for softmax has been deprecated. Change the call to include dim=X as an argument.\n",
      "  \n",
      "100%|██████████| 22/22 [00:30<00:00,  1.41s/batch, loss=0.195] \n"
     ]
    },
    {
     "name": "stdout",
     "output_type": "stream",
     "text": [
      "current acc 0.9933333333333333 and loss 0.19530775770545006\n"
     ]
    },
    {
     "name": "stderr",
     "output_type": "stream",
     "text": [
      "/home/transmedia-eg/test_env/lib/python3.6/site-packages/ipykernel_launcher.py:14: UserWarning: Implicit dimension choice for softmax has been deprecated. Change the call to include dim=X as an argument.\n",
      "  \n",
      "  0%|          | 0/22 [00:00<?, ?batch/s]"
     ]
    },
    {
     "name": "stdout",
     "output_type": "stream",
     "text": [
      "done epoch 1 : test_acc 0.9566666666666667\n",
      "Coarse label 2 Epoch 3\n",
      "-------------------------------\n"
     ]
    },
    {
     "name": "stderr",
     "output_type": "stream",
     "text": [
      "/home/transmedia-eg/test_env/lib/python3.6/site-packages/ipykernel_launcher.py:14: UserWarning: Implicit dimension choice for softmax has been deprecated. Change the call to include dim=X as an argument.\n",
      "  \n",
      "100%|██████████| 22/22 [00:30<00:00,  1.41s/batch, loss=0.192] \n"
     ]
    },
    {
     "name": "stdout",
     "output_type": "stream",
     "text": [
      "current acc 0.9866666666666667 and loss 0.1917529795318842\n"
     ]
    },
    {
     "name": "stderr",
     "output_type": "stream",
     "text": [
      "/home/transmedia-eg/test_env/lib/python3.6/site-packages/ipykernel_launcher.py:14: UserWarning: Implicit dimension choice for softmax has been deprecated. Change the call to include dim=X as an argument.\n",
      "  \n",
      "  0%|          | 0/22 [00:00<?, ?batch/s]"
     ]
    },
    {
     "name": "stdout",
     "output_type": "stream",
     "text": [
      "done epoch 2 : test_acc 0.96\n",
      "Coarse label 2 Epoch 4\n",
      "-------------------------------\n"
     ]
    },
    {
     "name": "stderr",
     "output_type": "stream",
     "text": [
      "/home/transmedia-eg/test_env/lib/python3.6/site-packages/ipykernel_launcher.py:14: UserWarning: Implicit dimension choice for softmax has been deprecated. Change the call to include dim=X as an argument.\n",
      "  \n",
      "100%|██████████| 22/22 [00:31<00:00,  1.42s/batch, loss=0.192] \n"
     ]
    },
    {
     "name": "stdout",
     "output_type": "stream",
     "text": [
      "current acc 0.98 and loss 0.19155630376189947\n"
     ]
    },
    {
     "name": "stderr",
     "output_type": "stream",
     "text": [
      "/home/transmedia-eg/test_env/lib/python3.6/site-packages/ipykernel_launcher.py:14: UserWarning: Implicit dimension choice for softmax has been deprecated. Change the call to include dim=X as an argument.\n",
      "  \n",
      "  0%|          | 0/22 [00:00<?, ?batch/s]"
     ]
    },
    {
     "name": "stdout",
     "output_type": "stream",
     "text": [
      "done epoch 3 : test_acc 0.95\n",
      "Coarse label 2 Epoch 5\n",
      "-------------------------------\n"
     ]
    },
    {
     "name": "stderr",
     "output_type": "stream",
     "text": [
      "/home/transmedia-eg/test_env/lib/python3.6/site-packages/ipykernel_launcher.py:14: UserWarning: Implicit dimension choice for softmax has been deprecated. Change the call to include dim=X as an argument.\n",
      "  \n",
      "100%|██████████| 22/22 [00:31<00:00,  1.45s/batch, loss=0.195] \n"
     ]
    },
    {
     "name": "stdout",
     "output_type": "stream",
     "text": [
      "current acc 0.9666666666666667 and loss 0.1950672660022974\n"
     ]
    },
    {
     "name": "stderr",
     "output_type": "stream",
     "text": [
      "/home/transmedia-eg/test_env/lib/python3.6/site-packages/ipykernel_launcher.py:14: UserWarning: Implicit dimension choice for softmax has been deprecated. Change the call to include dim=X as an argument.\n",
      "  \n",
      "  0%|          | 0/22 [00:00<?, ?batch/s]"
     ]
    },
    {
     "name": "stdout",
     "output_type": "stream",
     "text": [
      "done epoch 4 : test_acc 0.95\n",
      "Coarse label 2 Epoch 6\n",
      "-------------------------------\n"
     ]
    },
    {
     "name": "stderr",
     "output_type": "stream",
     "text": [
      "/home/transmedia-eg/test_env/lib/python3.6/site-packages/ipykernel_launcher.py:14: UserWarning: Implicit dimension choice for softmax has been deprecated. Change the call to include dim=X as an argument.\n",
      "  \n",
      "100%|██████████| 22/22 [00:31<00:00,  1.44s/batch, loss=0.196] \n"
     ]
    },
    {
     "name": "stdout",
     "output_type": "stream",
     "text": [
      "current acc 0.94 and loss 0.19596379436552525\n"
     ]
    },
    {
     "name": "stderr",
     "output_type": "stream",
     "text": [
      "/home/transmedia-eg/test_env/lib/python3.6/site-packages/ipykernel_launcher.py:14: UserWarning: Implicit dimension choice for softmax has been deprecated. Change the call to include dim=X as an argument.\n",
      "  \n",
      "  0%|          | 0/22 [00:00<?, ?batch/s]"
     ]
    },
    {
     "name": "stdout",
     "output_type": "stream",
     "text": [
      "done epoch 5 : test_acc 0.91\n",
      "Coarse label 2 Epoch 7\n",
      "-------------------------------\n"
     ]
    },
    {
     "name": "stderr",
     "output_type": "stream",
     "text": [
      "/home/transmedia-eg/test_env/lib/python3.6/site-packages/ipykernel_launcher.py:14: UserWarning: Implicit dimension choice for softmax has been deprecated. Change the call to include dim=X as an argument.\n",
      "  \n",
      "100%|██████████| 22/22 [00:30<00:00,  1.40s/batch, loss=0.193] \n"
     ]
    },
    {
     "name": "stdout",
     "output_type": "stream",
     "text": [
      "current acc 0.9666666666666667 and loss 0.19251597858965397\n"
     ]
    },
    {
     "name": "stderr",
     "output_type": "stream",
     "text": [
      "/home/transmedia-eg/test_env/lib/python3.6/site-packages/ipykernel_launcher.py:14: UserWarning: Implicit dimension choice for softmax has been deprecated. Change the call to include dim=X as an argument.\n",
      "  \n",
      "  0%|          | 0/22 [00:00<?, ?batch/s]"
     ]
    },
    {
     "name": "stdout",
     "output_type": "stream",
     "text": [
      "done epoch 6 : test_acc 0.9266666666666666\n",
      "Coarse label 2 Epoch 8\n",
      "-------------------------------\n"
     ]
    },
    {
     "name": "stderr",
     "output_type": "stream",
     "text": [
      "/home/transmedia-eg/test_env/lib/python3.6/site-packages/ipykernel_launcher.py:14: UserWarning: Implicit dimension choice for softmax has been deprecated. Change the call to include dim=X as an argument.\n",
      "  \n",
      "100%|██████████| 22/22 [00:30<00:00,  1.40s/batch, loss=0.193] \n"
     ]
    },
    {
     "name": "stdout",
     "output_type": "stream",
     "text": [
      "current acc 0.9866666666666667 and loss 0.19286671373993158\n"
     ]
    },
    {
     "name": "stderr",
     "output_type": "stream",
     "text": [
      "/home/transmedia-eg/test_env/lib/python3.6/site-packages/ipykernel_launcher.py:14: UserWarning: Implicit dimension choice for softmax has been deprecated. Change the call to include dim=X as an argument.\n",
      "  \n",
      "  0%|          | 0/22 [00:00<?, ?batch/s]"
     ]
    },
    {
     "name": "stdout",
     "output_type": "stream",
     "text": [
      "done epoch 7 : test_acc 0.9466666666666667\n",
      "Coarse label 2 Epoch 9\n",
      "-------------------------------\n"
     ]
    },
    {
     "name": "stderr",
     "output_type": "stream",
     "text": [
      "/home/transmedia-eg/test_env/lib/python3.6/site-packages/ipykernel_launcher.py:14: UserWarning: Implicit dimension choice for softmax has been deprecated. Change the call to include dim=X as an argument.\n",
      "  \n",
      "100%|██████████| 22/22 [00:31<00:00,  1.41s/batch, loss=0.199] \n"
     ]
    },
    {
     "name": "stdout",
     "output_type": "stream",
     "text": [
      "current acc 0.96 and loss 0.19866038113832474\n"
     ]
    },
    {
     "name": "stderr",
     "output_type": "stream",
     "text": [
      "/home/transmedia-eg/test_env/lib/python3.6/site-packages/ipykernel_launcher.py:14: UserWarning: Implicit dimension choice for softmax has been deprecated. Change the call to include dim=X as an argument.\n",
      "  \n",
      "  0%|          | 0/22 [00:00<?, ?batch/s]"
     ]
    },
    {
     "name": "stdout",
     "output_type": "stream",
     "text": [
      "done epoch 8 : test_acc 0.9233333333333333\n",
      "Coarse label 2 Epoch 10\n",
      "-------------------------------\n"
     ]
    },
    {
     "name": "stderr",
     "output_type": "stream",
     "text": [
      "/home/transmedia-eg/test_env/lib/python3.6/site-packages/ipykernel_launcher.py:14: UserWarning: Implicit dimension choice for softmax has been deprecated. Change the call to include dim=X as an argument.\n",
      "  \n",
      "100%|██████████| 22/22 [00:31<00:00,  1.42s/batch, loss=0.196] \n"
     ]
    },
    {
     "name": "stdout",
     "output_type": "stream",
     "text": [
      "current acc 0.96 and loss 0.19574191607534885\n"
     ]
    },
    {
     "name": "stderr",
     "output_type": "stream",
     "text": [
      "/home/transmedia-eg/test_env/lib/python3.6/site-packages/ipykernel_launcher.py:14: UserWarning: Implicit dimension choice for softmax has been deprecated. Change the call to include dim=X as an argument.\n",
      "  \n"
     ]
    },
    {
     "name": "stdout",
     "output_type": "stream",
     "text": [
      "done epoch 9 : test_acc 0.9266666666666666\n",
      "Done! Saved model with validation accuracy 0.98 and loss 0.19155630376189947\n",
      "{0: (0.935, 0.925), 1: (0.84, 0.8433333333333334), 2: (0.98, 0.9266666666666666)}\n"
     ]
    },
    {
     "name": "stderr",
     "output_type": "stream",
     "text": [
      "\r",
      "  0%|          | 0/15 [00:00<?, ?batch/s]"
     ]
    },
    {
     "name": "stdout",
     "output_type": "stream",
     "text": [
      "Coarse label 3 Epoch 1\n",
      "-------------------------------\n"
     ]
    },
    {
     "name": "stderr",
     "output_type": "stream",
     "text": [
      "/home/transmedia-eg/test_env/lib/python3.6/site-packages/ipykernel_launcher.py:14: UserWarning: Implicit dimension choice for softmax has been deprecated. Change the call to include dim=X as an argument.\n",
      "  \n",
      "100%|██████████| 15/15 [00:21<00:00,  1.43s/batch, loss=0.108] \n"
     ]
    },
    {
     "name": "stdout",
     "output_type": "stream",
     "text": [
      "current acc 0.84 and loss 0.10830035991966724\n"
     ]
    },
    {
     "name": "stderr",
     "output_type": "stream",
     "text": [
      "/home/transmedia-eg/test_env/lib/python3.6/site-packages/ipykernel_launcher.py:14: UserWarning: Implicit dimension choice for softmax has been deprecated. Change the call to include dim=X as an argument.\n",
      "  \n",
      "  0%|          | 0/15 [00:00<?, ?batch/s]"
     ]
    },
    {
     "name": "stdout",
     "output_type": "stream",
     "text": [
      "done epoch 0 : test_acc 0.86\n",
      "Coarse label 3 Epoch 2\n",
      "-------------------------------\n"
     ]
    },
    {
     "name": "stderr",
     "output_type": "stream",
     "text": [
      "/home/transmedia-eg/test_env/lib/python3.6/site-packages/ipykernel_launcher.py:14: UserWarning: Implicit dimension choice for softmax has been deprecated. Change the call to include dim=X as an argument.\n",
      "  \n",
      "100%|██████████| 15/15 [00:21<00:00,  1.41s/batch, loss=0.0762]\n"
     ]
    },
    {
     "name": "stdout",
     "output_type": "stream",
     "text": [
      "current acc 0.96 and loss 0.07620308455079794\n"
     ]
    },
    {
     "name": "stderr",
     "output_type": "stream",
     "text": [
      "/home/transmedia-eg/test_env/lib/python3.6/site-packages/ipykernel_launcher.py:14: UserWarning: Implicit dimension choice for softmax has been deprecated. Change the call to include dim=X as an argument.\n",
      "  \n",
      "  0%|          | 0/15 [00:00<?, ?batch/s]"
     ]
    },
    {
     "name": "stdout",
     "output_type": "stream",
     "text": [
      "done epoch 1 : test_acc 0.965\n",
      "Coarse label 3 Epoch 3\n",
      "-------------------------------\n"
     ]
    },
    {
     "name": "stderr",
     "output_type": "stream",
     "text": [
      "/home/transmedia-eg/test_env/lib/python3.6/site-packages/ipykernel_launcher.py:14: UserWarning: Implicit dimension choice for softmax has been deprecated. Change the call to include dim=X as an argument.\n",
      "  \n",
      "100%|██████████| 15/15 [00:20<00:00,  1.37s/batch, loss=0.0747]\n"
     ]
    },
    {
     "name": "stdout",
     "output_type": "stream",
     "text": [
      "current acc 0.97 and loss 0.07468292862176895\n"
     ]
    },
    {
     "name": "stderr",
     "output_type": "stream",
     "text": [
      "/home/transmedia-eg/test_env/lib/python3.6/site-packages/ipykernel_launcher.py:14: UserWarning: Implicit dimension choice for softmax has been deprecated. Change the call to include dim=X as an argument.\n",
      "  \n",
      "  0%|          | 0/15 [00:00<?, ?batch/s]"
     ]
    },
    {
     "name": "stdout",
     "output_type": "stream",
     "text": [
      "done epoch 2 : test_acc 0.965\n",
      "Coarse label 3 Epoch 4\n",
      "-------------------------------\n"
     ]
    },
    {
     "name": "stderr",
     "output_type": "stream",
     "text": [
      "/home/transmedia-eg/test_env/lib/python3.6/site-packages/ipykernel_launcher.py:14: UserWarning: Implicit dimension choice for softmax has been deprecated. Change the call to include dim=X as an argument.\n",
      "  \n",
      "100%|██████████| 15/15 [00:20<00:00,  1.39s/batch, loss=0.0744]\n"
     ]
    },
    {
     "name": "stdout",
     "output_type": "stream",
     "text": [
      "current acc 0.96 and loss 0.07444515265524387\n"
     ]
    },
    {
     "name": "stderr",
     "output_type": "stream",
     "text": [
      "/home/transmedia-eg/test_env/lib/python3.6/site-packages/ipykernel_launcher.py:14: UserWarning: Implicit dimension choice for softmax has been deprecated. Change the call to include dim=X as an argument.\n",
      "  \n",
      "  0%|          | 0/15 [00:00<?, ?batch/s]"
     ]
    },
    {
     "name": "stdout",
     "output_type": "stream",
     "text": [
      "done epoch 3 : test_acc 0.985\n",
      "Coarse label 3 Epoch 5\n",
      "-------------------------------\n"
     ]
    },
    {
     "name": "stderr",
     "output_type": "stream",
     "text": [
      "/home/transmedia-eg/test_env/lib/python3.6/site-packages/ipykernel_launcher.py:14: UserWarning: Implicit dimension choice for softmax has been deprecated. Change the call to include dim=X as an argument.\n",
      "  \n",
      "100%|██████████| 15/15 [00:20<00:00,  1.38s/batch, loss=0.0747]\n"
     ]
    },
    {
     "name": "stdout",
     "output_type": "stream",
     "text": [
      "current acc 0.96 and loss 0.07469092169776559\n"
     ]
    },
    {
     "name": "stderr",
     "output_type": "stream",
     "text": [
      "/home/transmedia-eg/test_env/lib/python3.6/site-packages/ipykernel_launcher.py:14: UserWarning: Implicit dimension choice for softmax has been deprecated. Change the call to include dim=X as an argument.\n",
      "  \n",
      "  0%|          | 0/15 [00:00<?, ?batch/s]"
     ]
    },
    {
     "name": "stdout",
     "output_type": "stream",
     "text": [
      "done epoch 4 : test_acc 0.97\n",
      "Coarse label 3 Epoch 6\n",
      "-------------------------------\n"
     ]
    },
    {
     "name": "stderr",
     "output_type": "stream",
     "text": [
      "/home/transmedia-eg/test_env/lib/python3.6/site-packages/ipykernel_launcher.py:14: UserWarning: Implicit dimension choice for softmax has been deprecated. Change the call to include dim=X as an argument.\n",
      "  \n",
      "100%|██████████| 15/15 [00:20<00:00,  1.40s/batch, loss=0.0799]\n"
     ]
    },
    {
     "name": "stdout",
     "output_type": "stream",
     "text": [
      "current acc 0.96 and loss 0.07993216440081596\n"
     ]
    },
    {
     "name": "stderr",
     "output_type": "stream",
     "text": [
      "/home/transmedia-eg/test_env/lib/python3.6/site-packages/ipykernel_launcher.py:14: UserWarning: Implicit dimension choice for softmax has been deprecated. Change the call to include dim=X as an argument.\n",
      "  \n",
      "  0%|          | 0/15 [00:00<?, ?batch/s]"
     ]
    },
    {
     "name": "stdout",
     "output_type": "stream",
     "text": [
      "done epoch 5 : test_acc 0.94\n",
      "Coarse label 3 Epoch 7\n",
      "-------------------------------\n"
     ]
    },
    {
     "name": "stderr",
     "output_type": "stream",
     "text": [
      "/home/transmedia-eg/test_env/lib/python3.6/site-packages/ipykernel_launcher.py:14: UserWarning: Implicit dimension choice for softmax has been deprecated. Change the call to include dim=X as an argument.\n",
      "  \n",
      "100%|██████████| 15/15 [00:21<00:00,  1.41s/batch, loss=0.0768]\n"
     ]
    },
    {
     "name": "stdout",
     "output_type": "stream",
     "text": [
      "current acc 0.93 and loss 0.0768246864899993\n"
     ]
    },
    {
     "name": "stderr",
     "output_type": "stream",
     "text": [
      "/home/transmedia-eg/test_env/lib/python3.6/site-packages/ipykernel_launcher.py:14: UserWarning: Implicit dimension choice for softmax has been deprecated. Change the call to include dim=X as an argument.\n",
      "  \n",
      "  0%|          | 0/15 [00:00<?, ?batch/s]"
     ]
    },
    {
     "name": "stdout",
     "output_type": "stream",
     "text": [
      "done epoch 6 : test_acc 0.955\n",
      "Coarse label 3 Epoch 8\n",
      "-------------------------------\n"
     ]
    },
    {
     "name": "stderr",
     "output_type": "stream",
     "text": [
      "/home/transmedia-eg/test_env/lib/python3.6/site-packages/ipykernel_launcher.py:14: UserWarning: Implicit dimension choice for softmax has been deprecated. Change the call to include dim=X as an argument.\n",
      "  \n",
      "100%|██████████| 15/15 [00:20<00:00,  1.38s/batch, loss=0.0786]\n"
     ]
    },
    {
     "name": "stdout",
     "output_type": "stream",
     "text": [
      "current acc 0.92 and loss 0.0786411939188838\n"
     ]
    },
    {
     "name": "stderr",
     "output_type": "stream",
     "text": [
      "/home/transmedia-eg/test_env/lib/python3.6/site-packages/ipykernel_launcher.py:14: UserWarning: Implicit dimension choice for softmax has been deprecated. Change the call to include dim=X as an argument.\n",
      "  \n",
      "  0%|          | 0/15 [00:00<?, ?batch/s]"
     ]
    },
    {
     "name": "stdout",
     "output_type": "stream",
     "text": [
      "done epoch 7 : test_acc 0.965\n",
      "Coarse label 3 Epoch 9\n",
      "-------------------------------\n"
     ]
    },
    {
     "name": "stderr",
     "output_type": "stream",
     "text": [
      "/home/transmedia-eg/test_env/lib/python3.6/site-packages/ipykernel_launcher.py:14: UserWarning: Implicit dimension choice for softmax has been deprecated. Change the call to include dim=X as an argument.\n",
      "  \n",
      "100%|██████████| 15/15 [00:20<00:00,  1.38s/batch, loss=0.0835]\n"
     ]
    },
    {
     "name": "stdout",
     "output_type": "stream",
     "text": [
      "current acc 0.93 and loss 0.08354063332080841\n"
     ]
    },
    {
     "name": "stderr",
     "output_type": "stream",
     "text": [
      "/home/transmedia-eg/test_env/lib/python3.6/site-packages/ipykernel_launcher.py:14: UserWarning: Implicit dimension choice for softmax has been deprecated. Change the call to include dim=X as an argument.\n",
      "  \n",
      "  0%|          | 0/15 [00:00<?, ?batch/s]"
     ]
    },
    {
     "name": "stdout",
     "output_type": "stream",
     "text": [
      "done epoch 8 : test_acc 0.95\n",
      "Coarse label 3 Epoch 10\n",
      "-------------------------------\n"
     ]
    },
    {
     "name": "stderr",
     "output_type": "stream",
     "text": [
      "/home/transmedia-eg/test_env/lib/python3.6/site-packages/ipykernel_launcher.py:14: UserWarning: Implicit dimension choice for softmax has been deprecated. Change the call to include dim=X as an argument.\n",
      "  \n",
      "100%|██████████| 15/15 [00:20<00:00,  1.38s/batch, loss=0.0789]\n"
     ]
    },
    {
     "name": "stdout",
     "output_type": "stream",
     "text": [
      "current acc 0.93 and loss 0.07887434819713235\n"
     ]
    },
    {
     "name": "stderr",
     "output_type": "stream",
     "text": [
      "/home/transmedia-eg/test_env/lib/python3.6/site-packages/ipykernel_launcher.py:14: UserWarning: Implicit dimension choice for softmax has been deprecated. Change the call to include dim=X as an argument.\n",
      "  \n"
     ]
    },
    {
     "name": "stdout",
     "output_type": "stream",
     "text": [
      "done epoch 9 : test_acc 0.94\n",
      "Done! Saved model with validation accuracy 0.96 and loss 0.07444515265524387\n",
      "{0: (0.935, 0.925), 1: (0.84, 0.8433333333333334), 2: (0.98, 0.9266666666666666), 3: (0.96, 0.94)}\n"
     ]
    },
    {
     "name": "stderr",
     "output_type": "stream",
     "text": [
      "\r",
      "  0%|          | 0/22 [00:00<?, ?batch/s]"
     ]
    },
    {
     "name": "stdout",
     "output_type": "stream",
     "text": [
      "Coarse label 4 Epoch 1\n",
      "-------------------------------\n"
     ]
    },
    {
     "name": "stderr",
     "output_type": "stream",
     "text": [
      "/home/transmedia-eg/test_env/lib/python3.6/site-packages/ipykernel_launcher.py:14: UserWarning: Implicit dimension choice for softmax has been deprecated. Change the call to include dim=X as an argument.\n",
      "  \n",
      "100%|██████████| 22/22 [00:31<00:00,  1.43s/batch, loss=0.234]\n"
     ]
    },
    {
     "name": "stdout",
     "output_type": "stream",
     "text": [
      "current acc 0.9733333333333334 and loss 0.2339609321206808\n"
     ]
    },
    {
     "name": "stderr",
     "output_type": "stream",
     "text": [
      "/home/transmedia-eg/test_env/lib/python3.6/site-packages/ipykernel_launcher.py:14: UserWarning: Implicit dimension choice for softmax has been deprecated. Change the call to include dim=X as an argument.\n",
      "  \n",
      "  0%|          | 0/22 [00:00<?, ?batch/s]"
     ]
    },
    {
     "name": "stdout",
     "output_type": "stream",
     "text": [
      "done epoch 0 : test_acc 0.9866666666666667\n",
      "Coarse label 4 Epoch 2\n",
      "-------------------------------\n"
     ]
    },
    {
     "name": "stderr",
     "output_type": "stream",
     "text": [
      "/home/transmedia-eg/test_env/lib/python3.6/site-packages/ipykernel_launcher.py:14: UserWarning: Implicit dimension choice for softmax has been deprecated. Change the call to include dim=X as an argument.\n",
      "  \n",
      "100%|██████████| 22/22 [00:31<00:00,  1.43s/batch, loss=0.193] \n"
     ]
    },
    {
     "name": "stdout",
     "output_type": "stream",
     "text": [
      "current acc 0.9733333333333334 and loss 0.1932180654257536\n"
     ]
    },
    {
     "name": "stderr",
     "output_type": "stream",
     "text": [
      "/home/transmedia-eg/test_env/lib/python3.6/site-packages/ipykernel_launcher.py:14: UserWarning: Implicit dimension choice for softmax has been deprecated. Change the call to include dim=X as an argument.\n",
      "  \n",
      "  0%|          | 0/22 [00:00<?, ?batch/s]"
     ]
    },
    {
     "name": "stdout",
     "output_type": "stream",
     "text": [
      "done epoch 1 : test_acc 0.99\n",
      "Coarse label 4 Epoch 3\n",
      "-------------------------------\n"
     ]
    },
    {
     "name": "stderr",
     "output_type": "stream",
     "text": [
      "/home/transmedia-eg/test_env/lib/python3.6/site-packages/ipykernel_launcher.py:14: UserWarning: Implicit dimension choice for softmax has been deprecated. Change the call to include dim=X as an argument.\n",
      "  \n",
      "100%|██████████| 22/22 [00:31<00:00,  1.42s/batch, loss=0.19]  \n"
     ]
    },
    {
     "name": "stdout",
     "output_type": "stream",
     "text": [
      "current acc 0.98 and loss 0.1902903150767088\n"
     ]
    },
    {
     "name": "stderr",
     "output_type": "stream",
     "text": [
      "/home/transmedia-eg/test_env/lib/python3.6/site-packages/ipykernel_launcher.py:14: UserWarning: Implicit dimension choice for softmax has been deprecated. Change the call to include dim=X as an argument.\n",
      "  \n",
      "  0%|          | 0/22 [00:00<?, ?batch/s]"
     ]
    },
    {
     "name": "stdout",
     "output_type": "stream",
     "text": [
      "done epoch 2 : test_acc 0.9933333333333333\n",
      "Coarse label 4 Epoch 4\n",
      "-------------------------------\n"
     ]
    },
    {
     "name": "stderr",
     "output_type": "stream",
     "text": [
      "/home/transmedia-eg/test_env/lib/python3.6/site-packages/ipykernel_launcher.py:14: UserWarning: Implicit dimension choice for softmax has been deprecated. Change the call to include dim=X as an argument.\n",
      "  \n",
      "100%|██████████| 22/22 [00:31<00:00,  1.41s/batch, loss=0.194] \n"
     ]
    },
    {
     "name": "stdout",
     "output_type": "stream",
     "text": [
      "current acc 0.9866666666666667 and loss 0.19395536929368973\n"
     ]
    },
    {
     "name": "stderr",
     "output_type": "stream",
     "text": [
      "/home/transmedia-eg/test_env/lib/python3.6/site-packages/ipykernel_launcher.py:14: UserWarning: Implicit dimension choice for softmax has been deprecated. Change the call to include dim=X as an argument.\n",
      "  \n",
      "  0%|          | 0/22 [00:00<?, ?batch/s]"
     ]
    },
    {
     "name": "stdout",
     "output_type": "stream",
     "text": [
      "done epoch 3 : test_acc 0.9833333333333333\n",
      "Coarse label 4 Epoch 5\n",
      "-------------------------------\n"
     ]
    },
    {
     "name": "stderr",
     "output_type": "stream",
     "text": [
      "/home/transmedia-eg/test_env/lib/python3.6/site-packages/ipykernel_launcher.py:14: UserWarning: Implicit dimension choice for softmax has been deprecated. Change the call to include dim=X as an argument.\n",
      "  \n",
      "100%|██████████| 22/22 [00:30<00:00,  1.41s/batch, loss=0.193] \n"
     ]
    },
    {
     "name": "stdout",
     "output_type": "stream",
     "text": [
      "current acc 0.98 and loss 0.19273076578974724\n"
     ]
    },
    {
     "name": "stderr",
     "output_type": "stream",
     "text": [
      "/home/transmedia-eg/test_env/lib/python3.6/site-packages/ipykernel_launcher.py:14: UserWarning: Implicit dimension choice for softmax has been deprecated. Change the call to include dim=X as an argument.\n",
      "  \n",
      "  0%|          | 0/22 [00:00<?, ?batch/s]"
     ]
    },
    {
     "name": "stdout",
     "output_type": "stream",
     "text": [
      "done epoch 4 : test_acc 0.9766666666666667\n",
      "Coarse label 4 Epoch 6\n",
      "-------------------------------\n"
     ]
    },
    {
     "name": "stderr",
     "output_type": "stream",
     "text": [
      "/home/transmedia-eg/test_env/lib/python3.6/site-packages/ipykernel_launcher.py:14: UserWarning: Implicit dimension choice for softmax has been deprecated. Change the call to include dim=X as an argument.\n",
      "  \n",
      "100%|██████████| 22/22 [00:31<00:00,  1.42s/batch, loss=0.193] \n"
     ]
    },
    {
     "name": "stdout",
     "output_type": "stream",
     "text": [
      "current acc 1.0 and loss 0.19261715095490217\n"
     ]
    },
    {
     "name": "stderr",
     "output_type": "stream",
     "text": [
      "/home/transmedia-eg/test_env/lib/python3.6/site-packages/ipykernel_launcher.py:14: UserWarning: Implicit dimension choice for softmax has been deprecated. Change the call to include dim=X as an argument.\n",
      "  \n",
      "  0%|          | 0/22 [00:00<?, ?batch/s]"
     ]
    },
    {
     "name": "stdout",
     "output_type": "stream",
     "text": [
      "done epoch 5 : test_acc 0.99\n",
      "Coarse label 4 Epoch 7\n",
      "-------------------------------\n"
     ]
    },
    {
     "name": "stderr",
     "output_type": "stream",
     "text": [
      "/home/transmedia-eg/test_env/lib/python3.6/site-packages/ipykernel_launcher.py:14: UserWarning: Implicit dimension choice for softmax has been deprecated. Change the call to include dim=X as an argument.\n",
      "  \n",
      "100%|██████████| 22/22 [00:31<00:00,  1.42s/batch, loss=0.194] \n"
     ]
    },
    {
     "name": "stdout",
     "output_type": "stream",
     "text": [
      "current acc 0.9933333333333333 and loss 0.19427309650927782\n"
     ]
    },
    {
     "name": "stderr",
     "output_type": "stream",
     "text": [
      "/home/transmedia-eg/test_env/lib/python3.6/site-packages/ipykernel_launcher.py:14: UserWarning: Implicit dimension choice for softmax has been deprecated. Change the call to include dim=X as an argument.\n",
      "  \n",
      "  0%|          | 0/22 [00:00<?, ?batch/s]"
     ]
    },
    {
     "name": "stdout",
     "output_type": "stream",
     "text": [
      "done epoch 6 : test_acc 0.9966666666666667\n",
      "Coarse label 4 Epoch 8\n",
      "-------------------------------\n"
     ]
    },
    {
     "name": "stderr",
     "output_type": "stream",
     "text": [
      "/home/transmedia-eg/test_env/lib/python3.6/site-packages/ipykernel_launcher.py:14: UserWarning: Implicit dimension choice for softmax has been deprecated. Change the call to include dim=X as an argument.\n",
      "  \n",
      "100%|██████████| 22/22 [00:31<00:00,  1.42s/batch, loss=0.19]  \n"
     ]
    },
    {
     "name": "stdout",
     "output_type": "stream",
     "text": [
      "current acc 0.98 and loss 0.19018630776554346\n"
     ]
    },
    {
     "name": "stderr",
     "output_type": "stream",
     "text": [
      "/home/transmedia-eg/test_env/lib/python3.6/site-packages/ipykernel_launcher.py:14: UserWarning: Implicit dimension choice for softmax has been deprecated. Change the call to include dim=X as an argument.\n",
      "  \n",
      "  0%|          | 0/22 [00:00<?, ?batch/s]"
     ]
    },
    {
     "name": "stdout",
     "output_type": "stream",
     "text": [
      "done epoch 7 : test_acc 0.99\n",
      "Coarse label 4 Epoch 9\n",
      "-------------------------------\n"
     ]
    },
    {
     "name": "stderr",
     "output_type": "stream",
     "text": [
      "/home/transmedia-eg/test_env/lib/python3.6/site-packages/ipykernel_launcher.py:14: UserWarning: Implicit dimension choice for softmax has been deprecated. Change the call to include dim=X as an argument.\n",
      "  \n",
      "100%|██████████| 22/22 [00:30<00:00,  1.39s/batch, loss=0.19]  \n"
     ]
    },
    {
     "name": "stdout",
     "output_type": "stream",
     "text": [
      "current acc 0.9866666666666667 and loss 0.19030175264924765\n"
     ]
    },
    {
     "name": "stderr",
     "output_type": "stream",
     "text": [
      "/home/transmedia-eg/test_env/lib/python3.6/site-packages/ipykernel_launcher.py:14: UserWarning: Implicit dimension choice for softmax has been deprecated. Change the call to include dim=X as an argument.\n",
      "  \n",
      "  0%|          | 0/22 [00:00<?, ?batch/s]"
     ]
    },
    {
     "name": "stdout",
     "output_type": "stream",
     "text": [
      "done epoch 8 : test_acc 0.9933333333333333\n",
      "Coarse label 4 Epoch 10\n",
      "-------------------------------\n"
     ]
    },
    {
     "name": "stderr",
     "output_type": "stream",
     "text": [
      "/home/transmedia-eg/test_env/lib/python3.6/site-packages/ipykernel_launcher.py:14: UserWarning: Implicit dimension choice for softmax has been deprecated. Change the call to include dim=X as an argument.\n",
      "  \n",
      "100%|██████████| 22/22 [00:32<00:00,  1.46s/batch, loss=0.194] \n"
     ]
    },
    {
     "name": "stdout",
     "output_type": "stream",
     "text": [
      "current acc 0.98 and loss 0.1941398000344634\n"
     ]
    },
    {
     "name": "stderr",
     "output_type": "stream",
     "text": [
      "/home/transmedia-eg/test_env/lib/python3.6/site-packages/ipykernel_launcher.py:14: UserWarning: Implicit dimension choice for softmax has been deprecated. Change the call to include dim=X as an argument.\n",
      "  \n"
     ]
    },
    {
     "name": "stdout",
     "output_type": "stream",
     "text": [
      "done epoch 9 : test_acc 0.9866666666666667\n",
      "Done! Saved model with validation accuracy 0.98 and loss 0.19018630776554346\n",
      "{0: (0.935, 0.925), 1: (0.84, 0.8433333333333334), 2: (0.98, 0.9266666666666666), 3: (0.96, 0.94), 4: (0.98, 0.9866666666666667)}\n"
     ]
    },
    {
     "name": "stderr",
     "output_type": "stream",
     "text": [
      "\r",
      "  0%|          | 0/36 [00:00<?, ?batch/s]"
     ]
    },
    {
     "name": "stdout",
     "output_type": "stream",
     "text": [
      "Coarse label 7 Epoch 1\n",
      "-------------------------------\n"
     ]
    },
    {
     "name": "stderr",
     "output_type": "stream",
     "text": [
      "/home/transmedia-eg/test_env/lib/python3.6/site-packages/ipykernel_launcher.py:14: UserWarning: Implicit dimension choice for softmax has been deprecated. Change the call to include dim=X as an argument.\n",
      "  \n",
      "100%|██████████| 36/36 [00:50<00:00,  1.40s/batch, loss=0.643]\n"
     ]
    },
    {
     "name": "stdout",
     "output_type": "stream",
     "text": [
      "current acc 0.952 and loss 0.6430075885728002\n"
     ]
    },
    {
     "name": "stderr",
     "output_type": "stream",
     "text": [
      "/home/transmedia-eg/test_env/lib/python3.6/site-packages/ipykernel_launcher.py:14: UserWarning: Implicit dimension choice for softmax has been deprecated. Change the call to include dim=X as an argument.\n",
      "  \n",
      "  0%|          | 0/36 [00:00<?, ?batch/s]"
     ]
    },
    {
     "name": "stdout",
     "output_type": "stream",
     "text": [
      "done epoch 0 : test_acc 0.97\n",
      "Coarse label 7 Epoch 2\n",
      "-------------------------------\n"
     ]
    },
    {
     "name": "stderr",
     "output_type": "stream",
     "text": [
      "/home/transmedia-eg/test_env/lib/python3.6/site-packages/ipykernel_launcher.py:14: UserWarning: Implicit dimension choice for softmax has been deprecated. Change the call to include dim=X as an argument.\n",
      "  \n",
      "100%|██████████| 36/36 [00:49<00:00,  1.38s/batch, loss=0.527]\n"
     ]
    },
    {
     "name": "stdout",
     "output_type": "stream",
     "text": [
      "current acc 0.948 and loss 0.5271263457834721\n"
     ]
    },
    {
     "name": "stderr",
     "output_type": "stream",
     "text": [
      "/home/transmedia-eg/test_env/lib/python3.6/site-packages/ipykernel_launcher.py:14: UserWarning: Implicit dimension choice for softmax has been deprecated. Change the call to include dim=X as an argument.\n",
      "  \n",
      "  0%|          | 0/36 [00:00<?, ?batch/s]"
     ]
    },
    {
     "name": "stdout",
     "output_type": "stream",
     "text": [
      "done epoch 1 : test_acc 0.96\n",
      "Coarse label 7 Epoch 3\n",
      "-------------------------------\n"
     ]
    },
    {
     "name": "stderr",
     "output_type": "stream",
     "text": [
      "/home/transmedia-eg/test_env/lib/python3.6/site-packages/ipykernel_launcher.py:14: UserWarning: Implicit dimension choice for softmax has been deprecated. Change the call to include dim=X as an argument.\n",
      "  \n",
      "100%|██████████| 36/36 [00:49<00:00,  1.37s/batch, loss=0.519]\n"
     ]
    },
    {
     "name": "stdout",
     "output_type": "stream",
     "text": [
      "current acc 0.964 and loss 0.5188113301992416\n"
     ]
    },
    {
     "name": "stderr",
     "output_type": "stream",
     "text": [
      "/home/transmedia-eg/test_env/lib/python3.6/site-packages/ipykernel_launcher.py:14: UserWarning: Implicit dimension choice for softmax has been deprecated. Change the call to include dim=X as an argument.\n",
      "  \n",
      "  0%|          | 0/36 [00:00<?, ?batch/s]"
     ]
    },
    {
     "name": "stdout",
     "output_type": "stream",
     "text": [
      "done epoch 2 : test_acc 0.968\n",
      "Coarse label 7 Epoch 4\n",
      "-------------------------------\n"
     ]
    },
    {
     "name": "stderr",
     "output_type": "stream",
     "text": [
      "/home/transmedia-eg/test_env/lib/python3.6/site-packages/ipykernel_launcher.py:14: UserWarning: Implicit dimension choice for softmax has been deprecated. Change the call to include dim=X as an argument.\n",
      "  \n",
      "100%|██████████| 36/36 [00:50<00:00,  1.40s/batch, loss=0.524]\n"
     ]
    },
    {
     "name": "stdout",
     "output_type": "stream",
     "text": [
      "current acc 0.94 and loss 0.5244423747062683\n"
     ]
    },
    {
     "name": "stderr",
     "output_type": "stream",
     "text": [
      "/home/transmedia-eg/test_env/lib/python3.6/site-packages/ipykernel_launcher.py:14: UserWarning: Implicit dimension choice for softmax has been deprecated. Change the call to include dim=X as an argument.\n",
      "  \n",
      "  0%|          | 0/36 [00:00<?, ?batch/s]"
     ]
    },
    {
     "name": "stdout",
     "output_type": "stream",
     "text": [
      "done epoch 3 : test_acc 0.946\n",
      "Coarse label 7 Epoch 5\n",
      "-------------------------------\n"
     ]
    },
    {
     "name": "stderr",
     "output_type": "stream",
     "text": [
      "/home/transmedia-eg/test_env/lib/python3.6/site-packages/ipykernel_launcher.py:14: UserWarning: Implicit dimension choice for softmax has been deprecated. Change the call to include dim=X as an argument.\n",
      "  \n",
      "100%|██████████| 36/36 [00:50<00:00,  1.39s/batch, loss=0.518]\n"
     ]
    },
    {
     "name": "stdout",
     "output_type": "stream",
     "text": [
      "current acc 0.96 and loss 0.5184751274064183\n"
     ]
    },
    {
     "name": "stderr",
     "output_type": "stream",
     "text": [
      "/home/transmedia-eg/test_env/lib/python3.6/site-packages/ipykernel_launcher.py:14: UserWarning: Implicit dimension choice for softmax has been deprecated. Change the call to include dim=X as an argument.\n",
      "  \n",
      "  0%|          | 0/36 [00:00<?, ?batch/s]"
     ]
    },
    {
     "name": "stdout",
     "output_type": "stream",
     "text": [
      "done epoch 4 : test_acc 0.962\n",
      "Coarse label 7 Epoch 6\n",
      "-------------------------------\n"
     ]
    },
    {
     "name": "stderr",
     "output_type": "stream",
     "text": [
      "/home/transmedia-eg/test_env/lib/python3.6/site-packages/ipykernel_launcher.py:14: UserWarning: Implicit dimension choice for softmax has been deprecated. Change the call to include dim=X as an argument.\n",
      "  \n",
      "100%|██████████| 36/36 [00:51<00:00,  1.42s/batch, loss=0.518]\n"
     ]
    },
    {
     "name": "stdout",
     "output_type": "stream",
     "text": [
      "current acc 0.956 and loss 0.5177500722929835\n"
     ]
    },
    {
     "name": "stderr",
     "output_type": "stream",
     "text": [
      "/home/transmedia-eg/test_env/lib/python3.6/site-packages/ipykernel_launcher.py:14: UserWarning: Implicit dimension choice for softmax has been deprecated. Change the call to include dim=X as an argument.\n",
      "  \n",
      "  0%|          | 0/36 [00:00<?, ?batch/s]"
     ]
    },
    {
     "name": "stdout",
     "output_type": "stream",
     "text": [
      "done epoch 5 : test_acc 0.966\n",
      "Coarse label 7 Epoch 7\n",
      "-------------------------------\n"
     ]
    },
    {
     "name": "stderr",
     "output_type": "stream",
     "text": [
      "/home/transmedia-eg/test_env/lib/python3.6/site-packages/ipykernel_launcher.py:14: UserWarning: Implicit dimension choice for softmax has been deprecated. Change the call to include dim=X as an argument.\n",
      "  \n",
      "100%|██████████| 36/36 [00:50<00:00,  1.40s/batch, loss=0.522]\n"
     ]
    },
    {
     "name": "stdout",
     "output_type": "stream",
     "text": [
      "current acc 0.952 and loss 0.5217419387772679\n"
     ]
    },
    {
     "name": "stderr",
     "output_type": "stream",
     "text": [
      "/home/transmedia-eg/test_env/lib/python3.6/site-packages/ipykernel_launcher.py:14: UserWarning: Implicit dimension choice for softmax has been deprecated. Change the call to include dim=X as an argument.\n",
      "  \n",
      "  0%|          | 0/36 [00:00<?, ?batch/s]"
     ]
    },
    {
     "name": "stdout",
     "output_type": "stream",
     "text": [
      "done epoch 6 : test_acc 0.954\n",
      "Coarse label 7 Epoch 8\n",
      "-------------------------------\n"
     ]
    },
    {
     "name": "stderr",
     "output_type": "stream",
     "text": [
      "/home/transmedia-eg/test_env/lib/python3.6/site-packages/ipykernel_launcher.py:14: UserWarning: Implicit dimension choice for softmax has been deprecated. Change the call to include dim=X as an argument.\n",
      "  \n",
      "100%|██████████| 36/36 [00:49<00:00,  1.38s/batch, loss=0.515]\n"
     ]
    },
    {
     "name": "stdout",
     "output_type": "stream",
     "text": [
      "current acc 0.956 and loss 0.5146840875968337\n"
     ]
    },
    {
     "name": "stderr",
     "output_type": "stream",
     "text": [
      "/home/transmedia-eg/test_env/lib/python3.6/site-packages/ipykernel_launcher.py:14: UserWarning: Implicit dimension choice for softmax has been deprecated. Change the call to include dim=X as an argument.\n",
      "  \n",
      "  0%|          | 0/36 [00:00<?, ?batch/s]"
     ]
    },
    {
     "name": "stdout",
     "output_type": "stream",
     "text": [
      "done epoch 7 : test_acc 0.954\n",
      "Coarse label 7 Epoch 9\n",
      "-------------------------------\n"
     ]
    },
    {
     "name": "stderr",
     "output_type": "stream",
     "text": [
      "/home/transmedia-eg/test_env/lib/python3.6/site-packages/ipykernel_launcher.py:14: UserWarning: Implicit dimension choice for softmax has been deprecated. Change the call to include dim=X as an argument.\n",
      "  \n",
      "100%|██████████| 36/36 [00:49<00:00,  1.38s/batch, loss=0.514]\n"
     ]
    },
    {
     "name": "stdout",
     "output_type": "stream",
     "text": [
      "current acc 0.952 and loss 0.5137984976172447\n"
     ]
    },
    {
     "name": "stderr",
     "output_type": "stream",
     "text": [
      "/home/transmedia-eg/test_env/lib/python3.6/site-packages/ipykernel_launcher.py:14: UserWarning: Implicit dimension choice for softmax has been deprecated. Change the call to include dim=X as an argument.\n",
      "  \n",
      "  0%|          | 0/36 [00:00<?, ?batch/s]"
     ]
    },
    {
     "name": "stdout",
     "output_type": "stream",
     "text": [
      "done epoch 8 : test_acc 0.96\n",
      "Coarse label 7 Epoch 10\n",
      "-------------------------------\n"
     ]
    },
    {
     "name": "stderr",
     "output_type": "stream",
     "text": [
      "/home/transmedia-eg/test_env/lib/python3.6/site-packages/ipykernel_launcher.py:14: UserWarning: Implicit dimension choice for softmax has been deprecated. Change the call to include dim=X as an argument.\n",
      "  \n",
      "100%|██████████| 36/36 [00:49<00:00,  1.39s/batch, loss=0.512]\n"
     ]
    },
    {
     "name": "stdout",
     "output_type": "stream",
     "text": [
      "current acc 0.964 and loss 0.512099239975214\n"
     ]
    },
    {
     "name": "stderr",
     "output_type": "stream",
     "text": [
      "/home/transmedia-eg/test_env/lib/python3.6/site-packages/ipykernel_launcher.py:14: UserWarning: Implicit dimension choice for softmax has been deprecated. Change the call to include dim=X as an argument.\n",
      "  \n"
     ]
    },
    {
     "name": "stdout",
     "output_type": "stream",
     "text": [
      "done epoch 9 : test_acc 0.972\n",
      "Done! Saved model with validation accuracy 0.964 and loss 0.512099239975214\n",
      "{0: (0.935, 0.925), 1: (0.84, 0.8433333333333334), 2: (0.98, 0.9266666666666666), 3: (0.96, 0.94), 4: (0.98, 0.9866666666666667), 7: (0.964, 0.972)}\n"
     ]
    },
    {
     "name": "stderr",
     "output_type": "stream",
     "text": [
      "\r",
      "  0%|          | 0/57 [00:00<?, ?batch/s]"
     ]
    },
    {
     "name": "stdout",
     "output_type": "stream",
     "text": [
      "Coarse label 8 Epoch 1\n",
      "-------------------------------\n"
     ]
    },
    {
     "name": "stderr",
     "output_type": "stream",
     "text": [
      "/home/transmedia-eg/test_env/lib/python3.6/site-packages/ipykernel_launcher.py:14: UserWarning: Implicit dimension choice for softmax has been deprecated. Change the call to include dim=X as an argument.\n",
      "  \n",
      "100%|██████████| 57/57 [01:19<00:00,  1.39s/batch, loss=1.44] \n"
     ]
    },
    {
     "name": "stdout",
     "output_type": "stream",
     "text": [
      "current acc 0.8625 and loss 1.4372392483055592\n"
     ]
    },
    {
     "name": "stderr",
     "output_type": "stream",
     "text": [
      "/home/transmedia-eg/test_env/lib/python3.6/site-packages/ipykernel_launcher.py:14: UserWarning: Implicit dimension choice for softmax has been deprecated. Change the call to include dim=X as an argument.\n",
      "  \n",
      "  0%|          | 0/57 [00:00<?, ?batch/s]"
     ]
    },
    {
     "name": "stdout",
     "output_type": "stream",
     "text": [
      "done epoch 0 : test_acc 0.85\n",
      "Coarse label 8 Epoch 2\n",
      "-------------------------------\n"
     ]
    },
    {
     "name": "stderr",
     "output_type": "stream",
     "text": [
      "/home/transmedia-eg/test_env/lib/python3.6/site-packages/ipykernel_launcher.py:14: UserWarning: Implicit dimension choice for softmax has been deprecated. Change the call to include dim=X as an argument.\n",
      "  \n",
      "100%|██████████| 57/57 [01:19<00:00,  1.40s/batch, loss=1.23] \n"
     ]
    },
    {
     "name": "stdout",
     "output_type": "stream",
     "text": [
      "current acc 0.885 and loss 1.2260925322771072\n"
     ]
    },
    {
     "name": "stderr",
     "output_type": "stream",
     "text": [
      "/home/transmedia-eg/test_env/lib/python3.6/site-packages/ipykernel_launcher.py:14: UserWarning: Implicit dimension choice for softmax has been deprecated. Change the call to include dim=X as an argument.\n",
      "  \n",
      "  0%|          | 0/57 [00:00<?, ?batch/s]"
     ]
    },
    {
     "name": "stdout",
     "output_type": "stream",
     "text": [
      "done epoch 1 : test_acc 0.8675\n",
      "Coarse label 8 Epoch 3\n",
      "-------------------------------\n"
     ]
    },
    {
     "name": "stderr",
     "output_type": "stream",
     "text": [
      "/home/transmedia-eg/test_env/lib/python3.6/site-packages/ipykernel_launcher.py:14: UserWarning: Implicit dimension choice for softmax has been deprecated. Change the call to include dim=X as an argument.\n",
      "  \n",
      "100%|██████████| 57/57 [01:21<00:00,  1.42s/batch, loss=1.2]  \n"
     ]
    },
    {
     "name": "stdout",
     "output_type": "stream",
     "text": [
      "current acc 0.8775 and loss 1.1984704546630383\n"
     ]
    },
    {
     "name": "stderr",
     "output_type": "stream",
     "text": [
      "/home/transmedia-eg/test_env/lib/python3.6/site-packages/ipykernel_launcher.py:14: UserWarning: Implicit dimension choice for softmax has been deprecated. Change the call to include dim=X as an argument.\n",
      "  \n",
      "  0%|          | 0/57 [00:00<?, ?batch/s]"
     ]
    },
    {
     "name": "stdout",
     "output_type": "stream",
     "text": [
      "done epoch 2 : test_acc 0.86375\n",
      "Coarse label 8 Epoch 4\n",
      "-------------------------------\n"
     ]
    },
    {
     "name": "stderr",
     "output_type": "stream",
     "text": [
      "/home/transmedia-eg/test_env/lib/python3.6/site-packages/ipykernel_launcher.py:14: UserWarning: Implicit dimension choice for softmax has been deprecated. Change the call to include dim=X as an argument.\n",
      "  \n",
      "100%|██████████| 57/57 [01:19<00:00,  1.40s/batch, loss=1.18] \n"
     ]
    },
    {
     "name": "stdout",
     "output_type": "stream",
     "text": [
      "current acc 0.895 and loss 1.1770543083548546\n"
     ]
    },
    {
     "name": "stderr",
     "output_type": "stream",
     "text": [
      "/home/transmedia-eg/test_env/lib/python3.6/site-packages/ipykernel_launcher.py:14: UserWarning: Implicit dimension choice for softmax has been deprecated. Change the call to include dim=X as an argument.\n",
      "  \n",
      "  0%|          | 0/57 [00:00<?, ?batch/s]"
     ]
    },
    {
     "name": "stdout",
     "output_type": "stream",
     "text": [
      "done epoch 3 : test_acc 0.87875\n",
      "Coarse label 8 Epoch 5\n",
      "-------------------------------\n"
     ]
    },
    {
     "name": "stderr",
     "output_type": "stream",
     "text": [
      "/home/transmedia-eg/test_env/lib/python3.6/site-packages/ipykernel_launcher.py:14: UserWarning: Implicit dimension choice for softmax has been deprecated. Change the call to include dim=X as an argument.\n",
      "  \n",
      "100%|██████████| 57/57 [01:18<00:00,  1.38s/batch, loss=1.17] \n"
     ]
    },
    {
     "name": "stdout",
     "output_type": "stream",
     "text": [
      "current acc 0.8825 and loss 1.1707873661071062\n"
     ]
    },
    {
     "name": "stderr",
     "output_type": "stream",
     "text": [
      "/home/transmedia-eg/test_env/lib/python3.6/site-packages/ipykernel_launcher.py:14: UserWarning: Implicit dimension choice for softmax has been deprecated. Change the call to include dim=X as an argument.\n",
      "  \n",
      "  0%|          | 0/57 [00:00<?, ?batch/s]"
     ]
    },
    {
     "name": "stdout",
     "output_type": "stream",
     "text": [
      "done epoch 4 : test_acc 0.88375\n",
      "Coarse label 8 Epoch 6\n",
      "-------------------------------\n"
     ]
    },
    {
     "name": "stderr",
     "output_type": "stream",
     "text": [
      "/home/transmedia-eg/test_env/lib/python3.6/site-packages/ipykernel_launcher.py:14: UserWarning: Implicit dimension choice for softmax has been deprecated. Change the call to include dim=X as an argument.\n",
      "  \n",
      "100%|██████████| 57/57 [01:20<00:00,  1.41s/batch, loss=1.16] \n"
     ]
    },
    {
     "name": "stdout",
     "output_type": "stream",
     "text": [
      "current acc 0.8875 and loss 1.1644029561430216\n"
     ]
    },
    {
     "name": "stderr",
     "output_type": "stream",
     "text": [
      "/home/transmedia-eg/test_env/lib/python3.6/site-packages/ipykernel_launcher.py:14: UserWarning: Implicit dimension choice for softmax has been deprecated. Change the call to include dim=X as an argument.\n",
      "  \n",
      "  0%|          | 0/57 [00:00<?, ?batch/s]"
     ]
    },
    {
     "name": "stdout",
     "output_type": "stream",
     "text": [
      "done epoch 5 : test_acc 0.8625\n",
      "Coarse label 8 Epoch 7\n",
      "-------------------------------\n"
     ]
    },
    {
     "name": "stderr",
     "output_type": "stream",
     "text": [
      "/home/transmedia-eg/test_env/lib/python3.6/site-packages/ipykernel_launcher.py:14: UserWarning: Implicit dimension choice for softmax has been deprecated. Change the call to include dim=X as an argument.\n",
      "  \n",
      "100%|██████████| 57/57 [01:20<00:00,  1.41s/batch, loss=1.16] \n"
     ]
    },
    {
     "name": "stdout",
     "output_type": "stream",
     "text": [
      "current acc 0.9025 and loss 1.1605372913181782\n"
     ]
    },
    {
     "name": "stderr",
     "output_type": "stream",
     "text": [
      "/home/transmedia-eg/test_env/lib/python3.6/site-packages/ipykernel_launcher.py:14: UserWarning: Implicit dimension choice for softmax has been deprecated. Change the call to include dim=X as an argument.\n",
      "  \n",
      "  0%|          | 0/57 [00:00<?, ?batch/s]"
     ]
    },
    {
     "name": "stdout",
     "output_type": "stream",
     "text": [
      "done epoch 6 : test_acc 0.885\n",
      "Coarse label 8 Epoch 8\n",
      "-------------------------------\n"
     ]
    },
    {
     "name": "stderr",
     "output_type": "stream",
     "text": [
      "/home/transmedia-eg/test_env/lib/python3.6/site-packages/ipykernel_launcher.py:14: UserWarning: Implicit dimension choice for softmax has been deprecated. Change the call to include dim=X as an argument.\n",
      "  \n",
      "100%|██████████| 57/57 [01:19<00:00,  1.39s/batch, loss=1.16] \n"
     ]
    },
    {
     "name": "stdout",
     "output_type": "stream",
     "text": [
      "current acc 0.8925 and loss 1.1581674925982952\n"
     ]
    },
    {
     "name": "stderr",
     "output_type": "stream",
     "text": [
      "/home/transmedia-eg/test_env/lib/python3.6/site-packages/ipykernel_launcher.py:14: UserWarning: Implicit dimension choice for softmax has been deprecated. Change the call to include dim=X as an argument.\n",
      "  \n",
      "  0%|          | 0/57 [00:00<?, ?batch/s]"
     ]
    },
    {
     "name": "stdout",
     "output_type": "stream",
     "text": [
      "done epoch 7 : test_acc 0.8775\n",
      "Coarse label 8 Epoch 9\n",
      "-------------------------------\n"
     ]
    },
    {
     "name": "stderr",
     "output_type": "stream",
     "text": [
      "/home/transmedia-eg/test_env/lib/python3.6/site-packages/ipykernel_launcher.py:14: UserWarning: Implicit dimension choice for softmax has been deprecated. Change the call to include dim=X as an argument.\n",
      "  \n",
      "100%|██████████| 57/57 [01:19<00:00,  1.39s/batch, loss=1.16] \n"
     ]
    },
    {
     "name": "stdout",
     "output_type": "stream",
     "text": [
      "current acc 0.87 and loss 1.156826175749302\n"
     ]
    },
    {
     "name": "stderr",
     "output_type": "stream",
     "text": [
      "/home/transmedia-eg/test_env/lib/python3.6/site-packages/ipykernel_launcher.py:14: UserWarning: Implicit dimension choice for softmax has been deprecated. Change the call to include dim=X as an argument.\n",
      "  \n",
      "  0%|          | 0/57 [00:00<?, ?batch/s]"
     ]
    },
    {
     "name": "stdout",
     "output_type": "stream",
     "text": [
      "done epoch 8 : test_acc 0.865\n",
      "Coarse label 8 Epoch 10\n",
      "-------------------------------\n"
     ]
    },
    {
     "name": "stderr",
     "output_type": "stream",
     "text": [
      "/home/transmedia-eg/test_env/lib/python3.6/site-packages/ipykernel_launcher.py:14: UserWarning: Implicit dimension choice for softmax has been deprecated. Change the call to include dim=X as an argument.\n",
      "  \n",
      "100%|██████████| 57/57 [01:20<00:00,  1.41s/batch, loss=1.15] \n"
     ]
    },
    {
     "name": "stdout",
     "output_type": "stream",
     "text": [
      "current acc 0.8775 and loss 1.1546564921736717\n"
     ]
    },
    {
     "name": "stderr",
     "output_type": "stream",
     "text": [
      "/home/transmedia-eg/test_env/lib/python3.6/site-packages/ipykernel_launcher.py:14: UserWarning: Implicit dimension choice for softmax has been deprecated. Change the call to include dim=X as an argument.\n",
      "  \n"
     ]
    },
    {
     "name": "stdout",
     "output_type": "stream",
     "text": [
      "done epoch 9 : test_acc 0.8675\n",
      "Done! Saved model with validation accuracy 0.8775 and loss 1.1546564921736717\n",
      "{0: (0.935, 0.925), 1: (0.84, 0.8433333333333334), 2: (0.98, 0.9266666666666666), 3: (0.96, 0.94), 4: (0.98, 0.9866666666666667), 7: (0.964, 0.972), 8: (0.8775, 0.8675)}\n"
     ]
    },
    {
     "name": "stderr",
     "output_type": "stream",
     "text": [
      "\r",
      "  0%|          | 0/71 [00:00<?, ?batch/s]"
     ]
    },
    {
     "name": "stdout",
     "output_type": "stream",
     "text": [
      "Coarse label 9 Epoch 1\n",
      "-------------------------------\n"
     ]
    },
    {
     "name": "stderr",
     "output_type": "stream",
     "text": [
      "/home/transmedia-eg/test_env/lib/python3.6/site-packages/ipykernel_launcher.py:14: UserWarning: Implicit dimension choice for softmax has been deprecated. Change the call to include dim=X as an argument.\n",
      "  \n",
      "100%|██████████| 71/71 [01:39<00:00,  1.40s/batch, loss=1.92] \n"
     ]
    },
    {
     "name": "stdout",
     "output_type": "stream",
     "text": [
      "current acc 0.88 and loss 1.9176141787320375\n"
     ]
    },
    {
     "name": "stderr",
     "output_type": "stream",
     "text": [
      "/home/transmedia-eg/test_env/lib/python3.6/site-packages/ipykernel_launcher.py:14: UserWarning: Implicit dimension choice for softmax has been deprecated. Change the call to include dim=X as an argument.\n",
      "  \n",
      "  0%|          | 0/71 [00:00<?, ?batch/s]"
     ]
    },
    {
     "name": "stdout",
     "output_type": "stream",
     "text": [
      "done epoch 0 : test_acc 0.881\n",
      "Coarse label 9 Epoch 2\n",
      "-------------------------------\n"
     ]
    },
    {
     "name": "stderr",
     "output_type": "stream",
     "text": [
      "/home/transmedia-eg/test_env/lib/python3.6/site-packages/ipykernel_launcher.py:14: UserWarning: Implicit dimension choice for softmax has been deprecated. Change the call to include dim=X as an argument.\n",
      "  \n",
      "100%|██████████| 71/71 [01:39<00:00,  1.40s/batch, loss=1.73] \n"
     ]
    },
    {
     "name": "stdout",
     "output_type": "stream",
     "text": [
      "current acc 0.894 and loss 1.7276596575975418\n"
     ]
    },
    {
     "name": "stderr",
     "output_type": "stream",
     "text": [
      "/home/transmedia-eg/test_env/lib/python3.6/site-packages/ipykernel_launcher.py:14: UserWarning: Implicit dimension choice for softmax has been deprecated. Change the call to include dim=X as an argument.\n",
      "  \n",
      "  0%|          | 0/71 [00:00<?, ?batch/s]"
     ]
    },
    {
     "name": "stdout",
     "output_type": "stream",
     "text": [
      "done epoch 1 : test_acc 0.88\n",
      "Coarse label 9 Epoch 3\n",
      "-------------------------------\n"
     ]
    },
    {
     "name": "stderr",
     "output_type": "stream",
     "text": [
      "/home/transmedia-eg/test_env/lib/python3.6/site-packages/ipykernel_launcher.py:14: UserWarning: Implicit dimension choice for softmax has been deprecated. Change the call to include dim=X as an argument.\n",
      "  \n",
      "100%|██████████| 71/71 [01:39<00:00,  1.40s/batch, loss=1.7]  \n"
     ]
    },
    {
     "name": "stdout",
     "output_type": "stream",
     "text": [
      "current acc 0.896 and loss 1.69821373000741\n"
     ]
    },
    {
     "name": "stderr",
     "output_type": "stream",
     "text": [
      "/home/transmedia-eg/test_env/lib/python3.6/site-packages/ipykernel_launcher.py:14: UserWarning: Implicit dimension choice for softmax has been deprecated. Change the call to include dim=X as an argument.\n",
      "  \n",
      "  0%|          | 0/71 [00:00<?, ?batch/s]"
     ]
    },
    {
     "name": "stdout",
     "output_type": "stream",
     "text": [
      "done epoch 2 : test_acc 0.893\n",
      "Coarse label 9 Epoch 4\n",
      "-------------------------------\n"
     ]
    },
    {
     "name": "stderr",
     "output_type": "stream",
     "text": [
      "/home/transmedia-eg/test_env/lib/python3.6/site-packages/ipykernel_launcher.py:14: UserWarning: Implicit dimension choice for softmax has been deprecated. Change the call to include dim=X as an argument.\n",
      "  \n",
      "100%|██████████| 71/71 [01:38<00:00,  1.39s/batch, loss=1.68] \n"
     ]
    },
    {
     "name": "stdout",
     "output_type": "stream",
     "text": [
      "current acc 0.882 and loss 1.6824914701282978\n"
     ]
    },
    {
     "name": "stderr",
     "output_type": "stream",
     "text": [
      "/home/transmedia-eg/test_env/lib/python3.6/site-packages/ipykernel_launcher.py:14: UserWarning: Implicit dimension choice for softmax has been deprecated. Change the call to include dim=X as an argument.\n",
      "  \n",
      "  0%|          | 0/71 [00:00<?, ?batch/s]"
     ]
    },
    {
     "name": "stdout",
     "output_type": "stream",
     "text": [
      "done epoch 3 : test_acc 0.87\n",
      "Coarse label 9 Epoch 5\n",
      "-------------------------------\n"
     ]
    },
    {
     "name": "stderr",
     "output_type": "stream",
     "text": [
      "/home/transmedia-eg/test_env/lib/python3.6/site-packages/ipykernel_launcher.py:14: UserWarning: Implicit dimension choice for softmax has been deprecated. Change the call to include dim=X as an argument.\n",
      "  \n",
      "100%|██████████| 71/71 [01:39<00:00,  1.40s/batch, loss=1.67] \n"
     ]
    },
    {
     "name": "stdout",
     "output_type": "stream",
     "text": [
      "current acc 0.904 and loss 1.665695320814848\n"
     ]
    },
    {
     "name": "stderr",
     "output_type": "stream",
     "text": [
      "/home/transmedia-eg/test_env/lib/python3.6/site-packages/ipykernel_launcher.py:14: UserWarning: Implicit dimension choice for softmax has been deprecated. Change the call to include dim=X as an argument.\n",
      "  \n",
      "  0%|          | 0/71 [00:00<?, ?batch/s]"
     ]
    },
    {
     "name": "stdout",
     "output_type": "stream",
     "text": [
      "done epoch 4 : test_acc 0.9\n",
      "Coarse label 9 Epoch 6\n",
      "-------------------------------\n"
     ]
    },
    {
     "name": "stderr",
     "output_type": "stream",
     "text": [
      "/home/transmedia-eg/test_env/lib/python3.6/site-packages/ipykernel_launcher.py:14: UserWarning: Implicit dimension choice for softmax has been deprecated. Change the call to include dim=X as an argument.\n",
      "  \n",
      "100%|██████████| 71/71 [01:39<00:00,  1.40s/batch, loss=1.66] \n"
     ]
    },
    {
     "name": "stdout",
     "output_type": "stream",
     "text": [
      "current acc 0.924 and loss 1.6608456373214722\n"
     ]
    },
    {
     "name": "stderr",
     "output_type": "stream",
     "text": [
      "/home/transmedia-eg/test_env/lib/python3.6/site-packages/ipykernel_launcher.py:14: UserWarning: Implicit dimension choice for softmax has been deprecated. Change the call to include dim=X as an argument.\n",
      "  \n",
      "  0%|          | 0/71 [00:00<?, ?batch/s]"
     ]
    },
    {
     "name": "stdout",
     "output_type": "stream",
     "text": [
      "done epoch 5 : test_acc 0.891\n",
      "Coarse label 9 Epoch 7\n",
      "-------------------------------\n"
     ]
    },
    {
     "name": "stderr",
     "output_type": "stream",
     "text": [
      "/home/transmedia-eg/test_env/lib/python3.6/site-packages/ipykernel_launcher.py:14: UserWarning: Implicit dimension choice for softmax has been deprecated. Change the call to include dim=X as an argument.\n",
      "  \n",
      "100%|██████████| 71/71 [01:39<00:00,  1.39s/batch, loss=1.66] \n"
     ]
    },
    {
     "name": "stdout",
     "output_type": "stream",
     "text": [
      "current acc 0.902 and loss 1.6562290992587805\n"
     ]
    },
    {
     "name": "stderr",
     "output_type": "stream",
     "text": [
      "/home/transmedia-eg/test_env/lib/python3.6/site-packages/ipykernel_launcher.py:14: UserWarning: Implicit dimension choice for softmax has been deprecated. Change the call to include dim=X as an argument.\n",
      "  \n",
      "  0%|          | 0/71 [00:00<?, ?batch/s]"
     ]
    },
    {
     "name": "stdout",
     "output_type": "stream",
     "text": [
      "done epoch 6 : test_acc 0.907\n",
      "Coarse label 9 Epoch 8\n",
      "-------------------------------\n"
     ]
    },
    {
     "name": "stderr",
     "output_type": "stream",
     "text": [
      "/home/transmedia-eg/test_env/lib/python3.6/site-packages/ipykernel_launcher.py:14: UserWarning: Implicit dimension choice for softmax has been deprecated. Change the call to include dim=X as an argument.\n",
      "  \n",
      "100%|██████████| 71/71 [01:38<00:00,  1.39s/batch, loss=1.66] \n"
     ]
    },
    {
     "name": "stdout",
     "output_type": "stream",
     "text": [
      "current acc 0.932 and loss 1.6551574356853962\n"
     ]
    },
    {
     "name": "stderr",
     "output_type": "stream",
     "text": [
      "/home/transmedia-eg/test_env/lib/python3.6/site-packages/ipykernel_launcher.py:14: UserWarning: Implicit dimension choice for softmax has been deprecated. Change the call to include dim=X as an argument.\n",
      "  \n",
      "  0%|          | 0/71 [00:00<?, ?batch/s]"
     ]
    },
    {
     "name": "stdout",
     "output_type": "stream",
     "text": [
      "done epoch 7 : test_acc 0.894\n",
      "Coarse label 9 Epoch 9\n",
      "-------------------------------\n"
     ]
    },
    {
     "name": "stderr",
     "output_type": "stream",
     "text": [
      "/home/transmedia-eg/test_env/lib/python3.6/site-packages/ipykernel_launcher.py:14: UserWarning: Implicit dimension choice for softmax has been deprecated. Change the call to include dim=X as an argument.\n",
      "  \n",
      "100%|██████████| 71/71 [01:39<00:00,  1.40s/batch, loss=1.66] \n"
     ]
    },
    {
     "name": "stdout",
     "output_type": "stream",
     "text": [
      "current acc 0.9 and loss 1.6573528815060854\n"
     ]
    },
    {
     "name": "stderr",
     "output_type": "stream",
     "text": [
      "/home/transmedia-eg/test_env/lib/python3.6/site-packages/ipykernel_launcher.py:14: UserWarning: Implicit dimension choice for softmax has been deprecated. Change the call to include dim=X as an argument.\n",
      "  \n",
      "  0%|          | 0/71 [00:00<?, ?batch/s]"
     ]
    },
    {
     "name": "stdout",
     "output_type": "stream",
     "text": [
      "done epoch 8 : test_acc 0.889\n",
      "Coarse label 9 Epoch 10\n",
      "-------------------------------\n"
     ]
    },
    {
     "name": "stderr",
     "output_type": "stream",
     "text": [
      "/home/transmedia-eg/test_env/lib/python3.6/site-packages/ipykernel_launcher.py:14: UserWarning: Implicit dimension choice for softmax has been deprecated. Change the call to include dim=X as an argument.\n",
      "  \n",
      "100%|██████████| 71/71 [01:40<00:00,  1.42s/batch, loss=1.66] \n"
     ]
    },
    {
     "name": "stdout",
     "output_type": "stream",
     "text": [
      "current acc 0.886 and loss 1.6558457389473915\n"
     ]
    },
    {
     "name": "stderr",
     "output_type": "stream",
     "text": [
      "/home/transmedia-eg/test_env/lib/python3.6/site-packages/ipykernel_launcher.py:14: UserWarning: Implicit dimension choice for softmax has been deprecated. Change the call to include dim=X as an argument.\n",
      "  \n"
     ]
    },
    {
     "name": "stdout",
     "output_type": "stream",
     "text": [
      "done epoch 9 : test_acc 0.864\n",
      "Done! Saved model with validation accuracy 0.932 and loss 1.6551574356853962\n",
      "{0: (0.935, 0.925), 1: (0.84, 0.8433333333333334), 2: (0.98, 0.9266666666666666), 3: (0.96, 0.94), 4: (0.98, 0.9866666666666667), 7: (0.964, 0.972), 8: (0.8775, 0.8675), 9: (0.932, 0.864)}\n"
     ]
    },
    {
     "name": "stderr",
     "output_type": "stream",
     "text": [
      "\r",
      "  0%|          | 0/15 [00:00<?, ?batch/s]"
     ]
    },
    {
     "name": "stdout",
     "output_type": "stream",
     "text": [
      "Coarse label 10 Epoch 1\n",
      "-------------------------------\n"
     ]
    },
    {
     "name": "stderr",
     "output_type": "stream",
     "text": [
      "/home/transmedia-eg/test_env/lib/python3.6/site-packages/ipykernel_launcher.py:14: UserWarning: Implicit dimension choice for softmax has been deprecated. Change the call to include dim=X as an argument.\n",
      "  \n",
      "100%|██████████| 15/15 [00:20<00:00,  1.39s/batch, loss=0.109] \n"
     ]
    },
    {
     "name": "stdout",
     "output_type": "stream",
     "text": [
      "current acc 0.97 and loss 0.10890924884006381\n"
     ]
    },
    {
     "name": "stderr",
     "output_type": "stream",
     "text": [
      "/home/transmedia-eg/test_env/lib/python3.6/site-packages/ipykernel_launcher.py:14: UserWarning: Implicit dimension choice for softmax has been deprecated. Change the call to include dim=X as an argument.\n",
      "  \n",
      "  0%|          | 0/15 [00:00<?, ?batch/s]"
     ]
    },
    {
     "name": "stdout",
     "output_type": "stream",
     "text": [
      "done epoch 0 : test_acc 0.975\n",
      "Coarse label 10 Epoch 2\n",
      "-------------------------------\n"
     ]
    },
    {
     "name": "stderr",
     "output_type": "stream",
     "text": [
      "/home/transmedia-eg/test_env/lib/python3.6/site-packages/ipykernel_launcher.py:14: UserWarning: Implicit dimension choice for softmax has been deprecated. Change the call to include dim=X as an argument.\n",
      "  \n",
      "100%|██████████| 15/15 [00:21<00:00,  1.44s/batch, loss=0.0762]\n"
     ]
    },
    {
     "name": "stdout",
     "output_type": "stream",
     "text": [
      "current acc 0.98 and loss 0.07621064176782966\n"
     ]
    },
    {
     "name": "stderr",
     "output_type": "stream",
     "text": [
      "/home/transmedia-eg/test_env/lib/python3.6/site-packages/ipykernel_launcher.py:14: UserWarning: Implicit dimension choice for softmax has been deprecated. Change the call to include dim=X as an argument.\n",
      "  \n",
      "  0%|          | 0/15 [00:00<?, ?batch/s]"
     ]
    },
    {
     "name": "stdout",
     "output_type": "stream",
     "text": [
      "done epoch 1 : test_acc 0.975\n",
      "Coarse label 10 Epoch 3\n",
      "-------------------------------\n"
     ]
    },
    {
     "name": "stderr",
     "output_type": "stream",
     "text": [
      "/home/transmedia-eg/test_env/lib/python3.6/site-packages/ipykernel_launcher.py:14: UserWarning: Implicit dimension choice for softmax has been deprecated. Change the call to include dim=X as an argument.\n",
      "  \n",
      "100%|██████████| 15/15 [00:21<00:00,  1.40s/batch, loss=0.0794]\n"
     ]
    },
    {
     "name": "stdout",
     "output_type": "stream",
     "text": [
      "current acc 0.96 and loss 0.07936061266809702\n"
     ]
    },
    {
     "name": "stderr",
     "output_type": "stream",
     "text": [
      "/home/transmedia-eg/test_env/lib/python3.6/site-packages/ipykernel_launcher.py:14: UserWarning: Implicit dimension choice for softmax has been deprecated. Change the call to include dim=X as an argument.\n",
      "  \n",
      "  0%|          | 0/15 [00:00<?, ?batch/s]"
     ]
    },
    {
     "name": "stdout",
     "output_type": "stream",
     "text": [
      "done epoch 2 : test_acc 0.97\n",
      "Coarse label 10 Epoch 4\n",
      "-------------------------------\n"
     ]
    },
    {
     "name": "stderr",
     "output_type": "stream",
     "text": [
      "/home/transmedia-eg/test_env/lib/python3.6/site-packages/ipykernel_launcher.py:14: UserWarning: Implicit dimension choice for softmax has been deprecated. Change the call to include dim=X as an argument.\n",
      "  \n",
      "100%|██████████| 15/15 [00:20<00:00,  1.38s/batch, loss=0.0786]\n"
     ]
    },
    {
     "name": "stdout",
     "output_type": "stream",
     "text": [
      "current acc 0.97 and loss 0.07863202039152384\n"
     ]
    },
    {
     "name": "stderr",
     "output_type": "stream",
     "text": [
      "/home/transmedia-eg/test_env/lib/python3.6/site-packages/ipykernel_launcher.py:14: UserWarning: Implicit dimension choice for softmax has been deprecated. Change the call to include dim=X as an argument.\n",
      "  \n",
      "  0%|          | 0/15 [00:00<?, ?batch/s]"
     ]
    },
    {
     "name": "stdout",
     "output_type": "stream",
     "text": [
      "done epoch 3 : test_acc 0.98\n",
      "Coarse label 10 Epoch 5\n",
      "-------------------------------\n"
     ]
    },
    {
     "name": "stderr",
     "output_type": "stream",
     "text": [
      "/home/transmedia-eg/test_env/lib/python3.6/site-packages/ipykernel_launcher.py:14: UserWarning: Implicit dimension choice for softmax has been deprecated. Change the call to include dim=X as an argument.\n",
      "  \n",
      "100%|██████████| 15/15 [00:20<00:00,  1.39s/batch, loss=0.0781]\n"
     ]
    },
    {
     "name": "stdout",
     "output_type": "stream",
     "text": [
      "current acc 0.98 and loss 0.0780662507750094\n"
     ]
    },
    {
     "name": "stderr",
     "output_type": "stream",
     "text": [
      "/home/transmedia-eg/test_env/lib/python3.6/site-packages/ipykernel_launcher.py:14: UserWarning: Implicit dimension choice for softmax has been deprecated. Change the call to include dim=X as an argument.\n",
      "  \n",
      "  0%|          | 0/15 [00:00<?, ?batch/s]"
     ]
    },
    {
     "name": "stdout",
     "output_type": "stream",
     "text": [
      "done epoch 4 : test_acc 0.97\n",
      "Coarse label 10 Epoch 6\n",
      "-------------------------------\n"
     ]
    },
    {
     "name": "stderr",
     "output_type": "stream",
     "text": [
      "/home/transmedia-eg/test_env/lib/python3.6/site-packages/ipykernel_launcher.py:14: UserWarning: Implicit dimension choice for softmax has been deprecated. Change the call to include dim=X as an argument.\n",
      "  \n",
      "100%|██████████| 15/15 [00:20<00:00,  1.40s/batch, loss=0.0778]\n"
     ]
    },
    {
     "name": "stdout",
     "output_type": "stream",
     "text": [
      "current acc 0.94 and loss 0.07784524792805314\n"
     ]
    },
    {
     "name": "stderr",
     "output_type": "stream",
     "text": [
      "/home/transmedia-eg/test_env/lib/python3.6/site-packages/ipykernel_launcher.py:14: UserWarning: Implicit dimension choice for softmax has been deprecated. Change the call to include dim=X as an argument.\n",
      "  \n",
      "  0%|          | 0/15 [00:00<?, ?batch/s]"
     ]
    },
    {
     "name": "stdout",
     "output_type": "stream",
     "text": [
      "done epoch 5 : test_acc 0.935\n",
      "Coarse label 10 Epoch 7\n",
      "-------------------------------\n"
     ]
    },
    {
     "name": "stderr",
     "output_type": "stream",
     "text": [
      "/home/transmedia-eg/test_env/lib/python3.6/site-packages/ipykernel_launcher.py:14: UserWarning: Implicit dimension choice for softmax has been deprecated. Change the call to include dim=X as an argument.\n",
      "  \n",
      "100%|██████████| 15/15 [00:21<00:00,  1.41s/batch, loss=0.0862]\n"
     ]
    },
    {
     "name": "stdout",
     "output_type": "stream",
     "text": [
      "current acc 0.95 and loss 0.08624239079654217\n"
     ]
    },
    {
     "name": "stderr",
     "output_type": "stream",
     "text": [
      "/home/transmedia-eg/test_env/lib/python3.6/site-packages/ipykernel_launcher.py:14: UserWarning: Implicit dimension choice for softmax has been deprecated. Change the call to include dim=X as an argument.\n",
      "  \n",
      "  0%|          | 0/15 [00:00<?, ?batch/s]"
     ]
    },
    {
     "name": "stdout",
     "output_type": "stream",
     "text": [
      "done epoch 6 : test_acc 0.95\n",
      "Coarse label 10 Epoch 8\n",
      "-------------------------------\n"
     ]
    },
    {
     "name": "stderr",
     "output_type": "stream",
     "text": [
      "/home/transmedia-eg/test_env/lib/python3.6/site-packages/ipykernel_launcher.py:14: UserWarning: Implicit dimension choice for softmax has been deprecated. Change the call to include dim=X as an argument.\n",
      "  \n",
      "100%|██████████| 15/15 [00:20<00:00,  1.39s/batch, loss=0.0767]\n"
     ]
    },
    {
     "name": "stdout",
     "output_type": "stream",
     "text": [
      "current acc 0.94 and loss 0.0766824777238071\n"
     ]
    },
    {
     "name": "stderr",
     "output_type": "stream",
     "text": [
      "/home/transmedia-eg/test_env/lib/python3.6/site-packages/ipykernel_launcher.py:14: UserWarning: Implicit dimension choice for softmax has been deprecated. Change the call to include dim=X as an argument.\n",
      "  \n",
      "  0%|          | 0/15 [00:00<?, ?batch/s]"
     ]
    },
    {
     "name": "stdout",
     "output_type": "stream",
     "text": [
      "done epoch 7 : test_acc 0.96\n",
      "Coarse label 10 Epoch 9\n",
      "-------------------------------\n"
     ]
    },
    {
     "name": "stderr",
     "output_type": "stream",
     "text": [
      "/home/transmedia-eg/test_env/lib/python3.6/site-packages/ipykernel_launcher.py:14: UserWarning: Implicit dimension choice for softmax has been deprecated. Change the call to include dim=X as an argument.\n",
      "  \n",
      "100%|██████████| 15/15 [00:20<00:00,  1.40s/batch, loss=0.0757]\n"
     ]
    },
    {
     "name": "stdout",
     "output_type": "stream",
     "text": [
      "current acc 0.94 and loss 0.07567475596442819\n"
     ]
    },
    {
     "name": "stderr",
     "output_type": "stream",
     "text": [
      "/home/transmedia-eg/test_env/lib/python3.6/site-packages/ipykernel_launcher.py:14: UserWarning: Implicit dimension choice for softmax has been deprecated. Change the call to include dim=X as an argument.\n",
      "  \n",
      "  0%|          | 0/15 [00:00<?, ?batch/s]"
     ]
    },
    {
     "name": "stdout",
     "output_type": "stream",
     "text": [
      "done epoch 8 : test_acc 0.97\n",
      "Coarse label 10 Epoch 10\n",
      "-------------------------------\n"
     ]
    },
    {
     "name": "stderr",
     "output_type": "stream",
     "text": [
      "/home/transmedia-eg/test_env/lib/python3.6/site-packages/ipykernel_launcher.py:14: UserWarning: Implicit dimension choice for softmax has been deprecated. Change the call to include dim=X as an argument.\n",
      "  \n",
      "100%|██████████| 15/15 [00:20<00:00,  1.39s/batch, loss=0.0752]\n"
     ]
    },
    {
     "name": "stdout",
     "output_type": "stream",
     "text": [
      "current acc 0.96 and loss 0.0751698175445199\n"
     ]
    },
    {
     "name": "stderr",
     "output_type": "stream",
     "text": [
      "/home/transmedia-eg/test_env/lib/python3.6/site-packages/ipykernel_launcher.py:14: UserWarning: Implicit dimension choice for softmax has been deprecated. Change the call to include dim=X as an argument.\n",
      "  \n"
     ]
    },
    {
     "name": "stdout",
     "output_type": "stream",
     "text": [
      "done epoch 9 : test_acc 0.975\n",
      "Done! Saved model with validation accuracy 0.96 and loss 0.0751698175445199\n",
      "{0: (0.935, 0.925), 1: (0.84, 0.8433333333333334), 2: (0.98, 0.9266666666666666), 3: (0.96, 0.94), 4: (0.98, 0.9866666666666667), 7: (0.964, 0.972), 8: (0.8775, 0.8675), 9: (0.932, 0.864), 10: (0.96, 0.975)}\n"
     ]
    },
    {
     "name": "stderr",
     "output_type": "stream",
     "text": [
      "\r",
      "  0%|          | 0/64 [00:00<?, ?batch/s]"
     ]
    },
    {
     "name": "stdout",
     "output_type": "stream",
     "text": [
      "Coarse label 11 Epoch 1\n",
      "-------------------------------\n"
     ]
    },
    {
     "name": "stderr",
     "output_type": "stream",
     "text": [
      "/home/transmedia-eg/test_env/lib/python3.6/site-packages/ipykernel_launcher.py:14: UserWarning: Implicit dimension choice for softmax has been deprecated. Change the call to include dim=X as an argument.\n",
      "  \n",
      "100%|██████████| 64/64 [01:30<00:00,  1.41s/batch, loss=1.7]  \n"
     ]
    },
    {
     "name": "stdout",
     "output_type": "stream",
     "text": [
      "current acc 0.8644444444444445 and loss 1.6966324727982283\n"
     ]
    },
    {
     "name": "stderr",
     "output_type": "stream",
     "text": [
      "/home/transmedia-eg/test_env/lib/python3.6/site-packages/ipykernel_launcher.py:14: UserWarning: Implicit dimension choice for softmax has been deprecated. Change the call to include dim=X as an argument.\n",
      "  \n",
      "  0%|          | 0/64 [00:00<?, ?batch/s]"
     ]
    },
    {
     "name": "stdout",
     "output_type": "stream",
     "text": [
      "done epoch 0 : test_acc 0.8633333333333333\n",
      "Coarse label 11 Epoch 2\n",
      "-------------------------------\n"
     ]
    },
    {
     "name": "stderr",
     "output_type": "stream",
     "text": [
      "/home/transmedia-eg/test_env/lib/python3.6/site-packages/ipykernel_launcher.py:14: UserWarning: Implicit dimension choice for softmax has been deprecated. Change the call to include dim=X as an argument.\n",
      "  \n",
      "100%|██████████| 64/64 [01:30<00:00,  1.41s/batch, loss=1.46] \n"
     ]
    },
    {
     "name": "stdout",
     "output_type": "stream",
     "text": [
      "current acc 0.9 and loss 1.4563948288559914\n"
     ]
    },
    {
     "name": "stderr",
     "output_type": "stream",
     "text": [
      "/home/transmedia-eg/test_env/lib/python3.6/site-packages/ipykernel_launcher.py:14: UserWarning: Implicit dimension choice for softmax has been deprecated. Change the call to include dim=X as an argument.\n",
      "  \n",
      "  0%|          | 0/64 [00:00<?, ?batch/s]"
     ]
    },
    {
     "name": "stdout",
     "output_type": "stream",
     "text": [
      "done epoch 1 : test_acc 0.8722222222222222\n",
      "Coarse label 11 Epoch 3\n",
      "-------------------------------\n"
     ]
    },
    {
     "name": "stderr",
     "output_type": "stream",
     "text": [
      "/home/transmedia-eg/test_env/lib/python3.6/site-packages/ipykernel_launcher.py:14: UserWarning: Implicit dimension choice for softmax has been deprecated. Change the call to include dim=X as an argument.\n",
      "  \n",
      "100%|██████████| 64/64 [01:29<00:00,  1.40s/batch, loss=1.43] \n"
     ]
    },
    {
     "name": "stdout",
     "output_type": "stream",
     "text": [
      "current acc 0.8888888888888888 and loss 1.4294198118150234\n"
     ]
    },
    {
     "name": "stderr",
     "output_type": "stream",
     "text": [
      "/home/transmedia-eg/test_env/lib/python3.6/site-packages/ipykernel_launcher.py:14: UserWarning: Implicit dimension choice for softmax has been deprecated. Change the call to include dim=X as an argument.\n",
      "  \n",
      "  0%|          | 0/64 [00:00<?, ?batch/s]"
     ]
    },
    {
     "name": "stdout",
     "output_type": "stream",
     "text": [
      "done epoch 2 : test_acc 0.8677777777777778\n",
      "Coarse label 11 Epoch 4\n",
      "-------------------------------\n"
     ]
    },
    {
     "name": "stderr",
     "output_type": "stream",
     "text": [
      "/home/transmedia-eg/test_env/lib/python3.6/site-packages/ipykernel_launcher.py:14: UserWarning: Implicit dimension choice for softmax has been deprecated. Change the call to include dim=X as an argument.\n",
      "  \n",
      "100%|██████████| 64/64 [01:30<00:00,  1.42s/batch, loss=1.41] \n"
     ]
    },
    {
     "name": "stdout",
     "output_type": "stream",
     "text": [
      "current acc 0.9044444444444445 and loss 1.411735836416483\n"
     ]
    },
    {
     "name": "stderr",
     "output_type": "stream",
     "text": [
      "/home/transmedia-eg/test_env/lib/python3.6/site-packages/ipykernel_launcher.py:14: UserWarning: Implicit dimension choice for softmax has been deprecated. Change the call to include dim=X as an argument.\n",
      "  \n",
      "  0%|          | 0/64 [00:00<?, ?batch/s]"
     ]
    },
    {
     "name": "stdout",
     "output_type": "stream",
     "text": [
      "done epoch 3 : test_acc 0.8766666666666667\n",
      "Coarse label 11 Epoch 5\n",
      "-------------------------------\n"
     ]
    },
    {
     "name": "stderr",
     "output_type": "stream",
     "text": [
      "/home/transmedia-eg/test_env/lib/python3.6/site-packages/ipykernel_launcher.py:14: UserWarning: Implicit dimension choice for softmax has been deprecated. Change the call to include dim=X as an argument.\n",
      "  \n",
      "100%|██████████| 64/64 [01:29<00:00,  1.40s/batch, loss=1.4]  \n"
     ]
    },
    {
     "name": "stdout",
     "output_type": "stream",
     "text": [
      "current acc 0.9111111111111111 and loss 1.3992090858519077\n"
     ]
    },
    {
     "name": "stderr",
     "output_type": "stream",
     "text": [
      "/home/transmedia-eg/test_env/lib/python3.6/site-packages/ipykernel_launcher.py:14: UserWarning: Implicit dimension choice for softmax has been deprecated. Change the call to include dim=X as an argument.\n",
      "  \n",
      "  0%|          | 0/64 [00:00<?, ?batch/s]"
     ]
    },
    {
     "name": "stdout",
     "output_type": "stream",
     "text": [
      "done epoch 4 : test_acc 0.8855555555555555\n",
      "Coarse label 11 Epoch 6\n",
      "-------------------------------\n"
     ]
    },
    {
     "name": "stderr",
     "output_type": "stream",
     "text": [
      "/home/transmedia-eg/test_env/lib/python3.6/site-packages/ipykernel_launcher.py:14: UserWarning: Implicit dimension choice for softmax has been deprecated. Change the call to include dim=X as an argument.\n",
      "  \n",
      "100%|██████████| 64/64 [01:29<00:00,  1.40s/batch, loss=1.39] \n"
     ]
    },
    {
     "name": "stdout",
     "output_type": "stream",
     "text": [
      "current acc 0.9022222222222223 and loss 1.3933852426707745\n"
     ]
    },
    {
     "name": "stderr",
     "output_type": "stream",
     "text": [
      "/home/transmedia-eg/test_env/lib/python3.6/site-packages/ipykernel_launcher.py:14: UserWarning: Implicit dimension choice for softmax has been deprecated. Change the call to include dim=X as an argument.\n",
      "  \n",
      "  0%|          | 0/64 [00:00<?, ?batch/s]"
     ]
    },
    {
     "name": "stdout",
     "output_type": "stream",
     "text": [
      "done epoch 5 : test_acc 0.8811111111111111\n",
      "Coarse label 11 Epoch 7\n",
      "-------------------------------\n"
     ]
    },
    {
     "name": "stderr",
     "output_type": "stream",
     "text": [
      "/home/transmedia-eg/test_env/lib/python3.6/site-packages/ipykernel_launcher.py:14: UserWarning: Implicit dimension choice for softmax has been deprecated. Change the call to include dim=X as an argument.\n",
      "  \n",
      "100%|██████████| 64/64 [01:30<00:00,  1.42s/batch, loss=1.4]  \n"
     ]
    },
    {
     "name": "stdout",
     "output_type": "stream",
     "text": [
      "current acc 0.9022222222222223 and loss 1.3959503173828125\n"
     ]
    },
    {
     "name": "stderr",
     "output_type": "stream",
     "text": [
      "/home/transmedia-eg/test_env/lib/python3.6/site-packages/ipykernel_launcher.py:14: UserWarning: Implicit dimension choice for softmax has been deprecated. Change the call to include dim=X as an argument.\n",
      "  \n",
      "  0%|          | 0/64 [00:00<?, ?batch/s]"
     ]
    },
    {
     "name": "stdout",
     "output_type": "stream",
     "text": [
      "done epoch 6 : test_acc 0.8777777777777778\n",
      "Coarse label 11 Epoch 8\n",
      "-------------------------------\n"
     ]
    },
    {
     "name": "stderr",
     "output_type": "stream",
     "text": [
      "/home/transmedia-eg/test_env/lib/python3.6/site-packages/ipykernel_launcher.py:14: UserWarning: Implicit dimension choice for softmax has been deprecated. Change the call to include dim=X as an argument.\n",
      "  \n",
      "100%|██████████| 64/64 [01:30<00:00,  1.41s/batch, loss=1.4]  \n"
     ]
    },
    {
     "name": "stdout",
     "output_type": "stream",
     "text": [
      "current acc 0.8666666666666667 and loss 1.3965259790420532\n"
     ]
    },
    {
     "name": "stderr",
     "output_type": "stream",
     "text": [
      "/home/transmedia-eg/test_env/lib/python3.6/site-packages/ipykernel_launcher.py:14: UserWarning: Implicit dimension choice for softmax has been deprecated. Change the call to include dim=X as an argument.\n",
      "  \n",
      "  0%|          | 0/64 [00:00<?, ?batch/s]"
     ]
    },
    {
     "name": "stdout",
     "output_type": "stream",
     "text": [
      "done epoch 7 : test_acc 0.8755555555555555\n",
      "Coarse label 11 Epoch 9\n",
      "-------------------------------\n"
     ]
    },
    {
     "name": "stderr",
     "output_type": "stream",
     "text": [
      "/home/transmedia-eg/test_env/lib/python3.6/site-packages/ipykernel_launcher.py:14: UserWarning: Implicit dimension choice for softmax has been deprecated. Change the call to include dim=X as an argument.\n",
      "  \n",
      "100%|██████████| 64/64 [01:29<00:00,  1.40s/batch, loss=1.4]  \n"
     ]
    },
    {
     "name": "stdout",
     "output_type": "stream",
     "text": [
      "current acc 0.9133333333333333 and loss 1.3957154601812363\n"
     ]
    },
    {
     "name": "stderr",
     "output_type": "stream",
     "text": [
      "/home/transmedia-eg/test_env/lib/python3.6/site-packages/ipykernel_launcher.py:14: UserWarning: Implicit dimension choice for softmax has been deprecated. Change the call to include dim=X as an argument.\n",
      "  \n",
      "  0%|          | 0/64 [00:00<?, ?batch/s]"
     ]
    },
    {
     "name": "stdout",
     "output_type": "stream",
     "text": [
      "done epoch 8 : test_acc 0.88\n",
      "Coarse label 11 Epoch 10\n",
      "-------------------------------\n"
     ]
    },
    {
     "name": "stderr",
     "output_type": "stream",
     "text": [
      "/home/transmedia-eg/test_env/lib/python3.6/site-packages/ipykernel_launcher.py:14: UserWarning: Implicit dimension choice for softmax has been deprecated. Change the call to include dim=X as an argument.\n",
      "  \n",
      "100%|██████████| 64/64 [01:28<00:00,  1.39s/batch, loss=1.4]  \n"
     ]
    },
    {
     "name": "stdout",
     "output_type": "stream",
     "text": [
      "current acc 0.9088888888888889 and loss 1.3997041396796703\n"
     ]
    },
    {
     "name": "stderr",
     "output_type": "stream",
     "text": [
      "/home/transmedia-eg/test_env/lib/python3.6/site-packages/ipykernel_launcher.py:14: UserWarning: Implicit dimension choice for softmax has been deprecated. Change the call to include dim=X as an argument.\n",
      "  \n"
     ]
    },
    {
     "name": "stdout",
     "output_type": "stream",
     "text": [
      "done epoch 9 : test_acc 0.8677777777777778\n",
      "Done! Saved model with validation accuracy 0.9022222222222223 and loss 1.3933852426707745\n",
      "{0: (0.935, 0.925), 1: (0.84, 0.8433333333333334), 2: (0.98, 0.9266666666666666), 3: (0.96, 0.94), 4: (0.98, 0.9866666666666667), 7: (0.964, 0.972), 8: (0.8775, 0.8675), 9: (0.932, 0.864), 10: (0.96, 0.975), 11: (0.9022222222222223, 0.8677777777777778)}\n"
     ]
    },
    {
     "name": "stderr",
     "output_type": "stream",
     "text": [
      "\r",
      "  0%|          | 0/43 [00:00<?, ?batch/s]"
     ]
    },
    {
     "name": "stdout",
     "output_type": "stream",
     "text": [
      "Coarse label 12 Epoch 1\n",
      "-------------------------------\n"
     ]
    },
    {
     "name": "stderr",
     "output_type": "stream",
     "text": [
      "/home/transmedia-eg/test_env/lib/python3.6/site-packages/ipykernel_launcher.py:14: UserWarning: Implicit dimension choice for softmax has been deprecated. Change the call to include dim=X as an argument.\n",
      "  \n",
      "100%|██████████| 43/43 [01:00<00:00,  1.40s/batch, loss=0.918]\n"
     ]
    },
    {
     "name": "stdout",
     "output_type": "stream",
     "text": [
      "current acc 0.85 and loss 0.918225472792983\n"
     ]
    },
    {
     "name": "stderr",
     "output_type": "stream",
     "text": [
      "/home/transmedia-eg/test_env/lib/python3.6/site-packages/ipykernel_launcher.py:14: UserWarning: Implicit dimension choice for softmax has been deprecated. Change the call to include dim=X as an argument.\n",
      "  \n",
      "  0%|          | 0/43 [00:00<?, ?batch/s]"
     ]
    },
    {
     "name": "stdout",
     "output_type": "stream",
     "text": [
      "done epoch 0 : test_acc 0.8816666666666667\n",
      "Coarse label 12 Epoch 2\n",
      "-------------------------------\n"
     ]
    },
    {
     "name": "stderr",
     "output_type": "stream",
     "text": [
      "/home/transmedia-eg/test_env/lib/python3.6/site-packages/ipykernel_launcher.py:14: UserWarning: Implicit dimension choice for softmax has been deprecated. Change the call to include dim=X as an argument.\n",
      "  \n",
      "100%|██████████| 43/43 [01:00<00:00,  1.41s/batch, loss=0.754]\n"
     ]
    },
    {
     "name": "stdout",
     "output_type": "stream",
     "text": [
      "current acc 0.8833333333333333 and loss 0.7539938595145941\n"
     ]
    },
    {
     "name": "stderr",
     "output_type": "stream",
     "text": [
      "/home/transmedia-eg/test_env/lib/python3.6/site-packages/ipykernel_launcher.py:14: UserWarning: Implicit dimension choice for softmax has been deprecated. Change the call to include dim=X as an argument.\n",
      "  \n",
      "  0%|          | 0/43 [00:00<?, ?batch/s]"
     ]
    },
    {
     "name": "stdout",
     "output_type": "stream",
     "text": [
      "done epoch 1 : test_acc 0.88\n",
      "Coarse label 12 Epoch 3\n",
      "-------------------------------\n"
     ]
    },
    {
     "name": "stderr",
     "output_type": "stream",
     "text": [
      "/home/transmedia-eg/test_env/lib/python3.6/site-packages/ipykernel_launcher.py:14: UserWarning: Implicit dimension choice for softmax has been deprecated. Change the call to include dim=X as an argument.\n",
      "  \n",
      "100%|██████████| 43/43 [01:00<00:00,  1.41s/batch, loss=0.734]\n"
     ]
    },
    {
     "name": "stdout",
     "output_type": "stream",
     "text": [
      "current acc 0.8333333333333334 and loss 0.7343092486262321\n"
     ]
    },
    {
     "name": "stderr",
     "output_type": "stream",
     "text": [
      "/home/transmedia-eg/test_env/lib/python3.6/site-packages/ipykernel_launcher.py:14: UserWarning: Implicit dimension choice for softmax has been deprecated. Change the call to include dim=X as an argument.\n",
      "  \n",
      "  0%|          | 0/43 [00:00<?, ?batch/s]"
     ]
    },
    {
     "name": "stdout",
     "output_type": "stream",
     "text": [
      "done epoch 2 : test_acc 0.8766666666666667\n",
      "Coarse label 12 Epoch 4\n",
      "-------------------------------\n"
     ]
    },
    {
     "name": "stderr",
     "output_type": "stream",
     "text": [
      "/home/transmedia-eg/test_env/lib/python3.6/site-packages/ipykernel_launcher.py:14: UserWarning: Implicit dimension choice for softmax has been deprecated. Change the call to include dim=X as an argument.\n",
      "  \n",
      "100%|██████████| 43/43 [01:00<00:00,  1.41s/batch, loss=0.722]\n"
     ]
    },
    {
     "name": "stdout",
     "output_type": "stream",
     "text": [
      "current acc 0.8866666666666667 and loss 0.7218759451061487\n"
     ]
    },
    {
     "name": "stderr",
     "output_type": "stream",
     "text": [
      "/home/transmedia-eg/test_env/lib/python3.6/site-packages/ipykernel_launcher.py:14: UserWarning: Implicit dimension choice for softmax has been deprecated. Change the call to include dim=X as an argument.\n",
      "  \n",
      "  0%|          | 0/43 [00:00<?, ?batch/s]"
     ]
    },
    {
     "name": "stdout",
     "output_type": "stream",
     "text": [
      "done epoch 3 : test_acc 0.8933333333333333\n",
      "Coarse label 12 Epoch 5\n",
      "-------------------------------\n"
     ]
    },
    {
     "name": "stderr",
     "output_type": "stream",
     "text": [
      "/home/transmedia-eg/test_env/lib/python3.6/site-packages/ipykernel_launcher.py:14: UserWarning: Implicit dimension choice for softmax has been deprecated. Change the call to include dim=X as an argument.\n",
      "  \n",
      "100%|██████████| 43/43 [01:00<00:00,  1.42s/batch, loss=0.715]\n"
     ]
    },
    {
     "name": "stdout",
     "output_type": "stream",
     "text": [
      "current acc 0.86 and loss 0.7154971249401569\n"
     ]
    },
    {
     "name": "stderr",
     "output_type": "stream",
     "text": [
      "/home/transmedia-eg/test_env/lib/python3.6/site-packages/ipykernel_launcher.py:14: UserWarning: Implicit dimension choice for softmax has been deprecated. Change the call to include dim=X as an argument.\n",
      "  \n",
      "  0%|          | 0/43 [00:00<?, ?batch/s]"
     ]
    },
    {
     "name": "stdout",
     "output_type": "stream",
     "text": [
      "done epoch 4 : test_acc 0.9\n",
      "Coarse label 12 Epoch 6\n",
      "-------------------------------\n"
     ]
    },
    {
     "name": "stderr",
     "output_type": "stream",
     "text": [
      "/home/transmedia-eg/test_env/lib/python3.6/site-packages/ipykernel_launcher.py:14: UserWarning: Implicit dimension choice for softmax has been deprecated. Change the call to include dim=X as an argument.\n",
      "  \n",
      "100%|██████████| 43/43 [00:59<00:00,  1.39s/batch, loss=0.712]\n"
     ]
    },
    {
     "name": "stdout",
     "output_type": "stream",
     "text": [
      "current acc 0.8733333333333333 and loss 0.712273309007287\n"
     ]
    },
    {
     "name": "stderr",
     "output_type": "stream",
     "text": [
      "/home/transmedia-eg/test_env/lib/python3.6/site-packages/ipykernel_launcher.py:14: UserWarning: Implicit dimension choice for softmax has been deprecated. Change the call to include dim=X as an argument.\n",
      "  \n",
      "  0%|          | 0/43 [00:00<?, ?batch/s]"
     ]
    },
    {
     "name": "stdout",
     "output_type": "stream",
     "text": [
      "done epoch 5 : test_acc 0.89\n",
      "Coarse label 12 Epoch 7\n",
      "-------------------------------\n"
     ]
    },
    {
     "name": "stderr",
     "output_type": "stream",
     "text": [
      "/home/transmedia-eg/test_env/lib/python3.6/site-packages/ipykernel_launcher.py:14: UserWarning: Implicit dimension choice for softmax has been deprecated. Change the call to include dim=X as an argument.\n",
      "  \n",
      "100%|██████████| 43/43 [00:59<00:00,  1.39s/batch, loss=0.711]\n"
     ]
    },
    {
     "name": "stdout",
     "output_type": "stream",
     "text": [
      "current acc 0.8733333333333333 and loss 0.7107054051011801\n"
     ]
    },
    {
     "name": "stderr",
     "output_type": "stream",
     "text": [
      "/home/transmedia-eg/test_env/lib/python3.6/site-packages/ipykernel_launcher.py:14: UserWarning: Implicit dimension choice for softmax has been deprecated. Change the call to include dim=X as an argument.\n",
      "  \n",
      "  0%|          | 0/43 [00:00<?, ?batch/s]"
     ]
    },
    {
     "name": "stdout",
     "output_type": "stream",
     "text": [
      "done epoch 6 : test_acc 0.9066666666666666\n",
      "Coarse label 12 Epoch 8\n",
      "-------------------------------\n"
     ]
    },
    {
     "name": "stderr",
     "output_type": "stream",
     "text": [
      "/home/transmedia-eg/test_env/lib/python3.6/site-packages/ipykernel_launcher.py:14: UserWarning: Implicit dimension choice for softmax has been deprecated. Change the call to include dim=X as an argument.\n",
      "  \n",
      "100%|██████████| 43/43 [01:00<00:00,  1.40s/batch, loss=0.715]\n"
     ]
    },
    {
     "name": "stdout",
     "output_type": "stream",
     "text": [
      "current acc 0.8833333333333333 and loss 0.7146635726094246\n"
     ]
    },
    {
     "name": "stderr",
     "output_type": "stream",
     "text": [
      "/home/transmedia-eg/test_env/lib/python3.6/site-packages/ipykernel_launcher.py:14: UserWarning: Implicit dimension choice for softmax has been deprecated. Change the call to include dim=X as an argument.\n",
      "  \n",
      "  0%|          | 0/43 [00:00<?, ?batch/s]"
     ]
    },
    {
     "name": "stdout",
     "output_type": "stream",
     "text": [
      "done epoch 7 : test_acc 0.89\n",
      "Coarse label 12 Epoch 9\n",
      "-------------------------------\n"
     ]
    },
    {
     "name": "stderr",
     "output_type": "stream",
     "text": [
      "/home/transmedia-eg/test_env/lib/python3.6/site-packages/ipykernel_launcher.py:14: UserWarning: Implicit dimension choice for softmax has been deprecated. Change the call to include dim=X as an argument.\n",
      "  \n",
      "100%|██████████| 43/43 [00:59<00:00,  1.39s/batch, loss=0.719]\n"
     ]
    },
    {
     "name": "stdout",
     "output_type": "stream",
     "text": [
      "current acc 0.88 and loss 0.7185969334095716\n"
     ]
    },
    {
     "name": "stderr",
     "output_type": "stream",
     "text": [
      "/home/transmedia-eg/test_env/lib/python3.6/site-packages/ipykernel_launcher.py:14: UserWarning: Implicit dimension choice for softmax has been deprecated. Change the call to include dim=X as an argument.\n",
      "  \n",
      "  0%|          | 0/43 [00:00<?, ?batch/s]"
     ]
    },
    {
     "name": "stdout",
     "output_type": "stream",
     "text": [
      "done epoch 8 : test_acc 0.905\n",
      "Coarse label 12 Epoch 10\n",
      "-------------------------------\n"
     ]
    },
    {
     "name": "stderr",
     "output_type": "stream",
     "text": [
      "/home/transmedia-eg/test_env/lib/python3.6/site-packages/ipykernel_launcher.py:14: UserWarning: Implicit dimension choice for softmax has been deprecated. Change the call to include dim=X as an argument.\n",
      "  \n",
      "100%|██████████| 43/43 [01:01<00:00,  1.43s/batch, loss=0.718]\n"
     ]
    },
    {
     "name": "stdout",
     "output_type": "stream",
     "text": [
      "current acc 0.87 and loss 0.7181441057473421\n"
     ]
    },
    {
     "name": "stderr",
     "output_type": "stream",
     "text": [
      "/home/transmedia-eg/test_env/lib/python3.6/site-packages/ipykernel_launcher.py:14: UserWarning: Implicit dimension choice for softmax has been deprecated. Change the call to include dim=X as an argument.\n",
      "  \n"
     ]
    },
    {
     "name": "stdout",
     "output_type": "stream",
     "text": [
      "done epoch 9 : test_acc 0.8916666666666667\n",
      "Done! Saved model with validation accuracy 0.8733333333333333 and loss 0.7107054051011801\n",
      "{0: (0.935, 0.925), 1: (0.84, 0.8433333333333334), 2: (0.98, 0.9266666666666666), 3: (0.96, 0.94), 4: (0.98, 0.9866666666666667), 7: (0.964, 0.972), 8: (0.8775, 0.8675), 9: (0.932, 0.864), 10: (0.96, 0.975), 11: (0.9022222222222223, 0.8677777777777778), 12: (0.8733333333333333, 0.8916666666666667)}\n"
     ]
    },
    {
     "name": "stderr",
     "output_type": "stream",
     "text": [
      "\r",
      "  0%|          | 0/22 [00:00<?, ?batch/s]"
     ]
    },
    {
     "name": "stdout",
     "output_type": "stream",
     "text": [
      "Coarse label 13 Epoch 1\n",
      "-------------------------------\n"
     ]
    },
    {
     "name": "stderr",
     "output_type": "stream",
     "text": [
      "/home/transmedia-eg/test_env/lib/python3.6/site-packages/ipykernel_launcher.py:14: UserWarning: Implicit dimension choice for softmax has been deprecated. Change the call to include dim=X as an argument.\n",
      "  \n",
      "100%|██████████| 22/22 [00:30<00:00,  1.40s/batch, loss=0.254]\n"
     ]
    },
    {
     "name": "stdout",
     "output_type": "stream",
     "text": [
      "current acc 0.9066666666666666 and loss 0.2536900732666254\n"
     ]
    },
    {
     "name": "stderr",
     "output_type": "stream",
     "text": [
      "/home/transmedia-eg/test_env/lib/python3.6/site-packages/ipykernel_launcher.py:14: UserWarning: Implicit dimension choice for softmax has been deprecated. Change the call to include dim=X as an argument.\n",
      "  \n",
      "  0%|          | 0/22 [00:00<?, ?batch/s]"
     ]
    },
    {
     "name": "stdout",
     "output_type": "stream",
     "text": [
      "done epoch 0 : test_acc 0.9433333333333334\n",
      "Coarse label 13 Epoch 2\n",
      "-------------------------------\n"
     ]
    },
    {
     "name": "stderr",
     "output_type": "stream",
     "text": [
      "/home/transmedia-eg/test_env/lib/python3.6/site-packages/ipykernel_launcher.py:14: UserWarning: Implicit dimension choice for softmax has been deprecated. Change the call to include dim=X as an argument.\n",
      "  \n",
      "100%|██████████| 22/22 [00:32<00:00,  1.47s/batch, loss=0.202] \n"
     ]
    },
    {
     "name": "stdout",
     "output_type": "stream",
     "text": [
      "current acc 0.9 and loss 0.20219344925135374\n"
     ]
    },
    {
     "name": "stderr",
     "output_type": "stream",
     "text": [
      "/home/transmedia-eg/test_env/lib/python3.6/site-packages/ipykernel_launcher.py:14: UserWarning: Implicit dimension choice for softmax has been deprecated. Change the call to include dim=X as an argument.\n",
      "  \n",
      "  0%|          | 0/22 [00:00<?, ?batch/s]"
     ]
    },
    {
     "name": "stdout",
     "output_type": "stream",
     "text": [
      "done epoch 1 : test_acc 0.9566666666666667\n",
      "Coarse label 13 Epoch 3\n",
      "-------------------------------\n"
     ]
    },
    {
     "name": "stderr",
     "output_type": "stream",
     "text": [
      "/home/transmedia-eg/test_env/lib/python3.6/site-packages/ipykernel_launcher.py:14: UserWarning: Implicit dimension choice for softmax has been deprecated. Change the call to include dim=X as an argument.\n",
      "  \n",
      "100%|██████████| 22/22 [00:31<00:00,  1.42s/batch, loss=0.198] \n"
     ]
    },
    {
     "name": "stdout",
     "output_type": "stream",
     "text": [
      "current acc 0.9066666666666666 and loss 0.19768401235342026\n"
     ]
    },
    {
     "name": "stderr",
     "output_type": "stream",
     "text": [
      "/home/transmedia-eg/test_env/lib/python3.6/site-packages/ipykernel_launcher.py:14: UserWarning: Implicit dimension choice for softmax has been deprecated. Change the call to include dim=X as an argument.\n",
      "  \n",
      "  0%|          | 0/22 [00:00<?, ?batch/s]"
     ]
    },
    {
     "name": "stdout",
     "output_type": "stream",
     "text": [
      "done epoch 2 : test_acc 0.94\n",
      "Coarse label 13 Epoch 4\n",
      "-------------------------------\n"
     ]
    },
    {
     "name": "stderr",
     "output_type": "stream",
     "text": [
      "/home/transmedia-eg/test_env/lib/python3.6/site-packages/ipykernel_launcher.py:14: UserWarning: Implicit dimension choice for softmax has been deprecated. Change the call to include dim=X as an argument.\n",
      "  \n",
      "100%|██████████| 22/22 [00:31<00:00,  1.42s/batch, loss=0.196] \n"
     ]
    },
    {
     "name": "stdout",
     "output_type": "stream",
     "text": [
      "current acc 0.9066666666666666 and loss 0.1958067435771227\n"
     ]
    },
    {
     "name": "stderr",
     "output_type": "stream",
     "text": [
      "/home/transmedia-eg/test_env/lib/python3.6/site-packages/ipykernel_launcher.py:14: UserWarning: Implicit dimension choice for softmax has been deprecated. Change the call to include dim=X as an argument.\n",
      "  \n",
      "  0%|          | 0/22 [00:00<?, ?batch/s]"
     ]
    },
    {
     "name": "stdout",
     "output_type": "stream",
     "text": [
      "done epoch 3 : test_acc 0.92\n",
      "Coarse label 13 Epoch 5\n",
      "-------------------------------\n"
     ]
    },
    {
     "name": "stderr",
     "output_type": "stream",
     "text": [
      "/home/transmedia-eg/test_env/lib/python3.6/site-packages/ipykernel_launcher.py:14: UserWarning: Implicit dimension choice for softmax has been deprecated. Change the call to include dim=X as an argument.\n",
      "  \n",
      "100%|██████████| 22/22 [00:32<00:00,  1.46s/batch, loss=0.198] \n"
     ]
    },
    {
     "name": "stdout",
     "output_type": "stream",
     "text": [
      "current acc 0.8933333333333333 and loss 0.19762825220823288\n"
     ]
    },
    {
     "name": "stderr",
     "output_type": "stream",
     "text": [
      "/home/transmedia-eg/test_env/lib/python3.6/site-packages/ipykernel_launcher.py:14: UserWarning: Implicit dimension choice for softmax has been deprecated. Change the call to include dim=X as an argument.\n",
      "  \n",
      "  0%|          | 0/22 [00:00<?, ?batch/s]"
     ]
    },
    {
     "name": "stdout",
     "output_type": "stream",
     "text": [
      "done epoch 4 : test_acc 0.9233333333333333\n",
      "Coarse label 13 Epoch 6\n",
      "-------------------------------\n"
     ]
    },
    {
     "name": "stderr",
     "output_type": "stream",
     "text": [
      "/home/transmedia-eg/test_env/lib/python3.6/site-packages/ipykernel_launcher.py:14: UserWarning: Implicit dimension choice for softmax has been deprecated. Change the call to include dim=X as an argument.\n",
      "  \n",
      "100%|██████████| 22/22 [00:31<00:00,  1.42s/batch, loss=0.2]   \n"
     ]
    },
    {
     "name": "stdout",
     "output_type": "stream",
     "text": [
      "current acc 0.9 and loss 0.20036550611257553\n"
     ]
    },
    {
     "name": "stderr",
     "output_type": "stream",
     "text": [
      "/home/transmedia-eg/test_env/lib/python3.6/site-packages/ipykernel_launcher.py:14: UserWarning: Implicit dimension choice for softmax has been deprecated. Change the call to include dim=X as an argument.\n",
      "  \n",
      "  0%|          | 0/22 [00:00<?, ?batch/s]"
     ]
    },
    {
     "name": "stdout",
     "output_type": "stream",
     "text": [
      "done epoch 5 : test_acc 0.9366666666666666\n",
      "Coarse label 13 Epoch 7\n",
      "-------------------------------\n"
     ]
    },
    {
     "name": "stderr",
     "output_type": "stream",
     "text": [
      "/home/transmedia-eg/test_env/lib/python3.6/site-packages/ipykernel_launcher.py:14: UserWarning: Implicit dimension choice for softmax has been deprecated. Change the call to include dim=X as an argument.\n",
      "  \n",
      "100%|██████████| 22/22 [00:31<00:00,  1.42s/batch, loss=0.194] \n"
     ]
    },
    {
     "name": "stdout",
     "output_type": "stream",
     "text": [
      "current acc 0.9266666666666666 and loss 0.19375511072576046\n"
     ]
    },
    {
     "name": "stderr",
     "output_type": "stream",
     "text": [
      "/home/transmedia-eg/test_env/lib/python3.6/site-packages/ipykernel_launcher.py:14: UserWarning: Implicit dimension choice for softmax has been deprecated. Change the call to include dim=X as an argument.\n",
      "  \n",
      "  0%|          | 0/22 [00:00<?, ?batch/s]"
     ]
    },
    {
     "name": "stdout",
     "output_type": "stream",
     "text": [
      "done epoch 6 : test_acc 0.9466666666666667\n",
      "Coarse label 13 Epoch 8\n",
      "-------------------------------\n"
     ]
    },
    {
     "name": "stderr",
     "output_type": "stream",
     "text": [
      "/home/transmedia-eg/test_env/lib/python3.6/site-packages/ipykernel_launcher.py:14: UserWarning: Implicit dimension choice for softmax has been deprecated. Change the call to include dim=X as an argument.\n",
      "  \n",
      "100%|██████████| 22/22 [00:31<00:00,  1.44s/batch, loss=0.193] \n"
     ]
    },
    {
     "name": "stdout",
     "output_type": "stream",
     "text": [
      "current acc 0.92 and loss 0.19260012917220592\n"
     ]
    },
    {
     "name": "stderr",
     "output_type": "stream",
     "text": [
      "/home/transmedia-eg/test_env/lib/python3.6/site-packages/ipykernel_launcher.py:14: UserWarning: Implicit dimension choice for softmax has been deprecated. Change the call to include dim=X as an argument.\n",
      "  \n",
      "  0%|          | 0/22 [00:00<?, ?batch/s]"
     ]
    },
    {
     "name": "stdout",
     "output_type": "stream",
     "text": [
      "done epoch 7 : test_acc 0.9533333333333334\n",
      "Coarse label 13 Epoch 9\n",
      "-------------------------------\n"
     ]
    },
    {
     "name": "stderr",
     "output_type": "stream",
     "text": [
      "/home/transmedia-eg/test_env/lib/python3.6/site-packages/ipykernel_launcher.py:14: UserWarning: Implicit dimension choice for softmax has been deprecated. Change the call to include dim=X as an argument.\n",
      "  \n",
      "100%|██████████| 22/22 [00:31<00:00,  1.41s/batch, loss=0.194] \n"
     ]
    },
    {
     "name": "stdout",
     "output_type": "stream",
     "text": [
      "current acc 0.9133333333333333 and loss 0.19424210954457521\n"
     ]
    },
    {
     "name": "stderr",
     "output_type": "stream",
     "text": [
      "/home/transmedia-eg/test_env/lib/python3.6/site-packages/ipykernel_launcher.py:14: UserWarning: Implicit dimension choice for softmax has been deprecated. Change the call to include dim=X as an argument.\n",
      "  \n",
      "  0%|          | 0/22 [00:00<?, ?batch/s]"
     ]
    },
    {
     "name": "stdout",
     "output_type": "stream",
     "text": [
      "done epoch 8 : test_acc 0.9466666666666667\n",
      "Coarse label 13 Epoch 10\n",
      "-------------------------------\n"
     ]
    },
    {
     "name": "stderr",
     "output_type": "stream",
     "text": [
      "/home/transmedia-eg/test_env/lib/python3.6/site-packages/ipykernel_launcher.py:14: UserWarning: Implicit dimension choice for softmax has been deprecated. Change the call to include dim=X as an argument.\n",
      "  \n",
      "100%|██████████| 22/22 [00:31<00:00,  1.44s/batch, loss=0.198] \n"
     ]
    },
    {
     "name": "stdout",
     "output_type": "stream",
     "text": [
      "current acc 0.92 and loss 0.19797658827155828\n"
     ]
    },
    {
     "name": "stderr",
     "output_type": "stream",
     "text": [
      "/home/transmedia-eg/test_env/lib/python3.6/site-packages/ipykernel_launcher.py:14: UserWarning: Implicit dimension choice for softmax has been deprecated. Change the call to include dim=X as an argument.\n",
      "  \n"
     ]
    },
    {
     "name": "stdout",
     "output_type": "stream",
     "text": [
      "done epoch 9 : test_acc 0.9433333333333334\n",
      "Done! Saved model with validation accuracy 0.92 and loss 0.19260012917220592\n",
      "{0: (0.935, 0.925), 1: (0.84, 0.8433333333333334), 2: (0.98, 0.9266666666666666), 3: (0.96, 0.94), 4: (0.98, 0.9866666666666667), 7: (0.964, 0.972), 8: (0.8775, 0.8675), 9: (0.932, 0.864), 10: (0.96, 0.975), 11: (0.9022222222222223, 0.8677777777777778), 12: (0.8733333333333333, 0.8916666666666667), 13: (0.92, 0.9433333333333334)}\n"
     ]
    },
    {
     "name": "stderr",
     "output_type": "stream",
     "text": [
      "\r",
      "  0%|          | 0/43 [00:00<?, ?batch/s]"
     ]
    },
    {
     "name": "stdout",
     "output_type": "stream",
     "text": [
      "Coarse label 14 Epoch 1\n",
      "-------------------------------\n"
     ]
    },
    {
     "name": "stderr",
     "output_type": "stream",
     "text": [
      "/home/transmedia-eg/test_env/lib/python3.6/site-packages/ipykernel_launcher.py:14: UserWarning: Implicit dimension choice for softmax has been deprecated. Change the call to include dim=X as an argument.\n",
      "  \n",
      "100%|██████████| 43/43 [00:59<00:00,  1.38s/batch, loss=0.866]\n"
     ]
    },
    {
     "name": "stdout",
     "output_type": "stream",
     "text": [
      "current acc 0.9433333333333334 and loss 0.8657110668718815\n"
     ]
    },
    {
     "name": "stderr",
     "output_type": "stream",
     "text": [
      "/home/transmedia-eg/test_env/lib/python3.6/site-packages/ipykernel_launcher.py:14: UserWarning: Implicit dimension choice for softmax has been deprecated. Change the call to include dim=X as an argument.\n",
      "  \n",
      "  0%|          | 0/43 [00:00<?, ?batch/s]"
     ]
    },
    {
     "name": "stdout",
     "output_type": "stream",
     "text": [
      "done epoch 0 : test_acc 0.9483333333333334\n",
      "Coarse label 14 Epoch 2\n",
      "-------------------------------\n"
     ]
    },
    {
     "name": "stderr",
     "output_type": "stream",
     "text": [
      "/home/transmedia-eg/test_env/lib/python3.6/site-packages/ipykernel_launcher.py:14: UserWarning: Implicit dimension choice for softmax has been deprecated. Change the call to include dim=X as an argument.\n",
      "  \n",
      "100%|██████████| 43/43 [01:00<00:00,  1.41s/batch, loss=0.731]\n"
     ]
    },
    {
     "name": "stdout",
     "output_type": "stream",
     "text": [
      "current acc 0.9333333333333333 and loss 0.7306686919182539\n"
     ]
    },
    {
     "name": "stderr",
     "output_type": "stream",
     "text": [
      "/home/transmedia-eg/test_env/lib/python3.6/site-packages/ipykernel_launcher.py:14: UserWarning: Implicit dimension choice for softmax has been deprecated. Change the call to include dim=X as an argument.\n",
      "  \n",
      "  0%|          | 0/43 [00:00<?, ?batch/s]"
     ]
    },
    {
     "name": "stdout",
     "output_type": "stream",
     "text": [
      "done epoch 1 : test_acc 0.9466666666666667\n",
      "Coarse label 14 Epoch 3\n",
      "-------------------------------\n"
     ]
    },
    {
     "name": "stderr",
     "output_type": "stream",
     "text": [
      "/home/transmedia-eg/test_env/lib/python3.6/site-packages/ipykernel_launcher.py:14: UserWarning: Implicit dimension choice for softmax has been deprecated. Change the call to include dim=X as an argument.\n",
      "  \n",
      "100%|██████████| 43/43 [00:59<00:00,  1.39s/batch, loss=0.722]\n"
     ]
    },
    {
     "name": "stdout",
     "output_type": "stream",
     "text": [
      "current acc 0.95 and loss 0.7224823888391256\n"
     ]
    },
    {
     "name": "stderr",
     "output_type": "stream",
     "text": [
      "/home/transmedia-eg/test_env/lib/python3.6/site-packages/ipykernel_launcher.py:14: UserWarning: Implicit dimension choice for softmax has been deprecated. Change the call to include dim=X as an argument.\n",
      "  \n",
      "  0%|          | 0/43 [00:00<?, ?batch/s]"
     ]
    },
    {
     "name": "stdout",
     "output_type": "stream",
     "text": [
      "done epoch 2 : test_acc 0.9383333333333334\n",
      "Coarse label 14 Epoch 4\n",
      "-------------------------------\n"
     ]
    },
    {
     "name": "stderr",
     "output_type": "stream",
     "text": [
      "/home/transmedia-eg/test_env/lib/python3.6/site-packages/ipykernel_launcher.py:14: UserWarning: Implicit dimension choice for softmax has been deprecated. Change the call to include dim=X as an argument.\n",
      "  \n",
      "100%|██████████| 43/43 [01:00<00:00,  1.41s/batch, loss=0.717]\n"
     ]
    },
    {
     "name": "stdout",
     "output_type": "stream",
     "text": [
      "current acc 0.9533333333333334 and loss 0.7174008917063475\n"
     ]
    },
    {
     "name": "stderr",
     "output_type": "stream",
     "text": [
      "/home/transmedia-eg/test_env/lib/python3.6/site-packages/ipykernel_launcher.py:14: UserWarning: Implicit dimension choice for softmax has been deprecated. Change the call to include dim=X as an argument.\n",
      "  \n",
      "  0%|          | 0/43 [00:00<?, ?batch/s]"
     ]
    },
    {
     "name": "stdout",
     "output_type": "stream",
     "text": [
      "done epoch 3 : test_acc 0.9483333333333334\n",
      "Coarse label 14 Epoch 5\n",
      "-------------------------------\n"
     ]
    },
    {
     "name": "stderr",
     "output_type": "stream",
     "text": [
      "/home/transmedia-eg/test_env/lib/python3.6/site-packages/ipykernel_launcher.py:14: UserWarning: Implicit dimension choice for softmax has been deprecated. Change the call to include dim=X as an argument.\n",
      "  \n",
      "100%|██████████| 43/43 [00:59<00:00,  1.38s/batch, loss=0.713]\n"
     ]
    },
    {
     "name": "stdout",
     "output_type": "stream",
     "text": [
      "current acc 0.9533333333333334 and loss 0.7130563464015722\n"
     ]
    },
    {
     "name": "stderr",
     "output_type": "stream",
     "text": [
      "/home/transmedia-eg/test_env/lib/python3.6/site-packages/ipykernel_launcher.py:14: UserWarning: Implicit dimension choice for softmax has been deprecated. Change the call to include dim=X as an argument.\n",
      "  \n",
      "  0%|          | 0/43 [00:00<?, ?batch/s]"
     ]
    },
    {
     "name": "stdout",
     "output_type": "stream",
     "text": [
      "done epoch 4 : test_acc 0.9416666666666667\n",
      "Coarse label 14 Epoch 6\n",
      "-------------------------------\n"
     ]
    },
    {
     "name": "stderr",
     "output_type": "stream",
     "text": [
      "/home/transmedia-eg/test_env/lib/python3.6/site-packages/ipykernel_launcher.py:14: UserWarning: Implicit dimension choice for softmax has been deprecated. Change the call to include dim=X as an argument.\n",
      "  \n",
      "100%|██████████| 43/43 [01:00<00:00,  1.40s/batch, loss=0.713]\n"
     ]
    },
    {
     "name": "stdout",
     "output_type": "stream",
     "text": [
      "current acc 0.95 and loss 0.7128112278878689\n"
     ]
    },
    {
     "name": "stderr",
     "output_type": "stream",
     "text": [
      "/home/transmedia-eg/test_env/lib/python3.6/site-packages/ipykernel_launcher.py:14: UserWarning: Implicit dimension choice for softmax has been deprecated. Change the call to include dim=X as an argument.\n",
      "  \n",
      "  0%|          | 0/43 [00:00<?, ?batch/s]"
     ]
    },
    {
     "name": "stdout",
     "output_type": "stream",
     "text": [
      "done epoch 5 : test_acc 0.9533333333333334\n",
      "Coarse label 14 Epoch 7\n",
      "-------------------------------\n"
     ]
    },
    {
     "name": "stderr",
     "output_type": "stream",
     "text": [
      "/home/transmedia-eg/test_env/lib/python3.6/site-packages/ipykernel_launcher.py:14: UserWarning: Implicit dimension choice for softmax has been deprecated. Change the call to include dim=X as an argument.\n",
      "  \n",
      "100%|██████████| 43/43 [01:00<00:00,  1.41s/batch, loss=0.713]\n"
     ]
    },
    {
     "name": "stdout",
     "output_type": "stream",
     "text": [
      "current acc 0.9233333333333333 and loss 0.713350486010313\n"
     ]
    },
    {
     "name": "stderr",
     "output_type": "stream",
     "text": [
      "/home/transmedia-eg/test_env/lib/python3.6/site-packages/ipykernel_launcher.py:14: UserWarning: Implicit dimension choice for softmax has been deprecated. Change the call to include dim=X as an argument.\n",
      "  \n",
      "  0%|          | 0/43 [00:00<?, ?batch/s]"
     ]
    },
    {
     "name": "stdout",
     "output_type": "stream",
     "text": [
      "done epoch 6 : test_acc 0.9433333333333334\n",
      "Coarse label 14 Epoch 8\n",
      "-------------------------------\n"
     ]
    },
    {
     "name": "stderr",
     "output_type": "stream",
     "text": [
      "/home/transmedia-eg/test_env/lib/python3.6/site-packages/ipykernel_launcher.py:14: UserWarning: Implicit dimension choice for softmax has been deprecated. Change the call to include dim=X as an argument.\n",
      "  \n",
      "100%|██████████| 43/43 [01:00<00:00,  1.40s/batch, loss=0.712]\n"
     ]
    },
    {
     "name": "stdout",
     "output_type": "stream",
     "text": [
      "current acc 0.95 and loss 0.7118293978273869\n"
     ]
    },
    {
     "name": "stderr",
     "output_type": "stream",
     "text": [
      "/home/transmedia-eg/test_env/lib/python3.6/site-packages/ipykernel_launcher.py:14: UserWarning: Implicit dimension choice for softmax has been deprecated. Change the call to include dim=X as an argument.\n",
      "  \n",
      "  0%|          | 0/43 [00:00<?, ?batch/s]"
     ]
    },
    {
     "name": "stdout",
     "output_type": "stream",
     "text": [
      "done epoch 7 : test_acc 0.945\n",
      "Coarse label 14 Epoch 9\n",
      "-------------------------------\n"
     ]
    },
    {
     "name": "stderr",
     "output_type": "stream",
     "text": [
      "/home/transmedia-eg/test_env/lib/python3.6/site-packages/ipykernel_launcher.py:14: UserWarning: Implicit dimension choice for softmax has been deprecated. Change the call to include dim=X as an argument.\n",
      "  \n",
      "100%|██████████| 43/43 [01:00<00:00,  1.40s/batch, loss=0.708]\n"
     ]
    },
    {
     "name": "stdout",
     "output_type": "stream",
     "text": [
      "current acc 0.95 and loss 0.7076729144901037\n"
     ]
    },
    {
     "name": "stderr",
     "output_type": "stream",
     "text": [
      "/home/transmedia-eg/test_env/lib/python3.6/site-packages/ipykernel_launcher.py:14: UserWarning: Implicit dimension choice for softmax has been deprecated. Change the call to include dim=X as an argument.\n",
      "  \n",
      "  0%|          | 0/43 [00:00<?, ?batch/s]"
     ]
    },
    {
     "name": "stdout",
     "output_type": "stream",
     "text": [
      "done epoch 8 : test_acc 0.945\n",
      "Coarse label 14 Epoch 10\n",
      "-------------------------------\n"
     ]
    },
    {
     "name": "stderr",
     "output_type": "stream",
     "text": [
      "/home/transmedia-eg/test_env/lib/python3.6/site-packages/ipykernel_launcher.py:14: UserWarning: Implicit dimension choice for softmax has been deprecated. Change the call to include dim=X as an argument.\n",
      "  \n",
      "100%|██████████| 43/43 [00:59<00:00,  1.38s/batch, loss=0.71] \n"
     ]
    },
    {
     "name": "stdout",
     "output_type": "stream",
     "text": [
      "current acc 0.9366666666666666 and loss 0.7103214208036661\n"
     ]
    },
    {
     "name": "stderr",
     "output_type": "stream",
     "text": [
      "/home/transmedia-eg/test_env/lib/python3.6/site-packages/ipykernel_launcher.py:14: UserWarning: Implicit dimension choice for softmax has been deprecated. Change the call to include dim=X as an argument.\n",
      "  \n"
     ]
    },
    {
     "name": "stdout",
     "output_type": "stream",
     "text": [
      "done epoch 9 : test_acc 0.9483333333333334\n",
      "Done! Saved model with validation accuracy 0.95 and loss 0.7076729144901037\n",
      "{0: (0.935, 0.925), 1: (0.84, 0.8433333333333334), 2: (0.98, 0.9266666666666666), 3: (0.96, 0.94), 4: (0.98, 0.9866666666666667), 7: (0.964, 0.972), 8: (0.8775, 0.8675), 9: (0.932, 0.864), 10: (0.96, 0.975), 11: (0.9022222222222223, 0.8677777777777778), 12: (0.8733333333333333, 0.8916666666666667), 13: (0.92, 0.9433333333333334), 14: (0.95, 0.9483333333333334)}\n"
     ]
    },
    {
     "name": "stderr",
     "output_type": "stream",
     "text": [
      "\r",
      "  0%|          | 0/15 [00:00<?, ?batch/s]"
     ]
    },
    {
     "name": "stdout",
     "output_type": "stream",
     "text": [
      "Coarse label 15 Epoch 1\n",
      "-------------------------------\n"
     ]
    },
    {
     "name": "stderr",
     "output_type": "stream",
     "text": [
      "/home/transmedia-eg/test_env/lib/python3.6/site-packages/ipykernel_launcher.py:14: UserWarning: Implicit dimension choice for softmax has been deprecated. Change the call to include dim=X as an argument.\n",
      "  \n",
      "100%|██████████| 15/15 [00:21<00:00,  1.41s/batch, loss=0.0975]\n"
     ]
    },
    {
     "name": "stdout",
     "output_type": "stream",
     "text": [
      "current acc 0.96 and loss 0.09749304875731468\n"
     ]
    },
    {
     "name": "stderr",
     "output_type": "stream",
     "text": [
      "/home/transmedia-eg/test_env/lib/python3.6/site-packages/ipykernel_launcher.py:14: UserWarning: Implicit dimension choice for softmax has been deprecated. Change the call to include dim=X as an argument.\n",
      "  \n",
      "  0%|          | 0/15 [00:00<?, ?batch/s]"
     ]
    },
    {
     "name": "stdout",
     "output_type": "stream",
     "text": [
      "done epoch 0 : test_acc 0.995\n",
      "Coarse label 15 Epoch 2\n",
      "-------------------------------\n"
     ]
    },
    {
     "name": "stderr",
     "output_type": "stream",
     "text": [
      "/home/transmedia-eg/test_env/lib/python3.6/site-packages/ipykernel_launcher.py:14: UserWarning: Implicit dimension choice for softmax has been deprecated. Change the call to include dim=X as an argument.\n",
      "  \n",
      "100%|██████████| 15/15 [00:20<00:00,  1.35s/batch, loss=0.0788]\n"
     ]
    },
    {
     "name": "stdout",
     "output_type": "stream",
     "text": [
      "current acc 0.96 and loss 0.07879263488575816\n"
     ]
    },
    {
     "name": "stderr",
     "output_type": "stream",
     "text": [
      "/home/transmedia-eg/test_env/lib/python3.6/site-packages/ipykernel_launcher.py:14: UserWarning: Implicit dimension choice for softmax has been deprecated. Change the call to include dim=X as an argument.\n",
      "  \n",
      "  0%|          | 0/15 [00:00<?, ?batch/s]"
     ]
    },
    {
     "name": "stdout",
     "output_type": "stream",
     "text": [
      "done epoch 1 : test_acc 0.99\n",
      "Coarse label 15 Epoch 3\n",
      "-------------------------------\n"
     ]
    },
    {
     "name": "stderr",
     "output_type": "stream",
     "text": [
      "/home/transmedia-eg/test_env/lib/python3.6/site-packages/ipykernel_launcher.py:14: UserWarning: Implicit dimension choice for softmax has been deprecated. Change the call to include dim=X as an argument.\n",
      "  \n",
      "100%|██████████| 15/15 [00:20<00:00,  1.36s/batch, loss=0.0798]\n"
     ]
    },
    {
     "name": "stdout",
     "output_type": "stream",
     "text": [
      "current acc 0.97 and loss 0.07984699215739965\n"
     ]
    },
    {
     "name": "stderr",
     "output_type": "stream",
     "text": [
      "/home/transmedia-eg/test_env/lib/python3.6/site-packages/ipykernel_launcher.py:14: UserWarning: Implicit dimension choice for softmax has been deprecated. Change the call to include dim=X as an argument.\n",
      "  \n",
      "  0%|          | 0/15 [00:00<?, ?batch/s]"
     ]
    },
    {
     "name": "stdout",
     "output_type": "stream",
     "text": [
      "done epoch 2 : test_acc 0.985\n",
      "Coarse label 15 Epoch 4\n",
      "-------------------------------\n"
     ]
    },
    {
     "name": "stderr",
     "output_type": "stream",
     "text": [
      "/home/transmedia-eg/test_env/lib/python3.6/site-packages/ipykernel_launcher.py:14: UserWarning: Implicit dimension choice for softmax has been deprecated. Change the call to include dim=X as an argument.\n",
      "  \n",
      "100%|██████████| 15/15 [00:21<00:00,  1.40s/batch, loss=0.0746]\n"
     ]
    },
    {
     "name": "stdout",
     "output_type": "stream",
     "text": [
      "current acc 0.97 and loss 0.07458402309566736\n"
     ]
    },
    {
     "name": "stderr",
     "output_type": "stream",
     "text": [
      "/home/transmedia-eg/test_env/lib/python3.6/site-packages/ipykernel_launcher.py:14: UserWarning: Implicit dimension choice for softmax has been deprecated. Change the call to include dim=X as an argument.\n",
      "  \n",
      "  0%|          | 0/15 [00:00<?, ?batch/s]"
     ]
    },
    {
     "name": "stdout",
     "output_type": "stream",
     "text": [
      "done epoch 3 : test_acc 0.985\n",
      "Coarse label 15 Epoch 5\n",
      "-------------------------------\n"
     ]
    },
    {
     "name": "stderr",
     "output_type": "stream",
     "text": [
      "/home/transmedia-eg/test_env/lib/python3.6/site-packages/ipykernel_launcher.py:14: UserWarning: Implicit dimension choice for softmax has been deprecated. Change the call to include dim=X as an argument.\n",
      "  \n",
      "100%|██████████| 15/15 [00:21<00:00,  1.41s/batch, loss=0.0741]\n"
     ]
    },
    {
     "name": "stdout",
     "output_type": "stream",
     "text": [
      "current acc 0.96 and loss 0.07410535449162126\n"
     ]
    },
    {
     "name": "stderr",
     "output_type": "stream",
     "text": [
      "/home/transmedia-eg/test_env/lib/python3.6/site-packages/ipykernel_launcher.py:14: UserWarning: Implicit dimension choice for softmax has been deprecated. Change the call to include dim=X as an argument.\n",
      "  \n",
      "  0%|          | 0/15 [00:00<?, ?batch/s]"
     ]
    },
    {
     "name": "stdout",
     "output_type": "stream",
     "text": [
      "done epoch 4 : test_acc 0.98\n",
      "Coarse label 15 Epoch 6\n",
      "-------------------------------\n"
     ]
    },
    {
     "name": "stderr",
     "output_type": "stream",
     "text": [
      "/home/transmedia-eg/test_env/lib/python3.6/site-packages/ipykernel_launcher.py:14: UserWarning: Implicit dimension choice for softmax has been deprecated. Change the call to include dim=X as an argument.\n",
      "  \n",
      "100%|██████████| 15/15 [00:20<00:00,  1.38s/batch, loss=0.0739]\n"
     ]
    },
    {
     "name": "stdout",
     "output_type": "stream",
     "text": [
      "current acc 0.97 and loss 0.07388860965147614\n"
     ]
    },
    {
     "name": "stderr",
     "output_type": "stream",
     "text": [
      "/home/transmedia-eg/test_env/lib/python3.6/site-packages/ipykernel_launcher.py:14: UserWarning: Implicit dimension choice for softmax has been deprecated. Change the call to include dim=X as an argument.\n",
      "  \n",
      "  0%|          | 0/15 [00:00<?, ?batch/s]"
     ]
    },
    {
     "name": "stdout",
     "output_type": "stream",
     "text": [
      "done epoch 5 : test_acc 0.975\n",
      "Coarse label 15 Epoch 7\n",
      "-------------------------------\n"
     ]
    },
    {
     "name": "stderr",
     "output_type": "stream",
     "text": [
      "/home/transmedia-eg/test_env/lib/python3.6/site-packages/ipykernel_launcher.py:14: UserWarning: Implicit dimension choice for softmax has been deprecated. Change the call to include dim=X as an argument.\n",
      "  \n",
      "100%|██████████| 15/15 [00:21<00:00,  1.41s/batch, loss=0.075] \n"
     ]
    },
    {
     "name": "stdout",
     "output_type": "stream",
     "text": [
      "current acc 0.96 and loss 0.07497599581256509\n"
     ]
    },
    {
     "name": "stderr",
     "output_type": "stream",
     "text": [
      "/home/transmedia-eg/test_env/lib/python3.6/site-packages/ipykernel_launcher.py:14: UserWarning: Implicit dimension choice for softmax has been deprecated. Change the call to include dim=X as an argument.\n",
      "  \n",
      "  0%|          | 0/15 [00:00<?, ?batch/s]"
     ]
    },
    {
     "name": "stdout",
     "output_type": "stream",
     "text": [
      "done epoch 6 : test_acc 0.985\n",
      "Coarse label 15 Epoch 8\n",
      "-------------------------------\n"
     ]
    },
    {
     "name": "stderr",
     "output_type": "stream",
     "text": [
      "/home/transmedia-eg/test_env/lib/python3.6/site-packages/ipykernel_launcher.py:14: UserWarning: Implicit dimension choice for softmax has been deprecated. Change the call to include dim=X as an argument.\n",
      "  \n",
      "100%|██████████| 15/15 [00:20<00:00,  1.39s/batch, loss=0.0736]\n"
     ]
    },
    {
     "name": "stdout",
     "output_type": "stream",
     "text": [
      "current acc 0.96 and loss 0.0735780792310834\n"
     ]
    },
    {
     "name": "stderr",
     "output_type": "stream",
     "text": [
      "/home/transmedia-eg/test_env/lib/python3.6/site-packages/ipykernel_launcher.py:14: UserWarning: Implicit dimension choice for softmax has been deprecated. Change the call to include dim=X as an argument.\n",
      "  \n",
      "  0%|          | 0/15 [00:00<?, ?batch/s]"
     ]
    },
    {
     "name": "stdout",
     "output_type": "stream",
     "text": [
      "done epoch 7 : test_acc 0.985\n",
      "Coarse label 15 Epoch 9\n",
      "-------------------------------\n"
     ]
    },
    {
     "name": "stderr",
     "output_type": "stream",
     "text": [
      "/home/transmedia-eg/test_env/lib/python3.6/site-packages/ipykernel_launcher.py:14: UserWarning: Implicit dimension choice for softmax has been deprecated. Change the call to include dim=X as an argument.\n",
      "  \n",
      "100%|██████████| 15/15 [00:21<00:00,  1.41s/batch, loss=0.0807]\n"
     ]
    },
    {
     "name": "stdout",
     "output_type": "stream",
     "text": [
      "current acc 0.96 and loss 0.0807294212281704\n"
     ]
    },
    {
     "name": "stderr",
     "output_type": "stream",
     "text": [
      "/home/transmedia-eg/test_env/lib/python3.6/site-packages/ipykernel_launcher.py:14: UserWarning: Implicit dimension choice for softmax has been deprecated. Change the call to include dim=X as an argument.\n",
      "  \n",
      "  0%|          | 0/15 [00:00<?, ?batch/s]"
     ]
    },
    {
     "name": "stdout",
     "output_type": "stream",
     "text": [
      "done epoch 8 : test_acc 0.985\n",
      "Coarse label 15 Epoch 10\n",
      "-------------------------------\n"
     ]
    },
    {
     "name": "stderr",
     "output_type": "stream",
     "text": [
      "/home/transmedia-eg/test_env/lib/python3.6/site-packages/ipykernel_launcher.py:14: UserWarning: Implicit dimension choice for softmax has been deprecated. Change the call to include dim=X as an argument.\n",
      "  \n",
      "100%|██████████| 15/15 [00:20<00:00,  1.39s/batch, loss=0.0751]\n"
     ]
    },
    {
     "name": "stdout",
     "output_type": "stream",
     "text": [
      "current acc 0.97 and loss 0.07510502031072974\n"
     ]
    },
    {
     "name": "stderr",
     "output_type": "stream",
     "text": [
      "/home/transmedia-eg/test_env/lib/python3.6/site-packages/ipykernel_launcher.py:14: UserWarning: Implicit dimension choice for softmax has been deprecated. Change the call to include dim=X as an argument.\n",
      "  \n"
     ]
    },
    {
     "name": "stdout",
     "output_type": "stream",
     "text": [
      "done epoch 9 : test_acc 0.98\n",
      "Done! Saved model with validation accuracy 0.96 and loss 0.0735780792310834\n",
      "{0: (0.935, 0.925), 1: (0.84, 0.8433333333333334), 2: (0.98, 0.9266666666666666), 3: (0.96, 0.94), 4: (0.98, 0.9866666666666667), 7: (0.964, 0.972), 8: (0.8775, 0.8675), 9: (0.932, 0.864), 10: (0.96, 0.975), 11: (0.9022222222222223, 0.8677777777777778), 12: (0.8733333333333333, 0.8916666666666667), 13: (0.92, 0.9433333333333334), 14: (0.95, 0.9483333333333334), 15: (0.96, 0.98)}\n"
     ]
    },
    {
     "name": "stderr",
     "output_type": "stream",
     "text": [
      "\r",
      "  0%|          | 0/29 [00:00<?, ?batch/s]"
     ]
    },
    {
     "name": "stdout",
     "output_type": "stream",
     "text": [
      "Coarse label 16 Epoch 1\n",
      "-------------------------------\n"
     ]
    },
    {
     "name": "stderr",
     "output_type": "stream",
     "text": [
      "/home/transmedia-eg/test_env/lib/python3.6/site-packages/ipykernel_launcher.py:14: UserWarning: Implicit dimension choice for softmax has been deprecated. Change the call to include dim=X as an argument.\n",
      "  \n",
      "100%|██████████| 29/29 [00:39<00:00,  1.38s/batch, loss=0.546]\n"
     ]
    },
    {
     "name": "stdout",
     "output_type": "stream",
     "text": [
      "current acc 0.685 and loss 0.5458545591682196\n"
     ]
    },
    {
     "name": "stderr",
     "output_type": "stream",
     "text": [
      "/home/transmedia-eg/test_env/lib/python3.6/site-packages/ipykernel_launcher.py:14: UserWarning: Implicit dimension choice for softmax has been deprecated. Change the call to include dim=X as an argument.\n",
      "  \n",
      "  0%|          | 0/29 [00:00<?, ?batch/s]"
     ]
    },
    {
     "name": "stdout",
     "output_type": "stream",
     "text": [
      "done epoch 0 : test_acc 0.7\n",
      "Coarse label 16 Epoch 2\n",
      "-------------------------------\n"
     ]
    },
    {
     "name": "stderr",
     "output_type": "stream",
     "text": [
      "/home/transmedia-eg/test_env/lib/python3.6/site-packages/ipykernel_launcher.py:14: UserWarning: Implicit dimension choice for softmax has been deprecated. Change the call to include dim=X as an argument.\n",
      "  \n",
      "100%|██████████| 29/29 [00:40<00:00,  1.39s/batch, loss=0.407]\n"
     ]
    },
    {
     "name": "stdout",
     "output_type": "stream",
     "text": [
      "current acc 0.665 and loss 0.4074175199493766\n"
     ]
    },
    {
     "name": "stderr",
     "output_type": "stream",
     "text": [
      "/home/transmedia-eg/test_env/lib/python3.6/site-packages/ipykernel_launcher.py:14: UserWarning: Implicit dimension choice for softmax has been deprecated. Change the call to include dim=X as an argument.\n",
      "  \n",
      "  0%|          | 0/29 [00:00<?, ?batch/s]"
     ]
    },
    {
     "name": "stdout",
     "output_type": "stream",
     "text": [
      "done epoch 1 : test_acc 0.705\n",
      "Coarse label 16 Epoch 3\n",
      "-------------------------------\n"
     ]
    },
    {
     "name": "stderr",
     "output_type": "stream",
     "text": [
      "/home/transmedia-eg/test_env/lib/python3.6/site-packages/ipykernel_launcher.py:14: UserWarning: Implicit dimension choice for softmax has been deprecated. Change the call to include dim=X as an argument.\n",
      "  \n",
      "100%|██████████| 29/29 [00:39<00:00,  1.38s/batch, loss=0.371]\n"
     ]
    },
    {
     "name": "stdout",
     "output_type": "stream",
     "text": [
      "current acc 0.705 and loss 0.37066229060292244\n"
     ]
    },
    {
     "name": "stderr",
     "output_type": "stream",
     "text": [
      "/home/transmedia-eg/test_env/lib/python3.6/site-packages/ipykernel_launcher.py:14: UserWarning: Implicit dimension choice for softmax has been deprecated. Change the call to include dim=X as an argument.\n",
      "  \n",
      "  0%|          | 0/29 [00:00<?, ?batch/s]"
     ]
    },
    {
     "name": "stdout",
     "output_type": "stream",
     "text": [
      "done epoch 2 : test_acc 0.7\n",
      "Coarse label 16 Epoch 4\n",
      "-------------------------------\n"
     ]
    },
    {
     "name": "stderr",
     "output_type": "stream",
     "text": [
      "/home/transmedia-eg/test_env/lib/python3.6/site-packages/ipykernel_launcher.py:14: UserWarning: Implicit dimension choice for softmax has been deprecated. Change the call to include dim=X as an argument.\n",
      "  \n",
      "100%|██████████| 29/29 [00:40<00:00,  1.39s/batch, loss=0.36] \n"
     ]
    },
    {
     "name": "stdout",
     "output_type": "stream",
     "text": [
      "current acc 0.705 and loss 0.36016677413135767\n"
     ]
    },
    {
     "name": "stderr",
     "output_type": "stream",
     "text": [
      "/home/transmedia-eg/test_env/lib/python3.6/site-packages/ipykernel_launcher.py:14: UserWarning: Implicit dimension choice for softmax has been deprecated. Change the call to include dim=X as an argument.\n",
      "  \n",
      "  0%|          | 0/29 [00:00<?, ?batch/s]"
     ]
    },
    {
     "name": "stdout",
     "output_type": "stream",
     "text": [
      "done epoch 3 : test_acc 0.7175\n",
      "Coarse label 16 Epoch 5\n",
      "-------------------------------\n"
     ]
    },
    {
     "name": "stderr",
     "output_type": "stream",
     "text": [
      "/home/transmedia-eg/test_env/lib/python3.6/site-packages/ipykernel_launcher.py:14: UserWarning: Implicit dimension choice for softmax has been deprecated. Change the call to include dim=X as an argument.\n",
      "  \n",
      "100%|██████████| 29/29 [00:40<00:00,  1.38s/batch, loss=0.352]\n"
     ]
    },
    {
     "name": "stdout",
     "output_type": "stream",
     "text": [
      "current acc 0.68 and loss 0.35245367884635925\n"
     ]
    },
    {
     "name": "stderr",
     "output_type": "stream",
     "text": [
      "/home/transmedia-eg/test_env/lib/python3.6/site-packages/ipykernel_launcher.py:14: UserWarning: Implicit dimension choice for softmax has been deprecated. Change the call to include dim=X as an argument.\n",
      "  \n",
      "  0%|          | 0/29 [00:00<?, ?batch/s]"
     ]
    },
    {
     "name": "stdout",
     "output_type": "stream",
     "text": [
      "done epoch 4 : test_acc 0.73\n",
      "Coarse label 16 Epoch 6\n",
      "-------------------------------\n"
     ]
    },
    {
     "name": "stderr",
     "output_type": "stream",
     "text": [
      "/home/transmedia-eg/test_env/lib/python3.6/site-packages/ipykernel_launcher.py:14: UserWarning: Implicit dimension choice for softmax has been deprecated. Change the call to include dim=X as an argument.\n",
      "  \n",
      "100%|██████████| 29/29 [00:40<00:00,  1.39s/batch, loss=0.348]\n"
     ]
    },
    {
     "name": "stdout",
     "output_type": "stream",
     "text": [
      "current acc 0.675 and loss 0.3476920621469617\n"
     ]
    },
    {
     "name": "stderr",
     "output_type": "stream",
     "text": [
      "/home/transmedia-eg/test_env/lib/python3.6/site-packages/ipykernel_launcher.py:14: UserWarning: Implicit dimension choice for softmax has been deprecated. Change the call to include dim=X as an argument.\n",
      "  \n",
      "  0%|          | 0/29 [00:00<?, ?batch/s]"
     ]
    },
    {
     "name": "stdout",
     "output_type": "stream",
     "text": [
      "done epoch 5 : test_acc 0.725\n",
      "Coarse label 16 Epoch 7\n",
      "-------------------------------\n"
     ]
    },
    {
     "name": "stderr",
     "output_type": "stream",
     "text": [
      "/home/transmedia-eg/test_env/lib/python3.6/site-packages/ipykernel_launcher.py:14: UserWarning: Implicit dimension choice for softmax has been deprecated. Change the call to include dim=X as an argument.\n",
      "  \n",
      "100%|██████████| 29/29 [00:39<00:00,  1.36s/batch, loss=0.349]\n"
     ]
    },
    {
     "name": "stdout",
     "output_type": "stream",
     "text": [
      "current acc 0.68 and loss 0.34940868616104126\n"
     ]
    },
    {
     "name": "stderr",
     "output_type": "stream",
     "text": [
      "/home/transmedia-eg/test_env/lib/python3.6/site-packages/ipykernel_launcher.py:14: UserWarning: Implicit dimension choice for softmax has been deprecated. Change the call to include dim=X as an argument.\n",
      "  \n",
      "  0%|          | 0/29 [00:00<?, ?batch/s]"
     ]
    },
    {
     "name": "stdout",
     "output_type": "stream",
     "text": [
      "done epoch 6 : test_acc 0.7025\n",
      "Coarse label 16 Epoch 8\n",
      "-------------------------------\n"
     ]
    },
    {
     "name": "stderr",
     "output_type": "stream",
     "text": [
      "/home/transmedia-eg/test_env/lib/python3.6/site-packages/ipykernel_launcher.py:14: UserWarning: Implicit dimension choice for softmax has been deprecated. Change the call to include dim=X as an argument.\n",
      "  \n",
      "100%|██████████| 29/29 [00:40<00:00,  1.39s/batch, loss=0.344]\n"
     ]
    },
    {
     "name": "stdout",
     "output_type": "stream",
     "text": [
      "current acc 0.74 and loss 0.34393278788775206\n"
     ]
    },
    {
     "name": "stderr",
     "output_type": "stream",
     "text": [
      "/home/transmedia-eg/test_env/lib/python3.6/site-packages/ipykernel_launcher.py:14: UserWarning: Implicit dimension choice for softmax has been deprecated. Change the call to include dim=X as an argument.\n",
      "  \n",
      "  0%|          | 0/29 [00:00<?, ?batch/s]"
     ]
    },
    {
     "name": "stdout",
     "output_type": "stream",
     "text": [
      "done epoch 7 : test_acc 0.7225\n",
      "Coarse label 16 Epoch 9\n",
      "-------------------------------\n"
     ]
    },
    {
     "name": "stderr",
     "output_type": "stream",
     "text": [
      "/home/transmedia-eg/test_env/lib/python3.6/site-packages/ipykernel_launcher.py:14: UserWarning: Implicit dimension choice for softmax has been deprecated. Change the call to include dim=X as an argument.\n",
      "  \n",
      "100%|██████████| 29/29 [00:39<00:00,  1.36s/batch, loss=0.344]\n"
     ]
    },
    {
     "name": "stdout",
     "output_type": "stream",
     "text": [
      "current acc 0.72 and loss 0.34370632469654083\n"
     ]
    },
    {
     "name": "stderr",
     "output_type": "stream",
     "text": [
      "/home/transmedia-eg/test_env/lib/python3.6/site-packages/ipykernel_launcher.py:14: UserWarning: Implicit dimension choice for softmax has been deprecated. Change the call to include dim=X as an argument.\n",
      "  \n",
      "  0%|          | 0/29 [00:00<?, ?batch/s]"
     ]
    },
    {
     "name": "stdout",
     "output_type": "stream",
     "text": [
      "done epoch 8 : test_acc 0.7175\n",
      "Coarse label 16 Epoch 10\n",
      "-------------------------------\n"
     ]
    },
    {
     "name": "stderr",
     "output_type": "stream",
     "text": [
      "/home/transmedia-eg/test_env/lib/python3.6/site-packages/ipykernel_launcher.py:14: UserWarning: Implicit dimension choice for softmax has been deprecated. Change the call to include dim=X as an argument.\n",
      "  \n",
      "100%|██████████| 29/29 [00:39<00:00,  1.38s/batch, loss=0.342]\n"
     ]
    },
    {
     "name": "stdout",
     "output_type": "stream",
     "text": [
      "current acc 0.715 and loss 0.34207788947969675\n"
     ]
    },
    {
     "name": "stderr",
     "output_type": "stream",
     "text": [
      "/home/transmedia-eg/test_env/lib/python3.6/site-packages/ipykernel_launcher.py:14: UserWarning: Implicit dimension choice for softmax has been deprecated. Change the call to include dim=X as an argument.\n",
      "  \n"
     ]
    },
    {
     "name": "stdout",
     "output_type": "stream",
     "text": [
      "done epoch 9 : test_acc 0.6975\n",
      "Done! Saved model with validation accuracy 0.715 and loss 0.34207788947969675\n",
      "{0: (0.935, 0.925), 1: (0.84, 0.8433333333333334), 2: (0.98, 0.9266666666666666), 3: (0.96, 0.94), 4: (0.98, 0.9866666666666667), 7: (0.964, 0.972), 8: (0.8775, 0.8675), 9: (0.932, 0.864), 10: (0.96, 0.975), 11: (0.9022222222222223, 0.8677777777777778), 12: (0.8733333333333333, 0.8916666666666667), 13: (0.92, 0.9433333333333334), 14: (0.95, 0.9483333333333334), 15: (0.96, 0.98), 16: (0.715, 0.6975)}\n"
     ]
    },
    {
     "name": "stderr",
     "output_type": "stream",
     "text": [
      "\r",
      "  0%|          | 0/15 [00:00<?, ?batch/s]"
     ]
    },
    {
     "name": "stdout",
     "output_type": "stream",
     "text": [
      "Coarse label 18 Epoch 1\n",
      "-------------------------------\n"
     ]
    },
    {
     "name": "stderr",
     "output_type": "stream",
     "text": [
      "/home/transmedia-eg/test_env/lib/python3.6/site-packages/ipykernel_launcher.py:14: UserWarning: Implicit dimension choice for softmax has been deprecated. Change the call to include dim=X as an argument.\n",
      "  \n",
      "100%|██████████| 15/15 [00:20<00:00,  1.39s/batch, loss=0.116] \n"
     ]
    },
    {
     "name": "stdout",
     "output_type": "stream",
     "text": [
      "current acc 0.97 and loss 0.11640218691900373\n"
     ]
    },
    {
     "name": "stderr",
     "output_type": "stream",
     "text": [
      "/home/transmedia-eg/test_env/lib/python3.6/site-packages/ipykernel_launcher.py:14: UserWarning: Implicit dimension choice for softmax has been deprecated. Change the call to include dim=X as an argument.\n",
      "  \n",
      "  0%|          | 0/15 [00:00<?, ?batch/s]"
     ]
    },
    {
     "name": "stdout",
     "output_type": "stream",
     "text": [
      "done epoch 0 : test_acc 0.95\n",
      "Coarse label 18 Epoch 2\n",
      "-------------------------------\n"
     ]
    },
    {
     "name": "stderr",
     "output_type": "stream",
     "text": [
      "/home/transmedia-eg/test_env/lib/python3.6/site-packages/ipykernel_launcher.py:14: UserWarning: Implicit dimension choice for softmax has been deprecated. Change the call to include dim=X as an argument.\n",
      "  \n",
      "100%|██████████| 15/15 [00:21<00:00,  1.43s/batch, loss=0.0753]\n"
     ]
    },
    {
     "name": "stdout",
     "output_type": "stream",
     "text": [
      "current acc 0.97 and loss 0.07526390440762043\n"
     ]
    },
    {
     "name": "stderr",
     "output_type": "stream",
     "text": [
      "/home/transmedia-eg/test_env/lib/python3.6/site-packages/ipykernel_launcher.py:14: UserWarning: Implicit dimension choice for softmax has been deprecated. Change the call to include dim=X as an argument.\n",
      "  \n",
      "  0%|          | 0/15 [00:00<?, ?batch/s]"
     ]
    },
    {
     "name": "stdout",
     "output_type": "stream",
     "text": [
      "done epoch 1 : test_acc 0.99\n",
      "Coarse label 18 Epoch 3\n",
      "-------------------------------\n"
     ]
    },
    {
     "name": "stderr",
     "output_type": "stream",
     "text": [
      "/home/transmedia-eg/test_env/lib/python3.6/site-packages/ipykernel_launcher.py:14: UserWarning: Implicit dimension choice for softmax has been deprecated. Change the call to include dim=X as an argument.\n",
      "  \n",
      "100%|██████████| 15/15 [00:20<00:00,  1.37s/batch, loss=0.081] \n"
     ]
    },
    {
     "name": "stdout",
     "output_type": "stream",
     "text": [
      "current acc 0.95 and loss 0.08095086319372058\n"
     ]
    },
    {
     "name": "stderr",
     "output_type": "stream",
     "text": [
      "/home/transmedia-eg/test_env/lib/python3.6/site-packages/ipykernel_launcher.py:14: UserWarning: Implicit dimension choice for softmax has been deprecated. Change the call to include dim=X as an argument.\n",
      "  \n",
      "  0%|          | 0/15 [00:00<?, ?batch/s]"
     ]
    },
    {
     "name": "stdout",
     "output_type": "stream",
     "text": [
      "done epoch 2 : test_acc 0.965\n",
      "Coarse label 18 Epoch 4\n",
      "-------------------------------\n"
     ]
    },
    {
     "name": "stderr",
     "output_type": "stream",
     "text": [
      "/home/transmedia-eg/test_env/lib/python3.6/site-packages/ipykernel_launcher.py:14: UserWarning: Implicit dimension choice for softmax has been deprecated. Change the call to include dim=X as an argument.\n",
      "  \n",
      "100%|██████████| 15/15 [00:21<00:00,  1.43s/batch, loss=0.0748]\n"
     ]
    },
    {
     "name": "stdout",
     "output_type": "stream",
     "text": [
      "current acc 0.9 and loss 0.07475162949413061\n"
     ]
    },
    {
     "name": "stderr",
     "output_type": "stream",
     "text": [
      "/home/transmedia-eg/test_env/lib/python3.6/site-packages/ipykernel_launcher.py:14: UserWarning: Implicit dimension choice for softmax has been deprecated. Change the call to include dim=X as an argument.\n",
      "  \n",
      "  0%|          | 0/15 [00:00<?, ?batch/s]"
     ]
    },
    {
     "name": "stdout",
     "output_type": "stream",
     "text": [
      "done epoch 3 : test_acc 0.945\n",
      "Coarse label 18 Epoch 5\n",
      "-------------------------------\n"
     ]
    },
    {
     "name": "stderr",
     "output_type": "stream",
     "text": [
      "/home/transmedia-eg/test_env/lib/python3.6/site-packages/ipykernel_launcher.py:14: UserWarning: Implicit dimension choice for softmax has been deprecated. Change the call to include dim=X as an argument.\n",
      "  \n",
      "100%|██████████| 15/15 [00:22<00:00,  1.47s/batch, loss=0.0746]\n"
     ]
    },
    {
     "name": "stdout",
     "output_type": "stream",
     "text": [
      "current acc 0.99 and loss 0.07455196417868137\n"
     ]
    },
    {
     "name": "stderr",
     "output_type": "stream",
     "text": [
      "/home/transmedia-eg/test_env/lib/python3.6/site-packages/ipykernel_launcher.py:14: UserWarning: Implicit dimension choice for softmax has been deprecated. Change the call to include dim=X as an argument.\n",
      "  \n",
      "  0%|          | 0/15 [00:00<?, ?batch/s]"
     ]
    },
    {
     "name": "stdout",
     "output_type": "stream",
     "text": [
      "done epoch 4 : test_acc 0.96\n",
      "Coarse label 18 Epoch 6\n",
      "-------------------------------\n"
     ]
    },
    {
     "name": "stderr",
     "output_type": "stream",
     "text": [
      "/home/transmedia-eg/test_env/lib/python3.6/site-packages/ipykernel_launcher.py:14: UserWarning: Implicit dimension choice for softmax has been deprecated. Change the call to include dim=X as an argument.\n",
      "  \n",
      "100%|██████████| 15/15 [00:21<00:00,  1.40s/batch, loss=0.0741]\n"
     ]
    },
    {
     "name": "stdout",
     "output_type": "stream",
     "text": [
      "current acc 0.99 and loss 0.07411894667893648\n"
     ]
    },
    {
     "name": "stderr",
     "output_type": "stream",
     "text": [
      "/home/transmedia-eg/test_env/lib/python3.6/site-packages/ipykernel_launcher.py:14: UserWarning: Implicit dimension choice for softmax has been deprecated. Change the call to include dim=X as an argument.\n",
      "  \n",
      "  0%|          | 0/15 [00:00<?, ?batch/s]"
     ]
    },
    {
     "name": "stdout",
     "output_type": "stream",
     "text": [
      "done epoch 5 : test_acc 0.965\n",
      "Coarse label 18 Epoch 7\n",
      "-------------------------------\n"
     ]
    },
    {
     "name": "stderr",
     "output_type": "stream",
     "text": [
      "/home/transmedia-eg/test_env/lib/python3.6/site-packages/ipykernel_launcher.py:14: UserWarning: Implicit dimension choice for softmax has been deprecated. Change the call to include dim=X as an argument.\n",
      "  \n",
      "100%|██████████| 15/15 [00:21<00:00,  1.40s/batch, loss=0.0817]\n"
     ]
    },
    {
     "name": "stdout",
     "output_type": "stream",
     "text": [
      "current acc 0.98 and loss 0.08170188870280981\n"
     ]
    },
    {
     "name": "stderr",
     "output_type": "stream",
     "text": [
      "/home/transmedia-eg/test_env/lib/python3.6/site-packages/ipykernel_launcher.py:14: UserWarning: Implicit dimension choice for softmax has been deprecated. Change the call to include dim=X as an argument.\n",
      "  \n",
      "  0%|          | 0/15 [00:00<?, ?batch/s]"
     ]
    },
    {
     "name": "stdout",
     "output_type": "stream",
     "text": [
      "done epoch 6 : test_acc 0.965\n",
      "Coarse label 18 Epoch 8\n",
      "-------------------------------\n"
     ]
    },
    {
     "name": "stderr",
     "output_type": "stream",
     "text": [
      "/home/transmedia-eg/test_env/lib/python3.6/site-packages/ipykernel_launcher.py:14: UserWarning: Implicit dimension choice for softmax has been deprecated. Change the call to include dim=X as an argument.\n",
      "  \n",
      "100%|██████████| 15/15 [00:21<00:00,  1.42s/batch, loss=0.0754]\n"
     ]
    },
    {
     "name": "stdout",
     "output_type": "stream",
     "text": [
      "current acc 0.97 and loss 0.07540620677173138\n"
     ]
    },
    {
     "name": "stderr",
     "output_type": "stream",
     "text": [
      "/home/transmedia-eg/test_env/lib/python3.6/site-packages/ipykernel_launcher.py:14: UserWarning: Implicit dimension choice for softmax has been deprecated. Change the call to include dim=X as an argument.\n",
      "  \n",
      "  0%|          | 0/15 [00:00<?, ?batch/s]"
     ]
    },
    {
     "name": "stdout",
     "output_type": "stream",
     "text": [
      "done epoch 7 : test_acc 0.945\n",
      "Coarse label 18 Epoch 9\n",
      "-------------------------------\n"
     ]
    },
    {
     "name": "stderr",
     "output_type": "stream",
     "text": [
      "/home/transmedia-eg/test_env/lib/python3.6/site-packages/ipykernel_launcher.py:14: UserWarning: Implicit dimension choice for softmax has been deprecated. Change the call to include dim=X as an argument.\n",
      "  \n",
      "100%|██████████| 15/15 [00:20<00:00,  1.38s/batch, loss=0.0811]\n"
     ]
    },
    {
     "name": "stdout",
     "output_type": "stream",
     "text": [
      "current acc 0.95 and loss 0.08112389640882611\n"
     ]
    },
    {
     "name": "stderr",
     "output_type": "stream",
     "text": [
      "/home/transmedia-eg/test_env/lib/python3.6/site-packages/ipykernel_launcher.py:14: UserWarning: Implicit dimension choice for softmax has been deprecated. Change the call to include dim=X as an argument.\n",
      "  \n",
      "  0%|          | 0/15 [00:00<?, ?batch/s]"
     ]
    },
    {
     "name": "stdout",
     "output_type": "stream",
     "text": [
      "done epoch 8 : test_acc 0.94\n",
      "Coarse label 18 Epoch 10\n",
      "-------------------------------\n"
     ]
    },
    {
     "name": "stderr",
     "output_type": "stream",
     "text": [
      "/home/transmedia-eg/test_env/lib/python3.6/site-packages/ipykernel_launcher.py:14: UserWarning: Implicit dimension choice for softmax has been deprecated. Change the call to include dim=X as an argument.\n",
      "  \n",
      "100%|██████████| 15/15 [00:21<00:00,  1.43s/batch, loss=0.0764]\n"
     ]
    },
    {
     "name": "stdout",
     "output_type": "stream",
     "text": [
      "current acc 0.96 and loss 0.07635815860703588\n"
     ]
    },
    {
     "name": "stderr",
     "output_type": "stream",
     "text": [
      "/home/transmedia-eg/test_env/lib/python3.6/site-packages/ipykernel_launcher.py:14: UserWarning: Implicit dimension choice for softmax has been deprecated. Change the call to include dim=X as an argument.\n",
      "  \n"
     ]
    },
    {
     "name": "stdout",
     "output_type": "stream",
     "text": [
      "done epoch 9 : test_acc 0.935\n",
      "Done! Saved model with validation accuracy 0.99 and loss 0.07411894667893648\n",
      "{0: (0.935, 0.925), 1: (0.84, 0.8433333333333334), 2: (0.98, 0.9266666666666666), 3: (0.96, 0.94), 4: (0.98, 0.9866666666666667), 7: (0.964, 0.972), 8: (0.8775, 0.8675), 9: (0.932, 0.864), 10: (0.96, 0.975), 11: (0.9022222222222223, 0.8677777777777778), 12: (0.8733333333333333, 0.8916666666666667), 13: (0.92, 0.9433333333333334), 14: (0.95, 0.9483333333333334), 15: (0.96, 0.98), 16: (0.715, 0.6975), 18: (0.99, 0.935)}\n"
     ]
    },
    {
     "name": "stderr",
     "output_type": "stream",
     "text": [
      "\r",
      "  0%|          | 0/36 [00:00<?, ?batch/s]"
     ]
    },
    {
     "name": "stdout",
     "output_type": "stream",
     "text": [
      "Coarse label 21 Epoch 1\n",
      "-------------------------------\n"
     ]
    },
    {
     "name": "stderr",
     "output_type": "stream",
     "text": [
      "/home/transmedia-eg/test_env/lib/python3.6/site-packages/ipykernel_launcher.py:14: UserWarning: Implicit dimension choice for softmax has been deprecated. Change the call to include dim=X as an argument.\n",
      "  \n",
      "100%|██████████| 36/36 [00:50<00:00,  1.40s/batch, loss=0.712]\n"
     ]
    },
    {
     "name": "stdout",
     "output_type": "stream",
     "text": [
      "current acc 0.776 and loss 0.7122270800173283\n"
     ]
    },
    {
     "name": "stderr",
     "output_type": "stream",
     "text": [
      "/home/transmedia-eg/test_env/lib/python3.6/site-packages/ipykernel_launcher.py:14: UserWarning: Implicit dimension choice for softmax has been deprecated. Change the call to include dim=X as an argument.\n",
      "  \n",
      "  0%|          | 0/36 [00:00<?, ?batch/s]"
     ]
    },
    {
     "name": "stdout",
     "output_type": "stream",
     "text": [
      "done epoch 0 : test_acc 0.808\n",
      "Coarse label 21 Epoch 2\n",
      "-------------------------------\n"
     ]
    },
    {
     "name": "stderr",
     "output_type": "stream",
     "text": [
      "/home/transmedia-eg/test_env/lib/python3.6/site-packages/ipykernel_launcher.py:14: UserWarning: Implicit dimension choice for softmax has been deprecated. Change the call to include dim=X as an argument.\n",
      "  \n",
      "100%|██████████| 36/36 [00:50<00:00,  1.40s/batch, loss=0.586]\n"
     ]
    },
    {
     "name": "stdout",
     "output_type": "stream",
     "text": [
      "current acc 0.768 and loss 0.5860642762854695\n"
     ]
    },
    {
     "name": "stderr",
     "output_type": "stream",
     "text": [
      "/home/transmedia-eg/test_env/lib/python3.6/site-packages/ipykernel_launcher.py:14: UserWarning: Implicit dimension choice for softmax has been deprecated. Change the call to include dim=X as an argument.\n",
      "  \n",
      "  0%|          | 0/36 [00:00<?, ?batch/s]"
     ]
    },
    {
     "name": "stdout",
     "output_type": "stream",
     "text": [
      "done epoch 1 : test_acc 0.802\n",
      "Coarse label 21 Epoch 3\n",
      "-------------------------------\n"
     ]
    },
    {
     "name": "stderr",
     "output_type": "stream",
     "text": [
      "/home/transmedia-eg/test_env/lib/python3.6/site-packages/ipykernel_launcher.py:14: UserWarning: Implicit dimension choice for softmax has been deprecated. Change the call to include dim=X as an argument.\n",
      "  \n",
      "100%|██████████| 36/36 [00:50<00:00,  1.40s/batch, loss=0.557]\n"
     ]
    },
    {
     "name": "stdout",
     "output_type": "stream",
     "text": [
      "current acc 0.812 and loss 0.5572529193013906\n"
     ]
    },
    {
     "name": "stderr",
     "output_type": "stream",
     "text": [
      "/home/transmedia-eg/test_env/lib/python3.6/site-packages/ipykernel_launcher.py:14: UserWarning: Implicit dimension choice for softmax has been deprecated. Change the call to include dim=X as an argument.\n",
      "  \n",
      "  0%|          | 0/36 [00:00<?, ?batch/s]"
     ]
    },
    {
     "name": "stdout",
     "output_type": "stream",
     "text": [
      "done epoch 2 : test_acc 0.82\n",
      "Coarse label 21 Epoch 4\n",
      "-------------------------------\n"
     ]
    },
    {
     "name": "stderr",
     "output_type": "stream",
     "text": [
      "/home/transmedia-eg/test_env/lib/python3.6/site-packages/ipykernel_launcher.py:14: UserWarning: Implicit dimension choice for softmax has been deprecated. Change the call to include dim=X as an argument.\n",
      "  \n",
      "100%|██████████| 36/36 [00:49<00:00,  1.37s/batch, loss=0.544]\n"
     ]
    },
    {
     "name": "stdout",
     "output_type": "stream",
     "text": [
      "current acc 0.804 and loss 0.543868281878531\n"
     ]
    },
    {
     "name": "stderr",
     "output_type": "stream",
     "text": [
      "/home/transmedia-eg/test_env/lib/python3.6/site-packages/ipykernel_launcher.py:14: UserWarning: Implicit dimension choice for softmax has been deprecated. Change the call to include dim=X as an argument.\n",
      "  \n",
      "  0%|          | 0/36 [00:00<?, ?batch/s]"
     ]
    },
    {
     "name": "stdout",
     "output_type": "stream",
     "text": [
      "done epoch 3 : test_acc 0.826\n",
      "Coarse label 21 Epoch 5\n",
      "-------------------------------\n"
     ]
    },
    {
     "name": "stderr",
     "output_type": "stream",
     "text": [
      "/home/transmedia-eg/test_env/lib/python3.6/site-packages/ipykernel_launcher.py:14: UserWarning: Implicit dimension choice for softmax has been deprecated. Change the call to include dim=X as an argument.\n",
      "  \n",
      "100%|██████████| 36/36 [00:49<00:00,  1.38s/batch, loss=0.535]\n"
     ]
    },
    {
     "name": "stdout",
     "output_type": "stream",
     "text": [
      "current acc 0.8 and loss 0.5354766566306353\n"
     ]
    },
    {
     "name": "stderr",
     "output_type": "stream",
     "text": [
      "/home/transmedia-eg/test_env/lib/python3.6/site-packages/ipykernel_launcher.py:14: UserWarning: Implicit dimension choice for softmax has been deprecated. Change the call to include dim=X as an argument.\n",
      "  \n",
      "  0%|          | 0/36 [00:00<?, ?batch/s]"
     ]
    },
    {
     "name": "stdout",
     "output_type": "stream",
     "text": [
      "done epoch 4 : test_acc 0.832\n",
      "Coarse label 21 Epoch 6\n",
      "-------------------------------\n"
     ]
    },
    {
     "name": "stderr",
     "output_type": "stream",
     "text": [
      "/home/transmedia-eg/test_env/lib/python3.6/site-packages/ipykernel_launcher.py:14: UserWarning: Implicit dimension choice for softmax has been deprecated. Change the call to include dim=X as an argument.\n",
      "  \n",
      "100%|██████████| 36/36 [00:50<00:00,  1.40s/batch, loss=0.534]\n"
     ]
    },
    {
     "name": "stdout",
     "output_type": "stream",
     "text": [
      "current acc 0.776 and loss 0.5336279179900885\n"
     ]
    },
    {
     "name": "stderr",
     "output_type": "stream",
     "text": [
      "/home/transmedia-eg/test_env/lib/python3.6/site-packages/ipykernel_launcher.py:14: UserWarning: Implicit dimension choice for softmax has been deprecated. Change the call to include dim=X as an argument.\n",
      "  \n",
      "  0%|          | 0/36 [00:00<?, ?batch/s]"
     ]
    },
    {
     "name": "stdout",
     "output_type": "stream",
     "text": [
      "done epoch 5 : test_acc 0.846\n",
      "Coarse label 21 Epoch 7\n",
      "-------------------------------\n"
     ]
    },
    {
     "name": "stderr",
     "output_type": "stream",
     "text": [
      "/home/transmedia-eg/test_env/lib/python3.6/site-packages/ipykernel_launcher.py:14: UserWarning: Implicit dimension choice for softmax has been deprecated. Change the call to include dim=X as an argument.\n",
      "  \n",
      "100%|██████████| 36/36 [00:49<00:00,  1.37s/batch, loss=0.533]\n"
     ]
    },
    {
     "name": "stdout",
     "output_type": "stream",
     "text": [
      "current acc 0.796 and loss 0.5326112369075418\n"
     ]
    },
    {
     "name": "stderr",
     "output_type": "stream",
     "text": [
      "/home/transmedia-eg/test_env/lib/python3.6/site-packages/ipykernel_launcher.py:14: UserWarning: Implicit dimension choice for softmax has been deprecated. Change the call to include dim=X as an argument.\n",
      "  \n",
      "  0%|          | 0/36 [00:00<?, ?batch/s]"
     ]
    },
    {
     "name": "stdout",
     "output_type": "stream",
     "text": [
      "done epoch 6 : test_acc 0.806\n",
      "Coarse label 21 Epoch 8\n",
      "-------------------------------\n"
     ]
    },
    {
     "name": "stderr",
     "output_type": "stream",
     "text": [
      "/home/transmedia-eg/test_env/lib/python3.6/site-packages/ipykernel_launcher.py:14: UserWarning: Implicit dimension choice for softmax has been deprecated. Change the call to include dim=X as an argument.\n",
      "  \n",
      "100%|██████████| 36/36 [00:49<00:00,  1.37s/batch, loss=0.533]\n"
     ]
    },
    {
     "name": "stdout",
     "output_type": "stream",
     "text": [
      "current acc 0.784 and loss 0.5330426171422005\n"
     ]
    },
    {
     "name": "stderr",
     "output_type": "stream",
     "text": [
      "/home/transmedia-eg/test_env/lib/python3.6/site-packages/ipykernel_launcher.py:14: UserWarning: Implicit dimension choice for softmax has been deprecated. Change the call to include dim=X as an argument.\n",
      "  \n",
      "  0%|          | 0/36 [00:00<?, ?batch/s]"
     ]
    },
    {
     "name": "stdout",
     "output_type": "stream",
     "text": [
      "done epoch 7 : test_acc 0.806\n",
      "Coarse label 21 Epoch 9\n",
      "-------------------------------\n"
     ]
    },
    {
     "name": "stderr",
     "output_type": "stream",
     "text": [
      "/home/transmedia-eg/test_env/lib/python3.6/site-packages/ipykernel_launcher.py:14: UserWarning: Implicit dimension choice for softmax has been deprecated. Change the call to include dim=X as an argument.\n",
      "  \n",
      "100%|██████████| 36/36 [00:49<00:00,  1.38s/batch, loss=0.54] \n"
     ]
    },
    {
     "name": "stdout",
     "output_type": "stream",
     "text": [
      "current acc 0.816 and loss 0.5399304823949933\n"
     ]
    },
    {
     "name": "stderr",
     "output_type": "stream",
     "text": [
      "/home/transmedia-eg/test_env/lib/python3.6/site-packages/ipykernel_launcher.py:14: UserWarning: Implicit dimension choice for softmax has been deprecated. Change the call to include dim=X as an argument.\n",
      "  \n",
      "  0%|          | 0/36 [00:00<?, ?batch/s]"
     ]
    },
    {
     "name": "stdout",
     "output_type": "stream",
     "text": [
      "done epoch 8 : test_acc 0.826\n",
      "Coarse label 21 Epoch 10\n",
      "-------------------------------\n"
     ]
    },
    {
     "name": "stderr",
     "output_type": "stream",
     "text": [
      "/home/transmedia-eg/test_env/lib/python3.6/site-packages/ipykernel_launcher.py:14: UserWarning: Implicit dimension choice for softmax has been deprecated. Change the call to include dim=X as an argument.\n",
      "  \n",
      "100%|██████████| 36/36 [00:49<00:00,  1.38s/batch, loss=0.533]\n"
     ]
    },
    {
     "name": "stdout",
     "output_type": "stream",
     "text": [
      "current acc 0.812 and loss 0.5325644575059414\n"
     ]
    },
    {
     "name": "stderr",
     "output_type": "stream",
     "text": [
      "/home/transmedia-eg/test_env/lib/python3.6/site-packages/ipykernel_launcher.py:14: UserWarning: Implicit dimension choice for softmax has been deprecated. Change the call to include dim=X as an argument.\n",
      "  \n"
     ]
    },
    {
     "name": "stdout",
     "output_type": "stream",
     "text": [
      "done epoch 9 : test_acc 0.822\n",
      "Done! Saved model with validation accuracy 0.812 and loss 0.5325644575059414\n",
      "{0: (0.935, 0.925), 1: (0.84, 0.8433333333333334), 2: (0.98, 0.9266666666666666), 3: (0.96, 0.94), 4: (0.98, 0.9866666666666667), 7: (0.964, 0.972), 8: (0.8775, 0.8675), 9: (0.932, 0.864), 10: (0.96, 0.975), 11: (0.9022222222222223, 0.8677777777777778), 12: (0.8733333333333333, 0.8916666666666667), 13: (0.92, 0.9433333333333334), 14: (0.95, 0.9483333333333334), 15: (0.96, 0.98), 16: (0.715, 0.6975), 18: (0.99, 0.935), 21: (0.812, 0.822)}\n"
     ]
    },
    {
     "name": "stderr",
     "output_type": "stream",
     "text": [
      "\r",
      "  0%|          | 0/15 [00:00<?, ?batch/s]"
     ]
    },
    {
     "name": "stdout",
     "output_type": "stream",
     "text": [
      "Coarse label 23 Epoch 1\n",
      "-------------------------------\n"
     ]
    },
    {
     "name": "stderr",
     "output_type": "stream",
     "text": [
      "/home/transmedia-eg/test_env/lib/python3.6/site-packages/ipykernel_launcher.py:14: UserWarning: Implicit dimension choice for softmax has been deprecated. Change the call to include dim=X as an argument.\n",
      "  \n",
      "100%|██████████| 15/15 [00:20<00:00,  1.38s/batch, loss=0.108] \n"
     ]
    },
    {
     "name": "stdout",
     "output_type": "stream",
     "text": [
      "current acc 0.92 and loss 0.10822038911283016\n"
     ]
    },
    {
     "name": "stderr",
     "output_type": "stream",
     "text": [
      "/home/transmedia-eg/test_env/lib/python3.6/site-packages/ipykernel_launcher.py:14: UserWarning: Implicit dimension choice for softmax has been deprecated. Change the call to include dim=X as an argument.\n",
      "  \n",
      "  0%|          | 0/15 [00:00<?, ?batch/s]"
     ]
    },
    {
     "name": "stdout",
     "output_type": "stream",
     "text": [
      "done epoch 0 : test_acc 0.915\n",
      "Coarse label 23 Epoch 2\n",
      "-------------------------------\n"
     ]
    },
    {
     "name": "stderr",
     "output_type": "stream",
     "text": [
      "/home/transmedia-eg/test_env/lib/python3.6/site-packages/ipykernel_launcher.py:14: UserWarning: Implicit dimension choice for softmax has been deprecated. Change the call to include dim=X as an argument.\n",
      "  \n",
      "100%|██████████| 15/15 [00:21<00:00,  1.43s/batch, loss=0.0772]\n"
     ]
    },
    {
     "name": "stdout",
     "output_type": "stream",
     "text": [
      "current acc 0.96 and loss 0.07724989159032702\n"
     ]
    },
    {
     "name": "stderr",
     "output_type": "stream",
     "text": [
      "/home/transmedia-eg/test_env/lib/python3.6/site-packages/ipykernel_launcher.py:14: UserWarning: Implicit dimension choice for softmax has been deprecated. Change the call to include dim=X as an argument.\n",
      "  \n",
      "  0%|          | 0/15 [00:00<?, ?batch/s]"
     ]
    },
    {
     "name": "stdout",
     "output_type": "stream",
     "text": [
      "done epoch 1 : test_acc 0.92\n",
      "Coarse label 23 Epoch 3\n",
      "-------------------------------\n"
     ]
    },
    {
     "name": "stderr",
     "output_type": "stream",
     "text": [
      "/home/transmedia-eg/test_env/lib/python3.6/site-packages/ipykernel_launcher.py:14: UserWarning: Implicit dimension choice for softmax has been deprecated. Change the call to include dim=X as an argument.\n",
      "  \n",
      "100%|██████████| 15/15 [00:20<00:00,  1.38s/batch, loss=0.0744]\n"
     ]
    },
    {
     "name": "stdout",
     "output_type": "stream",
     "text": [
      "current acc 0.96 and loss 0.07436327170580626\n"
     ]
    },
    {
     "name": "stderr",
     "output_type": "stream",
     "text": [
      "/home/transmedia-eg/test_env/lib/python3.6/site-packages/ipykernel_launcher.py:14: UserWarning: Implicit dimension choice for softmax has been deprecated. Change the call to include dim=X as an argument.\n",
      "  \n",
      "  0%|          | 0/15 [00:00<?, ?batch/s]"
     ]
    },
    {
     "name": "stdout",
     "output_type": "stream",
     "text": [
      "done epoch 2 : test_acc 0.925\n",
      "Coarse label 23 Epoch 4\n",
      "-------------------------------\n"
     ]
    },
    {
     "name": "stderr",
     "output_type": "stream",
     "text": [
      "/home/transmedia-eg/test_env/lib/python3.6/site-packages/ipykernel_launcher.py:14: UserWarning: Implicit dimension choice for softmax has been deprecated. Change the call to include dim=X as an argument.\n",
      "  \n",
      "100%|██████████| 15/15 [00:20<00:00,  1.39s/batch, loss=0.0761]\n"
     ]
    },
    {
     "name": "stdout",
     "output_type": "stream",
     "text": [
      "current acc 0.97 and loss 0.07607402047142386\n"
     ]
    },
    {
     "name": "stderr",
     "output_type": "stream",
     "text": [
      "/home/transmedia-eg/test_env/lib/python3.6/site-packages/ipykernel_launcher.py:14: UserWarning: Implicit dimension choice for softmax has been deprecated. Change the call to include dim=X as an argument.\n",
      "  \n",
      "  0%|          | 0/15 [00:00<?, ?batch/s]"
     ]
    },
    {
     "name": "stdout",
     "output_type": "stream",
     "text": [
      "done epoch 3 : test_acc 0.95\n",
      "Coarse label 23 Epoch 5\n",
      "-------------------------------\n"
     ]
    },
    {
     "name": "stderr",
     "output_type": "stream",
     "text": [
      "/home/transmedia-eg/test_env/lib/python3.6/site-packages/ipykernel_launcher.py:14: UserWarning: Implicit dimension choice for softmax has been deprecated. Change the call to include dim=X as an argument.\n",
      "  \n",
      "100%|██████████| 15/15 [00:20<00:00,  1.39s/batch, loss=0.0781]\n"
     ]
    },
    {
     "name": "stdout",
     "output_type": "stream",
     "text": [
      "current acc 0.94 and loss 0.07808699551969767\n"
     ]
    },
    {
     "name": "stderr",
     "output_type": "stream",
     "text": [
      "/home/transmedia-eg/test_env/lib/python3.6/site-packages/ipykernel_launcher.py:14: UserWarning: Implicit dimension choice for softmax has been deprecated. Change the call to include dim=X as an argument.\n",
      "  \n",
      "  0%|          | 0/15 [00:00<?, ?batch/s]"
     ]
    },
    {
     "name": "stdout",
     "output_type": "stream",
     "text": [
      "done epoch 4 : test_acc 0.89\n",
      "Coarse label 23 Epoch 6\n",
      "-------------------------------\n"
     ]
    },
    {
     "name": "stderr",
     "output_type": "stream",
     "text": [
      "/home/transmedia-eg/test_env/lib/python3.6/site-packages/ipykernel_launcher.py:14: UserWarning: Implicit dimension choice for softmax has been deprecated. Change the call to include dim=X as an argument.\n",
      "  \n",
      "100%|██████████| 15/15 [00:22<00:00,  1.49s/batch, loss=0.0805]\n"
     ]
    },
    {
     "name": "stdout",
     "output_type": "stream",
     "text": [
      "current acc 0.93 and loss 0.08052347926422954\n"
     ]
    },
    {
     "name": "stderr",
     "output_type": "stream",
     "text": [
      "/home/transmedia-eg/test_env/lib/python3.6/site-packages/ipykernel_launcher.py:14: UserWarning: Implicit dimension choice for softmax has been deprecated. Change the call to include dim=X as an argument.\n",
      "  \n",
      "  0%|          | 0/15 [00:00<?, ?batch/s]"
     ]
    },
    {
     "name": "stdout",
     "output_type": "stream",
     "text": [
      "done epoch 5 : test_acc 0.88\n",
      "Coarse label 23 Epoch 7\n",
      "-------------------------------\n"
     ]
    },
    {
     "name": "stderr",
     "output_type": "stream",
     "text": [
      "/home/transmedia-eg/test_env/lib/python3.6/site-packages/ipykernel_launcher.py:14: UserWarning: Implicit dimension choice for softmax has been deprecated. Change the call to include dim=X as an argument.\n",
      "  \n",
      "100%|██████████| 15/15 [00:20<00:00,  1.39s/batch, loss=0.0755]\n"
     ]
    },
    {
     "name": "stdout",
     "output_type": "stream",
     "text": [
      "current acc 0.95 and loss 0.07552708825096488\n"
     ]
    },
    {
     "name": "stderr",
     "output_type": "stream",
     "text": [
      "/home/transmedia-eg/test_env/lib/python3.6/site-packages/ipykernel_launcher.py:14: UserWarning: Implicit dimension choice for softmax has been deprecated. Change the call to include dim=X as an argument.\n",
      "  \n",
      "  0%|          | 0/15 [00:00<?, ?batch/s]"
     ]
    },
    {
     "name": "stdout",
     "output_type": "stream",
     "text": [
      "done epoch 6 : test_acc 0.92\n",
      "Coarse label 23 Epoch 8\n",
      "-------------------------------\n"
     ]
    },
    {
     "name": "stderr",
     "output_type": "stream",
     "text": [
      "/home/transmedia-eg/test_env/lib/python3.6/site-packages/ipykernel_launcher.py:14: UserWarning: Implicit dimension choice for softmax has been deprecated. Change the call to include dim=X as an argument.\n",
      "  \n",
      "100%|██████████| 15/15 [00:21<00:00,  1.43s/batch, loss=0.0867]\n"
     ]
    },
    {
     "name": "stdout",
     "output_type": "stream",
     "text": [
      "current acc 0.96 and loss 0.08668271917849779\n"
     ]
    },
    {
     "name": "stderr",
     "output_type": "stream",
     "text": [
      "/home/transmedia-eg/test_env/lib/python3.6/site-packages/ipykernel_launcher.py:14: UserWarning: Implicit dimension choice for softmax has been deprecated. Change the call to include dim=X as an argument.\n",
      "  \n",
      "  0%|          | 0/15 [00:00<?, ?batch/s]"
     ]
    },
    {
     "name": "stdout",
     "output_type": "stream",
     "text": [
      "done epoch 7 : test_acc 0.925\n",
      "Coarse label 23 Epoch 9\n",
      "-------------------------------\n"
     ]
    },
    {
     "name": "stderr",
     "output_type": "stream",
     "text": [
      "/home/transmedia-eg/test_env/lib/python3.6/site-packages/ipykernel_launcher.py:14: UserWarning: Implicit dimension choice for softmax has been deprecated. Change the call to include dim=X as an argument.\n",
      "  \n",
      "100%|██████████| 15/15 [00:21<00:00,  1.40s/batch, loss=0.0858]\n"
     ]
    },
    {
     "name": "stdout",
     "output_type": "stream",
     "text": [
      "current acc 0.96 and loss 0.08581770723685622\n"
     ]
    },
    {
     "name": "stderr",
     "output_type": "stream",
     "text": [
      "/home/transmedia-eg/test_env/lib/python3.6/site-packages/ipykernel_launcher.py:14: UserWarning: Implicit dimension choice for softmax has been deprecated. Change the call to include dim=X as an argument.\n",
      "  \n",
      "  0%|          | 0/15 [00:00<?, ?batch/s]"
     ]
    },
    {
     "name": "stdout",
     "output_type": "stream",
     "text": [
      "done epoch 8 : test_acc 0.91\n",
      "Coarse label 23 Epoch 10\n",
      "-------------------------------\n"
     ]
    },
    {
     "name": "stderr",
     "output_type": "stream",
     "text": [
      "/home/transmedia-eg/test_env/lib/python3.6/site-packages/ipykernel_launcher.py:14: UserWarning: Implicit dimension choice for softmax has been deprecated. Change the call to include dim=X as an argument.\n",
      "  \n",
      "100%|██████████| 15/15 [00:21<00:00,  1.42s/batch, loss=0.086] \n"
     ]
    },
    {
     "name": "stdout",
     "output_type": "stream",
     "text": [
      "current acc 0.92 and loss 0.08599925134330988\n"
     ]
    },
    {
     "name": "stderr",
     "output_type": "stream",
     "text": [
      "/home/transmedia-eg/test_env/lib/python3.6/site-packages/ipykernel_launcher.py:14: UserWarning: Implicit dimension choice for softmax has been deprecated. Change the call to include dim=X as an argument.\n",
      "  \n"
     ]
    },
    {
     "name": "stdout",
     "output_type": "stream",
     "text": [
      "done epoch 9 : test_acc 0.915\n",
      "Done! Saved model with validation accuracy 0.96 and loss 0.07436327170580626\n",
      "{0: (0.935, 0.925), 1: (0.84, 0.8433333333333334), 2: (0.98, 0.9266666666666666), 3: (0.96, 0.94), 4: (0.98, 0.9866666666666667), 7: (0.964, 0.972), 8: (0.8775, 0.8675), 9: (0.932, 0.864), 10: (0.96, 0.975), 11: (0.9022222222222223, 0.8677777777777778), 12: (0.8733333333333333, 0.8916666666666667), 13: (0.92, 0.9433333333333334), 14: (0.95, 0.9483333333333334), 15: (0.96, 0.98), 16: (0.715, 0.6975), 18: (0.99, 0.935), 21: (0.812, 0.822), 23: (0.96, 0.915)}\n"
     ]
    },
    {
     "name": "stderr",
     "output_type": "stream",
     "text": [
      "\r",
      "  0%|          | 0/29 [00:00<?, ?batch/s]"
     ]
    },
    {
     "name": "stdout",
     "output_type": "stream",
     "text": [
      "Coarse label 25 Epoch 1\n",
      "-------------------------------\n"
     ]
    },
    {
     "name": "stderr",
     "output_type": "stream",
     "text": [
      "/home/transmedia-eg/test_env/lib/python3.6/site-packages/ipykernel_launcher.py:14: UserWarning: Implicit dimension choice for softmax has been deprecated. Change the call to include dim=X as an argument.\n",
      "  \n",
      "100%|██████████| 29/29 [00:40<00:00,  1.39s/batch, loss=0.476]\n"
     ]
    },
    {
     "name": "stdout",
     "output_type": "stream",
     "text": [
      "current acc 0.865 and loss 0.47634799778461456\n"
     ]
    },
    {
     "name": "stderr",
     "output_type": "stream",
     "text": [
      "/home/transmedia-eg/test_env/lib/python3.6/site-packages/ipykernel_launcher.py:14: UserWarning: Implicit dimension choice for softmax has been deprecated. Change the call to include dim=X as an argument.\n",
      "  \n",
      "  0%|          | 0/29 [00:00<?, ?batch/s]"
     ]
    },
    {
     "name": "stdout",
     "output_type": "stream",
     "text": [
      "done epoch 0 : test_acc 0.865\n",
      "Coarse label 25 Epoch 2\n",
      "-------------------------------\n"
     ]
    },
    {
     "name": "stderr",
     "output_type": "stream",
     "text": [
      "/home/transmedia-eg/test_env/lib/python3.6/site-packages/ipykernel_launcher.py:14: UserWarning: Implicit dimension choice for softmax has been deprecated. Change the call to include dim=X as an argument.\n",
      "  \n",
      "100%|██████████| 29/29 [00:39<00:00,  1.38s/batch, loss=0.374]\n"
     ]
    },
    {
     "name": "stdout",
     "output_type": "stream",
     "text": [
      "current acc 0.86 and loss 0.3744424870237708\n"
     ]
    },
    {
     "name": "stderr",
     "output_type": "stream",
     "text": [
      "/home/transmedia-eg/test_env/lib/python3.6/site-packages/ipykernel_launcher.py:14: UserWarning: Implicit dimension choice for softmax has been deprecated. Change the call to include dim=X as an argument.\n",
      "  \n",
      "  0%|          | 0/29 [00:00<?, ?batch/s]"
     ]
    },
    {
     "name": "stdout",
     "output_type": "stream",
     "text": [
      "done epoch 1 : test_acc 0.87\n",
      "Coarse label 25 Epoch 3\n",
      "-------------------------------\n"
     ]
    },
    {
     "name": "stderr",
     "output_type": "stream",
     "text": [
      "/home/transmedia-eg/test_env/lib/python3.6/site-packages/ipykernel_launcher.py:14: UserWarning: Implicit dimension choice for softmax has been deprecated. Change the call to include dim=X as an argument.\n",
      "  \n",
      "100%|██████████| 29/29 [00:40<00:00,  1.39s/batch, loss=0.359]\n"
     ]
    },
    {
     "name": "stdout",
     "output_type": "stream",
     "text": [
      "current acc 0.875 and loss 0.3589900340884924\n"
     ]
    },
    {
     "name": "stderr",
     "output_type": "stream",
     "text": [
      "/home/transmedia-eg/test_env/lib/python3.6/site-packages/ipykernel_launcher.py:14: UserWarning: Implicit dimension choice for softmax has been deprecated. Change the call to include dim=X as an argument.\n",
      "  \n",
      "  0%|          | 0/29 [00:00<?, ?batch/s]"
     ]
    },
    {
     "name": "stdout",
     "output_type": "stream",
     "text": [
      "done epoch 2 : test_acc 0.875\n",
      "Coarse label 25 Epoch 4\n",
      "-------------------------------\n"
     ]
    },
    {
     "name": "stderr",
     "output_type": "stream",
     "text": [
      "/home/transmedia-eg/test_env/lib/python3.6/site-packages/ipykernel_launcher.py:14: UserWarning: Implicit dimension choice for softmax has been deprecated. Change the call to include dim=X as an argument.\n",
      "  \n",
      "100%|██████████| 29/29 [00:39<00:00,  1.37s/batch, loss=0.35] \n"
     ]
    },
    {
     "name": "stdout",
     "output_type": "stream",
     "text": [
      "current acc 0.885 and loss 0.3495183754712343\n"
     ]
    },
    {
     "name": "stderr",
     "output_type": "stream",
     "text": [
      "/home/transmedia-eg/test_env/lib/python3.6/site-packages/ipykernel_launcher.py:14: UserWarning: Implicit dimension choice for softmax has been deprecated. Change the call to include dim=X as an argument.\n",
      "  \n",
      "  0%|          | 0/29 [00:00<?, ?batch/s]"
     ]
    },
    {
     "name": "stdout",
     "output_type": "stream",
     "text": [
      "done epoch 3 : test_acc 0.8975\n",
      "Coarse label 25 Epoch 5\n",
      "-------------------------------\n"
     ]
    },
    {
     "name": "stderr",
     "output_type": "stream",
     "text": [
      "/home/transmedia-eg/test_env/lib/python3.6/site-packages/ipykernel_launcher.py:14: UserWarning: Implicit dimension choice for softmax has been deprecated. Change the call to include dim=X as an argument.\n",
      "  \n",
      "100%|██████████| 29/29 [00:39<00:00,  1.38s/batch, loss=0.346]\n"
     ]
    },
    {
     "name": "stdout",
     "output_type": "stream",
     "text": [
      "current acc 0.9 and loss 0.3459615521132946\n"
     ]
    },
    {
     "name": "stderr",
     "output_type": "stream",
     "text": [
      "/home/transmedia-eg/test_env/lib/python3.6/site-packages/ipykernel_launcher.py:14: UserWarning: Implicit dimension choice for softmax has been deprecated. Change the call to include dim=X as an argument.\n",
      "  \n",
      "  0%|          | 0/29 [00:00<?, ?batch/s]"
     ]
    },
    {
     "name": "stdout",
     "output_type": "stream",
     "text": [
      "done epoch 4 : test_acc 0.8875\n",
      "Coarse label 25 Epoch 6\n",
      "-------------------------------\n"
     ]
    },
    {
     "name": "stderr",
     "output_type": "stream",
     "text": [
      "/home/transmedia-eg/test_env/lib/python3.6/site-packages/ipykernel_launcher.py:14: UserWarning: Implicit dimension choice for softmax has been deprecated. Change the call to include dim=X as an argument.\n",
      "  \n",
      "100%|██████████| 29/29 [00:39<00:00,  1.37s/batch, loss=0.344]\n"
     ]
    },
    {
     "name": "stdout",
     "output_type": "stream",
     "text": [
      "current acc 0.89 and loss 0.3439737446606159\n"
     ]
    },
    {
     "name": "stderr",
     "output_type": "stream",
     "text": [
      "/home/transmedia-eg/test_env/lib/python3.6/site-packages/ipykernel_launcher.py:14: UserWarning: Implicit dimension choice for softmax has been deprecated. Change the call to include dim=X as an argument.\n",
      "  \n",
      "  0%|          | 0/29 [00:00<?, ?batch/s]"
     ]
    },
    {
     "name": "stdout",
     "output_type": "stream",
     "text": [
      "done epoch 5 : test_acc 0.8925\n",
      "Coarse label 25 Epoch 7\n",
      "-------------------------------\n"
     ]
    },
    {
     "name": "stderr",
     "output_type": "stream",
     "text": [
      "/home/transmedia-eg/test_env/lib/python3.6/site-packages/ipykernel_launcher.py:14: UserWarning: Implicit dimension choice for softmax has been deprecated. Change the call to include dim=X as an argument.\n",
      "  \n",
      "100%|██████████| 29/29 [00:40<00:00,  1.39s/batch, loss=0.352]\n"
     ]
    },
    {
     "name": "stdout",
     "output_type": "stream",
     "text": [
      "current acc 0.88 and loss 0.35209842305630445\n"
     ]
    },
    {
     "name": "stderr",
     "output_type": "stream",
     "text": [
      "/home/transmedia-eg/test_env/lib/python3.6/site-packages/ipykernel_launcher.py:14: UserWarning: Implicit dimension choice for softmax has been deprecated. Change the call to include dim=X as an argument.\n",
      "  \n",
      "  0%|          | 0/29 [00:00<?, ?batch/s]"
     ]
    },
    {
     "name": "stdout",
     "output_type": "stream",
     "text": [
      "done epoch 6 : test_acc 0.87\n",
      "Coarse label 25 Epoch 8\n",
      "-------------------------------\n"
     ]
    },
    {
     "name": "stderr",
     "output_type": "stream",
     "text": [
      "/home/transmedia-eg/test_env/lib/python3.6/site-packages/ipykernel_launcher.py:14: UserWarning: Implicit dimension choice for softmax has been deprecated. Change the call to include dim=X as an argument.\n",
      "  \n",
      "100%|██████████| 29/29 [00:39<00:00,  1.37s/batch, loss=0.346]\n"
     ]
    },
    {
     "name": "stdout",
     "output_type": "stream",
     "text": [
      "current acc 0.875 and loss 0.34576358553022146\n"
     ]
    },
    {
     "name": "stderr",
     "output_type": "stream",
     "text": [
      "/home/transmedia-eg/test_env/lib/python3.6/site-packages/ipykernel_launcher.py:14: UserWarning: Implicit dimension choice for softmax has been deprecated. Change the call to include dim=X as an argument.\n",
      "  \n",
      "  0%|          | 0/29 [00:00<?, ?batch/s]"
     ]
    },
    {
     "name": "stdout",
     "output_type": "stream",
     "text": [
      "done epoch 7 : test_acc 0.8825\n",
      "Coarse label 25 Epoch 9\n",
      "-------------------------------\n"
     ]
    },
    {
     "name": "stderr",
     "output_type": "stream",
     "text": [
      "/home/transmedia-eg/test_env/lib/python3.6/site-packages/ipykernel_launcher.py:14: UserWarning: Implicit dimension choice for softmax has been deprecated. Change the call to include dim=X as an argument.\n",
      "  \n",
      "100%|██████████| 29/29 [00:40<00:00,  1.39s/batch, loss=0.345]\n"
     ]
    },
    {
     "name": "stdout",
     "output_type": "stream",
     "text": [
      "current acc 0.87 and loss 0.34504783246666193\n"
     ]
    },
    {
     "name": "stderr",
     "output_type": "stream",
     "text": [
      "/home/transmedia-eg/test_env/lib/python3.6/site-packages/ipykernel_launcher.py:14: UserWarning: Implicit dimension choice for softmax has been deprecated. Change the call to include dim=X as an argument.\n",
      "  \n",
      "  0%|          | 0/29 [00:00<?, ?batch/s]"
     ]
    },
    {
     "name": "stdout",
     "output_type": "stream",
     "text": [
      "done epoch 8 : test_acc 0.8875\n",
      "Coarse label 25 Epoch 10\n",
      "-------------------------------\n"
     ]
    },
    {
     "name": "stderr",
     "output_type": "stream",
     "text": [
      "/home/transmedia-eg/test_env/lib/python3.6/site-packages/ipykernel_launcher.py:14: UserWarning: Implicit dimension choice for softmax has been deprecated. Change the call to include dim=X as an argument.\n",
      "  \n",
      "100%|██████████| 29/29 [00:41<00:00,  1.42s/batch, loss=0.344]\n"
     ]
    },
    {
     "name": "stdout",
     "output_type": "stream",
     "text": [
      "current acc 0.875 and loss 0.3440227806568146\n"
     ]
    },
    {
     "name": "stderr",
     "output_type": "stream",
     "text": [
      "/home/transmedia-eg/test_env/lib/python3.6/site-packages/ipykernel_launcher.py:14: UserWarning: Implicit dimension choice for softmax has been deprecated. Change the call to include dim=X as an argument.\n",
      "  \n"
     ]
    },
    {
     "name": "stdout",
     "output_type": "stream",
     "text": [
      "done epoch 9 : test_acc 0.8875\n",
      "Done! Saved model with validation accuracy 0.89 and loss 0.3439737446606159\n",
      "{0: (0.935, 0.925), 1: (0.84, 0.8433333333333334), 2: (0.98, 0.9266666666666666), 3: (0.96, 0.94), 4: (0.98, 0.9866666666666667), 7: (0.964, 0.972), 8: (0.8775, 0.8675), 9: (0.932, 0.864), 10: (0.96, 0.975), 11: (0.9022222222222223, 0.8677777777777778), 12: (0.8733333333333333, 0.8916666666666667), 13: (0.92, 0.9433333333333334), 14: (0.95, 0.9483333333333334), 15: (0.96, 0.98), 16: (0.715, 0.6975), 18: (0.99, 0.935), 21: (0.812, 0.822), 23: (0.96, 0.915), 25: (0.89, 0.8875)}\n"
     ]
    },
    {
     "name": "stderr",
     "output_type": "stream",
     "text": [
      "\r",
      "  0%|          | 0/22 [00:00<?, ?batch/s]"
     ]
    },
    {
     "name": "stdout",
     "output_type": "stream",
     "text": [
      "Coarse label 27 Epoch 1\n",
      "-------------------------------\n"
     ]
    },
    {
     "name": "stderr",
     "output_type": "stream",
     "text": [
      "/home/transmedia-eg/test_env/lib/python3.6/site-packages/ipykernel_launcher.py:14: UserWarning: Implicit dimension choice for softmax has been deprecated. Change the call to include dim=X as an argument.\n",
      "  \n",
      "100%|██████████| 22/22 [00:31<00:00,  1.42s/batch, loss=0.273]\n"
     ]
    },
    {
     "name": "stdout",
     "output_type": "stream",
     "text": [
      "current acc 0.9266666666666666 and loss 0.2730795983225107\n"
     ]
    },
    {
     "name": "stderr",
     "output_type": "stream",
     "text": [
      "/home/transmedia-eg/test_env/lib/python3.6/site-packages/ipykernel_launcher.py:14: UserWarning: Implicit dimension choice for softmax has been deprecated. Change the call to include dim=X as an argument.\n",
      "  \n",
      "  0%|          | 0/22 [00:00<?, ?batch/s]"
     ]
    },
    {
     "name": "stdout",
     "output_type": "stream",
     "text": [
      "done epoch 0 : test_acc 0.93\n",
      "Coarse label 27 Epoch 2\n",
      "-------------------------------\n"
     ]
    },
    {
     "name": "stderr",
     "output_type": "stream",
     "text": [
      "/home/transmedia-eg/test_env/lib/python3.6/site-packages/ipykernel_launcher.py:14: UserWarning: Implicit dimension choice for softmax has been deprecated. Change the call to include dim=X as an argument.\n",
      "  \n",
      "100%|██████████| 22/22 [00:32<00:00,  1.46s/batch, loss=0.197] \n"
     ]
    },
    {
     "name": "stdout",
     "output_type": "stream",
     "text": [
      "current acc 0.96 and loss 0.19711274653673172\n"
     ]
    },
    {
     "name": "stderr",
     "output_type": "stream",
     "text": [
      "/home/transmedia-eg/test_env/lib/python3.6/site-packages/ipykernel_launcher.py:14: UserWarning: Implicit dimension choice for softmax has been deprecated. Change the call to include dim=X as an argument.\n",
      "  \n",
      "  0%|          | 0/22 [00:00<?, ?batch/s]"
     ]
    },
    {
     "name": "stdout",
     "output_type": "stream",
     "text": [
      "done epoch 1 : test_acc 0.9466666666666667\n",
      "Coarse label 27 Epoch 3\n",
      "-------------------------------\n"
     ]
    },
    {
     "name": "stderr",
     "output_type": "stream",
     "text": [
      "/home/transmedia-eg/test_env/lib/python3.6/site-packages/ipykernel_launcher.py:14: UserWarning: Implicit dimension choice for softmax has been deprecated. Change the call to include dim=X as an argument.\n",
      "  \n",
      "100%|██████████| 22/22 [00:31<00:00,  1.43s/batch, loss=0.194] \n"
     ]
    },
    {
     "name": "stdout",
     "output_type": "stream",
     "text": [
      "current acc 0.9333333333333333 and loss 0.19366133119910955\n"
     ]
    },
    {
     "name": "stderr",
     "output_type": "stream",
     "text": [
      "/home/transmedia-eg/test_env/lib/python3.6/site-packages/ipykernel_launcher.py:14: UserWarning: Implicit dimension choice for softmax has been deprecated. Change the call to include dim=X as an argument.\n",
      "  \n",
      "  0%|          | 0/22 [00:00<?, ?batch/s]"
     ]
    },
    {
     "name": "stdout",
     "output_type": "stream",
     "text": [
      "done epoch 2 : test_acc 0.93\n",
      "Coarse label 27 Epoch 4\n",
      "-------------------------------\n"
     ]
    },
    {
     "name": "stderr",
     "output_type": "stream",
     "text": [
      "/home/transmedia-eg/test_env/lib/python3.6/site-packages/ipykernel_launcher.py:14: UserWarning: Implicit dimension choice for softmax has been deprecated. Change the call to include dim=X as an argument.\n",
      "  \n",
      "100%|██████████| 22/22 [00:31<00:00,  1.44s/batch, loss=0.193] \n"
     ]
    },
    {
     "name": "stdout",
     "output_type": "stream",
     "text": [
      "current acc 0.9333333333333333 and loss 0.1929490240290761\n"
     ]
    },
    {
     "name": "stderr",
     "output_type": "stream",
     "text": [
      "/home/transmedia-eg/test_env/lib/python3.6/site-packages/ipykernel_launcher.py:14: UserWarning: Implicit dimension choice for softmax has been deprecated. Change the call to include dim=X as an argument.\n",
      "  \n",
      "  0%|          | 0/22 [00:00<?, ?batch/s]"
     ]
    },
    {
     "name": "stdout",
     "output_type": "stream",
     "text": [
      "done epoch 3 : test_acc 0.9366666666666666\n",
      "Coarse label 27 Epoch 5\n",
      "-------------------------------\n"
     ]
    },
    {
     "name": "stderr",
     "output_type": "stream",
     "text": [
      "/home/transmedia-eg/test_env/lib/python3.6/site-packages/ipykernel_launcher.py:14: UserWarning: Implicit dimension choice for softmax has been deprecated. Change the call to include dim=X as an argument.\n",
      "  \n",
      "100%|██████████| 22/22 [00:32<00:00,  1.47s/batch, loss=0.192] \n"
     ]
    },
    {
     "name": "stdout",
     "output_type": "stream",
     "text": [
      "current acc 0.9266666666666666 and loss 0.19184883311390877\n"
     ]
    },
    {
     "name": "stderr",
     "output_type": "stream",
     "text": [
      "/home/transmedia-eg/test_env/lib/python3.6/site-packages/ipykernel_launcher.py:14: UserWarning: Implicit dimension choice for softmax has been deprecated. Change the call to include dim=X as an argument.\n",
      "  \n",
      "  0%|          | 0/22 [00:00<?, ?batch/s]"
     ]
    },
    {
     "name": "stdout",
     "output_type": "stream",
     "text": [
      "done epoch 4 : test_acc 0.9266666666666666\n",
      "Coarse label 27 Epoch 6\n",
      "-------------------------------\n"
     ]
    },
    {
     "name": "stderr",
     "output_type": "stream",
     "text": [
      "/home/transmedia-eg/test_env/lib/python3.6/site-packages/ipykernel_launcher.py:14: UserWarning: Implicit dimension choice for softmax has been deprecated. Change the call to include dim=X as an argument.\n",
      "  \n",
      "100%|██████████| 22/22 [00:31<00:00,  1.44s/batch, loss=0.199] \n"
     ]
    },
    {
     "name": "stdout",
     "output_type": "stream",
     "text": [
      "current acc 0.92 and loss 0.19878720212727785\n"
     ]
    },
    {
     "name": "stderr",
     "output_type": "stream",
     "text": [
      "/home/transmedia-eg/test_env/lib/python3.6/site-packages/ipykernel_launcher.py:14: UserWarning: Implicit dimension choice for softmax has been deprecated. Change the call to include dim=X as an argument.\n",
      "  \n",
      "  0%|          | 0/22 [00:00<?, ?batch/s]"
     ]
    },
    {
     "name": "stdout",
     "output_type": "stream",
     "text": [
      "done epoch 5 : test_acc 0.9333333333333333\n",
      "Coarse label 27 Epoch 7\n",
      "-------------------------------\n"
     ]
    },
    {
     "name": "stderr",
     "output_type": "stream",
     "text": [
      "/home/transmedia-eg/test_env/lib/python3.6/site-packages/ipykernel_launcher.py:14: UserWarning: Implicit dimension choice for softmax has been deprecated. Change the call to include dim=X as an argument.\n",
      "  \n",
      "100%|██████████| 22/22 [00:31<00:00,  1.44s/batch, loss=0.194] \n"
     ]
    },
    {
     "name": "stdout",
     "output_type": "stream",
     "text": [
      "current acc 0.9466666666666667 and loss 0.1937259892001748\n"
     ]
    },
    {
     "name": "stderr",
     "output_type": "stream",
     "text": [
      "/home/transmedia-eg/test_env/lib/python3.6/site-packages/ipykernel_launcher.py:14: UserWarning: Implicit dimension choice for softmax has been deprecated. Change the call to include dim=X as an argument.\n",
      "  \n",
      "  0%|          | 0/22 [00:00<?, ?batch/s]"
     ]
    },
    {
     "name": "stdout",
     "output_type": "stream",
     "text": [
      "done epoch 6 : test_acc 0.9366666666666666\n",
      "Coarse label 27 Epoch 8\n",
      "-------------------------------\n"
     ]
    },
    {
     "name": "stderr",
     "output_type": "stream",
     "text": [
      "/home/transmedia-eg/test_env/lib/python3.6/site-packages/ipykernel_launcher.py:14: UserWarning: Implicit dimension choice for softmax has been deprecated. Change the call to include dim=X as an argument.\n",
      "  \n",
      "100%|██████████| 22/22 [00:31<00:00,  1.44s/batch, loss=0.198] \n"
     ]
    },
    {
     "name": "stdout",
     "output_type": "stream",
     "text": [
      "current acc 0.94 and loss 0.19814338721334934\n"
     ]
    },
    {
     "name": "stderr",
     "output_type": "stream",
     "text": [
      "/home/transmedia-eg/test_env/lib/python3.6/site-packages/ipykernel_launcher.py:14: UserWarning: Implicit dimension choice for softmax has been deprecated. Change the call to include dim=X as an argument.\n",
      "  \n",
      "  0%|          | 0/22 [00:00<?, ?batch/s]"
     ]
    },
    {
     "name": "stdout",
     "output_type": "stream",
     "text": [
      "done epoch 7 : test_acc 0.9266666666666666\n",
      "Coarse label 27 Epoch 9\n",
      "-------------------------------\n"
     ]
    },
    {
     "name": "stderr",
     "output_type": "stream",
     "text": [
      "/home/transmedia-eg/test_env/lib/python3.6/site-packages/ipykernel_launcher.py:14: UserWarning: Implicit dimension choice for softmax has been deprecated. Change the call to include dim=X as an argument.\n",
      "  \n",
      "100%|██████████| 22/22 [00:31<00:00,  1.45s/batch, loss=0.198] \n"
     ]
    },
    {
     "name": "stdout",
     "output_type": "stream",
     "text": [
      "current acc 0.9133333333333333 and loss 0.1977275749668479\n"
     ]
    },
    {
     "name": "stderr",
     "output_type": "stream",
     "text": [
      "/home/transmedia-eg/test_env/lib/python3.6/site-packages/ipykernel_launcher.py:14: UserWarning: Implicit dimension choice for softmax has been deprecated. Change the call to include dim=X as an argument.\n",
      "  \n",
      "  0%|          | 0/22 [00:00<?, ?batch/s]"
     ]
    },
    {
     "name": "stdout",
     "output_type": "stream",
     "text": [
      "done epoch 8 : test_acc 0.9333333333333333\n",
      "Coarse label 27 Epoch 10\n",
      "-------------------------------\n"
     ]
    },
    {
     "name": "stderr",
     "output_type": "stream",
     "text": [
      "/home/transmedia-eg/test_env/lib/python3.6/site-packages/ipykernel_launcher.py:14: UserWarning: Implicit dimension choice for softmax has been deprecated. Change the call to include dim=X as an argument.\n",
      "  \n",
      "100%|██████████| 22/22 [00:31<00:00,  1.42s/batch, loss=0.201] \n"
     ]
    },
    {
     "name": "stdout",
     "output_type": "stream",
     "text": [
      "current acc 0.9066666666666666 and loss 0.20106425043195486\n"
     ]
    },
    {
     "name": "stderr",
     "output_type": "stream",
     "text": [
      "/home/transmedia-eg/test_env/lib/python3.6/site-packages/ipykernel_launcher.py:14: UserWarning: Implicit dimension choice for softmax has been deprecated. Change the call to include dim=X as an argument.\n",
      "  \n"
     ]
    },
    {
     "name": "stdout",
     "output_type": "stream",
     "text": [
      "done epoch 9 : test_acc 0.9266666666666666\n",
      "Done! Saved model with validation accuracy 0.9266666666666666 and loss 0.19184883311390877\n",
      "{0: (0.935, 0.925), 1: (0.84, 0.8433333333333334), 2: (0.98, 0.9266666666666666), 3: (0.96, 0.94), 4: (0.98, 0.9866666666666667), 7: (0.964, 0.972), 8: (0.8775, 0.8675), 9: (0.932, 0.864), 10: (0.96, 0.975), 11: (0.9022222222222223, 0.8677777777777778), 12: (0.8733333333333333, 0.8916666666666667), 13: (0.92, 0.9433333333333334), 14: (0.95, 0.9483333333333334), 15: (0.96, 0.98), 16: (0.715, 0.6975), 18: (0.99, 0.935), 21: (0.812, 0.822), 23: (0.96, 0.915), 25: (0.89, 0.8875), 27: (0.9266666666666666, 0.9266666666666666)}\n"
     ]
    }
   ],
   "source": [
    "#fine clusters training\n",
    "\n",
    "learning_rate = 1e-4\n",
    "epochs = 10\n",
    "accuracies = {}\n",
    "\n",
    "\n",
    "for coarse_label in range(0, number_of_clusters):\n",
    "        if len(coarse_to_fine[coarse_label])>1:\n",
    "            train_dl, val_dl, test_dl =  filter_data(training_data, test_data, filter_by_coarse=True, \n",
    "                    coarse_label=coarse_label, coarse_to_fine=coarse_to_fine, valid_size=0.1, batch_size=batch_size)\n",
    "            # Initialize the model\n",
    "            model = Resnext50(len(coarse_to_fine[coarse_label]), name=\"hierarchical_fine_model_coarse_label_%s_25componentss\" %coarse_label)\n",
    "            optimizer = torch.optim.Adam(model.parameters(), lr=learning_rate)\n",
    "            model.to(device)\n",
    "            loss_fn = torch.nn.CrossEntropyLoss().to(device)\n",
    "            max_acc, test_acc = train_and_validate(epochs, model, loss_fn, optimizer, train_dl, val_dl, test_dl, mode=\"fine\", \n",
    "                                                   coarse_label=coarse_label, lookup=coarse_to_fine[coarse_label], \n",
    "                                                   model_path = 'models/hierarchical/%s.pth' %model.name )\n",
    "            accuracies[coarse_label] = (max_acc, test_acc)\n",
    "    print(accuracies)"
   ]
  },
  {
   "cell_type": "code",
   "execution_count": 87,
   "metadata": {},
   "outputs": [
    {
     "data": {
      "text/plain": [
       "{0: (0.935, 0.925),\n",
       " 1: (0.84, 0.8433333333333334),\n",
       " 2: (0.98, 0.9266666666666666),\n",
       " 3: (0.96, 0.94),\n",
       " 4: (0.98, 0.9866666666666667),\n",
       " 7: (0.964, 0.972),\n",
       " 8: (0.8775, 0.8675),\n",
       " 9: (0.932, 0.864),\n",
       " 10: (0.96, 0.975),\n",
       " 11: (0.9022222222222223, 0.8677777777777778),\n",
       " 12: (0.8733333333333333, 0.8916666666666667),\n",
       " 13: (0.92, 0.9433333333333334),\n",
       " 14: (0.95, 0.9483333333333334),\n",
       " 15: (0.96, 0.98),\n",
       " 16: (0.715, 0.6975),\n",
       " 18: (0.99, 0.935),\n",
       " 21: (0.812, 0.822),\n",
       " 23: (0.96, 0.915),\n",
       " 25: (0.89, 0.8875),\n",
       " 27: (0.9266666666666666, 0.9266666666666666)}"
      ]
     },
     "execution_count": 87,
     "metadata": {},
     "output_type": "execute_result"
    }
   ],
   "source": [
    "accuracies"
   ]
  },
  {
   "cell_type": "code",
   "execution_count": null,
   "metadata": {},
   "outputs": [],
   "source": []
  },
  {
   "cell_type": "code",
   "execution_count": null,
   "metadata": {},
   "outputs": [],
   "source": []
  },
  {
   "cell_type": "code",
   "execution_count": 70,
   "metadata": {},
   "outputs": [],
   "source": [
    "#Evaluation of the whole model\n",
    "\n",
    "stacked_fine_labels = []\n",
    "for i in range(0, number_of_clusters):\n",
    "    stacked_fine_labels +=coarse_to_fine[i]\n",
    "    \n",
    "#loading models\n",
    "model_coarse = torch.load('models/hierarchical/hierarchical_coarse_model_Resnext50_25components.pth')\n",
    "fine_models = {}\n",
    "for i in range(0,number_of_clusters):\n",
    "        fine_models['fine_model_' + str(i)] = torch.load('models/hierarchical/hierarchical_fine_model_coarse_label_%s_25components.pth' %i)\n",
    "    test_batch_dl = DataLoader(test_data,  batch_size=batch_size, shuffle=False)\n"
   ]
  },
  {
   "cell_type": "code",
   "execution_count": 71,
   "metadata": {},
   "outputs": [
    {
     "name": "stderr",
     "output_type": "stream",
     "text": [
      "/home/transmedia-eg/test_env/lib/python3.6/site-packages/ipykernel_launcher.py:14: UserWarning: Implicit dimension choice for softmax has been deprecated. Change the call to include dim=X as an argument.\n",
      "  \n"
     ]
    },
    {
     "data": {
      "text/plain": [
       "[array([[1.17139776e-09, 7.03188285e-10, 6.90449475e-10, ...,\n",
       "         3.85776466e-10, 1.81144180e-11, 5.59139846e-10],\n",
       "        [1.23844181e-11, 1.41367751e-09, 4.15017543e-12, ...,\n",
       "         7.81111564e-11, 3.57924302e-13, 1.90585464e-10],\n",
       "        [2.54305760e-11, 1.25869075e-04, 7.38693495e-10, ...,\n",
       "         3.81293530e-09, 9.57888716e-12, 5.39667377e-09],\n",
       "        ...,\n",
       "        [3.40451833e-10, 9.99833584e-01, 6.11129591e-10, ...,\n",
       "         3.19833052e-05, 1.82941190e-10, 7.66280479e-08],\n",
       "        [3.02159691e-07, 3.20970616e-06, 1.21742276e-04, ...,\n",
       "         1.14892482e-05, 8.96137848e-08, 6.82397187e-02],\n",
       "        [2.49562388e-13, 9.99996543e-01, 4.01275557e-13, ...,\n",
       "         4.97494320e-12, 1.12528009e-13, 4.76969131e-10]], dtype=float32),\n",
       " array([[9.64096546e-01, 6.71050338e-06, 1.26513260e-04, ...,\n",
       "         6.54924315e-06, 8.19526008e-07, 6.97018413e-06],\n",
       "        [1.06768630e-06, 1.27861213e-07, 5.20408832e-07, ...,\n",
       "         9.00701480e-07, 3.41285578e-09, 1.59551320e-07],\n",
       "        [2.60367411e-13, 1.37808986e-10, 3.83874266e-10, ...,\n",
       "         5.42165549e-11, 3.25779442e-13, 7.22928384e-11],\n",
       "        ...,\n",
       "        [5.94318039e-10, 2.89250113e-09, 1.98654848e-09, ...,\n",
       "         1.34478650e-09, 7.23808296e-12, 2.16815968e-10],\n",
       "        [4.37575714e-12, 1.44853149e-11, 1.63633190e-10, ...,\n",
       "         1.13357074e-10, 8.43690189e-13, 5.86318327e-10],\n",
       "        [2.14958704e-10, 9.99957204e-01, 1.71480399e-10, ...,\n",
       "         2.63694773e-07, 6.12794364e-12, 8.01286398e-11]], dtype=float32),\n",
       " array([[9.9999905e-01, 4.6300941e-10, 5.5881877e-10, ..., 7.9870643e-10,\n",
       "         1.0070180e-11, 2.0847817e-11],\n",
       "        [3.2778283e-12, 3.1083142e-12, 7.1152598e-12, ..., 9.5854873e-11,\n",
       "         9.6996978e-15, 7.2296352e-13],\n",
       "        [6.7212920e-07, 8.8340022e-07, 8.6164931e-07, ..., 9.7561860e-04,\n",
       "         1.1544488e-08, 1.7889248e-07],\n",
       "        ...,\n",
       "        [1.4730174e-09, 1.2358950e-08, 5.7460785e-08, ..., 5.2462984e-10,\n",
       "         6.0480509e-11, 2.9176679e-09],\n",
       "        [1.7013718e-19, 1.1982524e-19, 4.0306995e-15, ..., 1.9141611e-17,\n",
       "         2.0138798e-20, 2.9282266e-17],\n",
       "        [8.5544576e-09, 4.3367580e-04, 2.5467582e-08, ..., 4.6424984e-06,\n",
       "         2.7494391e-09, 4.8620681e-08]], dtype=float32),\n",
       " array([[7.5243478e-10, 5.1972130e-04, 4.6036188e-08, ..., 6.6348278e-08,\n",
       "         1.1454544e-09, 4.3583052e-05],\n",
       "        [4.7183072e-08, 1.2460781e-07, 8.3819039e-08, ..., 3.9650465e-07,\n",
       "         1.5509689e-09, 6.8649041e-07],\n",
       "        [7.3139070e-13, 9.6480853e-12, 1.7347799e-11, ..., 6.7128730e-13,\n",
       "         8.3312560e-15, 8.2089392e-13],\n",
       "        ...,\n",
       "        [1.6608350e-08, 4.6062029e-10, 6.2500281e-09, ..., 1.1086883e-09,\n",
       "         3.0397313e-11, 7.4091600e-10],\n",
       "        [2.8915287e-10, 9.9999988e-01, 8.7735999e-11, ..., 4.2681769e-08,\n",
       "         1.5044469e-13, 1.5021022e-12],\n",
       "        [6.6080939e-11, 9.9999893e-01, 7.8523294e-07, ..., 1.3524073e-08,\n",
       "         1.4395421e-12, 2.1690167e-11]], dtype=float32),\n",
       " array([[6.35706973e-11, 2.96388469e-10, 1.47311233e-10, ...,\n",
       "         6.32667183e-11, 9.18027590e-13, 8.99359198e-11],\n",
       "        [1.57116698e-11, 1.00000000e+00, 4.70203182e-11, ...,\n",
       "         2.79500290e-09, 1.81963906e-12, 4.74918715e-12],\n",
       "        [2.42421155e-13, 4.36594933e-13, 2.40977972e-15, ...,\n",
       "         1.34862594e-13, 2.91313202e-15, 1.11476842e-10],\n",
       "        ...,\n",
       "        [5.34413680e-10, 1.75774578e-04, 2.69639003e-07, ...,\n",
       "         6.33390655e-08, 8.15906898e-10, 2.15616617e-02],\n",
       "        [5.15308022e-12, 1.39350096e-08, 7.42515771e-10, ...,\n",
       "         9.58107725e-12, 4.70834526e-13, 3.18239740e-11],\n",
       "        [6.77633921e-11, 1.08610135e-10, 1.68574079e-08, ...,\n",
       "         3.48386528e-11, 2.11974969e-13, 2.50949066e-12]], dtype=float32),\n",
       " array([[7.4225313e-11, 1.1362632e-10, 2.1327033e-08, ..., 4.9245308e-10,\n",
       "         8.6260955e-12, 8.2381385e-10],\n",
       "        [8.0598618e-08, 2.3492921e-08, 5.3660052e-08, ..., 2.9164672e-08,\n",
       "         9.1982355e-10, 7.2830474e-08],\n",
       "        [8.1471840e-10, 9.9978095e-01, 1.1981051e-10, ..., 1.6660023e-09,\n",
       "         3.0654177e-12, 2.6066999e-10],\n",
       "        ...,\n",
       "        [3.0634593e-23, 3.4467335e-22, 3.0591554e-27, ..., 3.8862198e-23,\n",
       "         2.2179245e-26, 2.9230580e-18],\n",
       "        [3.8718619e-09, 6.2189853e-09, 9.6715675e-09, ..., 6.5416288e-12,\n",
       "         1.1700141e-12, 2.9296642e-11],\n",
       "        [1.0370861e-09, 9.3120033e-01, 3.6779976e-08, ..., 4.0002266e-08,\n",
       "         3.4322453e-10, 1.7460404e-06]], dtype=float32),\n",
       " array([[1.16471510e-09, 1.52034152e-09, 4.29515312e-11, ...,\n",
       "         3.39105299e-10, 1.54123546e-12, 1.83401391e-10],\n",
       "        [2.10651635e-18, 2.22719216e-14, 1.02143180e-16, ...,\n",
       "         4.10937126e-13, 1.46281391e-18, 7.33494279e-14],\n",
       "        [3.92779143e-08, 1.32966628e-02, 2.67691320e-07, ...,\n",
       "         7.94201405e-05, 2.40965399e-08, 5.49007833e-01],\n",
       "        ...,\n",
       "        [5.44649437e-09, 4.34219949e-09, 8.31475000e-10, ...,\n",
       "         2.67632916e-10, 7.65954834e-12, 1.29865951e-09],\n",
       "        [6.88493738e-16, 1.00000000e+00, 1.42849481e-14, ...,\n",
       "         5.91201187e-13, 1.19889374e-17, 1.52397469e-15],\n",
       "        [2.76015018e-12, 6.68850739e-11, 2.90817468e-08, ...,\n",
       "         2.56867688e-13, 2.23431909e-14, 7.38776716e-13]], dtype=float32),\n",
       " array([[2.68190761e-05, 1.83978397e-03, 8.04470983e-06, ...,\n",
       "         1.66934785e-02, 3.55234022e-07, 9.26895201e-01],\n",
       "        [1.48417982e-07, 7.41046391e-10, 3.21028431e-08, ...,\n",
       "         9.51066141e-08, 2.26826030e-10, 5.30533395e-09],\n",
       "        [2.74765037e-11, 1.05426745e-09, 1.00000000e+00, ...,\n",
       "         9.43194758e-11, 8.50480439e-14, 1.38269285e-09],\n",
       "        ...,\n",
       "        [5.29438826e-10, 7.96016378e-11, 4.49292686e-11, ...,\n",
       "         9.99999881e-01, 3.54137943e-12, 9.01233033e-10],\n",
       "        [3.35596937e-12, 2.32747805e-12, 1.57086041e-12, ...,\n",
       "         1.40973333e-12, 1.40830756e-14, 4.79694355e-13],\n",
       "        [1.42457290e-08, 2.26577757e-09, 3.97182598e-09, ...,\n",
       "         2.94671239e-08, 4.63618484e-11, 1.24297239e-09]], dtype=float32),\n",
       " array([[4.6438756e-11, 1.1540465e-11, 5.6697431e-11, ..., 4.5113491e-10,\n",
       "         1.3927189e-13, 2.5689293e-11],\n",
       "        [1.0593918e-09, 9.0329388e-09, 9.6764985e-10, ..., 2.8094193e-05,\n",
       "         1.1687355e-11, 7.9789747e-10],\n",
       "        [9.8438257e-01, 1.5894756e-08, 3.8355038e-06, ..., 1.8237041e-06,\n",
       "         2.3835234e-09, 5.1332756e-09],\n",
       "        ...,\n",
       "        [1.2077468e-08, 3.7986137e-08, 7.6183841e-09, ..., 7.7627959e-08,\n",
       "         1.2386830e-10, 5.2100821e-09],\n",
       "        [1.8762995e-08, 7.1467370e-01, 9.4133390e-10, ..., 5.4315342e-07,\n",
       "         2.7339989e-10, 3.5530267e-08],\n",
       "        [1.5810429e-05, 1.9749875e-04, 3.0064762e-01, ..., 6.7383580e-02,\n",
       "         1.4236809e-06, 9.2129074e-03]], dtype=float32),\n",
       " array([[5.84259030e-10, 1.40165770e-03, 3.26228000e-09, ...,\n",
       "         1.89916260e-08, 1.08536324e-09, 1.33426247e-05],\n",
       "        [1.30750945e-14, 1.00000000e+00, 1.84861756e-13, ...,\n",
       "         4.72123425e-12, 1.95680726e-15, 4.60509675e-09],\n",
       "        [6.93777646e-10, 5.83346615e-09, 9.78116366e-10, ...,\n",
       "         4.69129957e-10, 1.89905956e-11, 2.20192486e-09],\n",
       "        ...,\n",
       "        [3.69139269e-22, 6.20653011e-18, 4.13931227e-20, ...,\n",
       "         1.00000000e+00, 1.09465066e-22, 8.09758586e-19],\n",
       "        [5.48161694e-09, 2.91708577e-08, 4.73022190e-08, ...,\n",
       "         9.99897122e-01, 6.55698051e-10, 1.21340477e-07],\n",
       "        [1.39668259e-06, 1.30965421e-03, 4.79675400e-05, ...,\n",
       "         1.56813931e-05, 5.60510216e-07, 5.95583879e-05]], dtype=float32),\n",
       " array([[2.78437383e-05, 2.79775577e-06, 5.92278093e-06, ...,\n",
       "         2.24573396e-05, 5.89906506e-08, 3.64664265e-05],\n",
       "        [1.50857137e-23, 2.70983282e-23, 1.75452308e-18, ...,\n",
       "         1.38318896e-20, 1.11464823e-24, 1.00962596e-20],\n",
       "        [1.67536558e-11, 6.99678900e-12, 1.09127074e-12, ...,\n",
       "         2.71184377e-12, 1.15287427e-14, 3.49831947e-12],\n",
       "        ...,\n",
       "        [6.60427883e-16, 1.53900972e-11, 1.87004557e-12, ...,\n",
       "         8.71804365e-13, 2.91912880e-15, 4.49228467e-11],\n",
       "        [4.66694137e-16, 2.09674986e-12, 3.95922444e-13, ...,\n",
       "         3.71494448e-13, 1.49035373e-15, 2.86295618e-12],\n",
       "        [1.60925649e-03, 2.57468491e-05, 3.82795315e-06, ...,\n",
       "         1.62677461e-04, 2.09248952e-07, 2.28112711e-07]], dtype=float32),\n",
       " array([[4.56675167e-16, 1.00000000e+00, 2.74153564e-15, ...,\n",
       "         2.62893294e-14, 1.22376235e-17, 5.57942466e-15],\n",
       "        [3.30146716e-10, 1.53938973e-09, 1.61328284e-08, ...,\n",
       "         1.48372692e-07, 4.01363803e-11, 1.26179714e-06],\n",
       "        [3.92113356e-11, 1.63028280e-09, 2.37035475e-10, ...,\n",
       "         4.89225271e-10, 1.38455393e-12, 7.42017392e-10],\n",
       "        ...,\n",
       "        [3.97778785e-15, 3.72478759e-08, 5.30592551e-13, ...,\n",
       "         3.81024422e-13, 1.14329178e-14, 1.53259371e-12],\n",
       "        [2.46339073e-06, 1.55515977e-07, 1.13886599e-05, ...,\n",
       "         7.79295917e-08, 2.42903586e-09, 2.20333618e-07],\n",
       "        [4.85004323e-14, 2.54780273e-13, 1.92037922e-12, ...,\n",
       "         7.55468713e-13, 7.46765846e-16, 6.29800777e-14]], dtype=float32),\n",
       " array([[9.9999833e-01, 3.2457879e-09, 6.7008510e-09, ..., 9.1002770e-09,\n",
       "         1.2762962e-10, 4.4472742e-10],\n",
       "        [1.5618379e-07, 3.0954943e-08, 3.5000110e-07, ..., 7.5878398e-07,\n",
       "         2.6399898e-09, 9.7764790e-01],\n",
       "        [5.6048075e-16, 2.2041970e-15, 2.4185237e-12, ..., 4.2384160e-14,\n",
       "         2.3778814e-17, 5.7337015e-14],\n",
       "        ...,\n",
       "        [1.2066420e-08, 3.0938987e-09, 3.3889672e-05, ..., 1.4020665e-09,\n",
       "         4.3587002e-11, 8.9302665e-10],\n",
       "        [1.3162587e-08, 2.8480101e-09, 2.1460340e-09, ..., 2.6411289e-08,\n",
       "         4.3247309e-11, 2.4799220e-09],\n",
       "        [1.0000000e+00, 6.2986422e-11, 3.0077794e-11, ..., 2.8148324e-11,\n",
       "         4.7356709e-13, 1.1763450e-12]], dtype=float32),\n",
       " array([[1.3296895e-07, 1.7943901e-05, 9.4110682e-08, ..., 4.1425828e-06,\n",
       "         1.6857097e-08, 3.2122668e-07],\n",
       "        [6.4881507e-12, 2.6676553e-10, 6.1253343e-11, ..., 3.7283072e-11,\n",
       "         1.3423416e-13, 2.5404900e-09],\n",
       "        [1.9869358e-12, 9.6437851e-11, 8.0811291e-10, ..., 8.6983531e-11,\n",
       "         4.1603339e-13, 6.4067612e-10],\n",
       "        ...,\n",
       "        [1.0404145e-08, 9.9998856e-01, 2.2658220e-08, ..., 1.8360153e-07,\n",
       "         1.3548014e-09, 1.7274747e-09],\n",
       "        [4.1462785e-14, 7.2574225e-12, 1.8371778e-15, ..., 2.0731602e-12,\n",
       "         3.7585142e-16, 9.5548114e-13],\n",
       "        [3.7687154e-12, 2.1138117e-12, 2.9444312e-12, ..., 4.9256081e-12,\n",
       "         2.7547460e-14, 4.1399609e-12]], dtype=float32),\n",
       " array([[1.9733262e-09, 8.3801552e-09, 3.1887726e-09, ..., 1.3100664e-08,\n",
       "         9.5861034e-11, 2.6370662e-07],\n",
       "        [2.2237318e-10, 9.2943520e-09, 4.2421928e-09, ..., 1.1154605e-08,\n",
       "         4.5325615e-11, 6.7202488e-09],\n",
       "        [1.7759965e-19, 5.2786753e-19, 8.9666484e-15, ..., 1.4462413e-17,\n",
       "         3.0863841e-20, 3.3499111e-17],\n",
       "        ...,\n",
       "        [2.3772134e-07, 9.1331236e-07, 3.5129422e-05, ..., 1.6639348e-07,\n",
       "         4.4052326e-09, 3.8152305e-07],\n",
       "        [1.4781690e-08, 8.5799080e-01, 4.7372826e-08, ..., 1.7656745e-08,\n",
       "         1.8766089e-09, 1.5741729e-07],\n",
       "        [1.3247191e-15, 7.2030577e-09, 3.2295640e-13, ..., 2.7037235e-13,\n",
       "         5.0327318e-15, 1.2287027e-12]], dtype=float32),\n",
       " array([[8.2981804e-13, 6.7328161e-04, 5.2481564e-11, ..., 5.6423078e-11,\n",
       "         8.6105092e-13, 1.6155628e-10],\n",
       "        [8.5251825e-15, 9.6757739e-14, 1.8686299e-16, ..., 3.5101865e-14,\n",
       "         9.7066783e-18, 2.7232340e-14],\n",
       "        [1.3918842e-07, 9.8035719e-07, 1.1043963e-05, ..., 1.3426501e-04,\n",
       "         8.8292866e-09, 1.5025313e-06],\n",
       "        ...,\n",
       "        [1.0336871e-12, 2.1974631e-12, 1.2639998e-12, ..., 8.3716645e-12,\n",
       "         3.0704226e-14, 2.2472683e-11],\n",
       "        [1.1228503e-15, 1.0859492e-06, 1.2768597e-13, ..., 2.0595960e-12,\n",
       "         3.3680675e-15, 6.6963313e-13],\n",
       "        [1.4696309e-12, 1.7613409e-13, 1.9619518e-13, ..., 7.7756258e-13,\n",
       "         2.5363851e-16, 8.9316616e-14]], dtype=float32),\n",
       " array([[2.7612911e-13, 1.9446627e-11, 4.5079461e-12, ..., 2.4240341e-11,\n",
       "         5.3562717e-15, 7.6687939e-10],\n",
       "        [2.3594011e-19, 8.6974269e-18, 7.5048054e-14, ..., 2.6455737e-17,\n",
       "         9.9132304e-20, 1.0953933e-16],\n",
       "        [6.9895257e-12, 1.3092114e-08, 6.4804730e-09, ..., 4.2108885e-09,\n",
       "         1.2854209e-11, 8.5232932e-10],\n",
       "        ...,\n",
       "        [3.2322894e-10, 7.6478381e-07, 1.9851422e-08, ..., 3.8522217e-09,\n",
       "         9.2022071e-11, 2.6157826e-05],\n",
       "        [3.7611431e-10, 3.8639737e-11, 1.2728150e-13, ..., 7.2993616e-12,\n",
       "         3.3376452e-14, 2.6174831e-12],\n",
       "        [1.5339366e-15, 1.5269448e-12, 2.0251372e-14, ..., 1.0000000e+00,\n",
       "         4.2090150e-16, 9.0888424e-13]], dtype=float32),\n",
       " array([[1.38539638e-10, 1.71335834e-10, 1.31037167e-10, ...,\n",
       "         2.93912256e-10, 2.04103206e-12, 5.99689326e-11],\n",
       "        [1.27572985e-12, 1.47626477e-11, 8.20494389e-14, ...,\n",
       "         6.76010853e-12, 4.47511181e-15, 3.66220986e-12],\n",
       "        [2.39954376e-11, 1.16356773e-08, 5.72552783e-10, ...,\n",
       "         2.23421712e-10, 3.91975601e-12, 1.00000000e+00],\n",
       "        ...,\n",
       "        [3.33110449e-12, 1.00000000e+00, 1.79387373e-11, ...,\n",
       "         1.89858209e-08, 7.80910421e-15, 2.41581047e-14],\n",
       "        [1.49515785e-07, 9.35339273e-09, 2.47153894e-05, ...,\n",
       "         4.01726963e-09, 1.58294586e-10, 1.62364089e-09],\n",
       "        [2.01346648e-11, 1.13440125e-10, 1.85408661e-10, ...,\n",
       "         1.34095415e-10, 1.48332220e-13, 1.10605292e-11]], dtype=float32),\n",
       " array([[7.7599802e-09, 2.0794372e-08, 2.5345803e-09, ..., 7.5279807e-08,\n",
       "         4.4998564e-11, 8.7947316e-10],\n",
       "        [2.8143828e-07, 3.4886259e-08, 3.9373511e-08, ..., 1.0712532e-07,\n",
       "         7.9646206e-10, 4.9731597e-08],\n",
       "        [1.3599014e-13, 1.0000000e+00, 6.3222418e-12, ..., 9.5407078e-11,\n",
       "         1.8830577e-14, 1.5595875e-12],\n",
       "        ...,\n",
       "        [3.4042671e-07, 7.6833601e-08, 1.7084094e-08, ..., 6.7954566e-08,\n",
       "         3.2870554e-10, 5.1412140e-08],\n",
       "        [2.8754760e-13, 2.9488613e-11, 5.0692384e-10, ..., 1.0930815e-11,\n",
       "         4.1468243e-14, 4.8782384e-10],\n",
       "        [2.2025315e-09, 4.0123422e-07, 2.7170729e-05, ..., 9.9537054e-08,\n",
       "         3.2665872e-09, 6.1356030e-07]], dtype=float32),\n",
       " array([[1.45914885e-06, 2.38116945e-06, 7.33083971e-06, ...,\n",
       "         2.00883574e-06, 2.85613080e-08, 5.45400610e-07],\n",
       "        [2.65015982e-13, 5.48267421e-12, 3.68821640e-12, ...,\n",
       "         1.36519927e-11, 1.78895328e-15, 1.91583078e-13],\n",
       "        [1.16876777e-07, 4.35545559e-07, 1.14177816e-07, ...,\n",
       "         3.10801710e-07, 4.81974627e-10, 1.92448457e-08],\n",
       "        ...,\n",
       "        [1.00000000e+00, 4.18497404e-13, 1.22879886e-12, ...,\n",
       "         1.21502970e-12, 1.93022143e-15, 2.61475450e-15],\n",
       "        [9.99999404e-01, 3.98381661e-10, 5.19547017e-10, ...,\n",
       "         4.59571159e-10, 2.38742034e-12, 3.01537571e-12],\n",
       "        [2.69774409e-16, 5.32336111e-13, 4.18211295e-15, ...,\n",
       "         1.00000000e+00, 6.81750548e-17, 2.59418002e-14]], dtype=float32),\n",
       " array([[7.8927060e-06, 5.5813016e-03, 6.8408161e-02, ..., 9.2769642e-06,\n",
       "         1.4550700e-07, 4.5362699e-06],\n",
       "        [2.4085955e-07, 6.5769367e-05, 2.7767758e-10, ..., 1.5108324e-07,\n",
       "         5.9049827e-12, 1.6340402e-09],\n",
       "        [3.2866993e-08, 1.9786761e-08, 2.1339257e-07, ..., 7.6448332e-09,\n",
       "         2.0569030e-10, 1.0764176e-08],\n",
       "        ...,\n",
       "        [8.1673890e-11, 3.5529191e-10, 2.0978322e-10, ..., 2.7296357e-10,\n",
       "         1.3456491e-12, 4.3936063e-11],\n",
       "        [3.8788950e-12, 5.3849512e-09, 4.1649395e-09, ..., 1.9370652e-09,\n",
       "         5.9700322e-12, 4.2132466e-09],\n",
       "        [2.0747045e-08, 8.5657686e-01, 3.6690838e-07, ..., 4.8482834e-05,\n",
       "         1.9368522e-09, 1.7307647e-08]], dtype=float32),\n",
       " array([[3.45824036e-09, 1.07168132e-08, 6.68238371e-08, ...,\n",
       "         1.30969097e-10, 4.54185786e-11, 1.12544274e-09],\n",
       "        [3.13514216e-13, 1.79866788e-10, 1.58049726e-10, ...,\n",
       "         1.83866082e-11, 3.22342223e-13, 1.14194723e-10],\n",
       "        [1.35255873e-15, 2.44521979e-14, 2.63352231e-16, ...,\n",
       "         7.32710859e-15, 4.03768033e-18, 1.61191251e-14],\n",
       "        ...,\n",
       "        [1.22737205e-12, 9.99999762e-01, 5.98043906e-11, ...,\n",
       "         6.84070994e-11, 2.66980394e-13, 4.32454593e-12],\n",
       "        [1.07793205e-08, 6.25540792e-08, 4.16885229e-08, ...,\n",
       "         7.91185784e-09, 1.66931247e-10, 4.53364146e-09],\n",
       "        [1.44749993e-05, 1.36291638e-01, 3.18451348e-05, ...,\n",
       "         9.63360435e-06, 2.45903948e-07, 3.55894165e-03]], dtype=float32),\n",
       " array([[5.7991203e-03, 1.5231140e-04, 2.0279030e-04, ..., 2.6698085e-03,\n",
       "         2.8906409e-06, 2.1243639e-05],\n",
       "        [5.6137603e-13, 3.1266612e-10, 2.8504052e-10, ..., 1.7072667e-10,\n",
       "         6.6696594e-13, 2.8647562e-10],\n",
       "        [1.8943920e-09, 8.3339504e-09, 2.4307791e-08, ..., 1.8245705e-08,\n",
       "         2.2163776e-10, 1.6386032e-07],\n",
       "        ...,\n",
       "        [3.5354304e-08, 1.4063535e-08, 1.1343525e-06, ..., 4.5302131e-09,\n",
       "         1.0556542e-10, 1.1917158e-09],\n",
       "        [2.3820273e-12, 7.0364735e-11, 6.5188056e-11, ..., 3.5763786e-12,\n",
       "         6.1367503e-14, 5.4121473e-12],\n",
       "        [2.7582739e-14, 2.5384458e-13, 2.7045746e-13, ..., 3.5895098e-14,\n",
       "         1.6078514e-16, 7.5403991e-15]], dtype=float32),\n",
       " array([[1.0000000e+00, 4.7544325e-13, 6.3234807e-13, ..., 4.8377947e-13,\n",
       "         1.6129819e-15, 1.8382082e-15],\n",
       "        [1.9952441e-02, 9.7401923e-01, 4.9829646e-07, ..., 7.8552142e-07,\n",
       "         2.1937530e-10, 3.6434595e-11],\n",
       "        [2.9827335e-11, 1.1880527e-11, 9.8020767e-12, ..., 2.0316670e-11,\n",
       "         1.6585096e-13, 1.1172138e-11],\n",
       "        ...,\n",
       "        [9.9999893e-01, 2.1166034e-10, 2.8325133e-09, ..., 3.6109105e-10,\n",
       "         5.0559405e-12, 6.4847663e-12],\n",
       "        [2.5730557e-13, 1.1644557e-12, 4.4996104e-10, ..., 4.2092324e-12,\n",
       "         3.7078633e-14, 6.6528662e-12],\n",
       "        [8.5147496e-15, 1.6000078e-12, 2.1652354e-16, ..., 1.2590136e-13,\n",
       "         1.6051665e-17, 6.4440532e-14]], dtype=float32),\n",
       " array([[1.0000000e+00, 5.7349183e-13, 3.2516237e-13, ..., 3.1340420e-13,\n",
       "         1.3350581e-15, 3.4772793e-15],\n",
       "        [5.8064081e-10, 2.8958820e-09, 1.0396338e-08, ..., 5.6051310e-09,\n",
       "         1.4810521e-11, 1.3745602e-10],\n",
       "        [8.9453390e-13, 1.0343478e-12, 2.1240628e-14, ..., 2.7856981e-14,\n",
       "         1.8038157e-16, 1.0934350e-13],\n",
       "        ...,\n",
       "        [8.2006479e-16, 5.7692634e-15, 6.4142796e-14, ..., 7.3516022e-16,\n",
       "         1.1602575e-18, 6.6994832e-16],\n",
       "        [1.4028391e-04, 1.0291854e-08, 4.1996125e-07, ..., 1.6213291e-09,\n",
       "         1.8018667e-10, 6.1685962e-10],\n",
       "        [3.2833771e-06, 4.6090468e-06, 9.9995458e-01, ..., 4.1285175e-06,\n",
       "         2.6959146e-08, 6.3354209e-06]], dtype=float32),\n",
       " array([[2.06129100e-13, 1.69990519e-12, 1.03491316e-14, ...,\n",
       "         2.83940731e-13, 2.08307305e-16, 1.51869598e-12],\n",
       "        [9.85186617e-08, 3.95552124e-05, 9.30859585e-08, ...,\n",
       "         9.54862026e-06, 3.56978203e-09, 1.12887006e-04],\n",
       "        [4.20213205e-11, 9.99999285e-01, 4.52762723e-11, ...,\n",
       "         1.22406238e-10, 1.09021733e-12, 4.51888570e-12],\n",
       "        ...,\n",
       "        [1.84691603e-16, 1.00000000e+00, 1.69457332e-16, ...,\n",
       "         8.46555390e-15, 2.59272029e-18, 3.32061162e-16],\n",
       "        [8.43800805e-14, 4.53247940e-14, 6.83065834e-15, ...,\n",
       "         8.91006900e-14, 7.20335810e-17, 1.51392028e-13],\n",
       "        [4.70862957e-03, 3.16797338e-10, 1.85267166e-11, ...,\n",
       "         1.57868207e-08, 9.72241601e-13, 4.91871691e-12]], dtype=float32),\n",
       " array([[2.64672924e-08, 4.76999332e-07, 4.31166962e-03, ...,\n",
       "         1.91366922e-07, 1.78446324e-08, 7.00368082e-06],\n",
       "        [1.47261869e-09, 6.61681931e-10, 1.69834258e-09, ...,\n",
       "         6.18869667e-09, 1.00915699e-11, 3.88915955e-10],\n",
       "        [2.44749177e-18, 4.37893328e-18, 1.75913751e-14, ...,\n",
       "         1.99361288e-16, 2.36515029e-19, 2.62400590e-16],\n",
       "        ...,\n",
       "        [1.00627662e-09, 1.51812898e-07, 1.06258362e-07, ...,\n",
       "         1.81271503e-07, 4.72605843e-10, 9.34644717e-08],\n",
       "        [1.00000000e+00, 6.12199388e-11, 2.19112662e-12, ...,\n",
       "         5.50335645e-12, 3.12278686e-14, 1.11763056e-13],\n",
       "        [4.60212286e-05, 3.27268809e-01, 1.48515783e-05, ...,\n",
       "         1.10007959e-05, 6.00374506e-08, 2.45406056e-07]], dtype=float32),\n",
       " array([[1.0462578e-08, 2.2236290e-04, 6.7763403e-12, ..., 6.4829542e-10,\n",
       "         7.1284374e-13, 1.0622338e-11],\n",
       "        [2.5830596e-11, 9.0010041e-11, 3.2626368e-10, ..., 1.4184944e-11,\n",
       "         4.8085586e-13, 1.8247697e-11],\n",
       "        [3.8003849e-09, 2.4941462e-09, 1.7370525e-08, ..., 3.8499457e-09,\n",
       "         2.3060635e-11, 1.4946842e-09],\n",
       "        ...,\n",
       "        [7.7884588e-11, 1.2584778e-10, 1.7482077e-09, ..., 4.4694654e-11,\n",
       "         3.1210852e-13, 1.4862974e-11],\n",
       "        [2.8344008e-08, 9.5489377e-01, 1.6192757e-06, ..., 3.9322946e-02,\n",
       "         8.8528793e-08, 2.2294937e-06],\n",
       "        [5.1236384e-09, 2.2874628e-04, 2.6026736e-08, ..., 2.1941679e-08,\n",
       "         2.5555261e-10, 1.2522844e-09]], dtype=float32),\n",
       " array([[3.7493264e-13, 7.9121654e-11, 6.1587896e-12, ..., 5.6701589e-13,\n",
       "         5.8854763e-15, 2.8583331e-13],\n",
       "        [8.7315124e-09, 6.2996406e-08, 1.3413970e-07, ..., 9.9998915e-01,\n",
       "         3.4007208e-09, 4.3784593e-07],\n",
       "        [2.5784325e-13, 9.9999893e-01, 2.0721144e-12, ..., 3.6498093e-11,\n",
       "         3.4135997e-14, 2.7032840e-12],\n",
       "        ...,\n",
       "        [3.0026244e-09, 2.3897495e-09, 8.5262673e-07, ..., 8.1199801e-08,\n",
       "         5.5133115e-10, 1.9454241e-07],\n",
       "        [9.8704964e-01, 1.5350227e-07, 5.8924493e-06, ..., 6.1030569e-08,\n",
       "         7.5104793e-09, 1.0105144e-08],\n",
       "        [8.0119556e-18, 1.1263694e-15, 1.5370211e-18, ..., 5.0491322e-16,\n",
       "         1.9029754e-20, 3.1451276e-16]], dtype=float32),\n",
       " array([[3.8108132e-12, 3.1203874e-14, 3.2712154e-15, ..., 8.8895766e-11,\n",
       "         4.7467349e-15, 2.5784615e-08],\n",
       "        [3.2557614e-09, 1.0649363e-08, 7.6740520e-08, ..., 8.0429735e-10,\n",
       "         6.8883919e-11, 2.5329117e-09],\n",
       "        [2.4977345e-11, 8.8307087e-12, 1.4134309e-10, ..., 4.7984474e-11,\n",
       "         3.9573810e-13, 6.6969305e-11],\n",
       "        ...,\n",
       "        [1.0081147e-12, 2.7940605e-10, 4.1794148e-11, ..., 1.8103649e-10,\n",
       "         5.1362929e-13, 2.1601744e-10],\n",
       "        [6.5651035e-10, 1.3730222e-07, 4.8670092e-08, ..., 7.2594299e-09,\n",
       "         6.3978856e-10, 1.0063032e-07],\n",
       "        [8.8357070e-14, 9.0263595e-12, 1.2731514e-11, ..., 1.7410681e-11,\n",
       "         2.0984442e-14, 8.7180860e-11]], dtype=float32),\n",
       " array([[9.3055320e-12, 9.9977642e-01, 4.8288598e-13, ..., 1.9754975e-07,\n",
       "         3.8956536e-14, 2.2652578e-13],\n",
       "        [6.0243307e-16, 3.2429975e-12, 6.9874770e-13, ..., 6.6645978e-13,\n",
       "         2.8574419e-15, 4.7399385e-12],\n",
       "        [7.9063021e-08, 1.8948218e-04, 7.1007986e-09, ..., 1.7595560e-06,\n",
       "         1.0607357e-08, 2.0817455e-04],\n",
       "        ...,\n",
       "        [5.5727541e-12, 3.0538445e-12, 4.0247905e-12, ..., 6.4889094e-11,\n",
       "         1.5060884e-14, 1.3517226e-12],\n",
       "        [4.5007975e-09, 1.6971325e-06, 9.9999809e-01, ..., 4.9561586e-09,\n",
       "         2.3892487e-12, 2.1621933e-09],\n",
       "        [6.2662281e-10, 6.1735619e-07, 6.7098292e-11, ..., 3.0201680e-10,\n",
       "         1.0303162e-13, 2.0862808e-12]], dtype=float32),\n",
       " array([[2.7858459e-11, 8.4532596e-11, 2.7596425e-10, ..., 2.0144595e-09,\n",
       "         1.9713304e-12, 6.6386034e-09],\n",
       "        [3.3835936e-06, 7.7817058e-06, 1.5942048e-02, ..., 2.4111036e-04,\n",
       "         1.1704906e-07, 9.0378286e-05],\n",
       "        [2.0112358e-07, 7.5924538e-09, 4.1402934e-09, ..., 4.5134220e-06,\n",
       "         4.3930224e-11, 9.9438182e-09],\n",
       "        ...,\n",
       "        [2.6068032e-14, 2.2339932e-12, 7.3549240e-13, ..., 6.8101984e-14,\n",
       "         3.4648309e-16, 1.1677730e-14],\n",
       "        [4.8545808e-13, 1.0000000e+00, 5.1188600e-13, ..., 3.4564143e-09,\n",
       "         4.9092899e-15, 1.2010150e-14],\n",
       "        [1.4529401e-08, 4.2767212e-08, 2.2780222e-08, ..., 9.1234369e-08,\n",
       "         5.6020716e-10, 8.8922133e-07]], dtype=float32),\n",
       " array([[8.9165369e-16, 7.4417382e-12, 6.6239684e-13, ..., 3.8212556e-13,\n",
       "         1.5619489e-15, 4.4489993e-12],\n",
       "        [1.8108423e-07, 9.4228403e-07, 3.0770275e-06, ..., 1.8009790e-07,\n",
       "         1.2331154e-08, 5.2229927e-07],\n",
       "        [4.9903260e-06, 1.0418557e-06, 9.4692887e-06, ..., 2.6221093e-04,\n",
       "         1.2189346e-08, 3.5573623e-06],\n",
       "        ...,\n",
       "        [9.1390895e-11, 2.5007328e-08, 5.5778884e-09, ..., 1.0230996e-11,\n",
       "         9.1226744e-13, 1.6586539e-11],\n",
       "        [7.3807525e-09, 9.8031771e-01, 2.8468405e-10, ..., 2.4688603e-08,\n",
       "         1.8881108e-10, 3.9583050e-08],\n",
       "        [2.4745066e-09, 4.0556760e-08, 4.4523791e-11, ..., 3.0069830e-10,\n",
       "         1.8643835e-11, 4.8887905e-10]], dtype=float32),\n",
       " array([[3.3866826e-08, 9.7982330e-08, 7.6418091e-12, ..., 1.7291699e-09,\n",
       "         1.1640859e-11, 4.7430525e-08],\n",
       "        [8.4136967e-13, 6.0143084e-12, 1.9965889e-12, ..., 1.0000000e+00,\n",
       "         1.7383190e-13, 6.3779711e-11],\n",
       "        [8.3783248e-16, 4.6965119e-18, 2.2461063e-19, ..., 1.7894856e-15,\n",
       "         4.2021421e-19, 7.3041975e-11],\n",
       "        ...,\n",
       "        [3.9031704e-07, 4.7938720e-05, 5.1828997e-06, ..., 3.5673613e-05,\n",
       "         1.6627959e-07, 5.2943629e-05],\n",
       "        [1.1315594e-10, 9.1678700e-09, 9.2401315e-08, ..., 1.2388965e-09,\n",
       "         1.4964809e-11, 2.2489994e-08],\n",
       "        [3.5210069e-02, 1.8199836e-04, 1.1956074e-03, ..., 1.1700958e-04,\n",
       "         6.0777070e-06, 5.0258568e-05]], dtype=float32),\n",
       " array([[5.92144147e-08, 1.29969671e-08, 5.64895366e-08, ...,\n",
       "         1.45580159e-09, 3.03806980e-10, 3.64857256e-09],\n",
       "        [9.34399452e-07, 1.83465363e-05, 1.04618685e-07, ...,\n",
       "         1.08058393e-05, 3.79060472e-09, 1.33855792e-07],\n",
       "        [2.00005204e-21, 9.11599322e-21, 1.93547015e-16, ...,\n",
       "         9.82094274e-19, 2.69834303e-22, 1.61046482e-18],\n",
       "        ...,\n",
       "        [2.85696141e-12, 7.94105581e-04, 4.05019802e-11, ...,\n",
       "         1.08776266e-09, 8.98335312e-12, 1.51379140e-08],\n",
       "        [7.87762389e-09, 4.55233895e-08, 8.06124547e-07, ...,\n",
       "         4.19628954e-09, 1.28354605e-09, 3.08191801e-08],\n",
       "        [2.39301245e-10, 1.08962102e-08, 4.12683875e-07, ...,\n",
       "         3.61480595e-10, 6.35654585e-11, 6.07432060e-09]], dtype=float32),\n",
       " array([[2.9263811e-08, 1.2541421e-08, 8.8184731e-09, ..., 3.9362482e-11,\n",
       "         5.3273566e-12, 2.4242813e-10],\n",
       "        [1.8787221e-16, 3.5877129e-16, 8.3807498e-17, ..., 8.8059017e-16,\n",
       "         3.9443260e-19, 9.5316571e-17],\n",
       "        [2.2127894e-12, 1.5525099e-11, 2.7018006e-13, ..., 5.4803848e-12,\n",
       "         2.7271414e-15, 1.0098573e-12],\n",
       "        ...,\n",
       "        [6.4560353e-09, 2.7676884e-07, 1.6209419e-06, ..., 5.9200339e-08,\n",
       "         1.7831933e-09, 3.1320748e-01],\n",
       "        [1.5259445e-07, 6.4521792e-08, 6.1079855e-03, ..., 2.9313798e-05,\n",
       "         5.4573204e-09, 9.6268252e-07],\n",
       "        [1.5026108e-09, 5.4148370e-07, 3.1810941e-07, ..., 6.0031340e-07,\n",
       "         1.7826663e-09, 9.2550716e-04]], dtype=float32),\n",
       " array([[7.19913396e-06, 3.10019436e-06, 1.26317231e-04, ...,\n",
       "         9.57079237e-07, 4.19689137e-08, 3.34200354e-06],\n",
       "        [2.00643449e-08, 4.32040625e-09, 3.07194714e-09, ...,\n",
       "         2.05981028e-08, 6.43970086e-11, 5.46399548e-09],\n",
       "        [1.14062254e-12, 7.27131983e-12, 1.01759334e-12, ...,\n",
       "         3.06912004e-12, 1.73489225e-15, 4.40062998e-13],\n",
       "        ...,\n",
       "        [8.38210497e-08, 1.26712708e-04, 6.33188392e-06, ...,\n",
       "         8.91601886e-08, 2.15972715e-08, 1.49560001e-04],\n",
       "        [2.33968400e-11, 5.56371788e-06, 5.23390609e-10, ...,\n",
       "         2.02383638e-10, 9.41088266e-12, 9.99994397e-01],\n",
       "        [7.98388794e-14, 6.07898226e-13, 8.84773537e-13, ...,\n",
       "         8.50276501e-13, 2.05441213e-15, 1.09281155e-13]], dtype=float32),\n",
       " array([[1.1837333e-10, 1.3955563e-09, 5.7306737e-10, ..., 2.2463738e-10,\n",
       "         2.3869756e-12, 4.9003097e-11],\n",
       "        [5.6615814e-12, 4.0315130e-12, 1.7777897e-11, ..., 8.4418150e-12,\n",
       "         9.9584403e-14, 9.5376103e-12],\n",
       "        [2.3972685e-08, 8.1595027e-01, 1.9464626e-07, ..., 6.8968620e-07,\n",
       "         3.2669347e-09, 1.7038507e-06],\n",
       "        ...,\n",
       "        [6.3222661e-12, 1.0223608e-10, 5.3663817e-13, ..., 1.5408806e-11,\n",
       "         3.4817008e-14, 4.9399963e-11],\n",
       "        [8.7373797e-09, 1.2979416e-07, 5.8553132e-07, ..., 2.0733393e-09,\n",
       "         6.0005012e-10, 2.3815756e-08],\n",
       "        [3.4581565e-12, 5.5015406e-12, 9.9970732e-14, ..., 1.3835904e-12,\n",
       "         3.0301613e-15, 2.4659003e-12]], dtype=float32),\n",
       " array([[1.44258702e-11, 7.15618953e-11, 7.14848181e-11, ...,\n",
       "         1.22227315e-11, 1.23708769e-13, 9.63337483e-12],\n",
       "        [7.28722944e-06, 1.57341640e-06, 2.09783047e-05, ...,\n",
       "         1.84037641e-01, 1.75630674e-07, 3.21978860e-06],\n",
       "        [9.22671141e-12, 4.35780656e-09, 9.02876218e-10, ...,\n",
       "         5.53228297e-10, 1.58757155e-12, 6.20710283e-09],\n",
       "        ...,\n",
       "        [2.25428631e-09, 4.94487395e-10, 1.06769305e-08, ...,\n",
       "         1.83552029e-09, 5.68482934e-11, 1.81574911e-09],\n",
       "        [1.39074585e-14, 1.74461747e-12, 1.00000000e+00, ...,\n",
       "         6.77809995e-14, 1.77504324e-17, 1.22652745e-12],\n",
       "        [5.14171318e-15, 5.08563071e-15, 6.05919857e-17, ...,\n",
       "         1.26925494e-15, 5.00981266e-19, 6.26084879e-16]], dtype=float32),\n",
       " array([[4.3180140e-14, 4.9880666e-14, 5.4295839e-14, ..., 4.1805717e-12,\n",
       "         2.7326275e-16, 1.9762825e-14],\n",
       "        [1.1127375e-07, 2.5254325e-08, 4.1709914e-08, ..., 6.9515073e-07,\n",
       "         9.4907826e-10, 2.4763073e-08],\n",
       "        [3.6353906e-11, 1.6023089e-03, 5.8588610e-09, ..., 8.5889162e-08,\n",
       "         2.2457852e-12, 7.3103600e-11],\n",
       "        ...,\n",
       "        [5.5606984e-06, 3.4025861e-06, 5.0847348e-07, ..., 4.0601817e-06,\n",
       "         1.1501526e-09, 4.7814925e-09],\n",
       "        [2.6475111e-14, 1.0359254e-12, 7.9123535e-13, ..., 2.0485489e-13,\n",
       "         5.3207545e-16, 3.1068826e-14],\n",
       "        [7.8802271e-09, 8.4604963e-08, 4.8960163e-07, ..., 2.3709614e-09,\n",
       "         1.0511951e-09, 1.0949887e-07]], dtype=float32),\n",
       " array([[9.99999285e-01, 3.00900838e-09, 3.55163765e-09, ...,\n",
       "         2.41462628e-09, 5.22223202e-11, 8.75113246e-11],\n",
       "        [3.35887124e-10, 2.80332593e-08, 2.76960255e-09, ...,\n",
       "         9.99905825e-01, 1.01332880e-10, 1.78062578e-07],\n",
       "        [3.52356210e-07, 4.01588204e-06, 9.99985933e-01, ...,\n",
       "         2.14468855e-07, 3.36387385e-09, 3.26573581e-06],\n",
       "        ...,\n",
       "        [7.24584481e-07, 1.40564140e-07, 1.47623345e-08, ...,\n",
       "         1.08739982e-07, 8.18194179e-10, 6.42756731e-07],\n",
       "        [4.55472149e-09, 1.02193253e-02, 1.76368849e-05, ...,\n",
       "         1.15500061e-05, 6.15059559e-09, 9.82603967e-01],\n",
       "        [1.34620507e-07, 6.98463060e-03, 1.11591444e-05, ...,\n",
       "         3.20695428e-04, 6.92329309e-07, 1.83162570e-04]], dtype=float32),\n",
       " array([[3.21548552e-11, 7.64817723e-12, 2.77682066e-12, ...,\n",
       "         7.65662794e-12, 4.30086061e-14, 1.24888364e-11],\n",
       "        [3.09977100e-10, 2.47070027e-08, 4.05594752e-10, ...,\n",
       "         1.82170385e-08, 2.56068881e-11, 1.88791311e-08],\n",
       "        [2.63136044e-05, 1.07987635e-05, 4.91603103e-04, ...,\n",
       "         3.23709220e-01, 2.35917256e-07, 1.49530870e-05],\n",
       "        ...,\n",
       "        [1.02591500e-08, 2.36516584e-10, 3.11159154e-10, ...,\n",
       "         1.21478827e-09, 1.04213231e-12, 9.08030873e-11],\n",
       "        [4.35104974e-09, 2.40176917e-07, 9.25080167e-06, ...,\n",
       "         2.63181188e-09, 1.33385109e-10, 4.04014671e-08],\n",
       "        [1.97884007e-14, 6.06248515e-12, 2.79169548e-12, ...,\n",
       "         2.29714945e-11, 9.44256659e-15, 6.30061281e-11]], dtype=float32),\n",
       " array([[6.16883322e-10, 7.74576758e-09, 1.26192772e-08, ...,\n",
       "         9.99999523e-01, 2.37847381e-10, 4.44155361e-08],\n",
       "        [2.86936370e-07, 6.43719432e-07, 7.09978759e-01, ...,\n",
       "         5.84241434e-07, 9.37708133e-09, 7.13698500e-06],\n",
       "        [4.53914554e-12, 4.13855338e-13, 7.91545852e-14, ...,\n",
       "         4.70828888e-14, 2.76171916e-16, 1.06368575e-13],\n",
       "        ...,\n",
       "        [2.00663902e-10, 6.29406596e-11, 1.42008155e-10, ...,\n",
       "         2.51502118e-11, 6.38619312e-13, 1.71812738e-11],\n",
       "        [1.26698672e-14, 9.98313086e-13, 1.83032886e-12, ...,\n",
       "         5.74210436e-11, 1.79884853e-15, 1.41142905e-11],\n",
       "        [2.05993970e-07, 3.76918141e-09, 2.01410166e-10, ...,\n",
       "         1.23830944e-06, 5.89746793e-11, 1.21868329e-08]], dtype=float32),\n",
       " array([[8.5123641e-09, 1.6565447e-06, 1.2067161e-07, ..., 4.3614277e-09,\n",
       "         1.5679039e-09, 6.7117448e-08],\n",
       "        [9.9874351e-13, 2.9334718e-16, 2.7221497e-17, ..., 1.6432415e-13,\n",
       "         3.8090883e-17, 4.3859118e-11],\n",
       "        [4.7480811e-11, 4.7563529e-07, 3.9434518e-11, ..., 9.9999928e-01,\n",
       "         9.7683441e-12, 3.2512296e-10],\n",
       "        ...,\n",
       "        [3.2712409e-11, 1.6286278e-11, 2.1486205e-11, ..., 7.2204335e-12,\n",
       "         1.3713726e-13, 4.3155080e-12],\n",
       "        [9.9976808e-01, 9.4812286e-08, 1.6455876e-07, ..., 1.3650175e-08,\n",
       "         8.3815371e-10, 1.8249821e-09],\n",
       "        [5.0570050e-09, 6.2518346e-10, 1.0000000e+00, ..., 4.7615817e-10,\n",
       "         1.0158035e-12, 2.7416472e-10]], dtype=float32),\n",
       " array([[6.1130312e-10, 1.8020302e-08, 3.7675484e-08, ..., 1.8444781e-09,\n",
       "         2.7669282e-11, 6.9219003e-10],\n",
       "        [1.2740410e-14, 2.0750818e-13, 3.8092343e-13, ..., 1.6041161e-14,\n",
       "         3.5919560e-17, 9.5679503e-15],\n",
       "        [7.0079564e-19, 1.9515741e-15, 1.2365120e-17, ..., 1.0000000e+00,\n",
       "         1.8562154e-19, 7.8973203e-17],\n",
       "        ...,\n",
       "        [4.6955231e-12, 6.3731160e-12, 1.3707503e-13, ..., 8.7677417e-12,\n",
       "         6.1296928e-15, 6.5700800e-12],\n",
       "        [1.1097193e-11, 2.6214075e-10, 1.4772900e-11, ..., 6.1244265e-10,\n",
       "         1.3900809e-13, 1.0932963e-11],\n",
       "        [5.3803342e-07, 2.1748149e-04, 3.8564178e-07, ..., 1.2189494e-02,\n",
       "         6.5385954e-09, 1.1207303e-06]], dtype=float32),\n",
       " array([[9.9999988e-01, 7.2537719e-11, 1.2037325e-10, ..., 1.9973716e-10,\n",
       "         1.7858432e-12, 5.2938379e-12],\n",
       "        [1.8579772e-07, 1.1354526e-08, 8.2819906e-10, ..., 3.0162861e-09,\n",
       "         1.1859529e-10, 1.5519028e-08],\n",
       "        [1.6651339e-09, 6.1079777e-09, 1.5102657e-09, ..., 1.1420475e-09,\n",
       "         3.9069626e-11, 2.0024453e-09],\n",
       "        ...,\n",
       "        [8.2460501e-09, 2.0093226e-07, 1.9054867e-10, ..., 1.3153446e-08,\n",
       "         7.6472009e-11, 7.3630066e-09],\n",
       "        [4.8819494e-15, 1.2641769e-14, 2.6059477e-18, ..., 3.6646499e-15,\n",
       "         1.1035883e-17, 9.4749599e-13],\n",
       "        [1.4586685e-10, 3.1301055e-09, 2.0706816e-09, ..., 1.8688611e-09,\n",
       "         1.7405933e-11, 8.0833837e-09]], dtype=float32),\n",
       " array([[6.05231722e-16, 3.61309086e-14, 1.49742669e-14, ...,\n",
       "         6.85187186e-16, 3.38504248e-18, 2.77897666e-16],\n",
       "        [2.36574323e-07, 1.17180548e-06, 9.99998450e-01, ...,\n",
       "         1.92186036e-08, 5.21488200e-11, 8.93720831e-09],\n",
       "        [8.52050999e-11, 1.60130096e-08, 4.43580905e-09, ...,\n",
       "         3.13870552e-09, 1.23675280e-11, 9.99976158e-01],\n",
       "        ...,\n",
       "        [8.19036217e-09, 2.22534084e-07, 3.04500929e-07, ...,\n",
       "         8.18714518e-09, 1.84142179e-09, 1.02947936e-07],\n",
       "        [2.95701087e-15, 8.35515823e-11, 1.84497621e-12, ...,\n",
       "         1.59188496e-10, 1.63750561e-14, 1.05548365e-11],\n",
       "        [1.19995162e-01, 6.41518864e-06, 1.23047516e-06, ...,\n",
       "         3.29285945e-06, 1.45783673e-07, 2.31077433e-06]], dtype=float32),\n",
       " array([[2.5292150e-06, 8.7174364e-08, 6.9926856e-11, ..., 2.4030264e-10,\n",
       "         6.9886783e-13, 1.0879749e-12],\n",
       "        [1.5646664e-07, 1.5059741e-03, 1.4479757e-07, ..., 5.5074732e-05,\n",
       "         1.4184446e-08, 6.3755726e-07],\n",
       "        [7.0014261e-07, 7.5656629e-07, 4.6875380e-06, ..., 8.6382852e-06,\n",
       "         3.5426015e-09, 4.0953214e-08],\n",
       "        ...,\n",
       "        [8.7308019e-09, 3.4783275e-06, 1.5620560e-10, ..., 4.1191175e-08,\n",
       "         1.2620796e-11, 2.5006104e-09],\n",
       "        [1.9365495e-11, 4.3874186e-14, 2.4673407e-15, ..., 9.0920715e-08,\n",
       "         4.7384433e-17, 4.5813407e-15],\n",
       "        [2.0304736e-07, 2.0135930e-07, 1.8723877e-07, ..., 1.1408821e-05,\n",
       "         3.8567075e-10, 1.9838719e-08]], dtype=float32),\n",
       " array([[1.42641195e-14, 2.32731694e-13, 2.33918164e-13, ...,\n",
       "         2.60140420e-14, 1.00491724e-16, 6.45813876e-15],\n",
       "        [4.20305880e-14, 2.01007331e-12, 1.71249024e-15, ...,\n",
       "         2.17901421e-13, 7.82642297e-17, 3.03892165e-13],\n",
       "        [4.67975915e-04, 1.19581118e-05, 1.80143703e-04, ...,\n",
       "         1.07195548e-04, 3.07495634e-06, 4.12717927e-05],\n",
       "        ...,\n",
       "        [8.32035043e-14, 2.39176128e-08, 6.03158625e-12, ...,\n",
       "         2.28938552e-11, 2.00124314e-13, 1.95221860e-11],\n",
       "        [2.17963157e-06, 9.59143108e-06, 1.67392118e-05, ...,\n",
       "         3.74076772e-05, 1.47126329e-07, 7.74928776e-06],\n",
       "        [8.06797527e-14, 2.20138768e-10, 1.70942371e-10, ...,\n",
       "         1.23868277e-11, 1.98179486e-13, 5.34073688e-11]], dtype=float32),\n",
       " array([[9.1882204e-14, 3.5110207e-07, 1.6891941e-11, ..., 2.2216704e-11,\n",
       "         2.6020145e-13, 1.1750362e-10],\n",
       "        [2.0877742e-09, 7.8337692e-08, 1.5760707e-08, ..., 1.1726602e-08,\n",
       "         5.4986692e-11, 4.3288620e-07],\n",
       "        [3.8660367e-11, 3.0048958e-10, 3.1929301e-09, ..., 5.7366423e-10,\n",
       "         3.2255920e-13, 4.7303477e-11],\n",
       "        ...,\n",
       "        [2.8278022e-14, 2.2135915e-12, 1.0903001e-14, ..., 2.6048128e-12,\n",
       "         3.5490135e-16, 2.8088027e-12],\n",
       "        [7.5203062e-08, 2.0482291e-03, 4.9490968e-08, ..., 4.9298620e-01,\n",
       "         2.0700188e-09, 2.7340111e-08],\n",
       "        [1.6571017e-05, 2.9636602e-09, 7.3707403e-12, ..., 3.6859715e-09,\n",
       "         3.2590063e-13, 9.3020361e-13]], dtype=float32),\n",
       " array([[1.7074015e-16, 9.5396976e-13, 5.6483008e-13, ..., 9.7130691e-14,\n",
       "         3.6587114e-16, 4.8637309e-12],\n",
       "        [1.2545169e-06, 1.6002403e-08, 5.5215036e-04, ..., 1.7156789e-07,\n",
       "         6.2003012e-09, 4.4994471e-07],\n",
       "        [2.3270939e-05, 1.1624216e-07, 4.4597036e-07, ..., 1.5692865e-07,\n",
       "         4.1445976e-09, 1.1741167e-07],\n",
       "        ...,\n",
       "        [4.1865876e-01, 2.8956504e-04, 2.4999979e-06, ..., 1.4690256e-04,\n",
       "         5.1789851e-08, 2.4477993e-07],\n",
       "        [8.2553758e-10, 1.2153379e-07, 8.7345735e-11, ..., 8.8321024e-01,\n",
       "         1.5722090e-11, 2.1470450e-08],\n",
       "        [3.3247093e-07, 6.7662364e-07, 3.0943585e-08, ..., 1.4454288e-07,\n",
       "         2.6900036e-09, 3.9318506e-06]], dtype=float32),\n",
       " array([[1.76752276e-11, 9.99981642e-01, 5.70265501e-10, ...,\n",
       "         2.62499462e-08, 1.42267296e-12, 1.58016086e-10],\n",
       "        [2.58063579e-07, 3.09424795e-05, 2.11289967e-06, ...,\n",
       "         8.22361350e-01, 1.14062701e-07, 8.97173959e-06],\n",
       "        [1.47784895e-08, 1.00484428e-07, 1.84561827e-07, ...,\n",
       "         5.12608622e-09, 3.45672602e-10, 7.47573452e-08],\n",
       "        ...,\n",
       "        [2.20946744e-01, 1.66295795e-05, 2.15539083e-04, ...,\n",
       "         7.29198694e-01, 1.38243558e-06, 4.66481288e-06],\n",
       "        [9.99999762e-01, 4.75042705e-12, 9.15061169e-12, ...,\n",
       "         1.12959208e-11, 5.47382777e-14, 9.84754541e-14],\n",
       "        [2.49633417e-02, 1.50659014e-06, 3.87186759e-07, ...,\n",
       "         1.73421539e-02, 5.32953592e-08, 1.60856644e-06]], dtype=float32),\n",
       " array([[5.4299810e-13, 4.6356566e-10, 8.8784945e-11, ..., 3.2102033e-11,\n",
       "         7.1647728e-13, 1.7481101e-10],\n",
       "        [4.3628910e-11, 1.4689275e-04, 2.8139489e-09, ..., 4.9231912e-09,\n",
       "         1.1075647e-10, 2.3875994e-06],\n",
       "        [4.9496552e-18, 2.5230377e-17, 8.6204644e-18, ..., 3.1628362e-17,\n",
       "         1.7209732e-20, 1.1661819e-17],\n",
       "        ...,\n",
       "        [3.1431038e-14, 7.5744003e-12, 1.3868270e-12, ..., 1.0758286e-12,\n",
       "         1.4614106e-15, 4.6015951e-12],\n",
       "        [1.3967123e-07, 9.9671823e-01, 2.2854605e-08, ..., 6.5495220e-07,\n",
       "         9.1881702e-09, 3.7826549e-08],\n",
       "        [3.2204738e-16, 1.5899829e-13, 1.8175430e-13, ..., 4.5234134e-13,\n",
       "         9.0705013e-17, 1.0182016e-11]], dtype=float32),\n",
       " array([[3.6291229e-07, 3.0420154e-07, 4.6493742e-09, ..., 7.1945565e-09,\n",
       "         7.7241807e-10, 1.3157237e-08],\n",
       "        [3.2308014e-07, 3.2023664e-08, 2.7966149e-07, ..., 2.4839542e-07,\n",
       "         1.6280260e-09, 5.2085138e-08],\n",
       "        [1.2760924e-12, 3.4721813e-12, 1.1607685e-11, ..., 2.5364337e-12,\n",
       "         6.6119197e-15, 1.6137097e-13],\n",
       "        ...,\n",
       "        [5.9335449e-20, 1.9126119e-19, 9.8348297e-16, ..., 2.6958805e-17,\n",
       "         4.5710275e-21, 1.7758221e-17],\n",
       "        [1.6268819e-12, 9.9999988e-01, 3.5739595e-11, ..., 4.6296787e-08,\n",
       "         8.5476710e-14, 1.5361384e-11],\n",
       "        [8.2675826e-16, 6.1482162e-15, 3.9155038e-12, ..., 5.2491299e-14,\n",
       "         1.6683330e-16, 4.5368144e-13]], dtype=float32),\n",
       " array([[1.20409765e-14, 1.29652495e-11, 6.13533502e-10, ...,\n",
       "         5.38607266e-12, 3.10939595e-14, 5.62017238e-11],\n",
       "        [4.70310839e-11, 5.66208087e-11, 1.22237439e-13, ...,\n",
       "         1.88965835e-12, 2.87748815e-14, 2.72677107e-12],\n",
       "        [8.25420592e-20, 1.00837944e-19, 6.77873956e-16, ...,\n",
       "         1.40223178e-17, 3.66943661e-21, 8.24128316e-18],\n",
       "        ...,\n",
       "        [2.16076306e-11, 1.64369866e-01, 1.99294288e-08, ...,\n",
       "         2.70562039e-09, 2.45726898e-12, 1.77731815e-10],\n",
       "        [3.19077631e-09, 2.13308251e-08, 1.13356657e-06, ...,\n",
       "         1.46717127e-09, 3.29811928e-10, 1.00917195e-08],\n",
       "        [2.47696953e-05, 1.14216220e-07, 2.13696183e-07, ...,\n",
       "         9.83276367e-01, 3.58394914e-09, 1.14242361e-07]], dtype=float32),\n",
       " array([[9.9431441e-10, 6.0686112e-10, 3.1129613e-11, ..., 1.3734001e-11,\n",
       "         2.0870373e-13, 2.8697149e-11],\n",
       "        [9.9999976e-01, 1.0869632e-10, 5.9430058e-11, ..., 8.9183945e-11,\n",
       "         9.5292025e-13, 2.3928554e-12],\n",
       "        [1.5141599e-01, 1.2313294e-05, 1.4443685e-06, ..., 1.1139097e-06,\n",
       "         2.5276817e-08, 2.9640502e-08],\n",
       "        ...,\n",
       "        [1.1695306e-09, 2.2094282e-09, 1.6621945e-08, ..., 2.1387490e-09,\n",
       "         2.2004596e-11, 7.9925006e-10],\n",
       "        [1.0683662e-09, 1.9074269e-08, 1.2453824e-10, ..., 4.3333208e-09,\n",
       "         7.8264999e-12, 8.9923075e-10],\n",
       "        [6.3068599e-20, 1.0712795e-18, 1.1796738e-14, ..., 3.5507704e-18,\n",
       "         1.1750935e-20, 1.8912399e-17]], dtype=float32),\n",
       " array([[7.26495415e-08, 1.56636462e-02, 4.19646284e-07, ...,\n",
       "         4.03476542e-06, 3.38109594e-08, 1.55057397e-03],\n",
       "        [1.00254867e-13, 1.00000000e+00, 6.26577715e-14, ...,\n",
       "         7.72848174e-11, 2.54363401e-15, 3.53562774e-13],\n",
       "        [1.08586314e-10, 3.41128015e-10, 1.00000000e+00, ...,\n",
       "         7.78020703e-10, 5.64649130e-13, 1.68745773e-09],\n",
       "        ...,\n",
       "        [5.82216948e-15, 7.37700577e-14, 8.00072435e-16, ...,\n",
       "         6.32572133e-14, 1.31739043e-17, 6.39331998e-14],\n",
       "        [2.89122962e-11, 2.28199709e-10, 9.44095135e-10, ...,\n",
       "         3.51027228e-11, 8.17214894e-13, 4.43841561e-11],\n",
       "        [5.11723060e-11, 1.80091746e-07, 3.15132531e-10, ...,\n",
       "         2.98004488e-05, 1.12215480e-11, 6.23985974e-09]], dtype=float32),\n",
       " array([[1.7816134e-09, 1.0788800e-06, 7.8269942e-08, ..., 1.4477821e-06,\n",
       "         3.3987191e-10, 9.9998832e-01],\n",
       "        [3.1829036e-17, 3.5823574e-13, 1.6456737e-15, ..., 1.0000000e+00,\n",
       "         1.7089189e-17, 4.0560880e-15],\n",
       "        [6.3128343e-11, 2.0581012e-09, 1.0000000e+00, ..., 2.2338932e-10,\n",
       "         2.0332699e-13, 4.3135313e-09],\n",
       "        ...,\n",
       "        [2.8605211e-12, 9.9999976e-01, 5.3514321e-11, ..., 7.1539125e-10,\n",
       "         6.6067057e-13, 1.2553651e-11],\n",
       "        [5.0035364e-08, 8.7895859e-09, 6.9712314e-10, ..., 1.0603295e-08,\n",
       "         1.5245333e-10, 2.0989381e-08],\n",
       "        [1.9498031e-15, 4.7250023e-11, 2.7432841e-14, ..., 2.5741797e-13,\n",
       "         1.8871629e-15, 7.1418782e-13]], dtype=float32),\n",
       " array([[1.40612837e-08, 1.61029021e-08, 1.53825056e-06, ...,\n",
       "         7.11514181e-09, 7.95975119e-10, 1.63129297e-08],\n",
       "        [1.49342845e-13, 2.43361945e-11, 1.05703434e-12, ...,\n",
       "         1.00000000e+00, 2.28117001e-14, 1.43255768e-10],\n",
       "        [2.38162598e-13, 2.03858513e-10, 6.94803503e-12, ...,\n",
       "         9.99999881e-01, 1.12800645e-13, 2.45831706e-11],\n",
       "        ...,\n",
       "        [4.32900135e-13, 3.91022172e-15, 2.47848061e-16, ...,\n",
       "         8.02528237e-13, 5.39356647e-16, 6.40202114e-10],\n",
       "        [1.08515970e-07, 3.45357051e-07, 2.59469335e-09, ...,\n",
       "         8.46411741e-09, 3.32279787e-10, 6.12346485e-09],\n",
       "        [7.56576954e-11, 3.83982846e-09, 1.93147311e-08, ...,\n",
       "         2.67621064e-11, 5.53514786e-12, 2.04949391e-10]], dtype=float32),\n",
       " array([[1.00000000e+00, 1.15732424e-11, 5.98443448e-11, ...,\n",
       "         2.66922665e-11, 1.22969858e-13, 2.05015543e-13],\n",
       "        [5.22885957e-09, 9.99948621e-01, 3.19124069e-08, ...,\n",
       "         5.29607149e-08, 4.62357479e-11, 5.19729759e-10],\n",
       "        [9.30273586e-07, 9.40487516e-05, 2.10404920e-04, ...,\n",
       "         2.83751506e-05, 7.74419888e-08, 5.46802175e-06],\n",
       "        ...,\n",
       "        [9.19413642e-11, 1.84619864e-09, 4.42077208e-10, ...,\n",
       "         8.69148309e-10, 2.98906212e-12, 5.38659617e-10],\n",
       "        [1.05384956e-07, 1.89223869e-07, 1.94433736e-09, ...,\n",
       "         1.97613947e-09, 1.41179235e-10, 2.11067497e-09],\n",
       "        [1.92789766e-08, 2.39897122e-06, 9.99993443e-01, ...,\n",
       "         7.79940450e-08, 1.91843180e-10, 2.73077171e-06]], dtype=float32),\n",
       " array([[5.3288284e-05, 2.9423309e-05, 3.4909719e-04, ..., 3.7118519e-04,\n",
       "         1.1393421e-06, 2.0919178e-05],\n",
       "        [1.4363441e-10, 1.0409011e-07, 6.8030870e-09, ..., 5.3330660e-09,\n",
       "         8.0589577e-11, 5.1387175e-09],\n",
       "        [1.5138712e-13, 4.6272711e-11, 8.5795349e-15, ..., 1.6332099e-11,\n",
       "         1.9148935e-15, 6.0946118e-12],\n",
       "        ...,\n",
       "        [9.6462137e-11, 1.6725895e-09, 1.0000000e+00, ..., 5.9859329e-10,\n",
       "         2.6174665e-13, 4.1019326e-09],\n",
       "        [2.5353885e-16, 6.5545846e-12, 2.9425514e-15, ..., 1.0000000e+00,\n",
       "         7.7939181e-17, 7.8943462e-15],\n",
       "        [1.0000000e+00, 1.9889236e-11, 1.4991721e-11, ..., 2.3230841e-11,\n",
       "         9.6793735e-14, 1.5059858e-13]], dtype=float32),\n",
       " array([[8.0825364e-12, 2.1104694e-10, 4.8466550e-11, ..., 1.8294681e-06,\n",
       "         1.4248032e-12, 2.5810130e-09],\n",
       "        [1.5939250e-12, 5.0659082e-12, 2.6064999e-14, ..., 1.3580515e-12,\n",
       "         1.1518759e-15, 2.5667682e-12],\n",
       "        [5.0844401e-06, 4.5246970e-06, 5.6294384e-06, ..., 1.2089285e-07,\n",
       "         1.7392132e-08, 3.8927527e-07],\n",
       "        ...,\n",
       "        [1.8006199e-15, 3.1563402e-13, 2.4358504e-17, ..., 1.0667267e-14,\n",
       "         2.1681012e-18, 1.6201607e-14],\n",
       "        [4.9904487e-13, 1.6483698e-14, 3.7391647e-16, ..., 9.7154446e-13,\n",
       "         9.4808917e-16, 4.9284573e-11],\n",
       "        [3.1276777e-08, 6.6532306e-07, 1.1702300e-06, ..., 2.7180368e-08,\n",
       "         3.4851972e-09, 1.6430361e-07]], dtype=float32),\n",
       " array([[4.0098232e-17, 1.4964529e-18, 7.6439712e-21, ..., 2.3577930e-17,\n",
       "         4.6810329e-21, 3.0298940e-16],\n",
       "        [3.6266008e-15, 2.1797790e-13, 4.1592147e-17, ..., 4.0765500e-14,\n",
       "         3.6381790e-18, 1.3486901e-14],\n",
       "        [1.1094868e-14, 2.7088117e-14, 2.3409289e-15, ..., 1.6496595e-14,\n",
       "         1.2487608e-17, 1.4546647e-14],\n",
       "        ...,\n",
       "        [6.1680940e-09, 5.0241504e-09, 1.3683967e-08, ..., 9.8527480e-06,\n",
       "         8.1394072e-11, 2.0702342e-09],\n",
       "        [2.0678188e-14, 1.2977322e-11, 7.0558864e-13, ..., 1.4530011e-10,\n",
       "         7.5430749e-15, 8.7034976e-11],\n",
       "        [8.1571251e-12, 7.3901704e-11, 4.0857102e-11, ..., 8.7527702e-12,\n",
       "         7.1973813e-14, 6.6573344e-12]], dtype=float32),\n",
       " array([[3.1998950e-12, 3.3016153e-12, 4.3727158e-14, ..., 9.0071792e-13,\n",
       "         7.4445630e-16, 4.8515353e-13],\n",
       "        [2.8841542e-09, 1.1040631e-07, 1.6930766e-09, ..., 2.5574816e-09,\n",
       "         2.2670803e-11, 2.8016755e-08],\n",
       "        [1.6726522e-14, 3.4813640e-13, 1.1056917e-12, ..., 1.8298417e-14,\n",
       "         1.0384000e-16, 1.5432754e-14],\n",
       "        ...,\n",
       "        [1.5378499e-23, 2.0252246e-23, 1.2551358e-18, ..., 3.7967788e-21,\n",
       "         4.3439124e-25, 2.7295581e-21],\n",
       "        [1.6713713e-08, 9.0699931e-10, 2.1608062e-06, ..., 3.5952800e-07,\n",
       "         1.1196827e-09, 2.0070672e-06],\n",
       "        [2.9246032e-14, 7.7938110e-14, 7.1951302e-14, ..., 4.7780661e-14,\n",
       "         1.9559928e-16, 4.0876136e-14]], dtype=float32),\n",
       " array([[4.36068655e-15, 6.05691116e-13, 5.92385790e-15, ...,\n",
       "         4.20643717e-13, 1.13150590e-17, 1.04585885e-14],\n",
       "        [1.81641724e-07, 7.50552687e-09, 6.35245945e-09, ...,\n",
       "         7.95107269e-08, 1.60109329e-10, 1.95241071e-07],\n",
       "        [5.63082357e-16, 1.00000000e+00, 1.81995553e-15, ...,\n",
       "         2.44259203e-13, 1.27285130e-17, 1.79964293e-17],\n",
       "        ...,\n",
       "        [2.52497676e-14, 1.08325050e-10, 7.81710738e-11, ...,\n",
       "         2.00134159e-10, 1.82680883e-13, 2.56775134e-09],\n",
       "        [1.01031405e-09, 4.92624441e-10, 3.19388915e-09, ...,\n",
       "         2.27111450e-08, 8.88094980e-12, 2.27972397e-09],\n",
       "        [1.35789896e-05, 1.39860378e-04, 2.56226747e-04, ...,\n",
       "         5.51921512e-05, 2.98888665e-07, 1.61980616e-03]], dtype=float32),\n",
       " array([[9.9396980e-09, 2.4986384e-09, 8.3112114e-11, ..., 2.5379607e-10,\n",
       "         7.8077163e-12, 2.8962482e-10],\n",
       "        [1.0908644e-13, 4.3360915e-13, 6.1278760e-13, ..., 2.1920126e-12,\n",
       "         1.8950180e-16, 8.3534728e-14],\n",
       "        [3.0079609e-06, 1.7433189e-07, 4.9272676e-05, ..., 2.1206539e-08,\n",
       "         3.9109520e-09, 1.0314176e-07],\n",
       "        ...,\n",
       "        [9.9089679e-09, 3.4881431e-08, 6.7219048e-08, ..., 6.8204115e-10,\n",
       "         2.3438815e-10, 6.0152074e-09],\n",
       "        [2.0535972e-11, 3.1374500e-04, 8.8066616e-11, ..., 1.9396231e-09,\n",
       "         7.4568841e-12, 7.6741822e-09],\n",
       "        [3.6168865e-07, 9.2095377e-08, 1.4789794e-05, ..., 1.9640174e-07,\n",
       "         3.5519663e-09, 3.2884312e-08]], dtype=float32),\n",
       " array([[5.1028219e-14, 7.5915827e-12, 3.8751159e-16, ..., 7.5173158e-13,\n",
       "         5.0377208e-17, 1.2817095e-13],\n",
       "        [1.8001028e-09, 1.1167398e-03, 9.6881125e-09, ..., 1.0899861e-06,\n",
       "         1.1134833e-09, 3.3433173e-07],\n",
       "        [1.7175099e-13, 7.9718749e-12, 1.0256748e-11, ..., 1.1130022e-12,\n",
       "         9.1719709e-15, 2.8269786e-13],\n",
       "        ...,\n",
       "        [9.2869310e-13, 1.1695742e-10, 4.2073262e-10, ..., 5.0955448e-11,\n",
       "         5.9444517e-13, 1.3526369e-10],\n",
       "        [1.3072904e-09, 2.8084728e-06, 1.7065743e-08, ..., 3.9944263e-07,\n",
       "         1.6042809e-10, 9.9995768e-01],\n",
       "        [5.8840842e-11, 1.0896926e-07, 9.9999988e-01, ..., 1.7429329e-10,\n",
       "         2.2182732e-13, 4.1622289e-10]], dtype=float32),\n",
       " array([[1.2163222e-08, 5.0183135e-06, 6.5461940e-08, ..., 3.4634667e-08,\n",
       "         1.1005982e-09, 2.0131725e-05],\n",
       "        [4.0434447e-09, 5.3660539e-08, 2.8545699e-07, ..., 1.5574515e-09,\n",
       "         3.6901382e-10, 7.1377619e-09],\n",
       "        [1.3991669e-10, 8.4371115e-09, 2.2415243e-10, ..., 1.3452482e-09,\n",
       "         1.6776764e-12, 1.9794215e-10],\n",
       "        ...,\n",
       "        [1.1524320e-11, 5.9387641e-09, 5.0794129e-09, ..., 2.3052707e-10,\n",
       "         7.3618611e-12, 3.6739042e-10],\n",
       "        [1.4637473e-07, 1.5670431e-03, 8.7835278e-06, ..., 6.3258347e-05,\n",
       "         5.1415110e-08, 3.0820204e-06],\n",
       "        [1.1108871e-04, 1.5976677e-06, 6.4841138e-06, ..., 1.4527772e-01,\n",
       "         4.2114742e-08, 2.3469127e-06]], dtype=float32),\n",
       " array([[3.4461777e-06, 7.6069590e-03, 1.1036081e-05, ..., 4.9207021e-05,\n",
       "         2.1604433e-06, 3.1843607e-03],\n",
       "        [1.9658174e-13, 1.1056464e-10, 2.0065817e-14, ..., 8.4004557e-12,\n",
       "         3.3922090e-15, 9.8838368e-12],\n",
       "        [1.7578947e-16, 1.0000000e+00, 4.0522196e-16, ..., 5.4780458e-15,\n",
       "         2.8253514e-20, 2.3503539e-20],\n",
       "        ...,\n",
       "        [2.0758188e-10, 9.9998736e-01, 8.0157776e-08, ..., 5.3775651e-09,\n",
       "         4.2696312e-11, 5.0932605e-09],\n",
       "        [1.4746535e-13, 1.0000000e+00, 1.7341132e-13, ..., 1.2148102e-11,\n",
       "         1.4083337e-15, 2.6007480e-15],\n",
       "        [3.4677334e-11, 6.1878253e-11, 2.1535396e-10, ..., 2.5284938e-10,\n",
       "         6.0097836e-13, 5.0575016e-10]], dtype=float32),\n",
       " array([[1.26734758e-05, 6.57472253e-01, 3.95951174e-05, ...,\n",
       "         4.21766490e-05, 2.24789733e-06, 3.16081382e-03],\n",
       "        [2.60459878e-16, 5.07682049e-19, 1.35053940e-20, ...,\n",
       "         1.34102347e-17, 6.27493962e-21, 1.37947765e-15],\n",
       "        [6.39120978e-10, 9.01887953e-10, 6.34572006e-10, ...,\n",
       "         4.45135804e-08, 4.05133982e-11, 8.40141112e-09],\n",
       "        ...,\n",
       "        [4.60869190e-12, 9.99999881e-01, 2.25624749e-12, ...,\n",
       "         8.83007487e-11, 3.32675944e-13, 4.99077234e-13],\n",
       "        [1.06169604e-11, 9.99993920e-01, 8.44100744e-12, ...,\n",
       "         7.46305018e-10, 8.91166806e-13, 2.07959518e-12],\n",
       "        [2.23901543e-06, 2.53042413e-06, 5.05725366e-05, ...,\n",
       "         4.15748311e-03, 3.46482807e-07, 1.07885913e-04]], dtype=float32),\n",
       " array([[4.7572790e-10, 2.8369933e-09, 3.3218714e-09, ..., 1.6375004e-09,\n",
       "         8.0350119e-12, 1.2527325e-10],\n",
       "        [2.3156555e-11, 9.9999964e-01, 3.9624529e-11, ..., 3.0409777e-10,\n",
       "         3.0798033e-12, 8.7854151e-12],\n",
       "        [1.3360752e-13, 3.6494459e-13, 3.0693427e-15, ..., 1.4659397e-13,\n",
       "         3.6000107e-15, 5.5757132e-10],\n",
       "        ...,\n",
       "        [1.0523805e-09, 8.7493426e-09, 1.6681022e-10, ..., 2.3087516e-09,\n",
       "         2.2407916e-11, 1.7955601e-08],\n",
       "        [1.0999303e-08, 1.2493350e-09, 1.3303262e-09, ..., 8.0424893e-09,\n",
       "         1.0841287e-10, 1.1285686e-08],\n",
       "        [5.5894873e-07, 2.8969767e-09, 4.1781600e-09, ..., 5.2593343e-08,\n",
       "         4.6677935e-12, 2.0926143e-11]], dtype=float32),\n",
       " array([[3.4082756e-08, 1.6362350e-08, 2.5766790e-08, ..., 1.6915872e-07,\n",
       "         3.2434549e-10, 1.3354281e-08],\n",
       "        [1.2176035e-11, 3.2919212e-04, 6.2303146e-10, ..., 2.5471478e-09,\n",
       "         6.1439173e-11, 3.3734450e-05],\n",
       "        [1.7271606e-07, 7.6669380e-07, 2.3059993e-08, ..., 1.7349685e-04,\n",
       "         8.3889429e-09, 1.1608116e-06],\n",
       "        ...,\n",
       "        [6.2491114e-07, 4.7125403e-07, 2.9029048e-05, ..., 3.8782119e-07,\n",
       "         1.6382739e-08, 3.0227895e-07],\n",
       "        [1.2121781e-13, 8.1155426e-04, 1.9685861e-11, ..., 1.0762752e-11,\n",
       "         1.8098679e-13, 1.6435733e-11],\n",
       "        [4.3993351e-09, 3.5227234e-08, 3.9931336e-07, ..., 7.0174712e-05,\n",
       "         1.4450329e-09, 3.7525741e-08]], dtype=float32),\n",
       " array([[2.97080027e-09, 9.80375390e-08, 2.57902366e-09, ...,\n",
       "         2.66057238e-08, 6.49700363e-11, 1.39816159e-08],\n",
       "        [3.87889116e-14, 2.86517546e-11, 1.64096695e-10, ...,\n",
       "         6.76387835e-11, 6.94137944e-14, 4.88818326e-11],\n",
       "        [4.99301400e-08, 2.01998376e-10, 2.84426993e-09, ...,\n",
       "         9.89784588e-10, 1.44210295e-11, 6.92814084e-10],\n",
       "        ...,\n",
       "        [3.27695311e-08, 1.68650007e-11, 1.30148262e-11, ...,\n",
       "         5.89372440e-10, 1.44331399e-14, 1.39642407e-13],\n",
       "        [1.06902496e-06, 2.23595562e-04, 1.04875071e-03, ...,\n",
       "         2.21831397e-06, 1.39649288e-07, 2.51311467e-05],\n",
       "        [1.57440755e-10, 4.46868587e-09, 3.08114867e-09, ...,\n",
       "         3.06344594e-09, 2.89027014e-11, 1.54558961e-08]], dtype=float32),\n",
       " array([[2.46729392e-09, 6.86132401e-11, 5.39704219e-11, ...,\n",
       "         6.02917609e-08, 4.99852416e-12, 3.72781130e-08],\n",
       "        [1.58116413e-13, 7.22325715e-12, 8.14714575e-15, ...,\n",
       "         5.50276838e-12, 1.72868233e-15, 1.15994740e-11],\n",
       "        [1.18722909e-09, 7.27522265e-10, 7.61708641e-10, ...,\n",
       "         2.80179518e-10, 7.35767523e-12, 1.43708920e-10],\n",
       "        ...,\n",
       "        [1.38371421e-16, 6.12280517e-13, 1.14825701e-14, ...,\n",
       "         1.00000000e+00, 1.23002511e-16, 2.12421796e-13],\n",
       "        [1.43873859e-13, 4.73636885e-12, 1.38444377e-11, ...,\n",
       "         3.81450514e-13, 2.94378635e-15, 6.51279594e-13],\n",
       "        [9.99995947e-01, 8.39719938e-09, 6.54457377e-09, ...,\n",
       "         4.76866280e-09, 1.05806995e-10, 3.45162232e-10]], dtype=float32),\n",
       " array([[1.2576696e-13, 1.0502829e-10, 1.5689807e-11, ..., 2.6726654e-11,\n",
       "         1.2447445e-13, 9.7227271e-10],\n",
       "        [1.0340558e-16, 7.3757152e-13, 1.6010446e-17, ..., 1.3720103e-14,\n",
       "         1.6391053e-18, 2.9463326e-14],\n",
       "        [8.7705635e-13, 1.4951294e-10, 8.0562702e-11, ..., 1.0402547e-10,\n",
       "         5.9615859e-13, 4.9790119e-09],\n",
       "        ...,\n",
       "        [9.9999988e-01, 5.8800791e-11, 1.0183865e-10, ..., 6.3406246e-11,\n",
       "         1.0433793e-12, 1.6973067e-12],\n",
       "        [2.5736264e-12, 1.2432967e-10, 1.0000000e+00, ..., 4.1861199e-11,\n",
       "         4.7894237e-15, 8.7146228e-12],\n",
       "        [7.7472393e-08, 1.7673132e-05, 9.9995065e-01, ..., 2.7047381e-07,\n",
       "         1.4588143e-09, 2.2014085e-05]], dtype=float32),\n",
       " array([[3.3726359e-11, 2.2395802e-10, 1.0000000e+00, ..., 8.3716215e-11,\n",
       "         1.0195589e-13, 1.4405538e-09],\n",
       "        [5.0024160e-14, 3.4442127e-13, 4.5917821e-13, ..., 1.1602655e-12,\n",
       "         2.0371876e-16, 3.3270245e-14],\n",
       "        [7.0262535e-15, 1.0708527e-14, 1.8571602e-16, ..., 4.8996735e-15,\n",
       "         1.2367661e-18, 1.2651170e-15],\n",
       "        ...,\n",
       "        [2.0891676e-11, 1.6332875e-07, 2.3135888e-10, ..., 7.9766531e-09,\n",
       "         1.7239579e-12, 7.5222594e-08],\n",
       "        [2.5182564e-10, 3.0792459e-11, 3.6266712e-09, ..., 3.7240801e-07,\n",
       "         2.8666533e-12, 7.8100970e-11],\n",
       "        [2.0243969e-09, 2.5527144e-10, 1.3567703e-11, ..., 1.8366332e-07,\n",
       "         2.9425485e-13, 4.8108843e-11]], dtype=float32),\n",
       " array([[8.8358460e-13, 4.5327929e-13, 7.5050196e-14, ..., 2.3647369e-14,\n",
       "         1.1318777e-16, 4.1777142e-14],\n",
       "        [2.1388612e-10, 9.9970621e-01, 8.3699847e-09, ..., 1.0259696e-08,\n",
       "         1.6768192e-12, 8.1478768e-11],\n",
       "        [2.9710262e-11, 1.9258529e-11, 8.8606587e-12, ..., 1.0855872e-11,\n",
       "         1.0996110e-13, 4.1519808e-12],\n",
       "        ...,\n",
       "        [2.1198123e-14, 3.6217500e-13, 5.4857358e-16, ..., 2.5794571e-13,\n",
       "         9.9735132e-17, 1.1957949e-12],\n",
       "        [2.8214166e-15, 1.0329285e-08, 3.6957335e-14, ..., 1.0000000e+00,\n",
       "         1.1390425e-15, 1.8685757e-13],\n",
       "        [4.0378136e-09, 7.9415106e-11, 9.3451202e-10, ..., 7.0685580e-10,\n",
       "         1.5270203e-12, 1.5041651e-10]], dtype=float32),\n",
       " array([[6.0380817e-10, 5.4151679e-09, 4.9957354e-08, ..., 1.1817773e-09,\n",
       "         5.6531755e-11, 2.0536106e-09],\n",
       "        [1.8985498e-15, 1.0000000e+00, 3.3241495e-15, ..., 2.9381798e-13,\n",
       "         7.5810878e-17, 1.0248128e-14],\n",
       "        [1.0851591e-14, 1.7712118e-13, 1.3356190e-14, ..., 2.3259669e-14,\n",
       "         1.9012233e-16, 1.3202550e-14],\n",
       "        ...,\n",
       "        [9.9999964e-01, 4.2940027e-12, 2.8011885e-12, ..., 3.9784907e-12,\n",
       "         2.9777260e-14, 4.9068941e-14],\n",
       "        [9.9999988e-01, 1.3027524e-10, 3.1226260e-10, ..., 3.2507727e-10,\n",
       "         3.2465185e-12, 7.3400713e-12],\n",
       "        [2.5719254e-18, 3.1993091e-12, 2.5909546e-15, ..., 7.7279949e-15,\n",
       "         1.7584505e-17, 7.7061804e-15]], dtype=float32),\n",
       " array([[3.6026204e-16, 1.0845559e-12, 6.5863660e-12, ..., 6.7819734e-12,\n",
       "         9.0130775e-16, 3.0523479e-12],\n",
       "        [1.0794745e-10, 7.9771230e-09, 1.7337489e-07, ..., 7.1493109e-09,\n",
       "         7.8634536e-11, 1.4261430e-07],\n",
       "        [1.4282273e-02, 3.5871670e-02, 3.9374772e-03, ..., 8.5133135e-05,\n",
       "         1.4778542e-06, 2.2765573e-05],\n",
       "        ...,\n",
       "        [2.6885733e-08, 3.9159271e-08, 8.3850099e-10, ..., 1.4043641e-09,\n",
       "         8.2255071e-11, 4.5111670e-09],\n",
       "        [1.0043927e-09, 2.5273894e-09, 1.1093662e-08, ..., 1.0493796e-08,\n",
       "         2.5224170e-11, 3.5230205e-10],\n",
       "        [1.3143492e-09, 9.9999452e-01, 3.7834919e-10, ..., 2.6390585e-09,\n",
       "         9.9835756e-12, 1.2947151e-09]], dtype=float32),\n",
       " array([[8.9051738e-10, 7.2824002e-10, 1.9393649e-08, ..., 1.7970539e-08,\n",
       "         3.7087448e-11, 4.8389587e-08],\n",
       "        [5.2868018e-06, 5.8210560e-05, 5.0637600e-06, ..., 1.5105173e-05,\n",
       "         2.6244871e-08, 9.5023177e-07],\n",
       "        [7.2948307e-14, 1.1141168e-09, 2.6726909e-11, ..., 5.8487238e-12,\n",
       "         1.4107064e-13, 8.9034015e-12],\n",
       "        ...,\n",
       "        [1.5372347e-08, 4.3318659e-07, 9.4357398e-07, ..., 6.1056664e-05,\n",
       "         3.1787801e-09, 5.6326101e-08],\n",
       "        [1.4386436e-08, 2.3079174e-08, 1.9518270e-08, ..., 4.1453191e-08,\n",
       "         2.2377955e-10, 2.0996319e-08],\n",
       "        [1.0967713e-08, 3.6600106e-08, 1.9425235e-08, ..., 1.2777683e-08,\n",
       "         8.9838026e-11, 9.9999809e-01]], dtype=float32),\n",
       " array([[1.4590655e-07, 7.8594073e-09, 1.0406431e-05, ..., 9.8756254e-07,\n",
       "         7.1894948e-09, 2.5594861e-06],\n",
       "        [8.5470606e-16, 3.0476195e-15, 1.8588135e-14, ..., 8.3615662e-15,\n",
       "         6.9507449e-18, 1.1378873e-15],\n",
       "        [1.8340108e-12, 2.6066463e-11, 1.4003807e-14, ..., 4.0050688e-12,\n",
       "         5.6916036e-15, 7.9664317e-11],\n",
       "        ...,\n",
       "        [1.0000000e+00, 3.6727616e-14, 1.9664539e-14, ..., 3.5708402e-14,\n",
       "         1.0206528e-16, 2.4739371e-16],\n",
       "        [1.4459640e-06, 2.2479138e-07, 2.2555716e-07, ..., 6.5110562e-06,\n",
       "         5.6652383e-10, 3.6580619e-09],\n",
       "        [1.6023356e-11, 7.7420665e-12, 4.0786229e-12, ..., 4.3974123e-11,\n",
       "         3.0615630e-14, 3.6940668e-12]], dtype=float32),\n",
       " array([[1.51278726e-10, 4.09665600e-11, 5.25109817e-11, ...,\n",
       "         1.64539118e-10, 6.27071420e-13, 2.66549227e-10],\n",
       "        [1.64399553e-11, 5.02314768e-09, 3.38140560e-09, ...,\n",
       "         2.49133825e-09, 1.61962561e-11, 2.13996021e-09],\n",
       "        [2.20010932e-07, 4.95081531e-06, 6.06123081e-07, ...,\n",
       "         9.23496032e-07, 5.97402394e-09, 1.89624407e-05],\n",
       "        ...,\n",
       "        [1.09843084e-13, 7.78797429e-17, 2.89831968e-18, ...,\n",
       "         3.62206061e-14, 6.93215652e-18, 1.43580677e-11],\n",
       "        [5.33746869e-09, 7.86749013e-08, 1.47540490e-07, ...,\n",
       "         1.94444176e-08, 3.54177188e-10, 1.34987999e-07],\n",
       "        [3.50535269e-12, 4.18288154e-10, 4.19383799e-12, ...,\n",
       "         1.67756867e-11, 2.43795971e-14, 4.47298535e-12]], dtype=float32),\n",
       " array([[3.26976825e-15, 1.06647388e-15, 2.07609234e-12, ...,\n",
       "         2.76283360e-14, 1.89726751e-16, 5.13951945e-14],\n",
       "        [4.37050222e-12, 1.03333335e-10, 6.51625698e-11, ...,\n",
       "         1.85963116e-12, 7.41939469e-14, 1.00000000e+00],\n",
       "        [7.56261826e-08, 7.23575852e-07, 9.99997616e-01, ...,\n",
       "         6.82428549e-08, 3.24418076e-10, 3.39287794e-07],\n",
       "        ...,\n",
       "        [5.34621059e-09, 1.38524555e-07, 2.30708423e-07, ...,\n",
       "         4.52996307e-09, 1.34558820e-09, 1.31871815e-07],\n",
       "        [9.25467614e-09, 9.99993920e-01, 3.78141571e-08, ...,\n",
       "         1.51111877e-07, 1.04701281e-09, 1.82446136e-09],\n",
       "        [1.59339528e-13, 6.70636845e-14, 7.65732150e-14, ...,\n",
       "         3.19621499e-13, 1.11382384e-16, 5.14671259e-13]], dtype=float32),\n",
       " array([[1.0223806e-08, 2.1117253e-06, 5.3655221e-08, ..., 1.3203779e-04,\n",
       "         8.0178877e-09, 2.7894214e-06],\n",
       "        [1.2491397e-13, 1.4558340e-13, 3.3113161e-15, ..., 5.3199683e-14,\n",
       "         3.3753605e-17, 2.1526751e-13],\n",
       "        [2.5702942e-13, 4.5795436e-14, 8.3537439e-14, ..., 1.0828378e-13,\n",
       "         1.4368551e-16, 3.2185365e-14],\n",
       "        ...,\n",
       "        [1.5391114e-16, 1.7093625e-13, 8.0865698e-18, ..., 4.3748824e-15,\n",
       "         7.0739757e-19, 8.8269261e-15],\n",
       "        [1.5480874e-09, 3.8612491e-10, 3.3390996e-12, ..., 8.2832290e-11,\n",
       "         1.6249031e-12, 8.4165279e-11],\n",
       "        [2.9049321e-15, 2.3192762e-15, 1.2041280e-17, ..., 9.0070373e-14,\n",
       "         8.5185706e-18, 2.0642732e-13]], dtype=float32),\n",
       " array([[2.24615725e-12, 3.96389455e-09, 2.58555538e-10, ...,\n",
       "         9.20449897e-11, 4.11938712e-12, 4.05223188e-10],\n",
       "        [1.25336408e-09, 7.09978187e-11, 4.72016523e-11, ...,\n",
       "         8.55648163e-10, 4.26533429e-13, 3.72236721e-11],\n",
       "        [1.23639765e-07, 4.89777221e-07, 9.99994993e-01, ...,\n",
       "         6.33202546e-07, 1.28406696e-09, 1.39531460e-06],\n",
       "        ...,\n",
       "        [4.85524398e-10, 7.58588836e-09, 7.18691273e-10, ...,\n",
       "         3.49717422e-10, 1.19168815e-11, 9.06129616e-10],\n",
       "        [9.99974132e-01, 4.40942630e-11, 3.66546411e-11, ...,\n",
       "         1.02331560e-10, 3.20005470e-13, 4.71079230e-13],\n",
       "        [5.99577490e-08, 2.87580590e-08, 3.63603703e-09, ...,\n",
       "         1.00067865e-08, 5.51320135e-11, 6.38331832e-09]], dtype=float32),\n",
       " array([[4.59010550e-07, 2.95126551e-06, 3.83982098e-07, ...,\n",
       "         4.92146697e-08, 2.12680029e-09, 4.99957871e-08],\n",
       "        [1.19930675e-15, 1.06016141e-13, 4.32740595e-14, ...,\n",
       "         1.89203492e-12, 2.76792077e-16, 2.05031283e-12],\n",
       "        [1.95189287e-09, 1.70767145e-09, 9.11947774e-12, ...,\n",
       "         7.93000804e-11, 2.10763199e-12, 6.91701904e-11],\n",
       "        ...,\n",
       "        [1.05272169e-09, 6.63313529e-08, 5.75805984e-07, ...,\n",
       "         1.44383205e-09, 1.13378855e-10, 6.26251584e-09],\n",
       "        [2.00395210e-16, 1.00000000e+00, 1.08273130e-15, ...,\n",
       "         5.80384536e-14, 1.80969292e-18, 8.69533666e-18],\n",
       "        [8.72288197e-09, 1.23428417e-05, 1.88096305e-06, ...,\n",
       "         2.70908117e-07, 1.33649358e-09, 2.16262578e-07]], dtype=float32),\n",
       " array([[3.0171075e-13, 7.6604778e-10, 4.9817971e-12, ..., 3.2915379e-11,\n",
       "         8.4711748e-15, 8.6813721e-13],\n",
       "        [4.8785751e-07, 2.6712559e-07, 9.9999881e-01, ..., 4.2710795e-08,\n",
       "         7.3603949e-11, 3.6506709e-08],\n",
       "        [1.0331306e-06, 6.6957591e-09, 1.2096082e-09, ..., 1.6493985e-01,\n",
       "         7.3707380e-11, 3.4998187e-08],\n",
       "        ...,\n",
       "        [1.7963244e-12, 4.6893142e-11, 4.6417502e-11, ..., 1.7815635e-12,\n",
       "         2.5816721e-14, 2.6664062e-12],\n",
       "        [3.8247066e-12, 5.2094322e-11, 4.0354463e-11, ..., 5.8231779e-12,\n",
       "         8.5419844e-14, 1.6120986e-12],\n",
       "        [5.4650799e-09, 4.6530102e-10, 3.9751622e-12, ..., 1.0316988e-10,\n",
       "         9.5746056e-13, 5.0799115e-11]], dtype=float32),\n",
       " array([[9.18390919e-11, 1.39245604e-09, 9.70143688e-11, ...,\n",
       "         1.04019106e-10, 1.94955315e-12, 2.74379713e-10],\n",
       "        [1.54097222e-06, 2.72099601e-06, 3.57563792e-08, ...,\n",
       "         5.42717125e-08, 3.89580856e-09, 1.00695013e-06],\n",
       "        [6.69049842e-12, 9.99975801e-01, 6.31225128e-10, ...,\n",
       "         1.83023402e-10, 1.08259166e-11, 1.77407364e-05],\n",
       "        ...,\n",
       "        [1.52594771e-03, 7.15535542e-09, 1.92533189e-08, ...,\n",
       "         1.20351342e-02, 4.22132551e-09, 1.32595387e-05],\n",
       "        [7.24442673e-10, 7.53983681e-11, 4.11463891e-10, ...,\n",
       "         6.07859249e-11, 1.72542319e-12, 8.67492328e-11],\n",
       "        [2.52030452e-10, 5.90143989e-10, 5.47291466e-12, ...,\n",
       "         3.59414748e-10, 5.38711708e-13, 3.71842800e-11]], dtype=float32),\n",
       " array([[1.8761241e-09, 4.9414325e-08, 9.9999928e-01, ..., 9.9208259e-09,\n",
       "         1.1888590e-11, 4.8623434e-09],\n",
       "        [1.0153351e-06, 7.5407725e-06, 9.9996483e-01, ..., 8.5692108e-07,\n",
       "         7.3084214e-09, 5.0137705e-06],\n",
       "        [4.8674742e-13, 1.5877438e-11, 3.3571897e-12, ..., 1.4811034e-11,\n",
       "         1.9548336e-14, 1.0883189e-11],\n",
       "        ...,\n",
       "        [7.9692210e-18, 8.5247228e-16, 5.1464932e-18, ..., 2.3135051e-16,\n",
       "         2.9547257e-20, 2.0691897e-16],\n",
       "        [2.5604123e-09, 2.2181579e-08, 1.1923854e-07, ..., 7.2341653e-09,\n",
       "         4.8324289e-10, 3.4334672e-08],\n",
       "        [5.6875660e-09, 1.7719259e-08, 3.8405057e-11, ..., 6.2234473e-10,\n",
       "         1.2888618e-11, 3.1661371e-10]], dtype=float32),\n",
       " array([[1.29313962e-10, 2.03995918e-13, 1.95224826e-11, ...,\n",
       "         1.49730825e-12, 9.22337226e-15, 1.78345728e-12],\n",
       "        [1.09906573e-09, 5.54517840e-07, 5.17452143e-08, ...,\n",
       "         3.01406615e-08, 1.37259193e-09, 1.23365098e-07],\n",
       "        [1.43925052e-10, 1.64309512e-07, 1.78174293e-08, ...,\n",
       "         1.12739809e-08, 1.30541342e-10, 2.61734225e-08],\n",
       "        ...,\n",
       "        [3.39023399e-20, 4.82476874e-19, 5.06718242e-20, ...,\n",
       "         4.06915967e-19, 5.17941016e-23, 2.54211424e-20],\n",
       "        [4.49373316e-10, 1.32799475e-11, 1.97307123e-12, ...,\n",
       "         4.34300762e-10, 2.00495696e-12, 3.57866867e-07],\n",
       "        [1.91001484e-13, 1.94775533e-11, 1.03987077e-12, ...,\n",
       "         6.98540531e-11, 1.70160330e-14, 7.09806242e-11]], dtype=float32),\n",
       " array([[5.0785536e-09, 4.1413790e-07, 4.7142272e-08, ..., 9.9903319e-10,\n",
       "         1.5832588e-10, 9.5025294e-09],\n",
       "        [6.0836666e-21, 2.5156088e-17, 5.8873055e-19, ..., 1.0000000e+00,\n",
       "         1.8843948e-21, 4.6100852e-18],\n",
       "        [8.7804683e-06, 8.9939958e-01, 1.8004103e-07, ..., 7.4218820e-05,\n",
       "         1.1785953e-08, 9.7652776e-03],\n",
       "        ...,\n",
       "        [2.7474415e-11, 9.7793889e-01, 5.4781657e-10, ..., 5.4003990e-10,\n",
       "         4.3414907e-12, 1.3362975e-10],\n",
       "        [1.2312740e-11, 1.4966837e-10, 1.3756841e-13, ..., 8.0761248e-12,\n",
       "         3.1180597e-14, 1.1766442e-10],\n",
       "        [1.0000000e+00, 3.7598862e-11, 5.1377704e-12, ..., 4.7663202e-12,\n",
       "         3.1604771e-14, 8.4507481e-14]], dtype=float32),\n",
       " array([[1.10573776e-04, 2.51328811e-06, 4.13050962e-08, ...,\n",
       "         4.90074363e-08, 8.77083475e-11, 5.10164189e-10],\n",
       "        [8.36736604e-13, 2.47540183e-11, 3.49968284e-11, ...,\n",
       "         2.25790523e-12, 1.60669123e-14, 1.23446967e-12],\n",
       "        [3.95129513e-13, 9.99999881e-01, 6.24964533e-12, ...,\n",
       "         1.36614803e-10, 9.75026537e-14, 4.18718983e-11],\n",
       "        ...,\n",
       "        [1.09886189e-08, 5.78619321e-08, 1.08255506e-01, ...,\n",
       "         1.82081745e-08, 4.25646102e-10, 1.67810690e-08],\n",
       "        [1.31442073e-14, 2.47399147e-14, 2.31369146e-15, ...,\n",
       "         1.42548174e-14, 1.52204426e-17, 3.00066821e-15],\n",
       "        [2.77208557e-15, 2.75863447e-12, 3.11783238e-12, ...,\n",
       "         1.00371632e-12, 6.77046987e-16, 3.84458090e-11]], dtype=float32),\n",
       " array([[1.23773311e-10, 1.18111010e-09, 1.86713534e-09, ...,\n",
       "         2.20545537e-09, 2.29893925e-12, 5.56873481e-08],\n",
       "        [4.35058066e-12, 4.54281412e-09, 9.80249837e-09, ...,\n",
       "         2.62396743e-10, 9.17451792e-12, 5.23814549e-07],\n",
       "        [6.66574129e-10, 3.86576913e-02, 1.04184847e-08, ...,\n",
       "         2.17915730e-08, 5.23158072e-10, 3.80165979e-08],\n",
       "        ...,\n",
       "        [2.36853644e-11, 1.55852442e-10, 1.42807252e-10, ...,\n",
       "         4.98272368e-10, 1.93642650e-12, 8.59498961e-09],\n",
       "        [1.35373830e-06, 3.47873925e-06, 1.90566212e-01, ...,\n",
       "         1.30862600e-05, 1.40498129e-08, 5.60766296e-07],\n",
       "        [8.14440515e-09, 1.07470984e-10, 9.58169416e-13, ...,\n",
       "         2.07519071e-11, 2.34183332e-13, 1.40292621e-11]], dtype=float32),\n",
       " array([[2.17913154e-08, 1.32813636e-08, 2.94048408e-09, ...,\n",
       "         7.34587990e-09, 1.40030945e-10, 1.43298593e-07],\n",
       "        [2.29150487e-07, 1.19659717e-07, 3.59952450e-04, ...,\n",
       "         3.41140634e-07, 1.85188942e-09, 2.89280791e-07],\n",
       "        [4.15206897e-11, 9.99999762e-01, 1.46387444e-10, ...,\n",
       "         1.23007604e-09, 3.54051445e-12, 3.34194963e-11],\n",
       "        ...,\n",
       "        [3.70398442e-17, 1.36673746e-17, 6.09357129e-14, ...,\n",
       "         1.22581931e-15, 7.91284231e-19, 4.50145919e-16],\n",
       "        [9.99498487e-01, 2.19084700e-06, 5.12417735e-08, ...,\n",
       "         5.59349633e-09, 1.81166540e-10, 1.06982187e-10],\n",
       "        [5.61150104e-09, 6.61066935e-08, 9.99999881e-01, ...,\n",
       "         1.18972574e-08, 2.31750296e-11, 4.21409254e-08]], dtype=float32),\n",
       " array([[2.0098863e-09, 3.7072004e-07, 3.7570969e-09, ..., 1.0727048e-08,\n",
       "         1.4681562e-11, 8.4165885e-10],\n",
       "        [7.8966816e-10, 9.9996710e-01, 1.0287337e-09, ..., 5.8605532e-10,\n",
       "         1.5298404e-10, 1.3302758e-08],\n",
       "        [2.4286566e-08, 8.4454392e-08, 2.8167740e-05, ..., 2.5250697e-09,\n",
       "         4.7493974e-11, 6.7881656e-10],\n",
       "        ...,\n",
       "        [1.0017950e-14, 1.0000000e+00, 2.8472589e-14, ..., 4.6467859e-13,\n",
       "         1.2736284e-17, 2.2250711e-16],\n",
       "        [4.9907595e-10, 1.7844060e-08, 8.3994124e-08, ..., 3.1187028e-10,\n",
       "         1.3557128e-10, 1.6500039e-08],\n",
       "        [2.0502919e-09, 1.0497288e-08, 1.6449102e-08, ..., 6.3353189e-10,\n",
       "         1.2007788e-10, 1.8268327e-09]], dtype=float32),\n",
       " array([[1.48234133e-11, 8.32635578e-08, 4.55690881e-08, ...,\n",
       "         3.03185121e-09, 3.91268927e-11, 4.93327093e-07],\n",
       "        [6.58016057e-24, 4.78600712e-23, 6.90937266e-18, ...,\n",
       "         4.28395547e-21, 5.82976295e-25, 9.13277028e-21],\n",
       "        [7.06645442e-05, 1.04331639e-05, 5.15175052e-02, ...,\n",
       "         6.51272649e-06, 1.70253642e-07, 3.84607574e-06],\n",
       "        ...,\n",
       "        [1.14117188e-10, 2.28380800e-10, 1.83969902e-07, ...,\n",
       "         1.75549394e-10, 8.15259264e-13, 9.86188284e-11],\n",
       "        [1.35278124e-14, 1.00000000e+00, 1.59524412e-13, ...,\n",
       "         4.75145479e-11, 2.85076773e-15, 7.33714305e-13],\n",
       "        [7.33001560e-15, 1.17355903e-09, 1.26219781e-12, ...,\n",
       "         2.11890184e-12, 2.19735187e-14, 4.21219570e-12]], dtype=float32),\n",
       " array([[5.9465026e-05, 1.6755566e-05, 1.4839628e-03, ..., 6.4151832e-06,\n",
       "         6.5275266e-08, 1.5762155e-06],\n",
       "        [5.7541333e-14, 1.3578261e-12, 1.0000000e+00, ..., 2.4716814e-13,\n",
       "         4.8031043e-17, 5.1690371e-12],\n",
       "        [8.7777838e-09, 5.1544607e-08, 1.2772653e-11, ..., 1.3366347e-04,\n",
       "         8.2241514e-12, 4.2110000e-09],\n",
       "        ...,\n",
       "        [8.4182634e-09, 1.6672344e-08, 1.8908429e-08, ..., 7.3219679e-09,\n",
       "         5.0300784e-11, 4.5540633e-09],\n",
       "        [1.2393257e-10, 9.8073383e-10, 1.3824610e-08, ..., 4.3738426e-09,\n",
       "         4.6826245e-12, 1.1183612e-10],\n",
       "        [1.1502580e-07, 1.1985217e-03, 1.9568702e-08, ..., 2.6859882e-07,\n",
       "         3.5425607e-09, 8.5588981e-06]], dtype=float32),\n",
       " array([[2.7505511e-08, 1.5939180e-07, 2.8164415e-10, ..., 6.0215188e-09,\n",
       "         1.8583614e-10, 4.0947752e-09],\n",
       "        [5.2454877e-14, 1.0000000e+00, 1.7089624e-12, ..., 7.2262238e-11,\n",
       "         1.6659342e-14, 2.6093515e-13],\n",
       "        [6.0033379e-08, 2.7879260e-03, 2.0350968e-05, ..., 1.6353540e-01,\n",
       "         3.4816100e-08, 4.3217238e-05],\n",
       "        ...,\n",
       "        [1.9338318e-08, 1.7582469e-08, 1.9163508e-02, ..., 1.4403315e-08,\n",
       "         2.3457297e-10, 1.5906263e-08],\n",
       "        [1.3558864e-08, 3.6598061e-07, 9.5631373e-01, ..., 4.3233140e-08,\n",
       "         2.3695330e-11, 2.3199225e-09],\n",
       "        [2.9087641e-09, 1.5709446e-10, 2.4300272e-11, ..., 3.2674496e-09,\n",
       "         1.7041930e-11, 1.9889383e-04]], dtype=float32),\n",
       " array([[2.26386845e-07, 2.33349806e-09, 1.34036038e-09, ...,\n",
       "         8.71459782e-01, 1.00558284e-10, 1.02321155e-06],\n",
       "        [1.23009328e-12, 1.70775200e-10, 1.59019756e-10, ...,\n",
       "         6.20488314e-11, 1.59735709e-13, 9.56651536e-10],\n",
       "        [8.62481670e-07, 3.50148403e-05, 9.44938705e-08, ...,\n",
       "         6.47514607e-05, 1.55374880e-09, 9.99741971e-01],\n",
       "        ...,\n",
       "        [3.25611868e-12, 1.19100233e-11, 2.79341589e-12, ...,\n",
       "         7.83953024e-12, 7.42671441e-14, 1.44483947e-11],\n",
       "        [2.72127546e-11, 1.30458078e-09, 1.00000000e+00, ...,\n",
       "         5.90120244e-11, 4.63975172e-14, 1.71062498e-09],\n",
       "        [1.74812925e-11, 1.00000000e+00, 1.14126354e-10, ...,\n",
       "         8.38882408e-10, 1.16456671e-12, 2.03787573e-12]], dtype=float32),\n",
       " array([[1.1390412e-09, 2.2517030e-08, 2.0921513e-08, ..., 1.2804051e-08,\n",
       "         1.4312708e-10, 1.0598974e-07],\n",
       "        [1.8184039e-12, 1.4789316e-10, 7.0230312e-13, ..., 6.7509600e-12,\n",
       "         1.8594304e-14, 2.9835518e-12],\n",
       "        [6.1417391e-09, 8.1398985e-09, 6.8001667e-09, ..., 1.7198546e-11,\n",
       "         3.0937388e-12, 4.9118636e-11],\n",
       "        ...,\n",
       "        [4.9146292e-05, 5.7632177e-11, 2.1851052e-12, ..., 1.0969847e-09,\n",
       "         2.5285782e-14, 4.1444936e-14],\n",
       "        [2.4302185e-06, 2.6611593e-07, 6.9459825e-06, ..., 9.6640213e-07,\n",
       "         2.9731646e-08, 6.0524775e-07],\n",
       "        [1.2493876e-12, 1.9575331e-05, 1.4491948e-10, ..., 2.4855407e-10,\n",
       "         4.4874161e-12, 2.1793864e-10]], dtype=float32),\n",
       " array([[1.5483792e-10, 6.5375132e-09, 2.5174968e-08, ..., 8.5432023e-11,\n",
       "         2.2840990e-11, 4.1337569e-09],\n",
       "        [1.7877374e-13, 6.5149643e-11, 5.0135229e-11, ..., 3.6634411e-11,\n",
       "         2.3917779e-13, 1.1088713e-10],\n",
       "        [5.3036292e-13, 8.7753372e-12, 3.0939983e-13, ..., 1.0000000e+00,\n",
       "         5.3897435e-15, 1.6023738e-13],\n",
       "        ...,\n",
       "        [2.5534132e-12, 1.3164632e-10, 1.0208696e-11, ..., 2.9248937e-10,\n",
       "         3.8784863e-13, 2.2037119e-09],\n",
       "        [4.0134293e-12, 5.1668725e-14, 3.9749622e-17, ..., 1.5942401e-13,\n",
       "         5.9036320e-19, 3.0070014e-17],\n",
       "        [3.1778037e-20, 1.0528288e-20, 2.0291983e-24, ..., 5.5776627e-21,\n",
       "         1.1625717e-23, 3.8827956e-16]], dtype=float32),\n",
       " array([[5.1676505e-08, 6.4905525e-09, 4.7480466e-07, ..., 6.2842004e-10,\n",
       "         1.4826265e-10, 3.2822391e-09],\n",
       "        [2.6083024e-05, 2.5909815e-06, 6.7652181e-06, ..., 2.3679682e-05,\n",
       "         3.3546630e-07, 5.3278450e-06],\n",
       "        [1.6167134e-07, 6.6870525e-05, 1.2737839e-07, ..., 8.5903712e-06,\n",
       "         1.8259253e-09, 2.8720308e-07],\n",
       "        ...,\n",
       "        [2.0631701e-08, 7.8051659e-07, 2.5137265e-07, ..., 5.8817071e-01,\n",
       "         1.3467826e-08, 7.2819794e-06],\n",
       "        [2.3444801e-12, 9.9999988e-01, 2.0596549e-10, ..., 4.2413779e-09,\n",
       "         4.7924707e-13, 4.0428398e-12],\n",
       "        [4.4239201e-15, 1.7837694e-13, 9.9563944e-13, ..., 4.3436219e-14,\n",
       "         2.1872097e-16, 9.0140789e-15]], dtype=float32),\n",
       " array([[5.1099522e-13, 1.7908947e-08, 2.0909366e-10, ..., 7.3137441e-11,\n",
       "         6.8691260e-13, 3.0033533e-07],\n",
       "        [2.0819057e-08, 1.6988260e-08, 9.1060386e-09, ..., 1.8789052e-08,\n",
       "         1.6097404e-10, 7.9607636e-09],\n",
       "        [1.1305525e-05, 5.2392234e-06, 2.2674194e-01, ..., 8.9035366e-06,\n",
       "         9.8732187e-08, 3.1928105e-06],\n",
       "        ...,\n",
       "        [1.9841949e-07, 1.6930667e-06, 6.8662149e-07, ..., 2.9925496e-07,\n",
       "         3.5569647e-09, 8.0695344e-07],\n",
       "        [1.3106383e-08, 1.7584647e-07, 4.2188578e-08, ..., 4.3643489e-09,\n",
       "         4.9526355e-10, 5.5125513e-09],\n",
       "        [4.9162154e-11, 2.9017222e-10, 3.4577707e-10, ..., 3.5569195e-10,\n",
       "         9.5950992e-13, 2.7598831e-11]], dtype=float32),\n",
       " array([[1.03727426e-11, 5.59915003e-10, 1.08024825e-10, ...,\n",
       "         2.10606255e-10, 2.11426297e-12, 1.92472349e-09],\n",
       "        [7.16305557e-11, 7.04842962e-10, 2.40474551e-09, ...,\n",
       "         2.68835776e-09, 4.47520233e-12, 6.33586978e-08],\n",
       "        [5.58970703e-10, 8.68567973e-09, 1.85068871e-09, ...,\n",
       "         3.64518349e-09, 6.42566209e-12, 2.59950977e-10],\n",
       "        ...,\n",
       "        [2.83182325e-14, 2.09658083e-13, 2.40785209e-14, ...,\n",
       "         2.54534349e-14, 2.98795372e-16, 4.34677115e-14],\n",
       "        [1.23509128e-11, 5.35366063e-09, 3.09977932e-09, ...,\n",
       "         1.36345102e-09, 9.98229104e-12, 1.03474540e-09],\n",
       "        [4.13447054e-11, 9.53343168e-11, 3.16306481e-10, ...,\n",
       "         2.66163758e-10, 4.06507618e-13, 1.21804676e-11]], dtype=float32),\n",
       " array([[2.7330986e-15, 2.4794975e-12, 1.0000000e+00, ..., 2.6841864e-14,\n",
       "         1.2739194e-18, 6.7518322e-13],\n",
       "        [1.3195021e-08, 1.8109532e-08, 9.9857497e-01, ..., 2.9307342e-08,\n",
       "         6.9720188e-11, 1.7149228e-08],\n",
       "        [2.0414554e-19, 7.1767842e-16, 1.4897092e-18, ..., 1.0000000e+00,\n",
       "         6.0139397e-20, 2.4465610e-16],\n",
       "        ...,\n",
       "        [2.0723103e-08, 7.2096590e-08, 6.0343339e-09, ..., 1.6521994e-08,\n",
       "         1.4012716e-10, 5.9665012e-07],\n",
       "        [1.9922798e-11, 8.6317321e-11, 1.0338691e-07, ..., 7.3955779e-09,\n",
       "         6.9434779e-12, 1.3408632e-08],\n",
       "        [2.3166971e-08, 1.3545637e-08, 4.1451863e-06, ..., 8.9310834e-09,\n",
       "         2.4437921e-10, 2.8348717e-09]], dtype=float32),\n",
       " array([[2.91120850e-05, 6.04270372e-06, 4.34555295e-06, ...,\n",
       "         2.49914792e-05, 6.22513809e-08, 5.84997861e-06],\n",
       "        [1.40370755e-08, 6.02377384e-07, 4.51784103e-07, ...,\n",
       "         1.17579759e-07, 3.95542932e-09, 8.64099320e-07],\n",
       "        [2.09895740e-10, 9.97807324e-01, 3.57900554e-09, ...,\n",
       "         5.34179833e-07, 1.43443105e-10, 1.65934360e-08],\n",
       "        ...,\n",
       "        [1.38229774e-08, 2.02723660e-09, 2.51765119e-11, ...,\n",
       "         4.08490880e-10, 5.04192391e-12, 2.06172218e-10],\n",
       "        [1.79301662e-09, 1.85422866e-09, 3.22181148e-09, ...,\n",
       "         2.98583966e-12, 7.17448074e-13, 4.24540368e-11],\n",
       "        [3.60248154e-13, 6.62003135e-12, 5.14407527e-12, ...,\n",
       "         3.86453727e-13, 3.57479117e-15, 3.62186220e-13]], dtype=float32),\n",
       " array([[9.0386106e-07, 3.5639644e-02, 4.3796620e-04, ..., 2.9714987e-05,\n",
       "         6.9201995e-08, 6.7335718e-06],\n",
       "        [1.4103082e-13, 1.2419965e-12, 8.5645629e-14, ..., 9.0601409e-14,\n",
       "         1.5416684e-15, 3.2015521e-14],\n",
       "        [4.5270635e-06, 7.2282430e-11, 3.2189050e-12, ..., 3.6405680e-08,\n",
       "         2.7623159e-13, 4.3950165e-12],\n",
       "        ...,\n",
       "        [9.9999940e-01, 2.9405725e-09, 1.4390206e-09, ..., 2.5749445e-09,\n",
       "         5.0829226e-11, 1.1994074e-10],\n",
       "        [5.0064120e-11, 4.1634009e-11, 7.6828294e-11, ..., 2.3689133e-09,\n",
       "         1.6664787e-12, 3.6595955e-09],\n",
       "        [1.0000000e+00, 3.0528952e-12, 2.3926187e-12, ..., 6.1984922e-12,\n",
       "         3.5014001e-14, 8.2203883e-14]], dtype=float32),\n",
       " array([[3.81662169e-09, 2.87641844e-09, 1.80051643e-07, ...,\n",
       "         1.21785704e-09, 1.17358415e-11, 1.95646055e-10],\n",
       "        [2.44956455e-09, 2.37684117e-09, 1.71312831e-08, ...,\n",
       "         1.71068919e-08, 8.48068907e-11, 2.27220852e-07],\n",
       "        [1.86812146e-11, 2.97479532e-12, 3.77049824e-12, ...,\n",
       "         1.00000000e+00, 3.23856813e-14, 1.20472599e-12],\n",
       "        ...,\n",
       "        [2.85370643e-08, 4.17387298e-07, 3.85634348e-06, ...,\n",
       "         2.57614403e-07, 2.52890309e-09, 1.20092382e-05],\n",
       "        [9.79018927e-01, 4.67715182e-07, 7.60874855e-07, ...,\n",
       "         2.04095282e-02, 4.33224052e-08, 2.22578109e-07],\n",
       "        [1.58304647e-14, 4.96043458e-16, 1.64068264e-17, ...,\n",
       "         5.21589675e-14, 6.16723448e-18, 1.63167006e-13]], dtype=float32),\n",
       " array([[1.7155595e-06, 1.5549860e-05, 9.4382818e-07, ..., 3.5978794e-06,\n",
       "         2.1129207e-08, 5.5548327e-07],\n",
       "        [4.0032956e-01, 3.4681582e-04, 5.2765273e-02, ..., 2.0021508e-03,\n",
       "         2.2592651e-06, 1.9811518e-02],\n",
       "        [6.6107367e-07, 1.2237943e-07, 7.2303199e-05, ..., 2.3988119e-07,\n",
       "         1.0535961e-09, 4.1022478e-08],\n",
       "        ...,\n",
       "        [3.4055476e-13, 4.2833050e-12, 4.1079980e-14, ..., 7.2653689e-13,\n",
       "         1.3370100e-15, 1.3313830e-12],\n",
       "        [7.6411952e-15, 9.0642979e-12, 2.7964700e-16, ..., 2.8138418e-13,\n",
       "         5.8124215e-17, 1.6391876e-13],\n",
       "        [2.2180312e-10, 1.6066859e-09, 6.6395430e-08, ..., 4.0950898e-10,\n",
       "         2.8714557e-11, 8.7118224e-10]], dtype=float32),\n",
       " array([[8.2778275e-19, 3.9175973e-15, 3.5561401e-17, ..., 1.0000000e+00,\n",
       "         2.1775325e-19, 5.8518667e-17],\n",
       "        [1.2258038e-10, 9.5251167e-09, 3.1906362e-09, ..., 5.4739369e-09,\n",
       "         3.9135202e-11, 2.3891989e-08],\n",
       "        [1.8506116e-16, 2.7353828e-15, 2.6824924e-14, ..., 1.3708213e-16,\n",
       "         3.0541075e-19, 1.5743486e-16],\n",
       "        ...,\n",
       "        [2.0600877e-13, 2.0837616e-07, 1.5506901e-10, ..., 7.3349764e-12,\n",
       "         1.7787306e-13, 1.5916712e-11],\n",
       "        [9.0634070e-14, 4.2843982e-09, 2.2950211e-11, ..., 3.8214418e-11,\n",
       "         3.6653508e-14, 1.0000000e+00],\n",
       "        [4.7913660e-09, 1.0607204e-08, 5.0231812e-11, ..., 2.2809571e-10,\n",
       "         1.0984633e-11, 3.0772473e-10]], dtype=float32),\n",
       " array([[3.1348595e-14, 7.7338604e-12, 1.6792238e-11, ..., 2.8359285e-12,\n",
       "         3.3668763e-15, 5.8714728e-11],\n",
       "        [2.6998080e-07, 3.8075450e-06, 3.4684941e-04, ..., 1.3163449e-07,\n",
       "         2.5540253e-08, 9.5523194e-07],\n",
       "        [1.6431738e-08, 3.2309635e-09, 3.6611493e-08, ..., 9.9993145e-01,\n",
       "         6.5224007e-11, 1.0054583e-08],\n",
       "        ...,\n",
       "        [4.8626875e-10, 4.2280996e-09, 3.7140555e-11, ..., 2.1456974e-10,\n",
       "         1.8412780e-12, 1.2698199e-10],\n",
       "        [4.8870105e-14, 4.0406354e-12, 1.5029707e-12, ..., 3.9366720e-13,\n",
       "         1.5785470e-15, 7.2310518e-14],\n",
       "        [5.2916832e-10, 1.1360122e-10, 4.2610086e-13, ..., 1.4058299e-11,\n",
       "         1.1153988e-13, 7.9221126e-12]], dtype=float32),\n",
       " array([[6.7671635e-08, 7.5094281e-10, 6.1577891e-12, ..., 1.7053120e-08,\n",
       "         1.5454297e-12, 2.7279123e-10],\n",
       "        [2.1073515e-10, 4.5567788e-08, 3.0634340e-08, ..., 3.3958666e-10,\n",
       "         7.4959960e-12, 9.9481656e-10],\n",
       "        [5.2606620e-11, 6.0623646e-05, 1.1575506e-08, ..., 1.1813677e-08,\n",
       "         2.6401376e-10, 5.9893478e-07],\n",
       "        ...,\n",
       "        [3.2547812e-06, 3.2864305e-06, 6.6655213e-07, ..., 1.3243618e-07,\n",
       "         9.1105212e-09, 5.8792114e-07],\n",
       "        [9.4020597e-11, 6.2665774e-14, 1.8234483e-18, ..., 3.2149471e-14,\n",
       "         1.6847349e-19, 5.6515841e-18],\n",
       "        [2.9674912e-11, 9.3720887e-10, 2.2921940e-11, ..., 6.6606409e-10,\n",
       "         7.2468621e-13, 2.9798913e-10]], dtype=float32),\n",
       " array([[5.1484636e-11, 2.0006054e-07, 4.9020796e-09, ..., 1.3804631e-09,\n",
       "         8.2871793e-11, 5.0170081e-09],\n",
       "        [6.8314764e-12, 9.3003244e-11, 2.7254516e-11, ..., 6.8843903e-11,\n",
       "         1.5390924e-14, 3.4459427e-12],\n",
       "        [4.1153224e-14, 1.0000000e+00, 4.1944792e-15, ..., 2.8373029e-12,\n",
       "         1.7162236e-16, 2.1316433e-15],\n",
       "        ...,\n",
       "        [4.6441112e-20, 3.1759476e-21, 1.9400093e-23, ..., 2.1741366e-20,\n",
       "         7.1483120e-24, 3.1063252e-18],\n",
       "        [1.8769972e-05, 9.3176651e-01, 2.0883041e-05, ..., 6.0818857e-06,\n",
       "         4.5466260e-07, 2.5871157e-05],\n",
       "        [6.7828222e-07, 4.1547068e-09, 1.2716670e-07, ..., 3.7503665e-05,\n",
       "         5.1594518e-10, 1.7809022e-08]], dtype=float32),\n",
       " array([[1.0895210e-09, 4.8984334e-06, 1.0519803e-07, ..., 1.5082314e-08,\n",
       "         6.2721250e-10, 2.0381824e-08],\n",
       "        [2.5915148e-10, 3.1417778e-11, 3.1515741e-14, ..., 3.9635186e-08,\n",
       "         2.0413894e-15, 1.8333493e-14],\n",
       "        [4.9495196e-11, 4.8506521e-10, 7.5868166e-12, ..., 5.8492681e-12,\n",
       "         2.6136339e-13, 3.3801607e-12],\n",
       "        ...,\n",
       "        [1.7898204e-11, 1.4592863e-10, 1.0442763e-10, ..., 2.3565785e-10,\n",
       "         2.8754652e-13, 5.0310339e-11],\n",
       "        [3.8633964e-16, 1.0000000e+00, 1.9051165e-14, ..., 3.3696231e-13,\n",
       "         1.7942833e-16, 3.1608508e-14],\n",
       "        [2.3677147e-11, 5.3075357e-09, 3.6818470e-09, ..., 3.2188130e-10,\n",
       "         3.2136386e-12, 3.9019041e-09]], dtype=float32),\n",
       " array([[6.62666274e-16, 1.00000000e+00, 1.06544158e-14, ...,\n",
       "         1.12891487e-13, 1.00411256e-16, 1.84908817e-15],\n",
       "        [1.40287890e-12, 4.10780221e-01, 6.33656946e-11, ...,\n",
       "         4.00166650e-10, 9.53160034e-12, 4.17953094e-09],\n",
       "        [1.92636358e-11, 8.92037499e-10, 9.36810213e-11, ...,\n",
       "         1.63493427e-10, 4.23856344e-13, 1.00000000e+00],\n",
       "        ...,\n",
       "        [2.20414726e-08, 7.72406679e-07, 1.19090623e-06, ...,\n",
       "         1.94556495e-08, 6.25220764e-10, 3.32738566e-08],\n",
       "        [2.21887131e-09, 1.32483480e-09, 2.24950181e-05, ...,\n",
       "         6.16408968e-09, 6.07035880e-11, 4.75216844e-09],\n",
       "        [9.14974692e-08, 1.55605349e-07, 1.15243984e-06, ...,\n",
       "         8.80948718e-08, 1.14327728e-10, 6.69012490e-09]], dtype=float32),\n",
       " array([[1.1100116e-14, 1.0503643e-15, 1.4773887e-07, ..., 2.3501649e-13,\n",
       "         1.0352871e-16, 2.5162568e-13],\n",
       "        [9.9999988e-01, 2.5085047e-12, 6.1172742e-12, ..., 1.5043844e-12,\n",
       "         1.5192939e-14, 2.0059578e-14],\n",
       "        [7.5985312e-13, 2.3094048e-12, 9.9999988e-01, ..., 1.4463807e-11,\n",
       "         2.9158565e-15, 1.5141844e-11],\n",
       "        ...,\n",
       "        [1.3865796e-10, 1.6217785e-09, 6.2374723e-09, ..., 1.2472067e-09,\n",
       "         1.1374012e-11, 5.1795229e-10],\n",
       "        [1.2206544e-14, 7.2468886e-14, 9.4726602e-14, ..., 1.1507615e-13,\n",
       "         8.8826512e-17, 8.4291721e-15],\n",
       "        [1.5447338e-08, 2.8364028e-08, 2.5835448e-06, ..., 3.2080372e-09,\n",
       "         2.1932458e-11, 1.4501019e-09]], dtype=float32),\n",
       " array([[1.27575337e-03, 3.22003267e-04, 1.63625882e-05, ...,\n",
       "         2.89895181e-02, 8.48762909e-07, 2.44135401e-04],\n",
       "        [1.28931588e-10, 2.03278915e-07, 9.12854348e-10, ...,\n",
       "         3.55999646e-10, 1.58143550e-11, 1.72559498e-06],\n",
       "        [2.40082532e-15, 2.02198902e-09, 5.35192821e-13, ...,\n",
       "         9.03391619e-13, 4.66480822e-15, 9.61503121e-13],\n",
       "        ...,\n",
       "        [6.34343067e-09, 1.64517045e-01, 1.74311731e-06, ...,\n",
       "         3.42979888e-06, 9.97813743e-08, 4.84819449e-02],\n",
       "        [1.72583855e-12, 2.76997273e-14, 1.57881806e-15, ...,\n",
       "         6.77112554e-13, 3.32993681e-15, 8.28783886e-09],\n",
       "        [6.55803547e-07, 5.70414613e-07, 1.06410624e-07, ...,\n",
       "         6.50557413e-05, 4.57253480e-09, 9.12860969e-08]], dtype=float32),\n",
       " array([[1.2940544e-11, 1.2847483e-11, 7.2427882e-13, ..., 4.3253886e-12,\n",
       "         7.1965537e-15, 2.1935322e-11],\n",
       "        [1.5836883e-12, 4.3911470e-13, 5.6151416e-13, ..., 2.6565785e-12,\n",
       "         1.2864817e-15, 1.8742664e-12],\n",
       "        [3.0655940e-11, 5.8327437e-10, 1.9483108e-09, ..., 1.0265878e-09,\n",
       "         4.8660321e-12, 2.0920314e-09],\n",
       "        ...,\n",
       "        [2.5367805e-17, 2.8739408e-13, 9.1394550e-15, ..., 1.0000000e+00,\n",
       "         2.2557085e-17, 6.4280463e-14],\n",
       "        [8.8812895e-11, 4.6273971e-10, 1.0000000e+00, ..., 2.5836722e-10,\n",
       "         1.7702728e-13, 2.0119253e-09],\n",
       "        [1.5052523e-14, 1.1943288e-13, 3.9188112e-07, ..., 3.4824319e-13,\n",
       "         6.7212647e-16, 1.0415617e-12]], dtype=float32),\n",
       " array([[1.0022364e-08, 8.1141297e-07, 1.6709739e-09, ..., 1.7659652e-08,\n",
       "         1.3398302e-10, 2.2013253e-07],\n",
       "        [2.0835669e-05, 4.1348726e-04, 2.2996854e-05, ..., 9.5575827e-01,\n",
       "         2.7434655e-07, 1.2592322e-05],\n",
       "        [3.7410675e-10, 5.5794908e-07, 2.0249611e-09, ..., 2.4549617e-08,\n",
       "         9.2820016e-11, 5.0639409e-07],\n",
       "        ...,\n",
       "        [3.6582435e-07, 6.0984081e-01, 4.3312430e-06, ..., 2.8488921e-06,\n",
       "         2.2808280e-07, 6.1560313e-06],\n",
       "        [1.6970198e-14, 2.8877519e-05, 3.7939357e-12, ..., 4.4894163e-10,\n",
       "         1.3805604e-13, 8.4186513e-10],\n",
       "        [5.9508440e-11, 4.7066662e-09, 5.3686446e-09, ..., 2.9047191e-09,\n",
       "         4.0439679e-11, 4.4315338e-09]], dtype=float32),\n",
       " array([[9.9999928e-01, 1.9704900e-09, 1.1025568e-09, ..., 1.9450384e-09,\n",
       "         3.7791662e-11, 1.1520339e-10],\n",
       "        [6.3207310e-09, 2.3147232e-08, 1.8670827e-09, ..., 1.6767576e-07,\n",
       "         4.9147329e-11, 2.3017961e-09],\n",
       "        [1.8131475e-07, 9.9994171e-01, 2.2877725e-07, ..., 1.4247304e-06,\n",
       "         1.7559833e-08, 3.4887812e-08],\n",
       "        ...,\n",
       "        [3.1574802e-11, 2.2338199e-10, 3.8840578e-10, ..., 2.2741806e-09,\n",
       "         2.2031320e-12, 1.4202064e-09],\n",
       "        [2.9999062e-10, 9.9999905e-01, 2.2713777e-10, ..., 1.4764373e-08,\n",
       "         3.0916214e-11, 7.1269372e-11],\n",
       "        [1.9056501e-11, 4.8569843e-11, 1.9439993e-11, ..., 3.3010078e-10,\n",
       "         1.1950197e-13, 3.6466835e-10]], dtype=float32),\n",
       " array([[1.5534823e-09, 4.6157643e-06, 3.9547874e-08, ..., 2.3065430e-08,\n",
       "         9.5933844e-11, 1.3009853e-08],\n",
       "        [4.1730099e-13, 3.6753742e-11, 2.8650115e-11, ..., 2.1807074e-12,\n",
       "         2.0077186e-14, 5.8168699e-13],\n",
       "        [7.9011295e-09, 2.8131497e-08, 1.1421438e-08, ..., 5.5681539e-07,\n",
       "         1.6548965e-10, 6.7626944e-09],\n",
       "        ...,\n",
       "        [3.6088569e-13, 4.3454140e-13, 6.7682074e-13, ..., 6.7665261e-14,\n",
       "         4.6356070e-16, 2.1101478e-14],\n",
       "        [2.5224615e-08, 4.9340137e-08, 7.6073960e-08, ..., 3.4441389e-06,\n",
       "         5.7984451e-10, 2.3499016e-08],\n",
       "        [5.9703325e-05, 9.6565807e-01, 3.7202296e-06, ..., 3.9248662e-06,\n",
       "         1.4144801e-07, 4.4560234e-06]], dtype=float32),\n",
       " array([[9.99999881e-01, 4.19504154e-10, 4.30576075e-10, ...,\n",
       "         8.48244808e-10, 1.16334607e-11, 2.03257775e-11],\n",
       "        [2.59864294e-07, 5.01343393e-08, 5.56792770e-07, ...,\n",
       "         2.53553711e-09, 4.82646423e-10, 3.67861008e-09],\n",
       "        [1.82807071e-06, 3.92766469e-06, 7.24215994e-08, ...,\n",
       "         1.17594467e-07, 7.48425677e-09, 8.56142321e-08],\n",
       "        ...,\n",
       "        [1.83408844e-11, 9.99999166e-01, 1.57814331e-10, ...,\n",
       "         2.93470265e-07, 7.04562320e-12, 9.65745031e-08],\n",
       "        [2.02888572e-07, 7.65199282e-09, 5.68522296e-08, ...,\n",
       "         4.91892793e-09, 7.34537917e-11, 5.12335063e-09],\n",
       "        [1.26393540e-11, 1.74579184e-09, 1.14705974e-10, ...,\n",
       "         1.00000000e+00, 2.70145690e-12, 6.51448673e-09]], dtype=float32),\n",
       " array([[1.5228771e-08, 1.2194143e-02, 6.3928115e-07, ..., 2.5393706e-07,\n",
       "         3.6461736e-09, 2.8604356e-07],\n",
       "        [6.7580323e-16, 1.0000000e+00, 5.9100355e-14, ..., 2.0466001e-13,\n",
       "         4.1039094e-18, 4.3388646e-16],\n",
       "        [7.9367746e-14, 9.9945668e-12, 1.8587588e-12, ..., 1.5416942e-12,\n",
       "         2.6237383e-14, 1.1939569e-11],\n",
       "        ...,\n",
       "        [5.5097676e-10, 2.1231251e-08, 8.2487922e-08, ..., 4.4837770e-10,\n",
       "         1.1845890e-10, 5.1371201e-09],\n",
       "        [1.3947386e-05, 3.0101815e-03, 3.0280367e-07, ..., 9.2986738e-06,\n",
       "         3.2379429e-08, 3.8598891e-06],\n",
       "        [1.2788855e-11, 3.8696359e-12, 2.6060603e-12, ..., 7.4667052e-12,\n",
       "         1.6052545e-14, 5.8462926e-12]], dtype=float32),\n",
       " array([[3.7807244e-12, 3.5687418e-11, 8.8499048e-11, ..., 6.8098032e-12,\n",
       "         8.5761036e-14, 4.3966636e-12],\n",
       "        [3.4329183e-13, 3.2318179e-10, 2.3671376e-10, ..., 5.2108325e-11,\n",
       "         4.9885644e-13, 2.2073242e-10],\n",
       "        [3.7315516e-07, 6.9386704e-05, 2.5073894e-05, ..., 1.8712271e-02,\n",
       "         6.0875259e-08, 3.9077133e-07],\n",
       "        ...,\n",
       "        [2.6896206e-08, 1.8433964e-06, 9.9999380e-01, ..., 6.0222384e-08,\n",
       "         3.5522668e-10, 2.6646539e-06],\n",
       "        [3.4849697e-14, 4.9892902e-12, 2.6739336e-12, ..., 1.9311661e-13,\n",
       "         1.6369021e-15, 6.9836491e-14],\n",
       "        [1.8750450e-13, 1.1650846e-08, 3.2258918e-11, ..., 1.1330492e-11,\n",
       "         3.0002135e-13, 4.6427508e-11]], dtype=float32),\n",
       " array([[6.55653730e-15, 2.13969259e-11, 4.74033660e-12, ...,\n",
       "         1.00000000e+00, 6.25531333e-15, 4.50359845e-12],\n",
       "        [5.98401773e-09, 5.93554275e-03, 1.07904830e-09, ...,\n",
       "         4.81469193e-08, 1.20515931e-10, 2.93286231e-08],\n",
       "        [3.02478563e-11, 3.80945275e-09, 1.00000000e+00, ...,\n",
       "         4.58755846e-11, 4.95872738e-14, 1.13375448e-10],\n",
       "        ...,\n",
       "        [9.99508619e-01, 5.09372683e-07, 2.95496993e-05, ...,\n",
       "         1.19141856e-04, 1.40841472e-08, 5.05083193e-08],\n",
       "        [1.42360534e-07, 3.25756346e-08, 3.86875456e-08, ...,\n",
       "         3.95620958e-09, 4.42741344e-10, 1.04047109e-08],\n",
       "        [6.73867646e-07, 8.79220624e-06, 1.44516307e-05, ...,\n",
       "         9.34712830e-07, 6.38614637e-08, 1.36306869e-06]], dtype=float32),\n",
       " array([[1.7412052e-10, 2.3338820e-10, 1.2008251e-10, ..., 1.2746366e-10,\n",
       "         2.1126993e-12, 3.3784855e-09],\n",
       "        [8.6465418e-12, 5.4231345e-11, 2.6362073e-15, ..., 1.4703390e-10,\n",
       "         4.4171222e-16, 7.3825515e-14],\n",
       "        [1.1670411e-09, 6.2379204e-02, 5.1124207e-09, ..., 8.8054891e-05,\n",
       "         1.1899892e-08, 2.4385927e-06],\n",
       "        ...,\n",
       "        [3.4693499e-09, 1.3933143e-07, 1.7110526e-07, ..., 2.1696811e-09,\n",
       "         4.1095541e-10, 2.4062182e-08],\n",
       "        [4.0484940e-09, 5.2225757e-10, 8.1090118e-10, ..., 2.8423929e-07,\n",
       "         1.9642860e-11, 4.4602122e-09],\n",
       "        [1.4701958e-14, 6.6978811e-10, 3.9681342e-11, ..., 7.1879946e-11,\n",
       "         6.1200936e-14, 1.9746919e-11]], dtype=float32),\n",
       " array([[1.1844481e-11, 2.4271254e-10, 3.7241464e-12, ..., 2.0389104e-11,\n",
       "         1.1057076e-13, 1.1240025e-10],\n",
       "        [2.0360362e-09, 2.2673325e-09, 1.8842543e-07, ..., 2.6113021e-09,\n",
       "         2.2992478e-11, 1.5261543e-09],\n",
       "        [4.6046154e-09, 4.6080004e-08, 8.4101757e-08, ..., 5.7019056e-09,\n",
       "         4.0247269e-10, 4.0535745e-08],\n",
       "        ...,\n",
       "        [7.8524820e-14, 4.3184498e-11, 1.0086216e-12, ..., 1.0000000e+00,\n",
       "         2.8345468e-14, 6.4530512e-12],\n",
       "        [3.6227288e-09, 1.5015429e-07, 4.1250097e-09, ..., 4.8703419e-09,\n",
       "         1.9345180e-10, 5.5890745e-09],\n",
       "        [7.9781372e-17, 4.1564727e-16, 2.1267850e-16, ..., 1.0617408e-15,\n",
       "         2.6661171e-19, 1.7426642e-17]], dtype=float32),\n",
       " array([[7.4683539e-09, 1.8046722e-09, 1.7788915e-08, ..., 5.7913391e-10,\n",
       "         2.6477980e-11, 1.2607392e-09],\n",
       "        [2.4092603e-11, 1.4178426e-10, 7.0361850e-12, ..., 3.6596122e-11,\n",
       "         1.5571755e-13, 3.6542017e-10],\n",
       "        [7.5382456e-09, 5.5862643e-07, 1.8223665e-06, ..., 4.3363875e-07,\n",
       "         4.2761008e-09, 8.2659136e-07],\n",
       "        ...,\n",
       "        [5.1074569e-13, 1.6314656e-11, 4.6028157e-11, ..., 2.8814234e-11,\n",
       "         9.8397697e-14, 6.4330846e-10],\n",
       "        [1.1862000e-05, 2.0369866e-06, 4.7208825e-05, ..., 6.8563037e-07,\n",
       "         8.5192156e-08, 1.6115026e-06],\n",
       "        [1.0469951e-08, 5.1828830e-09, 1.1375657e-07, ..., 8.8015959e-09,\n",
       "         1.8534058e-11, 7.0881179e-10]], dtype=float32),\n",
       " array([[3.4292738e-12, 9.4627073e-10, 2.5756496e-11, ..., 6.9377371e-10,\n",
       "         4.8120432e-13, 1.4192152e-09],\n",
       "        [8.7502730e-18, 2.4077831e-14, 1.9641364e-15, ..., 3.1794622e-14,\n",
       "         6.6263780e-18, 1.7380371e-13],\n",
       "        [6.0028129e-16, 5.3679453e-14, 1.3284119e-17, ..., 1.8779466e-14,\n",
       "         9.8294885e-19, 2.7095131e-15],\n",
       "        ...,\n",
       "        [4.8618357e-08, 1.3523226e-08, 2.6502555e-08, ..., 8.4803808e-08,\n",
       "         2.8289660e-10, 1.2207620e-08],\n",
       "        [2.1205659e-12, 1.4154774e-05, 4.0180720e-10, ..., 8.5056788e-09,\n",
       "         3.8629959e-12, 9.9998581e-01],\n",
       "        [3.3364693e-09, 1.9306182e-08, 1.1477999e-09, ..., 3.8848700e-08,\n",
       "         1.7048488e-10, 3.9491368e-07]], dtype=float32),\n",
       " array([[1.54628232e-03, 2.49630361e-08, 3.29147924e-11, ...,\n",
       "         1.45285128e-09, 7.52553076e-13, 8.51756220e-13],\n",
       "        [5.33736122e-09, 1.87818303e-10, 2.68490474e-09, ...,\n",
       "         5.36278799e-10, 1.13892240e-12, 2.47565302e-10],\n",
       "        [5.96527114e-13, 1.16794178e-11, 2.86657231e-09, ...,\n",
       "         2.05258228e-12, 1.35333613e-14, 2.29066419e-12],\n",
       "        ...,\n",
       "        [4.98743429e-06, 1.20069935e-05, 3.35808903e-01, ...,\n",
       "         1.95630446e-06, 1.11683400e-08, 4.24922155e-06],\n",
       "        [4.14191766e-13, 3.37856076e-10, 4.04880747e-11, ...,\n",
       "         2.10408236e-11, 4.18273950e-13, 8.73496345e-11],\n",
       "        [1.15601745e-12, 5.01971312e-11, 1.13192363e-11, ...,\n",
       "         2.82288064e-11, 3.51296059e-13, 2.97864178e-10]], dtype=float32),\n",
       " array([[1.0217387e-08, 7.2932422e-01, 1.1377044e-06, ..., 3.5104733e-02,\n",
       "         3.8070674e-08, 3.0830279e-06],\n",
       "        [1.3266409e-11, 1.0000000e+00, 1.1072667e-11, ..., 2.9811145e-10,\n",
       "         6.0102460e-13, 7.7399805e-13],\n",
       "        [2.1655670e-15, 1.0000000e+00, 1.6393743e-14, ..., 6.2342883e-12,\n",
       "         1.4251670e-17, 2.3515784e-16],\n",
       "        ...,\n",
       "        [8.5160603e-12, 6.7660744e-06, 5.1510013e-10, ..., 4.6360624e-10,\n",
       "         7.3995168e-12, 9.9994254e-01],\n",
       "        [2.7935820e-15, 1.7124037e-17, 1.8823214e-18, ..., 1.4797637e-14,\n",
       "         3.4409471e-18, 4.1720113e-11],\n",
       "        [2.2937486e-06, 3.7909022e-06, 9.2805311e-04, ..., 8.1601174e-05,\n",
       "         5.6559872e-09, 2.1731017e-07]], dtype=float32),\n",
       " array([[1.9925443e-20, 1.0598383e-16, 2.3480622e-18, ..., 1.0000000e+00,\n",
       "         7.4807832e-21, 1.3254659e-17],\n",
       "        [5.1518121e-12, 9.9999988e-01, 1.1780834e-11, ..., 3.1936452e-08,\n",
       "         6.9636332e-13, 1.6071134e-11],\n",
       "        [1.7108912e-08, 1.7165240e-07, 7.3966107e-06, ..., 1.2563646e-08,\n",
       "         4.8094229e-10, 1.2374292e-08],\n",
       "        ...,\n",
       "        [5.6434152e-10, 9.9996853e-01, 1.9329260e-09, ..., 1.3745775e-08,\n",
       "         1.0969046e-11, 9.3490515e-10],\n",
       "        [4.8033626e-06, 5.9702325e-07, 1.2269349e-05, ..., 1.9071238e-07,\n",
       "         3.2803758e-08, 2.6322499e-07],\n",
       "        [1.4225509e-06, 1.2969691e-06, 1.2187244e-06, ..., 4.5893120e-07,\n",
       "         1.1165580e-08, 7.0479167e-01]], dtype=float32),\n",
       " array([[4.7566209e-12, 8.2236193e-14, 5.7756430e-17, ..., 4.7796207e-12,\n",
       "         1.7382018e-18, 2.3372590e-17],\n",
       "        [1.1283579e-06, 9.4912662e-07, 5.5356099e-07, ..., 6.6224970e-07,\n",
       "         1.2262900e-08, 1.5784863e-06],\n",
       "        [1.6596725e-07, 1.4274412e-05, 1.9126848e-07, ..., 6.1019472e-07,\n",
       "         1.7904506e-08, 2.1281319e-06],\n",
       "        ...,\n",
       "        [3.4258479e-13, 8.5549672e-13, 2.3676400e-13, ..., 3.5976270e-13,\n",
       "         1.7834613e-15, 4.9603664e-13],\n",
       "        [1.1063764e-06, 3.7279062e-07, 1.7571462e-04, ..., 7.3734768e-08,\n",
       "         1.2565399e-08, 3.3249842e-07],\n",
       "        [9.6507993e-14, 5.0205008e-14, 1.0893985e-13, ..., 4.0871560e-13,\n",
       "         2.3134708e-15, 4.6683284e-13]], dtype=float32),\n",
       " array([[6.6749239e-14, 1.7177804e-07, 7.9853989e-13, ..., 7.2535472e-12,\n",
       "         2.1343769e-15, 1.1673620e-12],\n",
       "        [2.1971716e-14, 2.4544922e-09, 1.4450910e-10, ..., 4.2593387e-11,\n",
       "         7.9619742e-14, 1.2443595e-10],\n",
       "        [1.1275019e-08, 1.2370032e-09, 1.5866918e-07, ..., 1.1804023e-08,\n",
       "         7.3321155e-11, 3.6038226e-09],\n",
       "        ...,\n",
       "        [1.5829183e-08, 5.7857756e-06, 9.9998474e-01, ..., 7.4793199e-08,\n",
       "         1.8003153e-10, 7.7180066e-06],\n",
       "        [2.0021793e-16, 8.4269424e-14, 2.1265834e-15, ..., 2.8748917e-15,\n",
       "         3.5385622e-17, 4.8935679e-14],\n",
       "        [1.9288691e-13, 6.8149257e-11, 3.9886050e-12, ..., 1.5847981e-11,\n",
       "         5.9437345e-14, 8.3088814e-11]], dtype=float32),\n",
       " array([[3.6453566e-13, 3.4809957e-11, 2.6696593e-11, ..., 5.1982014e-13,\n",
       "         1.0721116e-14, 1.1674912e-12],\n",
       "        [6.0356249e-16, 5.2906030e-14, 1.0416861e-14, ..., 2.6184666e-12,\n",
       "         5.4934841e-17, 2.0351839e-12],\n",
       "        [3.2759412e-10, 9.4310992e-10, 7.2088659e-07, ..., 3.6089831e-10,\n",
       "         3.0569439e-11, 9.3510688e-10],\n",
       "        ...,\n",
       "        [7.5628454e-06, 1.2270801e-02, 8.9366743e-03, ..., 1.2060725e-02,\n",
       "         5.4323355e-08, 4.7690963e-07],\n",
       "        [6.5140813e-07, 3.0218862e-06, 3.3053893e-04, ..., 1.3325725e-07,\n",
       "         1.3917183e-08, 1.4818510e-06],\n",
       "        [7.3541912e-08, 3.4798223e-08, 5.1190877e-06, ..., 7.2360540e-06,\n",
       "         4.5856332e-09, 4.8355719e-07]], dtype=float32),\n",
       " array([[6.7330632e-08, 7.1821560e-08, 7.1240322e-07, ..., 2.3441092e-07,\n",
       "         6.5950329e-11, 3.2243952e-09],\n",
       "        [1.2252830e-12, 6.5462991e-08, 3.2260888e-10, ..., 9.9417877e-11,\n",
       "         8.2747708e-13, 9.9999952e-01],\n",
       "        [2.3578925e-10, 9.9142003e-01, 4.1598125e-09, ..., 8.5477894e-03,\n",
       "         8.2893352e-11, 1.7582094e-10],\n",
       "        ...,\n",
       "        [5.3189942e-14, 3.9170742e-15, 2.9720940e-17, ..., 1.1739859e-14,\n",
       "         1.3492180e-17, 1.6210023e-13],\n",
       "        [1.2488132e-17, 8.9662562e-11, 9.7629161e-15, ..., 2.9465502e-15,\n",
       "         7.4349382e-17, 7.8767681e-14],\n",
       "        [1.7725097e-09, 1.2498756e-10, 7.8095885e-13, ..., 1.6597236e-11,\n",
       "         1.5877463e-13, 1.4199265e-11]], dtype=float32),\n",
       " array([[6.0851678e-16, 1.0000000e+00, 1.0252663e-14, ..., 6.4538859e-09,\n",
       "         9.7837474e-17, 8.1843703e-15],\n",
       "        [5.8151361e-08, 2.1561791e-08, 2.1432633e-08, ..., 1.3885002e-09,\n",
       "         3.3394820e-10, 4.3540211e-09],\n",
       "        [2.3418802e-09, 1.5818241e-08, 9.9742238e-07, ..., 3.9410408e-09,\n",
       "         1.5945816e-10, 9.1914982e-09],\n",
       "        ...,\n",
       "        [2.4141462e-09, 8.0010686e-08, 2.9044725e-07, ..., 1.2646055e-09,\n",
       "         4.2314485e-10, 1.0550492e-08],\n",
       "        [5.9560232e-11, 7.1675038e-10, 2.1355553e-10, ..., 4.1478827e-11,\n",
       "         8.8793155e-13, 3.0756439e-11],\n",
       "        [1.0013809e-09, 1.4636248e-08, 1.0852247e-07, ..., 1.1055561e-09,\n",
       "         1.1422193e-10, 3.6472201e-09]], dtype=float32),\n",
       " array([[2.7129327e-14, 7.4679433e-16, 3.6461420e-17, ..., 2.5700674e-14,\n",
       "         4.7960736e-17, 2.2591642e-11],\n",
       "        [2.9032043e-07, 5.3838929e-09, 1.1866533e-07, ..., 1.0617216e-09,\n",
       "         1.5731668e-11, 9.4171698e-11],\n",
       "        [1.7898249e-06, 1.8991814e-06, 1.1807685e-07, ..., 5.5830020e-07,\n",
       "         2.2116545e-08, 2.8693700e-07],\n",
       "        ...,\n",
       "        [4.4807785e-17, 2.2440949e-18, 4.7057607e-20, ..., 3.5609067e-16,\n",
       "         2.0311619e-20, 1.9684192e-15],\n",
       "        [1.0641049e-11, 8.2947449e-10, 2.5442129e-10, ..., 9.7024055e-10,\n",
       "         2.9328289e-12, 3.3938889e-09],\n",
       "        [5.5726091e-03, 5.6744635e-04, 1.6663835e-03, ..., 5.8303718e-05,\n",
       "         3.8401636e-06, 1.4900762e-04]], dtype=float32),\n",
       " array([[1.45501931e-08, 2.35447466e-08, 4.50258675e-08, ...,\n",
       "         7.81742031e-08, 7.07673697e-10, 9.60949137e-07],\n",
       "        [3.56925378e-10, 2.31980393e-10, 9.99887347e-01, ...,\n",
       "         1.70870318e-10, 3.49252365e-13, 9.22116050e-10],\n",
       "        [5.01397210e-07, 6.27452209e-07, 4.17925439e-05, ...,\n",
       "         4.41747432e-07, 1.59632076e-08, 6.58436000e-01],\n",
       "        ...,\n",
       "        [2.78153558e-14, 1.29899026e-11, 4.71555303e-13, ...,\n",
       "         1.00000000e+00, 4.16213948e-15, 1.06086797e-12],\n",
       "        [7.85780152e-09, 9.78774130e-01, 5.35227613e-08, ...,\n",
       "         2.74990640e-07, 2.82768253e-10, 2.62842332e-06],\n",
       "        [2.51134528e-14, 1.49114641e-08, 2.19313076e-14, ...,\n",
       "         9.99999762e-01, 2.12827912e-15, 5.74656225e-11]], dtype=float32),\n",
       " array([[5.95436409e-11, 6.67994869e-12, 3.90852906e-11, ...,\n",
       "         1.63696140e-11, 8.68906929e-14, 2.86067021e-11],\n",
       "        [5.87025539e-09, 3.03996406e-09, 2.16123262e-08, ...,\n",
       "         1.45070622e-08, 1.37020464e-11, 7.04756218e-08],\n",
       "        [7.35099305e-14, 1.00000000e+00, 1.26794051e-12, ...,\n",
       "         2.41788729e-12, 1.35517784e-14, 4.77845811e-14],\n",
       "        ...,\n",
       "        [2.94676263e-12, 8.20440799e-11, 2.02404540e-13, ...,\n",
       "         1.47078426e-11, 1.15666703e-14, 3.03323235e-11],\n",
       "        [1.88564186e-08, 1.06825631e-07, 1.91500753e-08, ...,\n",
       "         3.61885633e-08, 9.98311434e-10, 5.98967773e-08],\n",
       "        [2.08581104e-13, 1.74347938e-12, 1.89824656e-10, ...,\n",
       "         5.38315486e-12, 3.58144605e-14, 4.11210302e-11]], dtype=float32),\n",
       " array([[8.2569433e-13, 3.2199463e-08, 2.7335472e-11, ..., 1.6772400e-10,\n",
       "         1.3280809e-12, 5.2144150e-10],\n",
       "        [5.1046772e-08, 2.2936414e-12, 2.0945164e-15, ..., 7.4689551e-12,\n",
       "         6.8345090e-17, 1.5875751e-15],\n",
       "        [2.1348842e-13, 2.3876199e-14, 8.2150152e-17, ..., 9.9956244e-14,\n",
       "         1.0596888e-16, 1.1791440e-12],\n",
       "        ...,\n",
       "        [3.3125096e-11, 1.2759790e-10, 1.5683589e-10, ..., 1.4908291e-10,\n",
       "         2.5987630e-12, 1.3026484e-09],\n",
       "        [3.3805288e-11, 3.4250472e-06, 3.3323078e-09, ..., 1.4369713e-09,\n",
       "         1.9793963e-11, 9.9999344e-01],\n",
       "        [1.2014038e-07, 5.3720729e-08, 1.0328868e-10, ..., 7.2472262e-10,\n",
       "         6.1655077e-11, 2.2040834e-09]], dtype=float32),\n",
       " array([[3.0638148e-12, 3.9219711e-11, 4.9958654e-10, ..., 2.1780325e-10,\n",
       "         1.2348204e-12, 1.9029349e-09],\n",
       "        [3.0906111e-10, 1.3287307e-10, 1.4546703e-10, ..., 1.3636624e-09,\n",
       "         3.9771788e-12, 2.1423203e-09],\n",
       "        [3.5298044e-06, 5.5981091e-06, 4.1149224e-06, ..., 2.0969552e-03,\n",
       "         6.8571936e-08, 1.0641407e-06],\n",
       "        ...,\n",
       "        [6.0867182e-09, 1.1303694e-06, 1.2895207e-10, ..., 1.7833365e-09,\n",
       "         9.4219944e-12, 1.6231890e-09],\n",
       "        [8.3992608e-09, 2.7888570e-08, 5.6419817e-11, ..., 2.3844624e-08,\n",
       "         5.6488838e-11, 3.3722431e-03],\n",
       "        [7.1135094e-12, 6.9877236e-11, 3.8811322e-11, ..., 3.5714588e-11,\n",
       "         1.4576789e-13, 9.7505372e-12]], dtype=float32),\n",
       " array([[9.9241253e-13, 5.3257454e-10, 3.7396669e-11, ..., 8.0263005e-11,\n",
       "         2.5338260e-13, 6.8044870e-10],\n",
       "        [2.3238629e-12, 2.0616706e-11, 4.9398333e-12, ..., 1.6897620e-11,\n",
       "         2.1574791e-14, 2.0426388e-12],\n",
       "        [4.5051511e-08, 6.2314228e-07, 9.6052206e-09, ..., 1.9590539e-08,\n",
       "         2.9551783e-10, 2.6725759e-08],\n",
       "        ...,\n",
       "        [4.8238540e-13, 2.1627838e-12, 7.0001930e-12, ..., 3.3751742e-13,\n",
       "         3.4621771e-15, 3.4381216e-13],\n",
       "        [1.2679321e-10, 5.1409739e-09, 2.3622759e-10, ..., 7.3250450e-10,\n",
       "         1.0586848e-12, 1.8774993e-10],\n",
       "        [1.7549566e-07, 5.7456990e-09, 8.7884325e-11, ..., 1.5766488e-09,\n",
       "         1.0463321e-12, 2.8653207e-11]], dtype=float32),\n",
       " array([[1.48640611e-08, 6.63944036e-07, 9.50240008e-07, ...,\n",
       "         2.17060645e-07, 5.69061021e-09, 2.32990928e-07],\n",
       "        [5.74255500e-06, 1.81283875e-04, 2.64181466e-07, ...,\n",
       "         1.98092835e-06, 2.79543553e-08, 4.38958494e-07],\n",
       "        [9.90752445e-12, 2.28804212e-10, 8.24026665e-13, ...,\n",
       "         7.61057536e-12, 2.86666883e-14, 2.50600027e-11],\n",
       "        ...,\n",
       "        [1.50692978e-12, 8.34676248e-05, 1.03592690e-10, ...,\n",
       "         1.02317467e-10, 7.80415717e-13, 4.13734429e-11],\n",
       "        [9.88730093e-08, 1.96945308e-07, 3.60575880e-09, ...,\n",
       "         1.12695986e-07, 3.59911934e-10, 2.80452809e-07],\n",
       "        [5.59006400e-12, 5.51932415e-12, 1.53746558e-12, ...,\n",
       "         1.00000000e+00, 2.09576415e-14, 3.44787377e-13]], dtype=float32),\n",
       " array([[1.5206636e-11, 3.0890296e-10, 1.4315323e-10, ..., 1.6758549e-09,\n",
       "         7.0048318e-13, 6.3681633e-09],\n",
       "        [1.6775962e-04, 2.4206078e-05, 4.6290152e-04, ..., 1.6039283e-05,\n",
       "         1.0839807e-06, 2.1243046e-05],\n",
       "        [1.1571961e-15, 1.0000000e+00, 1.1759990e-13, ..., 2.0464881e-08,\n",
       "         3.0372770e-16, 6.2050246e-15],\n",
       "        ...,\n",
       "        [5.3633606e-08, 6.1730935e-07, 1.2157373e-09, ..., 1.1420387e-08,\n",
       "         1.2670122e-10, 7.4604486e-08],\n",
       "        [7.9522664e-08, 9.3666062e-09, 9.4439061e-09, ..., 2.9077475e-07,\n",
       "         1.6127268e-10, 1.6163838e-08],\n",
       "        [4.0534822e-11, 2.9193630e-11, 1.9846236e-10, ..., 4.4448095e-12,\n",
       "         1.4686494e-13, 2.3327713e-12]], dtype=float32),\n",
       " array([[7.7675787e-07, 3.3640223e-08, 2.4676838e-10, ..., 9.9584507e-10,\n",
       "         6.0821427e-13, 2.6092509e-12],\n",
       "        [5.7310852e-14, 9.9996698e-01, 4.7717224e-15, ..., 3.8292248e-11,\n",
       "         5.7878947e-16, 8.1003041e-14],\n",
       "        [1.9676498e-09, 9.9999499e-01, 2.4120750e-09, ..., 1.2700916e-07,\n",
       "         4.5737336e-10, 7.8210094e-10],\n",
       "        ...,\n",
       "        [1.7396065e-12, 9.9999988e-01, 9.4220291e-13, ..., 2.7897323e-11,\n",
       "         1.6925021e-13, 3.8330295e-13],\n",
       "        [4.4106840e-11, 2.4233560e-10, 2.0554812e-12, ..., 1.3139019e-10,\n",
       "         1.2380766e-13, 4.8027519e-11],\n",
       "        [1.0292001e-15, 2.5308953e-16, 2.3745064e-12, ..., 4.6248904e-14,\n",
       "         6.1691434e-17, 2.3666185e-14]], dtype=float32),\n",
       " array([[3.3607077e-13, 1.4670039e-12, 1.4848664e-11, ..., 1.1987848e-12,\n",
       "         3.4127292e-15, 1.8881730e-13],\n",
       "        [9.2356300e-09, 1.9997016e-08, 6.1610594e-10, ..., 8.6794145e-09,\n",
       "         1.9822078e-11, 1.3718899e-09],\n",
       "        [1.8198681e-09, 2.4819496e-08, 4.7215567e-06, ..., 3.3067028e-08,\n",
       "         1.0056709e-09, 9.8385321e-08],\n",
       "        ...,\n",
       "        [1.6440690e-13, 4.3870266e-10, 2.0143730e-11, ..., 2.8968931e-11,\n",
       "         9.9979121e-14, 2.7821847e-09],\n",
       "        [1.1647978e-12, 3.6073622e-10, 2.1010647e-09, ..., 1.2797212e-09,\n",
       "         1.2075212e-12, 7.7280143e-10],\n",
       "        [3.4040306e-07, 2.7351871e-05, 4.8058878e-06, ..., 1.0363774e-03,\n",
       "         3.1904801e-07, 1.5914969e-03]], dtype=float32),\n",
       " array([[5.5385145e-09, 5.1649723e-10, 4.3606336e-09, ..., 9.7825179e-09,\n",
       "         1.3347526e-11, 6.5275679e-10],\n",
       "        [3.1698904e-09, 6.3876673e-09, 8.8896011e-09, ..., 4.3881077e-09,\n",
       "         3.3727701e-11, 7.7120804e-10],\n",
       "        [1.9489828e-06, 9.8376989e-01, 1.9865815e-06, ..., 3.0973451e-06,\n",
       "         2.0090549e-07, 7.0509780e-03],\n",
       "        ...,\n",
       "        [7.5533302e-10, 4.4091222e-10, 4.2184816e-09, ..., 2.5262850e-12,\n",
       "         2.2932771e-13, 5.0702003e-12],\n",
       "        [9.9999940e-01, 3.1191378e-09, 9.2547220e-10, ..., 2.6368727e-09,\n",
       "         3.6416543e-11, 1.1106762e-10],\n",
       "        [4.4405603e-08, 2.1266714e-03, 9.9787271e-01, ..., 8.1847622e-09,\n",
       "         1.0069987e-11, 1.0824987e-08]], dtype=float32),\n",
       " array([[2.0577842e-11, 5.5503716e-11, 1.9936316e-08, ..., 2.6968161e-09,\n",
       "         7.7570216e-12, 2.1765430e-08],\n",
       "        [5.1098804e-15, 5.5544463e-13, 6.5520404e-14, ..., 1.0000000e+00,\n",
       "         4.3924386e-16, 1.6138698e-13],\n",
       "        [4.9637685e-15, 2.6963474e-14, 2.8622747e-15, ..., 1.6965445e-14,\n",
       "         2.1180156e-17, 1.1013604e-15],\n",
       "        ...,\n",
       "        [1.4469914e-10, 2.9277192e-09, 1.0000000e+00, ..., 3.8817689e-11,\n",
       "         7.3675847e-14, 1.2350056e-10],\n",
       "        [4.7350408e-09, 1.1357116e-06, 1.7961944e-05, ..., 9.4434405e-10,\n",
       "         3.5851530e-10, 2.6811971e-08],\n",
       "        [5.8115276e-11, 9.9999952e-01, 2.2567987e-11, ..., 1.1839477e-09,\n",
       "         2.3503265e-12, 1.0114882e-11]], dtype=float32),\n",
       " array([[1.8254582e-12, 6.8404504e-11, 2.0588893e-10, ..., 1.2242237e-11,\n",
       "         6.9950075e-14, 1.5648377e-12],\n",
       "        [2.4075819e-04, 2.5579664e-06, 1.2320886e-07, ..., 9.4661063e-06,\n",
       "         2.9401002e-09, 7.1103152e-08],\n",
       "        [5.6991933e-10, 9.4490311e-08, 1.1857861e-08, ..., 3.5538490e-09,\n",
       "         7.9103085e-11, 9.9568719e-01],\n",
       "        ...,\n",
       "        [1.7799406e-10, 4.6221150e-08, 9.9518704e-09, ..., 4.1228496e-09,\n",
       "         1.1483171e-11, 2.0870255e-08],\n",
       "        [9.9108055e-10, 6.0818955e-05, 2.1836455e-09, ..., 2.9934938e-08,\n",
       "         1.0529502e-11, 9.1225155e-10],\n",
       "        [4.1102030e-08, 2.1042572e-08, 1.1564136e-07, ..., 1.9078959e-08,\n",
       "         6.4787686e-10, 1.4690671e-08]], dtype=float32),\n",
       " array([[1.1235939e-13, 6.8389825e-13, 1.5245527e-12, ..., 1.8358626e-13,\n",
       "         5.2779788e-16, 6.1386470e-14],\n",
       "        [1.3146989e-06, 4.3606633e-06, 2.2979956e-08, ..., 3.9082099e-08,\n",
       "         3.5224574e-09, 4.2023448e-08],\n",
       "        [1.8023062e-12, 3.3557568e-09, 1.4520612e-11, ..., 1.0000000e+00,\n",
       "         8.6579241e-13, 2.9776296e-11],\n",
       "        ...,\n",
       "        [9.9963474e-01, 1.2680840e-09, 1.2969768e-10, ..., 2.3833832e-07,\n",
       "         6.6200621e-12, 1.6043342e-11],\n",
       "        [1.1725801e-11, 4.3345248e-11, 7.0234638e-12, ..., 1.7083310e-11,\n",
       "         2.0509611e-13, 3.7986378e-11],\n",
       "        [4.9454257e-11, 5.3054703e-09, 1.4761063e-08, ..., 1.7109805e-07,\n",
       "         2.8429216e-11, 5.1609463e-09]], dtype=float32),\n",
       " array([[1.65250424e-09, 3.59900498e-10, 1.06575773e-12, ...,\n",
       "         2.16676954e-11, 2.81978922e-13, 1.54506269e-11],\n",
       "        [2.09286304e-11, 9.97156262e-01, 3.32052830e-09, ...,\n",
       "         5.05377713e-08, 5.58956492e-11, 2.84303608e-03],\n",
       "        [1.38308394e-07, 7.75808513e-01, 1.09336797e-05, ...,\n",
       "         6.42654277e-06, 1.83800353e-08, 3.11929000e-07],\n",
       "        ...,\n",
       "        [2.00917079e-08, 1.70770704e-07, 1.13656483e-06, ...,\n",
       "         1.51127981e-08, 2.07118500e-09, 8.35680396e-08],\n",
       "        [1.43129919e-05, 5.02971653e-03, 2.59966560e-04, ...,\n",
       "         1.31672423e-03, 2.97561496e-06, 6.27289759e-04],\n",
       "        [2.65378066e-08, 1.05730024e-07, 1.33150637e-08, ...,\n",
       "         3.01497408e-07, 2.69564593e-10, 5.35498712e-09]], dtype=float32),\n",
       " array([[3.0928963e-16, 4.2261243e-09, 3.0581840e-14, ..., 1.0692444e-14,\n",
       "         1.4154053e-15, 1.2611293e-12],\n",
       "        [5.0959549e-08, 8.8575201e-09, 1.2182790e-07, ..., 1.5015051e-08,\n",
       "         5.2899213e-10, 1.1608841e-08],\n",
       "        [2.2936032e-08, 1.8153759e-08, 3.6956812e-05, ..., 2.0600402e-07,\n",
       "         3.8191332e-11, 2.6510435e-07],\n",
       "        ...,\n",
       "        [7.2139499e-12, 2.2010539e-08, 9.2711938e-10, ..., 1.8680227e-10,\n",
       "         1.0696662e-11, 1.4064401e-09],\n",
       "        [3.1230649e-10, 2.1633396e-08, 4.1006878e-08, ..., 1.5461104e-08,\n",
       "         1.9446887e-10, 1.5034344e-08],\n",
       "        [2.9168064e-07, 3.6513842e-07, 4.4033118e-06, ..., 4.0045112e-08,\n",
       "         3.3489571e-09, 4.2566050e-08]], dtype=float32),\n",
       " array([[9.69627312e-09, 2.26227669e-07, 3.24560129e-10, ...,\n",
       "         9.95913804e-01, 7.54192889e-11, 7.16022839e-07],\n",
       "        [6.55849135e-08, 5.24723589e-07, 1.81495319e-09, ...,\n",
       "         4.56929738e-09, 3.58967661e-10, 4.62863792e-09],\n",
       "        [9.99999881e-01, 1.01901404e-10, 8.66113639e-11, ...,\n",
       "         5.92677366e-11, 1.18405708e-12, 1.96577325e-12],\n",
       "        ...,\n",
       "        [7.94730648e-17, 2.10408344e-10, 7.87217242e-14, ...,\n",
       "         7.58228875e-13, 1.18498173e-15, 5.54992413e-13],\n",
       "        [6.31714958e-10, 5.04652875e-10, 3.31575154e-12, ...,\n",
       "         7.15093679e-11, 1.39981885e-13, 6.42195325e-11],\n",
       "        [2.22400955e-13, 3.67419989e-13, 1.02083936e-13, ...,\n",
       "         2.15626250e-13, 8.97656930e-16, 5.83400041e-14]], dtype=float32),\n",
       " array([[8.4656782e-16, 8.4357231e-14, 1.0000000e+00, ..., 6.5546870e-15,\n",
       "         2.4404703e-19, 9.5278908e-14],\n",
       "        [1.5938966e-08, 6.6779675e-09, 2.7441829e-06, ..., 2.5427148e-06,\n",
       "         1.5975200e-10, 2.0808841e-08],\n",
       "        [2.1566226e-05, 5.5111010e-05, 5.3376843e-06, ..., 6.7104382e-04,\n",
       "         4.6271384e-07, 5.4105298e-05],\n",
       "        ...,\n",
       "        [1.9082533e-12, 1.2672908e-11, 7.5403164e-14, ..., 7.0648518e-14,\n",
       "         9.1504038e-16, 1.3741743e-13],\n",
       "        [2.0447485e-15, 1.9732912e-15, 6.5169893e-15, ..., 2.4624715e-14,\n",
       "         2.1238976e-17, 1.3630005e-15],\n",
       "        [8.2094558e-13, 2.2178749e-10, 3.7106459e-13, ..., 4.2073059e-12,\n",
       "         1.4914124e-14, 2.8013286e-12]], dtype=float32),\n",
       " array([[9.9999809e-01, 2.0692376e-08, 1.1104705e-08, ..., 1.5139877e-08,\n",
       "         3.2220504e-10, 1.5125148e-09],\n",
       "        [8.6188311e-07, 2.5346674e-08, 8.1206694e-05, ..., 5.4811512e-06,\n",
       "         3.3438855e-08, 2.1559721e-05],\n",
       "        [8.0724169e-12, 2.9474863e-13, 2.8513796e-13, ..., 1.3092777e-12,\n",
       "         1.1706268e-15, 3.6766326e-13],\n",
       "        ...,\n",
       "        [2.1273974e-11, 7.1394841e-11, 4.6699571e-12, ..., 6.2588545e-11,\n",
       "         1.2735233e-13, 1.3097951e-10],\n",
       "        [3.2659194e-13, 1.0000000e+00, 8.1131985e-12, ..., 2.0838543e-10,\n",
       "         1.1472264e-13, 1.6914089e-12],\n",
       "        [2.6815364e-10, 2.7922447e-08, 4.5944026e-09, ..., 1.3597209e-08,\n",
       "         2.8608563e-11, 2.8443530e-08]], dtype=float32),\n",
       " array([[1.34400869e-14, 1.47276809e-12, 1.05736351e-15, 1.21551058e-14,\n",
       "         6.47359610e-10, 9.89873473e-17, 9.82447509e-17, 7.07120113e-14,\n",
       "         2.24648295e-12, 2.43342079e-14, 1.96851685e-15, 4.05998341e-14,\n",
       "         5.20978922e-15, 4.57845830e-15, 4.55826512e-13, 1.68864952e-16,\n",
       "         1.24994524e-13, 1.32300141e-16, 1.83922105e-12, 8.29208992e-17,\n",
       "         4.80184836e-10, 1.00000000e+00, 3.53830729e-16, 1.09810663e-12,\n",
       "         1.07274460e-16, 6.00752954e-13, 1.35038757e-16, 3.89208468e-13],\n",
       "        [2.27214485e-07, 1.37639375e-08, 3.32455912e-08, 2.58913335e-09,\n",
       "         1.93481640e-08, 3.54427404e-10, 2.15319484e-10, 9.87476766e-01,\n",
       "         1.09909326e-08, 1.74759521e-07, 2.99697831e-07, 2.36657383e-09,\n",
       "         2.76596079e-09, 4.59000518e-08, 1.25212073e-02, 2.65933775e-10,\n",
       "         1.54433657e-08, 2.29439093e-10, 2.37590442e-07, 3.59378333e-10,\n",
       "         3.37300909e-10, 8.79579034e-07, 3.13854387e-10, 1.06718176e-07,\n",
       "         1.89332480e-10, 9.34911526e-09, 1.90655547e-10, 7.88616550e-09],\n",
       "        [7.81624928e-14, 2.54054915e-13, 3.41266266e-17, 5.00328110e-20,\n",
       "         3.27994715e-10, 9.38756524e-19, 2.59144493e-19, 2.51973835e-18,\n",
       "         3.30695889e-06, 4.07017924e-15, 4.51172692e-15, 4.71878963e-15,\n",
       "         1.21142189e-17, 4.89912349e-19, 4.48277483e-12, 4.04844552e-19,\n",
       "         8.65249979e-16, 1.89107305e-19, 9.99996662e-01, 1.04520261e-19,\n",
       "         7.51393420e-21, 1.75850508e-17, 1.68215411e-19, 4.71739846e-17,\n",
       "         5.81516566e-20, 6.04750286e-14, 1.85558718e-18, 2.12941621e-16],\n",
       "        [9.33103594e-12, 1.21207722e-09, 3.00528352e-11, 2.84582666e-12,\n",
       "         5.63900593e-10, 7.58208166e-13, 2.12744427e-13, 4.86623328e-12,\n",
       "         9.99999404e-01, 1.23118703e-11, 2.92274330e-11, 3.47557050e-09,\n",
       "         2.52879627e-11, 9.23072452e-11, 2.96394766e-12, 1.94216157e-13,\n",
       "         4.93964535e-07, 2.07807092e-13, 1.40453864e-07, 2.01913952e-13,\n",
       "         1.39630359e-13, 3.48870889e-12, 2.69927527e-13, 5.66870162e-11,\n",
       "         1.38649210e-13, 1.43604767e-10, 7.47835550e-13, 2.88805480e-10],\n",
       "        [6.35638070e-11, 5.04188985e-02, 1.18816850e-08, 4.85069753e-12,\n",
       "         1.07833378e-11, 4.07531214e-12, 1.73900358e-12, 6.75052505e-12,\n",
       "         1.88757884e-10, 1.40223602e-08, 2.84628965e-09, 2.37331554e-09,\n",
       "         7.31043073e-11, 9.49580908e-01, 7.19159038e-11, 1.68076805e-12,\n",
       "         8.07995377e-08, 2.33772507e-12, 2.87863822e-09, 6.33594251e-13,\n",
       "         1.07146059e-09, 2.04509565e-12, 1.33563364e-12, 3.74221436e-08,\n",
       "         4.94636667e-13, 9.04295874e-08, 2.68225568e-12, 2.70515749e-10],\n",
       "        [1.11417257e-10, 1.91493598e-07, 5.96907634e-10, 1.52952373e-11,\n",
       "         3.41630724e-08, 1.78077136e-11, 8.16446476e-12, 7.75472880e-11,\n",
       "         9.98160183e-01, 2.62846722e-08, 1.28933642e-09, 8.87227791e-10,\n",
       "         1.90977914e-10, 1.32360733e-10, 2.02751469e-08, 9.47589576e-12,\n",
       "         2.09323581e-08, 7.26141760e-12, 1.83941214e-03, 4.58226122e-12,\n",
       "         3.70667108e-11, 2.79001640e-08, 1.13571808e-11, 4.80603113e-10,\n",
       "         4.78806578e-12, 8.81113777e-08, 2.39475904e-11, 1.25814434e-08],\n",
       "        [5.37287229e-14, 1.00000000e+00, 2.07682280e-14, 1.71747534e-15,\n",
       "         8.66111165e-13, 3.54938103e-15, 2.23101342e-15, 3.63780491e-14,\n",
       "         1.81235485e-12, 2.36254142e-14, 1.48068135e-14, 3.35113827e-13,\n",
       "         2.69086186e-13, 1.29651118e-13, 3.40081921e-11, 1.73413786e-15,\n",
       "         1.49721190e-11, 1.28111912e-15, 1.37239144e-08, 6.85634313e-16,\n",
       "         1.86189256e-15, 8.50137018e-13, 1.45027573e-15, 7.11326527e-12,\n",
       "         3.60255183e-16, 2.18462488e-12, 3.57274601e-15, 1.74510827e-14],\n",
       "        [2.39460317e-17, 1.00000000e+00, 1.00817713e-16, 3.35913712e-17,\n",
       "         1.79847795e-15, 2.02247446e-17, 4.52732079e-18, 3.55583161e-15,\n",
       "         9.28983670e-13, 4.24548894e-17, 3.14531788e-17, 7.64082062e-14,\n",
       "         3.57485936e-15, 3.71627103e-16, 5.57765584e-16, 7.14378158e-18,\n",
       "         1.35738778e-13, 4.10343953e-18, 2.86597343e-11, 4.28103769e-18,\n",
       "         6.20999095e-17, 5.51581384e-14, 7.33867774e-18, 1.71661730e-15,\n",
       "         2.31401460e-18, 4.02894694e-15, 1.68901579e-17, 7.24931793e-15],\n",
       "        [1.27345134e-09, 4.85777853e-08, 2.72432246e-08, 8.32116754e-12,\n",
       "         9.42193656e-10, 4.11775475e-11, 4.49755649e-11, 7.91516097e-09,\n",
       "         6.10655582e-10, 9.99999881e-01, 2.99213831e-09, 4.64526195e-09,\n",
       "         6.73539446e-09, 1.47579582e-09, 7.83237808e-10, 9.00260144e-11,\n",
       "         1.36478464e-08, 3.48754810e-11, 9.74337979e-08, 2.31760028e-11,\n",
       "         1.01194456e-10, 2.05102757e-09, 4.52383166e-11, 8.66502781e-09,\n",
       "         2.27671770e-11, 1.98151037e-10, 3.71723728e-11, 3.79473075e-09],\n",
       "        [1.07576648e-09, 1.03445643e-08, 1.22016852e-09, 6.55047849e-10,\n",
       "         4.53371590e-10, 1.54347785e-11, 7.00426566e-12, 1.38615383e-10,\n",
       "         1.99152084e-10, 5.97685368e-09, 1.71498371e-08, 8.13139278e-10,\n",
       "         3.90668088e-11, 9.99999881e-01, 3.92609667e-10, 4.23525191e-12,\n",
       "         7.81675280e-10, 8.76464786e-12, 1.29646863e-10, 3.75575526e-12,\n",
       "         4.07315781e-08, 3.22626058e-11, 6.14735780e-12, 1.27741831e-10,\n",
       "         4.02947554e-12, 1.96971706e-09, 8.38045085e-12, 8.18159596e-10],\n",
       "        [2.54595882e-08, 9.99559700e-01, 1.07612912e-07, 2.53106327e-06,\n",
       "         7.40685913e-09, 3.37652750e-09, 2.15213403e-09, 2.56592703e-08,\n",
       "         2.90224609e-08, 4.63045744e-08, 2.91734352e-07, 7.47280495e-08,\n",
       "         8.39123473e-08, 3.42125895e-05, 3.94186383e-04, 1.88308791e-09,\n",
       "         1.71205420e-06, 1.75308978e-09, 1.30194803e-06, 1.29203115e-09,\n",
       "         7.69281314e-07, 1.91296795e-06, 1.81876081e-09, 2.31336480e-06,\n",
       "         8.05713607e-10, 6.15202055e-07, 2.45708764e-09, 1.68127386e-07],\n",
       "        [2.21975105e-09, 6.70274503e-08, 4.73404043e-06, 9.11355436e-11,\n",
       "         4.98691977e-09, 4.61217120e-10, 3.61378788e-10, 2.79684986e-08,\n",
       "         1.36034348e-08, 9.99994397e-01, 1.18341802e-07, 1.98339706e-07,\n",
       "         1.74907928e-08, 7.49034257e-08, 4.33225678e-09, 8.73098760e-10,\n",
       "         5.86997047e-08, 3.26391358e-10, 1.66052672e-07, 2.59308741e-10,\n",
       "         1.96337080e-09, 1.39433602e-08, 4.88294016e-10, 1.67517342e-08,\n",
       "         2.57421834e-10, 1.90171989e-09, 4.53125315e-10, 3.25117959e-08],\n",
       "        [1.60668790e-07, 2.45714735e-04, 1.89906011e-08, 8.18120363e-11,\n",
       "         1.65056736e-05, 1.79771448e-10, 1.22814883e-10, 3.38279099e-10,\n",
       "         9.00035033e-08, 1.82765003e-08, 1.55584360e-07, 7.11659141e-08,\n",
       "         4.32323233e-10, 1.13066180e-05, 2.82764006e-07, 2.19283064e-10,\n",
       "         1.74390262e-08, 2.06901468e-10, 6.28498420e-02, 8.65621672e-11,\n",
       "         3.56491547e-09, 1.54419222e-09, 9.95752578e-11, 7.47998730e-09,\n",
       "         4.56073998e-11, 9.36875820e-01, 4.50183418e-10, 4.47461401e-09],\n",
       "        [4.46879370e-14, 5.28287588e-15, 1.76096098e-17, 1.31853367e-14,\n",
       "         1.00000000e+00, 7.94987901e-18, 2.11148026e-18, 1.73009014e-12,\n",
       "         4.71464891e-15, 9.02318225e-18, 7.13331168e-14, 2.31308055e-13,\n",
       "         2.78926811e-16, 1.04731219e-14, 5.09300298e-17, 4.72333613e-18,\n",
       "         3.45832266e-15, 4.04940313e-18, 1.20165154e-11, 4.84141947e-18,\n",
       "         1.05461776e-12, 5.51896811e-15, 5.22018547e-18, 2.53687750e-13,\n",
       "         2.02863191e-18, 1.00888272e-13, 9.84844711e-18, 1.28309635e-13],\n",
       "        [1.30732362e-16, 1.52652543e-12, 7.80854602e-13, 4.00011275e-14,\n",
       "         1.88244114e-13, 8.92439737e-16, 7.32039966e-16, 4.43800236e-14,\n",
       "         1.25097438e-15, 1.96796230e-14, 2.01799352e-13, 1.00000000e+00,\n",
       "         5.06705788e-12, 1.02626864e-13, 1.41711538e-11, 1.09940017e-15,\n",
       "         3.29132273e-12, 7.70988182e-16, 1.62405286e-14, 7.89503475e-16,\n",
       "         1.07233551e-16, 5.98578329e-14, 6.11983051e-16, 2.39303525e-11,\n",
       "         5.61054031e-16, 8.59516939e-13, 6.66753737e-16, 3.46087308e-13],\n",
       "        [1.00000000e+00, 9.78315085e-13, 1.13160588e-12, 3.55238489e-13,\n",
       "         4.03950484e-11, 7.74268921e-15, 3.08953701e-15, 3.12853693e-12,\n",
       "         5.91153510e-14, 1.72766315e-12, 3.88509618e-14, 1.29203492e-14,\n",
       "         5.36779995e-11, 6.90141217e-12, 5.63182042e-13, 6.17602511e-15,\n",
       "         6.70270853e-11, 7.02705775e-15, 4.24571667e-09, 4.98894020e-15,\n",
       "         9.05462974e-14, 2.24562599e-12, 5.36205864e-15, 6.09865565e-13,\n",
       "         2.00643132e-15, 1.31072692e-12, 7.44538996e-15, 1.22838048e-14]],\n",
       "       dtype=float32)]"
      ]
     },
     "execution_count": 71,
     "metadata": {},
     "output_type": "execute_result"
    }
   ],
   "source": [
    "coarse_predicts = []\n",
    "targets = []\n",
    "model_coarse.to(device)\n",
    "model_coarse.eval()\n",
    "for counter, (images, labels) in enumerate(test_batch_dl):\n",
    "    imageGPU = images.to(device)\n",
    "    outputs = torch.Tensor.cpu(model_coarse(imageGPU))\n",
    "    coarse_predicts.append(outputs.detach().numpy())\n",
    "    targets.append(labels)\n",
    "targets = np.hstack(targets)\n",
    "coarse_predicts"
   ]
  },
  {
   "cell_type": "code",
   "execution_count": 77,
   "metadata": {},
   "outputs": [],
   "source": [
    "#reformat coarse prediction\n",
    "coarse_prediction = np.vstack(coarse_predicts)\n",
    "\n",
    "column_num = 0\n",
    "for i in range(0, number_of_clusters):\n",
    "    cluster_len = len(coarse_to_fine[i])\n",
    "    for rep in range(cluster_len-1):\n",
    "        coarse_prediction = np.insert(coarse_prediction, column_num, coarse_prediction[:,column_num], axis=1)\n",
    "    column_num +=cluster_len"
   ]
  },
  {
   "cell_type": "code",
   "execution_count": 83,
   "metadata": {},
   "outputs": [
    {
     "name": "stdout",
     "output_type": "stream",
     "text": [
      "0\n"
     ]
    },
    {
     "name": "stderr",
     "output_type": "stream",
     "text": [
      "/home/transmedia-eg/test_env/lib/python3.6/site-packages/ipykernel_launcher.py:14: UserWarning: Implicit dimension choice for softmax has been deprecated. Change the call to include dim=X as an argument.\n",
      "  \n"
     ]
    },
    {
     "name": "stdout",
     "output_type": "stream",
     "text": [
      "1\n",
      "2\n",
      "3\n",
      "4\n",
      "7\n",
      "8\n",
      "9\n",
      "10\n",
      "11\n",
      "12\n",
      "13\n",
      "14\n",
      "15\n",
      "16\n",
      "18\n",
      "21\n",
      "23\n",
      "25\n",
      "27\n"
     ]
    }
   ],
   "source": [
    "fine_prediction= []\n",
    "\n",
    "for i in range(0,number_of_clusters):\n",
    "    if len(coarse_to_fine[i]) == 1:\n",
    "        fine_prediction.append(np.ones((len(coarse_prediction),1)))\n",
    "    else:\n",
    "        predicts = []\n",
    "        print(\"Evaluating fine model %s\" %i)\n",
    "        fine_model = fine_models['fine_model_%s' %i]\n",
    "        fine_model.to(device)\n",
    "        fine_model.eval()\n",
    "        for counter, (images, labels) in enumerate(test_batch_dl):\n",
    "            imageGPU = images.to(device)\n",
    "            outputs = torch.Tensor.cpu(fine_model(imageGPU))\n",
    "            predicts.append(outputs.detach().numpy())   \n",
    "        predicts = np.vstack(predicts)\n",
    "        fine_prediction.append(predicts)"
   ]
  },
  {
   "cell_type": "code",
   "execution_count": 84,
   "metadata": {},
   "outputs": [],
   "source": [
    "#reformat fine_prediction\n",
    "fine_prediction = np.hstack(fine_prediction)\n",
    "result = np.multiply(fine_prediction, coarse_prediction)\n",
    "result = np.argmax(result, axis=1)\n",
    "result_decoded = [stacked_fine_labels[i] for i in result]\n",
    "final_acc = accuracy_score(targets, result_decoded) \n",
    "print(\"overall accuracy is %s\" %final_acc)"
   ]
  },
  {
   "cell_type": "code",
   "execution_count": 85,
   "metadata": {},
   "outputs": [
    {
     "data": {
      "text/plain": [
       "0.6788"
      ]
     },
     "execution_count": 85,
     "metadata": {},
     "output_type": "execute_result"
    }
   ],
   "source": [
    "accuracy_score(targets, result_decoded)"
   ]
  },
  {
   "cell_type": "code",
   "execution_count": null,
   "metadata": {},
   "outputs": [],
   "source": []
  },
  {
   "cell_type": "code",
   "execution_count": null,
   "metadata": {},
   "outputs": [],
   "source": []
  },
  {
   "cell_type": "code",
   "execution_count": null,
   "metadata": {},
   "outputs": [],
   "source": []
  },
  {
   "cell_type": "code",
   "execution_count": null,
   "metadata": {},
   "outputs": [],
   "source": []
  }
 ],
 "metadata": {
  "kernelspec": {
   "display_name": "Python 3",
   "language": "python",
   "name": "python3"
  },
  "language_info": {
   "codemirror_mode": {
    "name": "ipython",
    "version": 3
   },
   "file_extension": ".py",
   "mimetype": "text/x-python",
   "name": "python",
   "nbconvert_exporter": "python",
   "pygments_lexer": "ipython3",
   "version": "3.6.9"
  }
 },
 "nbformat": 4,
 "nbformat_minor": 4
}
