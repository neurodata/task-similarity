{
 "cells": [
  {
   "cell_type": "code",
   "execution_count": 1,
   "id": "quiet-disaster",
   "metadata": {},
   "outputs": [],
   "source": [
    "%matplotlib inline\n",
    "import numpy as np\n",
    "import sklearn\n",
    "import pandas as pd\n",
    "from PIL import Image\n",
    "from matplotlib import pyplot as plt\n",
    "import matplotlib\n",
    "import torchvision\n",
    "import torch\n",
    "import os\n",
    "import random\n",
    "from tqdm import tqdm\n",
    "from sklearn.metrics import roc_auc_score, roc_curve, plot_roc_curve, auc, accuracy_score, f1_score\n",
    "from sklearn.model_selection import train_test_split\n",
    "from collections import defaultdict\n",
    "from pathlib import Path\n",
    "import gc\n",
    "import pickle\n",
    "import torch.utils.data as data_utils\n",
    "from torch.utils.data import DataLoader\n",
    "from tasksim import *\n",
    "from graspologic.embed import AdjacencySpectralEmbed as ASE\n",
    "from graspologic.cluster import GaussianCluster as GMM\n",
    "from sklearn.metrics import adjusted_rand_score as ARI\n",
    "from sklearn.decomposition import PCA\n",
    "import seaborn as sns\n",
    "sns.set()\n",
    "\n",
    "from joblib import Parallel, delayed\n",
    "import time\n",
    "\n",
    "\n",
    "matplotlib.style.use('ggplot')"
   ]
  },
  {
   "cell_type": "code",
   "execution_count": 50,
   "id": "trained-handbook",
   "metadata": {},
   "outputs": [],
   "source": [
    "def stratified_sample(y, p=0.67, replace=False, seed=1234):\n",
    "    unique_y, counts = np.unique(y, return_counts=True)\n",
    "    n_per_class = np.array([int(np.math.floor(p*c)) for c in counts])\n",
    "    n_per_class = np.array([max([npc, 1]) for npc in n_per_class])\n",
    "    np.random.seed(seed)\n",
    "    \n",
    "    inds = [np.random.choice(np.where(y == unique_y[i])[0], size=npc, replace=replace) for i, npc in enumerate(n_per_class)]\n",
    "    \n",
    "    return np.concatenate(inds)\n",
    "\n",
    "def split_data(df, p=0.67):\n",
    "    '''\n",
    "    Splits dataframe into two dataframes using p value as a proportion. \n",
    "    Make sure that all classes are present.\n",
    "    \n",
    "    Parameters:\n",
    "    df: pandas DataFrame, a dataframe to split that has a 'label' column\n",
    "    p: float, a proprotion in which the dataframe should be splitted\n",
    "    \n",
    "    Returns:\n",
    "    df_1: pandas DataFrame, a dataframe with the first portion of data that is equivalent to p value\n",
    "    df_2: pandas DataFrame, rest of the data\n",
    "    \n",
    "    '''\n",
    "    main_label_list = df['label'].tolist()\n",
    "    ind_list = stratified_sample(main_label_list, p)\n",
    "    df_1 = df[df.index.isin(ind_list)].sample(frac=1).reset_index(drop=True)\n",
    "    df_2 = df[~df.index.isin(ind_list)].sample(frac=1).reset_index(drop=True)\n",
    "    \n",
    "    return df_1, df_2\n",
    "\n",
    "class IconDataset(torch.utils.data.Dataset):\n",
    "    def __init__(self, df, transform, data_root, run, noise_str):\n",
    "        self.class_names = df['class'].unique().tolist()\n",
    "        self.image_dir = data_root\n",
    "        self.transform = transform\n",
    "        self.total = len(df)\n",
    "        self.image_names = df['image_path'].to_list()\n",
    "        self.labels = df['label'].to_numpy() if noise_str=='00' else df['%s_%s' %(noise_str, run)].to_numpy()\n",
    "        self.targets = self.labels\n",
    "                    \n",
    "    def __len__(self):\n",
    "        return self.total\n",
    "    \n",
    "    def __getitem__(self, idx):\n",
    "        image_name = self.image_names[idx]\n",
    "        image_path = os.path.join(self.image_dir, image_name)\n",
    "        image = self.transform(Image.open(image_path).convert('RGB'))\n",
    "        label = self.labels[idx]\n",
    "        target = self.labels[idx]\n",
    "        return image, label\n",
    "\n",
    "    \n",
    "image_size = (128, 128)\n",
    "resnet_mean = [0.485, 0.456, 0.406]\n",
    "resnet_std = [0.229, 0.224, 0.225]\n",
    "\n",
    "#Creating a Transformation Object\n",
    "train_transform = torchvision.transforms.Compose([\n",
    "    #Converting images to the size that the model expects\n",
    "    torchvision.transforms.Resize(size=image_size),\n",
    "    torchvision.transforms.RandomHorizontalFlip(), #A RandomHorizontalFlip to augment our data\n",
    "    torchvision.transforms.ToTensor(), #Converting to tensor\n",
    "    #Normalizing the data to the data that the ResNet18 was trained on\n",
    "    torchvision.transforms.Normalize(mean = resnet_mean ,\n",
    "                                    std = resnet_std) \n",
    "    \n",
    "])\n",
    "\n",
    "\n",
    "#Creating a Transformation Object\n",
    "test_transform = torchvision.transforms.Compose([\n",
    "    #Converting images to the size that the model expects\n",
    "    torchvision.transforms.Resize(size=image_size),\n",
    "    # We don't do data augmentation in the test/val set    \n",
    "    torchvision.transforms.ToTensor(), #Converting to tensor\n",
    "    torchvision.transforms.Normalize(mean = resnet_mean,\n",
    "                                    std = resnet_std) \n",
    "    \n",
    "])\n",
    "\n",
    "#build model using Resnext50 as backbone\n",
    "class Resnext50(torch.nn.Module):\n",
    "    def __init__(self, n_classes, name):\n",
    "        super().__init__()\n",
    "        self.name = name\n",
    "        resnet = torchvision.models.resnext50_32x4d(pretrained=True, progress=True)\n",
    "        resnet.fc = torch.nn.Sequential(\n",
    "            torch.nn.Dropout(p=0.2),\n",
    "            torch.nn.Linear(in_features=resnet.fc.in_features, out_features=n_classes)\n",
    "        )\n",
    "        self.base_model = resnet\n",
    "        self.soft = torch.nn.Softmax(dim=1)\n",
    "\n",
    "    def forward(self, x):\n",
    "        return self.soft(self.base_model(x))\n",
    "\n",
    "def train_loop(dataloader, model, loss_fn, optimizer, mode=\"flat\", lookup=[], fine_to_coarse={}, \n",
    "               batch_size=64):\n",
    "    size = len(dataloader.dataset)\n",
    "    model.train()\n",
    "    train_loss = 0\n",
    "    counter = 0\n",
    "    with tqdm(dataloader, unit=\"batch\") as tepoch:\n",
    "        for X_cpu, y_cpu in tepoch:\n",
    "            counter += 1\n",
    "            if mode == \"fine\":\n",
    "                y_cpu = torch.tensor([lookup.index(i) for i in y_cpu])\n",
    "            elif mode == \"coarse\":\n",
    "                y_cpu = torch.tensor([fine_to_coarse[int(target)] for target in y_cpu])\n",
    "            X, y = X_cpu.to(device), y_cpu.to(device)\n",
    "            optimizer.zero_grad()\n",
    "            outputs = model(X)\n",
    "            loss = loss_fn(outputs, y.type(torch.long))\n",
    "            loss.backward() \n",
    "            optimizer.step() \n",
    "            train_loss += loss.item() \n",
    "            avg_loss = train_loss / counter\n",
    "            tepoch.set_postfix(loss=avg_loss)\n",
    "    return avg_loss\n",
    "    \n",
    "    \n",
    "def eval_model(dataloader, model, loss_fn, mode=\"flat\", lookup=[], fine_to_coarse={}, \n",
    "               return_probab=False, batch_size=64):\n",
    "    model.eval()\n",
    "    predicts = []\n",
    "    targets = []\n",
    "    val_running_loss = 0.0\n",
    "    \n",
    "    for counter, (images, labels) in enumerate(dataloader):\n",
    "        if mode == \"fine\":\n",
    "            labels = torch.tensor([lookup.index(i) for i in labels])\n",
    "        elif mode == \"coarse\":\n",
    "            labels = torch.tensor([fine_to_coarse[int(i)] for i in labels])\n",
    "        else:\n",
    "            labels = torch.tensor(labels)\n",
    "        imageGPU = images.to(device)\n",
    "        \n",
    "        outputs = torch.Tensor.cpu(model(imageGPU))\n",
    "        loss = loss_fn(outputs, labels.type(torch.long))\n",
    "        val_running_loss += loss.item()\n",
    "        predicts.append(outputs.detach().numpy())\n",
    "        targets.append(labels)\n",
    "    val_loss = val_running_loss / counter  \n",
    "    predicts = np.vstack(predicts)\n",
    "    targets = np.hstack(targets)\n",
    "    if return_probab:\n",
    "        return predicts, targets\n",
    "    else:\n",
    "        predicts = np.argmax(predicts, axis=1)\n",
    "        return val_loss, accuracy_score(targets, predicts)\n",
    "\n",
    "    \n",
    "\n",
    "def train_and_validate(epochs, model, loss_fn, optimizer, train_dl, test_dl, val_dl,\n",
    "                       mode=\"flat\", fine_to_coarse={}, coarse_label=None, lookup=[], \n",
    "                       model_path = None):\n",
    "\n",
    "    early_stopping=EarlyStopping()\n",
    "    #lr_scheduler = LRScheduler(optimizer)\n",
    "    \n",
    "    if model_path is None:\n",
    "        model_path = '/models/%s.pth' %model.name\n",
    "    min_loss= 1000\n",
    "    max_acc = 0\n",
    "    train_loss= []\n",
    "    val_loss, val_accuracy = [], []\n",
    "    for t in range(epochs):\n",
    "        if mode == \"fine\":\n",
    "            print(f\"Coarse label {coarse_label} Epoch {t+1}\\n-------------------------------\")\n",
    "        else:\n",
    "            print(f\"Epoch {t+1}\\n-------------------------------\")\n",
    "        train_epoch_loss = train_loop(train_dl, model, loss_fn, optimizer, mode=mode, fine_to_coarse=fine_to_coarse, lookup=lookup)\n",
    "        val_epoch_loss, val_epoch_acc = eval_model(val_dl, model,loss_fn, mode=mode, fine_to_coarse=fine_to_coarse, lookup=lookup)\n",
    "        \n",
    "        train_loss.append(train_epoch_loss)\n",
    "        val_loss.append(val_epoch_loss)\n",
    "        val_accuracy.append(val_epoch_acc)\n",
    "        if val_epoch_loss < min_loss:\n",
    "            max_acc = val_epoch_acc\n",
    "            min_loss = val_epoch_loss\n",
    "            torch.save(model.state_dict(), model_path)\n",
    "        elif val_epoch_acc>max_acc:\n",
    "            max_acc = val_epoch_acc\n",
    "            torch.save(model.state_dict(), model_path)\n",
    "        early_stopping(val_epoch_loss)\n",
    "        if early_stopping.early_stop:\n",
    "            break\n",
    "        print(\"train loss %s, validation loss %s, validation accuracy %s\" %(train_epoch_loss, \n",
    "                                                                            val_epoch_loss, \n",
    "                                                                            val_epoch_acc))\n",
    "    test_loss, test_acc = eval_model(test_dl, model, loss_fn, mode=mode, fine_to_coarse=fine_to_coarse, lookup=lookup)\n",
    "    print(\"Done! Saved model with test accuracy %s and loss %s\" %(test_acc, test_loss))\n",
    "    # accuracy plots\n",
    "    plt.figure(figsize=(10, 7))\n",
    "    plt.plot(val_accuracy, color='blue', label='validation accuracy')\n",
    "    plt.xlabel('Epochs')\n",
    "    plt.ylabel('Accuracy')\n",
    "    plt.legend()\n",
    "    plt.savefig(f\"models/validationAccuracy{model.name}.png\")\n",
    "    plt.show()\n",
    "    # loss plots\n",
    "    plt.figure(figsize=(10, 7))\n",
    "    plt.plot(train_loss, color='orange', label='train loss')\n",
    "    plt.plot(val_loss, color='red', label='validation loss')\n",
    "    plt.xlabel('Epochs')\n",
    "    plt.ylabel('Loss')\n",
    "    plt.legend()\n",
    "    plt.savefig(f\"models/losses{model.name}.png\")\n",
    "    plt.show()\n",
    "    \n",
    "    return  test_acc\n"
   ]
  },
  {
   "cell_type": "code",
   "execution_count": 3,
   "id": "disabled-kingdom",
   "metadata": {},
   "outputs": [],
   "source": [
    "class EarlyStopping():\n",
    "    \"\"\"\n",
    "    Early stopping to stop the training when the loss does not improve after\n",
    "    certain epochs.\n",
    "    \"\"\"\n",
    "    def __init__(self, patience=5, min_delta=0):\n",
    "        \"\"\"\n",
    "        :param patience: how many epochs to wait before stopping when loss is\n",
    "               not improving\n",
    "        :param min_delta: minimum difference between new loss and old loss for\n",
    "               new loss to be considered as an improvement\n",
    "        \"\"\"\n",
    "        self.patience = patience\n",
    "        self.min_delta = min_delta\n",
    "        self.counter = 0\n",
    "        self.best_loss = None\n",
    "        self.early_stop = False\n",
    "    def __call__(self, val_loss):\n",
    "        if self.best_loss == None:\n",
    "            self.best_loss = val_loss\n",
    "        elif self.best_loss - val_loss > self.min_delta:\n",
    "            self.best_loss = val_loss\n",
    "        elif self.best_loss - val_loss < self.min_delta:\n",
    "            self.counter += 1\n",
    "            print(f\"INFO: Early stopping counter {self.counter} of {self.patience}\")\n",
    "            if self.counter >= self.patience:\n",
    "                print('INFO: Early stopping')\n",
    "                self.early_stop = True"
   ]
  },
  {
   "cell_type": "code",
   "execution_count": 45,
   "id": "super-curtis",
   "metadata": {},
   "outputs": [],
   "source": [
    "seeds = [1234,6265, 2403, 941,2225]\n",
    "\n",
    "#learning rate is the same for all models\n",
    "learning_rate = 1e-4 \n",
    "\n",
    "label_noises = [0.1, 0.2, 0.3, 0.5, 0.8]#[0.0, 0.1, 0.2, 0.3, 0.5, 0.8]\n",
    "fine_tuned_model_path = '../../../teamdrive/transmediasp/kate/models/icons_fine_tuned_model.pth'"
   ]
  },
  {
   "cell_type": "code",
   "execution_count": 13,
   "id": "confirmed-fields",
   "metadata": {},
   "outputs": [
    {
     "data": {
      "text/html": [
       "<div>\n",
       "<style scoped>\n",
       "    .dataframe tbody tr th:only-of-type {\n",
       "        vertical-align: middle;\n",
       "    }\n",
       "\n",
       "    .dataframe tbody tr th {\n",
       "        vertical-align: top;\n",
       "    }\n",
       "\n",
       "    .dataframe thead th {\n",
       "        text-align: right;\n",
       "    }\n",
       "</style>\n",
       "<table border=\"1\" class=\"dataframe\">\n",
       "  <thead>\n",
       "    <tr style=\"text-align: right;\">\n",
       "      <th></th>\n",
       "      <th>image_path</th>\n",
       "      <th>class</th>\n",
       "      <th>label</th>\n",
       "      <th>split</th>\n",
       "      <th>10_0</th>\n",
       "      <th>10_1</th>\n",
       "      <th>10_2</th>\n",
       "      <th>10_3</th>\n",
       "      <th>10_4</th>\n",
       "      <th>20_0</th>\n",
       "      <th>...</th>\n",
       "      <th>split_80_0</th>\n",
       "      <th>split_80_1</th>\n",
       "      <th>split_80_2</th>\n",
       "      <th>split_80_3</th>\n",
       "      <th>split_80_4</th>\n",
       "      <th>split_90_0</th>\n",
       "      <th>split_90_1</th>\n",
       "      <th>split_90_2</th>\n",
       "      <th>split_90_3</th>\n",
       "      <th>split_90_4</th>\n",
       "    </tr>\n",
       "  </thead>\n",
       "  <tbody>\n",
       "    <tr>\n",
       "      <th>0</th>\n",
       "      <td>../../../data/testdotai/close/_e4530e1aae88750...</td>\n",
       "      <td>close</td>\n",
       "      <td>0</td>\n",
       "      <td>main</td>\n",
       "      <td>0</td>\n",
       "      <td>0</td>\n",
       "      <td>0</td>\n",
       "      <td>36</td>\n",
       "      <td>0</td>\n",
       "      <td>90</td>\n",
       "      <td>...</td>\n",
       "      <td>main</td>\n",
       "      <td>main</td>\n",
       "      <td>test</td>\n",
       "      <td>main</td>\n",
       "      <td>test</td>\n",
       "      <td>main</td>\n",
       "      <td>main</td>\n",
       "      <td>main</td>\n",
       "      <td>test</td>\n",
       "      <td>main</td>\n",
       "    </tr>\n",
       "    <tr>\n",
       "      <th>1</th>\n",
       "      <td>../../../data/testdotai/close/~02a0c54fd8374b4...</td>\n",
       "      <td>close</td>\n",
       "      <td>0</td>\n",
       "      <td>main</td>\n",
       "      <td>0</td>\n",
       "      <td>0</td>\n",
       "      <td>0</td>\n",
       "      <td>0</td>\n",
       "      <td>0</td>\n",
       "      <td>48</td>\n",
       "      <td>...</td>\n",
       "      <td>main</td>\n",
       "      <td>test</td>\n",
       "      <td>main</td>\n",
       "      <td>main</td>\n",
       "      <td>main</td>\n",
       "      <td>main</td>\n",
       "      <td>main</td>\n",
       "      <td>main</td>\n",
       "      <td>main</td>\n",
       "      <td>test</td>\n",
       "    </tr>\n",
       "    <tr>\n",
       "      <th>2</th>\n",
       "      <td>../../../data/testdotai/close/_10099f88fd8333f...</td>\n",
       "      <td>close</td>\n",
       "      <td>0</td>\n",
       "      <td>main</td>\n",
       "      <td>0</td>\n",
       "      <td>0</td>\n",
       "      <td>0</td>\n",
       "      <td>0</td>\n",
       "      <td>0</td>\n",
       "      <td>0</td>\n",
       "      <td>...</td>\n",
       "      <td>main</td>\n",
       "      <td>main</td>\n",
       "      <td>main</td>\n",
       "      <td>main</td>\n",
       "      <td>main</td>\n",
       "      <td>test</td>\n",
       "      <td>main</td>\n",
       "      <td>main</td>\n",
       "      <td>test</td>\n",
       "      <td>main</td>\n",
       "    </tr>\n",
       "    <tr>\n",
       "      <th>3</th>\n",
       "      <td>../../../data/testdotai/close/_bcd740021f1a62a...</td>\n",
       "      <td>close</td>\n",
       "      <td>0</td>\n",
       "      <td>main</td>\n",
       "      <td>0</td>\n",
       "      <td>0</td>\n",
       "      <td>0</td>\n",
       "      <td>0</td>\n",
       "      <td>0</td>\n",
       "      <td>0</td>\n",
       "      <td>...</td>\n",
       "      <td>test</td>\n",
       "      <td>main</td>\n",
       "      <td>main</td>\n",
       "      <td>main</td>\n",
       "      <td>main</td>\n",
       "      <td>main</td>\n",
       "      <td>test</td>\n",
       "      <td>test</td>\n",
       "      <td>test</td>\n",
       "      <td>main</td>\n",
       "    </tr>\n",
       "    <tr>\n",
       "      <th>4</th>\n",
       "      <td>../../../data/testdotai/close/_047b3f69c7c53b8...</td>\n",
       "      <td>close</td>\n",
       "      <td>0</td>\n",
       "      <td>main</td>\n",
       "      <td>0</td>\n",
       "      <td>0</td>\n",
       "      <td>0</td>\n",
       "      <td>0</td>\n",
       "      <td>0</td>\n",
       "      <td>0</td>\n",
       "      <td>...</td>\n",
       "      <td>main</td>\n",
       "      <td>test</td>\n",
       "      <td>main</td>\n",
       "      <td>main</td>\n",
       "      <td>main</td>\n",
       "      <td>test</td>\n",
       "      <td>main</td>\n",
       "      <td>main</td>\n",
       "      <td>test</td>\n",
       "      <td>main</td>\n",
       "    </tr>\n",
       "  </tbody>\n",
       "</table>\n",
       "<p>5 rows × 94 columns</p>\n",
       "</div>"
      ],
      "text/plain": [
       "                                          image_path  class  label split  \\\n",
       "0  ../../../data/testdotai/close/_e4530e1aae88750...  close      0  main   \n",
       "1  ../../../data/testdotai/close/~02a0c54fd8374b4...  close      0  main   \n",
       "2  ../../../data/testdotai/close/_10099f88fd8333f...  close      0  main   \n",
       "3  ../../../data/testdotai/close/_bcd740021f1a62a...  close      0  main   \n",
       "4  ../../../data/testdotai/close/_047b3f69c7c53b8...  close      0  main   \n",
       "\n",
       "   10_0  10_1  10_2  10_3  10_4  20_0  ...  split_80_0  split_80_1  \\\n",
       "0     0     0     0    36     0    90  ...        main        main   \n",
       "1     0     0     0     0     0    48  ...        main        test   \n",
       "2     0     0     0     0     0     0  ...        main        main   \n",
       "3     0     0     0     0     0     0  ...        test        main   \n",
       "4     0     0     0     0     0     0  ...        main        test   \n",
       "\n",
       "   split_80_2  split_80_3  split_80_4  split_90_0  split_90_1  split_90_2  \\\n",
       "0        test        main        test        main        main        main   \n",
       "1        main        main        main        main        main        main   \n",
       "2        main        main        main        test        main        main   \n",
       "3        main        main        main        main        test        test   \n",
       "4        main        main        main        test        main        main   \n",
       "\n",
       "   split_90_3  split_90_4  \n",
       "0        test        main  \n",
       "1        main        test  \n",
       "2        test        main  \n",
       "3        test        main  \n",
       "4        test        main  \n",
       "\n",
       "[5 rows x 94 columns]"
      ]
     },
     "execution_count": 13,
     "metadata": {},
     "output_type": "execute_result"
    }
   ],
   "source": [
    "#load dataframe with labels\n",
    "df = pd.read_csv('../../../teamdrive/transmediasp/kate/hierarchy/label_noise_data_frame_with_splits.csv', index_col=0)\n",
    "del df['Unnamed: 0.1']\n",
    "\n",
    "n_classes = len(df['class'].unique())\n",
    "df.head(5)"
   ]
  },
  {
   "cell_type": "code",
   "execution_count": 15,
   "id": "closed-observation",
   "metadata": {},
   "outputs": [],
   "source": [
    "torch.cuda.is_available()\n",
    "\n",
    "if torch.cuda.is_available():  \n",
    "    dev = \"cuda:0\" \n",
    "else:  \n",
    "    dev = \"cpu\"  \n",
    "    \n",
    "device = torch.device(dev)  "
   ]
  },
  {
   "cell_type": "code",
   "execution_count": 53,
   "id": "classical-girlfriend",
   "metadata": {},
   "outputs": [],
   "source": [
    "#create a dictionary to save results in\n",
    "flat_accuracies = defaultdict()"
   ]
  },
  {
   "cell_type": "code",
   "execution_count": null,
   "id": "dated-feeling",
   "metadata": {},
   "outputs": [
    {
     "name": "stdout",
     "output_type": "stream",
     "text": [
      "Epoch 1\n",
      "-------------------------------\n"
     ]
    },
    {
     "name": "stderr",
     "output_type": "stream",
     "text": [
      "100%|██████████| 1462/1462 [11:46<00:00,  2.07batch/s, loss=4.12]\n",
      "/home/kalytv/test_env/lib/python3.7/site-packages/ipykernel_launcher.py:136: UserWarning: To copy construct from a tensor, it is recommended to use sourceTensor.clone().detach() or sourceTensor.clone().detach().requires_grad_(True), rather than torch.tensor(sourceTensor).\n"
     ]
    },
    {
     "name": "stdout",
     "output_type": "stream",
     "text": [
      "train loss 4.11916524946445, validation loss 4.047523968928569, validation accuracy 0.5514964170296474\n",
      "Epoch 2\n",
      "-------------------------------\n"
     ]
    },
    {
     "name": "stderr",
     "output_type": "stream",
     "text": [
      "100%|██████████| 1462/1462 [09:38<00:00,  2.53batch/s, loss=3.99]\n",
      "/home/kalytv/test_env/lib/python3.7/site-packages/ipykernel_launcher.py:136: UserWarning: To copy construct from a tensor, it is recommended to use sourceTensor.clone().detach() or sourceTensor.clone().detach().requires_grad_(True), rather than torch.tensor(sourceTensor).\n"
     ]
    },
    {
     "name": "stdout",
     "output_type": "stream",
     "text": [
      "train loss 3.9914527567238554, validation loss 4.031932240133887, validation accuracy 0.5649852465926655\n",
      "Epoch 3\n",
      "-------------------------------\n"
     ]
    },
    {
     "name": "stderr",
     "output_type": "stream",
     "text": [
      "100%|██████████| 1462/1462 [19:30<00:00,  1.25batch/s, loss=3.96]\n",
      "/home/kalytv/test_env/lib/python3.7/site-packages/ipykernel_launcher.py:136: UserWarning: To copy construct from a tensor, it is recommended to use sourceTensor.clone().detach() or sourceTensor.clone().detach().requires_grad_(True), rather than torch.tensor(sourceTensor).\n"
     ]
    },
    {
     "name": "stdout",
     "output_type": "stream",
     "text": [
      "train loss 3.963643507005089, validation loss 4.001726835697621, validation accuracy 0.595897147674582\n",
      "Epoch 4\n",
      "-------------------------------\n"
     ]
    },
    {
     "name": "stderr",
     "output_type": "stream",
     "text": [
      "100%|██████████| 1462/1462 [09:36<00:00,  2.54batch/s, loss=3.94]\n",
      "/home/kalytv/test_env/lib/python3.7/site-packages/ipykernel_launcher.py:136: UserWarning: To copy construct from a tensor, it is recommended to use sourceTensor.clone().detach() or sourceTensor.clone().detach().requires_grad_(True), rather than torch.tensor(sourceTensor).\n"
     ]
    },
    {
     "name": "stdout",
     "output_type": "stream",
     "text": [
      "train loss 3.938100913154769, validation loss 3.9817572305868336, validation accuracy 0.6158493747365463\n",
      "Epoch 5\n",
      "-------------------------------\n"
     ]
    },
    {
     "name": "stderr",
     "output_type": "stream",
     "text": [
      "100%|██████████| 1462/1462 [09:38<00:00,  2.53batch/s, loss=3.91]\n",
      "/home/kalytv/test_env/lib/python3.7/site-packages/ipykernel_launcher.py:136: UserWarning: To copy construct from a tensor, it is recommended to use sourceTensor.clone().detach() or sourceTensor.clone().detach().requires_grad_(True), rather than torch.tensor(sourceTensor).\n"
     ]
    },
    {
     "name": "stdout",
     "output_type": "stream",
     "text": [
      "train loss 3.9123609602532863, validation loss 3.9692363502743007, validation accuracy 0.6270900660390614\n",
      "Epoch 6\n",
      "-------------------------------\n"
     ]
    },
    {
     "name": "stderr",
     "output_type": "stream",
     "text": [
      "100%|██████████| 1462/1462 [11:40<00:00,  2.09batch/s, loss=3.9]\n",
      "/home/kalytv/test_env/lib/python3.7/site-packages/ipykernel_launcher.py:136: UserWarning: To copy construct from a tensor, it is recommended to use sourceTensor.clone().detach() or sourceTensor.clone().detach().requires_grad_(True), rather than torch.tensor(sourceTensor).\n"
     ]
    },
    {
     "name": "stdout",
     "output_type": "stream",
     "text": [
      "train loss 3.8977632533998396, validation loss 3.964154761116784, validation accuracy 0.6338344808205705\n",
      "Epoch 7\n",
      "-------------------------------\n"
     ]
    },
    {
     "name": "stderr",
     "output_type": "stream",
     "text": [
      "100%|██████████| 1462/1462 [11:18<00:00,  2.15batch/s, loss=3.89]\n",
      "/home/kalytv/test_env/lib/python3.7/site-packages/ipykernel_launcher.py:136: UserWarning: To copy construct from a tensor, it is recommended to use sourceTensor.clone().detach() or sourceTensor.clone().detach().requires_grad_(True), rather than torch.tensor(sourceTensor).\n"
     ]
    },
    {
     "name": "stdout",
     "output_type": "stream",
     "text": [
      "train loss 3.890989291358092, validation loss 3.9500879274832235, validation accuracy 0.6480258535899958\n",
      "Epoch 8\n",
      "-------------------------------\n"
     ]
    },
    {
     "name": "stderr",
     "output_type": "stream",
     "text": [
      "100%|██████████| 1462/1462 [15:29<00:00,  1.57batch/s, loss=3.88]\n",
      "/home/kalytv/test_env/lib/python3.7/site-packages/ipykernel_launcher.py:136: UserWarning: To copy construct from a tensor, it is recommended to use sourceTensor.clone().detach() or sourceTensor.clone().detach().requires_grad_(True), rather than torch.tensor(sourceTensor).\n"
     ]
    },
    {
     "name": "stdout",
     "output_type": "stream",
     "text": [
      "train loss 3.876217474689562, validation loss 3.9320263067881265, validation accuracy 0.664746381902487\n",
      "Epoch 9\n",
      "-------------------------------\n"
     ]
    },
    {
     "name": "stderr",
     "output_type": "stream",
     "text": [
      "100%|██████████| 1462/1462 [09:36<00:00,  2.54batch/s, loss=3.86]\n",
      "/home/kalytv/test_env/lib/python3.7/site-packages/ipykernel_launcher.py:136: UserWarning: To copy construct from a tensor, it is recommended to use sourceTensor.clone().detach() or sourceTensor.clone().detach().requires_grad_(True), rather than torch.tensor(sourceTensor).\n"
     ]
    },
    {
     "name": "stdout",
     "output_type": "stream",
     "text": [
      "train loss 3.8627686582087817, validation loss 3.9230087469289967, validation accuracy 0.6744414781509063\n",
      "Epoch 10\n",
      "-------------------------------\n"
     ]
    },
    {
     "name": "stderr",
     "output_type": "stream",
     "text": [
      "100%|██████████| 1462/1462 [09:37<00:00,  2.53batch/s, loss=3.86]\n",
      "/home/kalytv/test_env/lib/python3.7/site-packages/ipykernel_launcher.py:136: UserWarning: To copy construct from a tensor, it is recommended to use sourceTensor.clone().detach() or sourceTensor.clone().detach().requires_grad_(True), rather than torch.tensor(sourceTensor).\n"
     ]
    },
    {
     "name": "stdout",
     "output_type": "stream",
     "text": [
      "train loss 3.857411835653511, validation loss 3.9218906088992282, validation accuracy 0.6747224954334692\n",
      "Epoch 11\n",
      "-------------------------------\n"
     ]
    },
    {
     "name": "stderr",
     "output_type": "stream",
     "text": [
      "100%|██████████| 1462/1462 [11:38<00:00,  2.09batch/s, loss=3.85]\n",
      "/home/kalytv/test_env/lib/python3.7/site-packages/ipykernel_launcher.py:136: UserWarning: To copy construct from a tensor, it is recommended to use sourceTensor.clone().detach() or sourceTensor.clone().detach().requires_grad_(True), rather than torch.tensor(sourceTensor).\n"
     ]
    },
    {
     "name": "stdout",
     "output_type": "stream",
     "text": [
      "train loss 3.8544533220100665, validation loss 3.919584983103984, validation accuracy 0.6768301250526907\n",
      "Epoch 12\n",
      "-------------------------------\n"
     ]
    },
    {
     "name": "stderr",
     "output_type": "stream",
     "text": [
      "100%|██████████| 1462/1462 [14:20<00:00,  1.70batch/s, loss=3.85]\n",
      "/home/kalytv/test_env/lib/python3.7/site-packages/ipykernel_launcher.py:136: UserWarning: To copy construct from a tensor, it is recommended to use sourceTensor.clone().detach() or sourceTensor.clone().detach().requires_grad_(True), rather than torch.tensor(sourceTensor).\n"
     ]
    },
    {
     "name": "stdout",
     "output_type": "stream",
     "text": [
      "train loss 3.8478528425892464, validation loss 3.9141920665362933, validation accuracy 0.6823099620626668\n",
      "Epoch 13\n",
      "-------------------------------\n"
     ]
    },
    {
     "name": "stderr",
     "output_type": "stream",
     "text": [
      "100%|██████████| 1462/1462 [12:19<00:00,  1.98batch/s, loss=3.84]\n",
      "/home/kalytv/test_env/lib/python3.7/site-packages/ipykernel_launcher.py:136: UserWarning: To copy construct from a tensor, it is recommended to use sourceTensor.clone().detach() or sourceTensor.clone().detach().requires_grad_(True), rather than torch.tensor(sourceTensor).\n"
     ]
    },
    {
     "name": "stdout",
     "output_type": "stream",
     "text": [
      "train loss 3.843796394918262, validation loss 3.911896050513328, validation accuracy 0.685260643529577\n",
      "Epoch 14\n",
      "-------------------------------\n"
     ]
    },
    {
     "name": "stderr",
     "output_type": "stream",
     "text": [
      "100%|██████████| 1462/1462 [10:33<00:00,  2.31batch/s, loss=3.84]\n",
      "/home/kalytv/test_env/lib/python3.7/site-packages/ipykernel_launcher.py:136: UserWarning: To copy construct from a tensor, it is recommended to use sourceTensor.clone().detach() or sourceTensor.clone().detach().requires_grad_(True), rather than torch.tensor(sourceTensor).\n"
     ]
    },
    {
     "name": "stdout",
     "output_type": "stream",
     "text": [
      "INFO: Early stopping counter 1 of 5\n",
      "train loss 3.8422861164473967, validation loss 3.914726581659403, validation accuracy 0.6827314879865112\n",
      "Epoch 15\n",
      "-------------------------------\n"
     ]
    },
    {
     "name": "stderr",
     "output_type": "stream",
     "text": [
      "100%|██████████| 1462/1462 [10:14<00:00,  2.38batch/s, loss=3.84]\n",
      "/home/kalytv/test_env/lib/python3.7/site-packages/ipykernel_launcher.py:136: UserWarning: To copy construct from a tensor, it is recommended to use sourceTensor.clone().detach() or sourceTensor.clone().detach().requires_grad_(True), rather than torch.tensor(sourceTensor).\n"
     ]
    },
    {
     "name": "stdout",
     "output_type": "stream",
     "text": [
      "INFO: Early stopping counter 2 of 5\n",
      "train loss 3.840307874164242, validation loss 3.918203880121042, validation accuracy 0.6778136855416608\n",
      "Epoch 16\n",
      "-------------------------------\n"
     ]
    },
    {
     "name": "stderr",
     "output_type": "stream",
     "text": [
      "100%|██████████| 1462/1462 [09:38<00:00,  2.53batch/s, loss=3.84]\n",
      "/home/kalytv/test_env/lib/python3.7/site-packages/ipykernel_launcher.py:136: UserWarning: To copy construct from a tensor, it is recommended to use sourceTensor.clone().detach() or sourceTensor.clone().detach().requires_grad_(True), rather than torch.tensor(sourceTensor).\n"
     ]
    },
    {
     "name": "stdout",
     "output_type": "stream",
     "text": [
      "train loss 3.838545094110408, validation loss 3.9047274245872154, validation accuracy 0.6914430237459603\n",
      "Epoch 17\n",
      "-------------------------------\n"
     ]
    },
    {
     "name": "stderr",
     "output_type": "stream",
     "text": [
      "100%|██████████| 1462/1462 [17:31<00:00,  1.39batch/s, loss=3.84]\n",
      "/home/kalytv/test_env/lib/python3.7/site-packages/ipykernel_launcher.py:136: UserWarning: To copy construct from a tensor, it is recommended to use sourceTensor.clone().detach() or sourceTensor.clone().detach().requires_grad_(True), rather than torch.tensor(sourceTensor).\n"
     ]
    },
    {
     "name": "stdout",
     "output_type": "stream",
     "text": [
      "INFO: Early stopping counter 3 of 5\n",
      "train loss 3.837144605438295, validation loss 3.9109617740184337, validation accuracy 0.68554166081214\n",
      "Epoch 18\n",
      "-------------------------------\n"
     ]
    },
    {
     "name": "stderr",
     "output_type": "stream",
     "text": [
      "100%|██████████| 1462/1462 [09:41<00:00,  2.52batch/s, loss=3.84]\n",
      "/home/kalytv/test_env/lib/python3.7/site-packages/ipykernel_launcher.py:136: UserWarning: To copy construct from a tensor, it is recommended to use sourceTensor.clone().detach() or sourceTensor.clone().detach().requires_grad_(True), rather than torch.tensor(sourceTensor).\n"
     ]
    },
    {
     "name": "stdout",
     "output_type": "stream",
     "text": [
      "train loss 3.8351844951979275, validation loss 3.901452096732887, validation accuracy 0.6946747224954335\n",
      "Epoch 19\n",
      "-------------------------------\n"
     ]
    },
    {
     "name": "stderr",
     "output_type": "stream",
     "text": [
      "100%|██████████| 1462/1462 [09:36<00:00,  2.53batch/s, loss=3.83]\n",
      "/home/kalytv/test_env/lib/python3.7/site-packages/ipykernel_launcher.py:136: UserWarning: To copy construct from a tensor, it is recommended to use sourceTensor.clone().detach() or sourceTensor.clone().detach().requires_grad_(True), rather than torch.tensor(sourceTensor).\n"
     ]
    },
    {
     "name": "stdout",
     "output_type": "stream",
     "text": [
      "INFO: Early stopping counter 4 of 5\n",
      "train loss 3.834308437870563, validation loss 3.9037147040839666, validation accuracy 0.693269636082619\n",
      "Epoch 20\n",
      "-------------------------------\n"
     ]
    },
    {
     "name": "stderr",
     "output_type": "stream",
     "text": [
      "100%|██████████| 1462/1462 [11:40<00:00,  2.09batch/s, loss=3.83]\n",
      "/home/kalytv/test_env/lib/python3.7/site-packages/ipykernel_launcher.py:136: UserWarning: To copy construct from a tensor, it is recommended to use sourceTensor.clone().detach() or sourceTensor.clone().detach().requires_grad_(True), rather than torch.tensor(sourceTensor).\n"
     ]
    },
    {
     "name": "stdout",
     "output_type": "stream",
     "text": [
      "train loss 3.8295183220901174, validation loss 3.9006475349804304, validation accuracy 0.695798791625685\n",
      "Epoch 21\n",
      "-------------------------------\n"
     ]
    },
    {
     "name": "stderr",
     "output_type": "stream",
     "text": [
      "100%|██████████| 1462/1462 [09:37<00:00,  2.53batch/s, loss=3.83]\n",
      "/home/kalytv/test_env/lib/python3.7/site-packages/ipykernel_launcher.py:136: UserWarning: To copy construct from a tensor, it is recommended to use sourceTensor.clone().detach() or sourceTensor.clone().detach().requires_grad_(True), rather than torch.tensor(sourceTensor).\n"
     ]
    },
    {
     "name": "stdout",
     "output_type": "stream",
     "text": [
      "INFO: Early stopping counter 5 of 5\n",
      "INFO: Early stopping\n"
     ]
    },
    {
     "name": "stderr",
     "output_type": "stream",
     "text": [
      "/home/kalytv/test_env/lib/python3.7/site-packages/ipykernel_launcher.py:136: UserWarning: To copy construct from a tensor, it is recommended to use sourceTensor.clone().detach() or sourceTensor.clone().detach().requires_grad_(True), rather than torch.tensor(sourceTensor).\n"
     ]
    },
    {
     "name": "stdout",
     "output_type": "stream",
     "text": [
      "Done! Saved model with test accuracy 0.7036775314312634 and loss 3.8662199141844265\n"
     ]
    },
    {
     "data": {
      "image/png": "[encoded data removed]",
      "text/plain": [
       "<Figure size 720x504 with 1 Axes>"
      ]
     },
     "metadata": {},
     "output_type": "display_data"
    },
    {
     "data": {
      "image/png": "[encoded data removed]",
      "text/plain": [
       "<Figure size 720x504 with 1 Axes>"
      ]
     },
     "metadata": {},
     "output_type": "display_data"
    },
    {
     "name": "stdout",
     "output_type": "stream",
     "text": [
      "defaultdict(None, {'0': defaultdict(None, {'10': 0.7036775314312634})})\n",
      "Epoch 1\n",
      "-------------------------------\n"
     ]
    },
    {
     "name": "stderr",
     "output_type": "stream",
     "text": [
      "100%|██████████| 1463/1463 [18:36<00:00,  1.31batch/s, loss=4.16]\n",
      "/home/kalytv/test_env/lib/python3.7/site-packages/ipykernel_launcher.py:136: UserWarning: To copy construct from a tensor, it is recommended to use sourceTensor.clone().detach() or sourceTensor.clone().detach().requires_grad_(True), rather than torch.tensor(sourceTensor).\n"
     ]
    },
    {
     "name": "stdout",
     "output_type": "stream",
     "text": [
      "train loss 4.159588526310533, validation loss 4.122300815582276, validation accuracy 0.47688598979013047\n",
      "Epoch 2\n",
      "-------------------------------\n"
     ]
    },
    {
     "name": "stderr",
     "output_type": "stream",
     "text": [
      "100%|██████████| 1463/1463 [09:41<00:00,  2.51batch/s, loss=4.05]\n",
      "/home/kalytv/test_env/lib/python3.7/site-packages/ipykernel_launcher.py:136: UserWarning: To copy construct from a tensor, it is recommended to use sourceTensor.clone().detach() or sourceTensor.clone().detach().requires_grad_(True), rather than torch.tensor(sourceTensor).\n"
     ]
    },
    {
     "name": "stdout",
     "output_type": "stream",
     "text": [
      "train loss 4.047333985261533, validation loss 4.0794949314811015, validation accuracy 0.5197107203630176\n",
      "Epoch 3\n",
      "-------------------------------\n"
     ]
    },
    {
     "name": "stderr",
     "output_type": "stream",
     "text": [
      "100%|██████████| 1463/1463 [09:37<00:00,  2.53batch/s, loss=4.02]\n",
      "/home/kalytv/test_env/lib/python3.7/site-packages/ipykernel_launcher.py:136: UserWarning: To copy construct from a tensor, it is recommended to use sourceTensor.clone().detach() or sourceTensor.clone().detach().requires_grad_(True), rather than torch.tensor(sourceTensor).\n"
     ]
    },
    {
     "name": "stdout",
     "output_type": "stream",
     "text": [
      "train loss 4.021091578842758, validation loss 4.057974711331454, validation accuracy 0.5409812819058423\n",
      "Epoch 4\n",
      "-------------------------------\n"
     ]
    },
    {
     "name": "stderr",
     "output_type": "stream",
     "text": [
      "100%|██████████| 1463/1463 [11:49<00:00,  2.06batch/s, loss=4]   \n",
      "/home/kalytv/test_env/lib/python3.7/site-packages/ipykernel_launcher.py:136: UserWarning: To copy construct from a tensor, it is recommended to use sourceTensor.clone().detach() or sourceTensor.clone().detach().requires_grad_(True), rather than torch.tensor(sourceTensor).\n"
     ]
    },
    {
     "name": "stdout",
     "output_type": "stream",
     "text": [
      "train loss 4.004523743364148, validation loss 4.04638275233182, validation accuracy 0.5499149177538287\n",
      "Epoch 5\n",
      "-------------------------------\n"
     ]
    },
    {
     "name": "stderr",
     "output_type": "stream",
     "text": [
      "100%|██████████| 1463/1463 [09:49<00:00,  2.48batch/s, loss=3.99]\n",
      "/home/kalytv/test_env/lib/python3.7/site-packages/ipykernel_launcher.py:136: UserWarning: To copy construct from a tensor, it is recommended to use sourceTensor.clone().detach() or sourceTensor.clone().detach().requires_grad_(True), rather than torch.tensor(sourceTensor).\n"
     ]
    },
    {
     "name": "stdout",
     "output_type": "stream",
     "text": [
      "train loss 3.9865864222781426, validation loss 4.033044919100675, validation accuracy 0.5645207033465683\n",
      "Epoch 6\n",
      "-------------------------------\n"
     ]
    },
    {
     "name": "stderr",
     "output_type": "stream",
     "text": [
      "100%|██████████| 1463/1463 [20:12<00:00,  1.21batch/s, loss=3.98]\n",
      "/home/kalytv/test_env/lib/python3.7/site-packages/ipykernel_launcher.py:136: UserWarning: To copy construct from a tensor, it is recommended to use sourceTensor.clone().detach() or sourceTensor.clone().detach().requires_grad_(True), rather than torch.tensor(sourceTensor).\n"
     ]
    },
    {
     "name": "stdout",
     "output_type": "stream",
     "text": [
      "train loss 3.9801231017278957, validation loss 4.028598338907416, validation accuracy 0.5674985819625639\n",
      "Epoch 7\n",
      "-------------------------------\n"
     ]
    },
    {
     "name": "stderr",
     "output_type": "stream",
     "text": [
      "100%|██████████| 1463/1463 [09:37<00:00,  2.53batch/s, loss=3.97]\n",
      "/home/kalytv/test_env/lib/python3.7/site-packages/ipykernel_launcher.py:136: UserWarning: To copy construct from a tensor, it is recommended to use sourceTensor.clone().detach() or sourceTensor.clone().detach().requires_grad_(True), rather than torch.tensor(sourceTensor).\n"
     ]
    },
    {
     "name": "stdout",
     "output_type": "stream",
     "text": [
      "train loss 3.9673323447135567, validation loss 4.017304762926969, validation accuracy 0.5788428814520703\n",
      "Epoch 8\n",
      "-------------------------------\n"
     ]
    },
    {
     "name": "stderr",
     "output_type": "stream",
     "text": [
      "100%|██████████| 1463/1463 [11:42<00:00,  2.08batch/s, loss=3.96]\n",
      "/home/kalytv/test_env/lib/python3.7/site-packages/ipykernel_launcher.py:136: UserWarning: To copy construct from a tensor, it is recommended to use sourceTensor.clone().detach() or sourceTensor.clone().detach().requires_grad_(True), rather than torch.tensor(sourceTensor).\n"
     ]
    },
    {
     "name": "stdout",
     "output_type": "stream",
     "text": [
      "train loss 3.963257685476839, validation loss 4.007544123042713, validation accuracy 0.5897617697107204\n",
      "Epoch 9\n",
      "-------------------------------\n"
     ]
    },
    {
     "name": "stderr",
     "output_type": "stream",
     "text": [
      "100%|██████████| 1463/1463 [09:38<00:00,  2.53batch/s, loss=3.95]\n",
      "/home/kalytv/test_env/lib/python3.7/site-packages/ipykernel_launcher.py:136: UserWarning: To copy construct from a tensor, it is recommended to use sourceTensor.clone().detach() or sourceTensor.clone().detach().requires_grad_(True), rather than torch.tensor(sourceTensor).\n"
     ]
    },
    {
     "name": "stdout",
     "output_type": "stream",
     "text": [
      "train loss 3.954246480906572, validation loss 3.995194656198675, validation accuracy 0.6030913216108905\n",
      "Epoch 10\n",
      "-------------------------------\n"
     ]
    },
    {
     "name": "stderr",
     "output_type": "stream",
     "text": [
      "100%|██████████| 1463/1463 [10:09<00:00,  2.40batch/s, loss=3.94]\n",
      "/home/kalytv/test_env/lib/python3.7/site-packages/ipykernel_launcher.py:136: UserWarning: To copy construct from a tensor, it is recommended to use sourceTensor.clone().detach() or sourceTensor.clone().detach().requires_grad_(True), rather than torch.tensor(sourceTensor).\n"
     ]
    },
    {
     "name": "stdout",
     "output_type": "stream",
     "text": [
      "INFO: Early stopping counter 1 of 5\n",
      "train loss 3.944751018868353, validation loss 3.99899893023751, validation accuracy 0.5979863868406126\n",
      "Epoch 11\n",
      "-------------------------------\n"
     ]
    },
    {
     "name": "stderr",
     "output_type": "stream",
     "text": [
      "100%|██████████| 1463/1463 [16:40<00:00,  1.46batch/s, loss=3.94]\n",
      "/home/kalytv/test_env/lib/python3.7/site-packages/ipykernel_launcher.py:136: UserWarning: To copy construct from a tensor, it is recommended to use sourceTensor.clone().detach() or sourceTensor.clone().detach().requires_grad_(True), rather than torch.tensor(sourceTensor).\n"
     ]
    },
    {
     "name": "stdout",
     "output_type": "stream",
     "text": [
      "train loss 3.9376122861876524, validation loss 3.9934755498712713, validation accuracy 0.6036585365853658\n",
      "Epoch 12\n",
      "-------------------------------\n"
     ]
    },
    {
     "name": "stderr",
     "output_type": "stream",
     "text": [
      "100%|██████████| 1463/1463 [09:37<00:00,  2.53batch/s, loss=3.93]\n",
      "/home/kalytv/test_env/lib/python3.7/site-packages/ipykernel_launcher.py:136: UserWarning: To copy construct from a tensor, it is recommended to use sourceTensor.clone().detach() or sourceTensor.clone().detach().requires_grad_(True), rather than torch.tensor(sourceTensor).\n"
     ]
    },
    {
     "name": "stdout",
     "output_type": "stream",
     "text": [
      "train loss 3.932125138486809, validation loss 3.986582740870389, validation accuracy 0.6106069200226886\n",
      "Epoch 13\n",
      "-------------------------------\n"
     ]
    },
    {
     "name": "stderr",
     "output_type": "stream",
     "text": [
      "100%|██████████| 1463/1463 [09:37<00:00,  2.54batch/s, loss=3.93]\n",
      "/home/kalytv/test_env/lib/python3.7/site-packages/ipykernel_launcher.py:136: UserWarning: To copy construct from a tensor, it is recommended to use sourceTensor.clone().detach() or sourceTensor.clone().detach().requires_grad_(True), rather than torch.tensor(sourceTensor).\n"
     ]
    },
    {
     "name": "stdout",
     "output_type": "stream",
     "text": [
      "train loss 3.9257483679549137, validation loss 3.9775509227405896, validation accuracy 0.6198241633579127\n",
      "Epoch 14\n",
      "-------------------------------\n"
     ]
    },
    {
     "name": "stderr",
     "output_type": "stream",
     "text": [
      "100%|██████████| 1463/1463 [11:47<00:00,  2.07batch/s, loss=3.92]\n",
      "/home/kalytv/test_env/lib/python3.7/site-packages/ipykernel_launcher.py:136: UserWarning: To copy construct from a tensor, it is recommended to use sourceTensor.clone().detach() or sourceTensor.clone().detach().requires_grad_(True), rather than torch.tensor(sourceTensor).\n"
     ]
    },
    {
     "name": "stdout",
     "output_type": "stream",
     "text": [
      "train loss 3.9199872453654376, validation loss 3.9734430811621926, validation accuracy 0.624503686897334\n",
      "Epoch 15\n",
      "-------------------------------\n"
     ]
    },
    {
     "name": "stderr",
     "output_type": "stream",
     "text": [
      "100%|██████████| 1463/1463 [12:56<00:00,  1.88batch/s, loss=3.91]\n",
      "/home/kalytv/test_env/lib/python3.7/site-packages/ipykernel_launcher.py:136: UserWarning: To copy construct from a tensor, it is recommended to use sourceTensor.clone().detach() or sourceTensor.clone().detach().requires_grad_(True), rather than torch.tensor(sourceTensor).\n"
     ]
    },
    {
     "name": "stdout",
     "output_type": "stream",
     "text": [
      "train loss 3.9137966549730594, validation loss 3.968402437730269, validation accuracy 0.6297504254112308\n",
      "Epoch 16\n",
      "-------------------------------\n"
     ]
    },
    {
     "name": "stderr",
     "output_type": "stream",
     "text": [
      "100%|██████████| 1463/1463 [15:34<00:00,  1.57batch/s, loss=3.91]\n",
      "/home/kalytv/test_env/lib/python3.7/site-packages/ipykernel_launcher.py:136: UserWarning: To copy construct from a tensor, it is recommended to use sourceTensor.clone().detach() or sourceTensor.clone().detach().requires_grad_(True), rather than torch.tensor(sourceTensor).\n"
     ]
    },
    {
     "name": "stdout",
     "output_type": "stream",
     "text": [
      "train loss 3.908716984179765, validation loss 3.9602204084396364, validation accuracy 0.6372660238230289\n",
      "Epoch 17\n",
      "-------------------------------\n"
     ]
    },
    {
     "name": "stderr",
     "output_type": "stream",
     "text": [
      "100%|██████████| 1463/1463 [09:36<00:00,  2.54batch/s, loss=3.9]\n",
      "/home/kalytv/test_env/lib/python3.7/site-packages/ipykernel_launcher.py:136: UserWarning: To copy construct from a tensor, it is recommended to use sourceTensor.clone().detach() or sourceTensor.clone().detach().requires_grad_(True), rather than torch.tensor(sourceTensor).\n"
     ]
    },
    {
     "name": "stdout",
     "output_type": "stream",
     "text": [
      "INFO: Early stopping counter 2 of 5\n",
      "train loss 3.904428444084694, validation loss 3.9610106706619264, validation accuracy 0.6366988088485536\n",
      "Epoch 18\n",
      "-------------------------------\n"
     ]
    },
    {
     "name": "stderr",
     "output_type": "stream",
     "text": [
      "100%|██████████| 1463/1463 [09:36<00:00,  2.54batch/s, loss=3.9]\n",
      "/home/kalytv/test_env/lib/python3.7/site-packages/ipykernel_launcher.py:136: UserWarning: To copy construct from a tensor, it is recommended to use sourceTensor.clone().detach() or sourceTensor.clone().detach().requires_grad_(True), rather than torch.tensor(sourceTensor).\n"
     ]
    },
    {
     "name": "stdout",
     "output_type": "stream",
     "text": [
      "INFO: Early stopping counter 3 of 5\n",
      "train loss 3.9034604380901596, validation loss 3.960774237459356, validation accuracy 0.6358479863868406\n",
      "Epoch 19\n",
      "-------------------------------\n"
     ]
    },
    {
     "name": "stderr",
     "output_type": "stream",
     "text": [
      "100%|██████████| 1463/1463 [11:38<00:00,  2.10batch/s, loss=3.9]\n",
      "/home/kalytv/test_env/lib/python3.7/site-packages/ipykernel_launcher.py:136: UserWarning: To copy construct from a tensor, it is recommended to use sourceTensor.clone().detach() or sourceTensor.clone().detach().requires_grad_(True), rather than torch.tensor(sourceTensor).\n"
     ]
    },
    {
     "name": "stdout",
     "output_type": "stream",
     "text": [
      "train loss 3.9016662321918565, validation loss 3.9580562136389994, validation accuracy 0.6384004537719796\n",
      "Epoch 20\n",
      "-------------------------------\n"
     ]
    },
    {
     "name": "stderr",
     "output_type": "stream",
     "text": [
      "100%|██████████| 1463/1463 [18:33<00:00,  1.31batch/s, loss=3.9]\n",
      "/home/kalytv/test_env/lib/python3.7/site-packages/ipykernel_launcher.py:136: UserWarning: To copy construct from a tensor, it is recommended to use sourceTensor.clone().detach() or sourceTensor.clone().detach().requires_grad_(True), rather than torch.tensor(sourceTensor).\n"
     ]
    },
    {
     "name": "stdout",
     "output_type": "stream",
     "text": [
      "train loss 3.9001825227365865, validation loss 3.956190178611062, validation accuracy 0.6403857061826432\n",
      "Epoch 21\n",
      "-------------------------------\n"
     ]
    },
    {
     "name": "stderr",
     "output_type": "stream",
     "text": [
      "100%|██████████| 1463/1463 [10:24<00:00,  2.34batch/s, loss=3.9]\n",
      "/home/kalytv/test_env/lib/python3.7/site-packages/ipykernel_launcher.py:136: UserWarning: To copy construct from a tensor, it is recommended to use sourceTensor.clone().detach() or sourceTensor.clone().detach().requires_grad_(True), rather than torch.tensor(sourceTensor).\n"
     ]
    },
    {
     "name": "stdout",
     "output_type": "stream",
     "text": [
      "INFO: Early stopping counter 4 of 5\n",
      "train loss 3.897592201513211, validation loss 3.9583885431289674, validation accuracy 0.63712422007941\n",
      "Epoch 22\n",
      "-------------------------------\n"
     ]
    },
    {
     "name": "stderr",
     "output_type": "stream",
     "text": [
      "100%|██████████| 1463/1463 [09:35<00:00,  2.54batch/s, loss=3.9]\n",
      "/home/kalytv/test_env/lib/python3.7/site-packages/ipykernel_launcher.py:136: UserWarning: To copy construct from a tensor, it is recommended to use sourceTensor.clone().detach() or sourceTensor.clone().detach().requires_grad_(True), rather than torch.tensor(sourceTensor).\n"
     ]
    },
    {
     "name": "stdout",
     "output_type": "stream",
     "text": [
      "INFO: Early stopping counter 5 of 5\n",
      "INFO: Early stopping\n"
     ]
    },
    {
     "name": "stderr",
     "output_type": "stream",
     "text": [
      "/home/kalytv/test_env/lib/python3.7/site-packages/ipykernel_launcher.py:136: UserWarning: To copy construct from a tensor, it is recommended to use sourceTensor.clone().detach() or sourceTensor.clone().detach().requires_grad_(True), rather than torch.tensor(sourceTensor).\n"
     ]
    },
    {
     "name": "stdout",
     "output_type": "stream",
     "text": [
      "Done! Saved model with test accuracy 0.6412861054677149 and loss 3.928752142978164\n"
     ]
    },
    {
     "data": {
      "image/png": "[encoded data removed]",
      "text/plain": [
       "<Figure size 720x504 with 1 Axes>"
      ]
     },
     "metadata": {},
     "output_type": "display_data"
    },
    {
     "data": {
      "image/png": "[encoded data removed]",
      "text/plain": [
       "<Figure size 720x504 with 1 Axes>"
      ]
     },
     "metadata": {},
     "output_type": "display_data"
    },
    {
     "name": "stdout",
     "output_type": "stream",
     "text": [
      "defaultdict(None, {'0': defaultdict(None, {'10': 0.7036775314312634, '20': 0.6412861054677149})})\n",
      "Epoch 1\n",
      "-------------------------------\n"
     ]
    },
    {
     "name": "stderr",
     "output_type": "stream",
     "text": [
      "100%|██████████| 1461/1461 [11:36<00:00,  2.10batch/s, loss=4.21]\n",
      "/home/kalytv/test_env/lib/python3.7/site-packages/ipykernel_launcher.py:136: UserWarning: To copy construct from a tensor, it is recommended to use sourceTensor.clone().detach() or sourceTensor.clone().detach().requires_grad_(True), rather than torch.tensor(sourceTensor).\n"
     ]
    },
    {
     "name": "stdout",
     "output_type": "stream",
     "text": [
      "train loss 4.2114403810834, validation loss 4.178880923503154, validation accuracy 0.4223680536163083\n",
      "Epoch 2\n",
      "-------------------------------\n"
     ]
    },
    {
     "name": "stderr",
     "output_type": "stream",
     "text": [
      "100%|██████████| 1461/1461 [09:33<00:00,  2.55batch/s, loss=4.1]\n",
      "/home/kalytv/test_env/lib/python3.7/site-packages/ipykernel_launcher.py:136: UserWarning: To copy construct from a tensor, it is recommended to use sourceTensor.clone().detach() or sourceTensor.clone().detach().requires_grad_(True), rather than torch.tensor(sourceTensor).\n"
     ]
    },
    {
     "name": "stdout",
     "output_type": "stream",
     "text": [
      "train loss 4.097501983224816, validation loss 4.1422977791176185, validation accuracy 0.45741413013124826\n",
      "Epoch 3\n",
      "-------------------------------\n"
     ]
    },
    {
     "name": "stderr",
     "output_type": "stream",
     "text": [
      "100%|██████████| 1461/1461 [19:30<00:00,  1.25batch/s, loss=4.07]\n",
      "/home/kalytv/test_env/lib/python3.7/site-packages/ipykernel_launcher.py:136: UserWarning: To copy construct from a tensor, it is recommended to use sourceTensor.clone().detach() or sourceTensor.clone().detach().requires_grad_(True), rather than torch.tensor(sourceTensor).\n"
     ]
    },
    {
     "name": "stdout",
     "output_type": "stream",
     "text": [
      "train loss 4.0660623583705515, validation loss 4.112097357844447, validation accuracy 0.48687517453225354\n",
      "Epoch 4\n",
      "-------------------------------\n"
     ]
    },
    {
     "name": "stderr",
     "output_type": "stream",
     "text": [
      "100%|██████████| 1461/1461 [09:35<00:00,  2.54batch/s, loss=4.05]\n",
      "/home/kalytv/test_env/lib/python3.7/site-packages/ipykernel_launcher.py:136: UserWarning: To copy construct from a tensor, it is recommended to use sourceTensor.clone().detach() or sourceTensor.clone().detach().requires_grad_(True), rather than torch.tensor(sourceTensor).\n"
     ]
    },
    {
     "name": "stdout",
     "output_type": "stream",
     "text": [
      "train loss 4.047758775243687, validation loss 4.102591557545705, validation accuracy 0.49692823233733596\n",
      "Epoch 5\n",
      "-------------------------------\n"
     ]
    },
    {
     "name": "stderr",
     "output_type": "stream",
     "text": [
      "100%|██████████| 1461/1461 [09:36<00:00,  2.54batch/s, loss=4.03]\n",
      "/home/kalytv/test_env/lib/python3.7/site-packages/ipykernel_launcher.py:136: UserWarning: To copy construct from a tensor, it is recommended to use sourceTensor.clone().detach() or sourceTensor.clone().detach().requires_grad_(True), rather than torch.tensor(sourceTensor).\n"
     ]
    },
    {
     "name": "stdout",
     "output_type": "stream",
     "text": [
      "train loss 4.034912866733402, validation loss 4.089691252321811, validation accuracy 0.5097738061993856\n",
      "Epoch 6\n",
      "-------------------------------\n"
     ]
    },
    {
     "name": "stderr",
     "output_type": "stream",
     "text": [
      "100%|██████████| 1461/1461 [11:32<00:00,  2.11batch/s, loss=4.03]\n",
      "/home/kalytv/test_env/lib/python3.7/site-packages/ipykernel_launcher.py:136: UserWarning: To copy construct from a tensor, it is recommended to use sourceTensor.clone().detach() or sourceTensor.clone().detach().requires_grad_(True), rather than torch.tensor(sourceTensor).\n"
     ]
    },
    {
     "name": "stdout",
     "output_type": "stream",
     "text": [
      "train loss 4.027414664269147, validation loss 4.086964514878419, validation accuracy 0.5113096900307177\n",
      "Epoch 7\n",
      "-------------------------------\n"
     ]
    },
    {
     "name": "stderr",
     "output_type": "stream",
     "text": [
      "100%|██████████| 1461/1461 [09:47<00:00,  2.49batch/s, loss=4.02]\n",
      "/home/kalytv/test_env/lib/python3.7/site-packages/ipykernel_launcher.py:136: UserWarning: To copy construct from a tensor, it is recommended to use sourceTensor.clone().detach() or sourceTensor.clone().detach().requires_grad_(True), rather than torch.tensor(sourceTensor).\n"
     ]
    },
    {
     "name": "stdout",
     "output_type": "stream",
     "text": [
      "train loss 4.022749576725265, validation loss 4.086789558599661, validation accuracy 0.5121474448478078\n",
      "Epoch 8\n",
      "-------------------------------\n"
     ]
    },
    {
     "name": "stderr",
     "output_type": "stream",
     "text": [
      "100%|██████████| 1461/1461 [16:37<00:00,  1.47batch/s, loss=4.01]\n",
      "/home/kalytv/test_env/lib/python3.7/site-packages/ipykernel_launcher.py:136: UserWarning: To copy construct from a tensor, it is recommended to use sourceTensor.clone().detach() or sourceTensor.clone().detach().requires_grad_(True), rather than torch.tensor(sourceTensor).\n"
     ]
    },
    {
     "name": "stdout",
     "output_type": "stream",
     "text": [
      "train loss 4.012919263428486, validation loss 4.07126513257757, validation accuracy 0.5276459089639766\n",
      "Epoch 9\n",
      "-------------------------------\n"
     ]
    },
    {
     "name": "stderr",
     "output_type": "stream",
     "text": [
      "100%|██████████| 1461/1461 [09:35<00:00,  2.54batch/s, loss=4.01]\n",
      "/home/kalytv/test_env/lib/python3.7/site-packages/ipykernel_launcher.py:136: UserWarning: To copy construct from a tensor, it is recommended to use sourceTensor.clone().detach() or sourceTensor.clone().detach().requires_grad_(True), rather than torch.tensor(sourceTensor).\n"
     ]
    },
    {
     "name": "stdout",
     "output_type": "stream",
     "text": [
      "INFO: Early stopping counter 1 of 5\n",
      "train loss 4.006112244584477, validation loss 4.071588391656274, validation accuracy 0.5268081541468863\n",
      "Epoch 10\n",
      "-------------------------------\n"
     ]
    },
    {
     "name": "stderr",
     "output_type": "stream",
     "text": [
      "100%|██████████| 1461/1461 [09:35<00:00,  2.54batch/s, loss=4]  \n",
      "/home/kalytv/test_env/lib/python3.7/site-packages/ipykernel_launcher.py:136: UserWarning: To copy construct from a tensor, it is recommended to use sourceTensor.clone().detach() or sourceTensor.clone().detach().requires_grad_(True), rather than torch.tensor(sourceTensor).\n"
     ]
    },
    {
     "name": "stdout",
     "output_type": "stream",
     "text": [
      "train loss 3.9999086750769437, validation loss 4.061720055502814, validation accuracy 0.5371404635576654\n",
      "Epoch 11\n",
      "-------------------------------\n"
     ]
    },
    {
     "name": "stderr",
     "output_type": "stream",
     "text": [
      "100%|██████████| 1461/1461 [11:35<00:00,  2.10batch/s, loss=4]  \n",
      "/home/kalytv/test_env/lib/python3.7/site-packages/ipykernel_launcher.py:136: UserWarning: To copy construct from a tensor, it is recommended to use sourceTensor.clone().detach() or sourceTensor.clone().detach().requires_grad_(True), rather than torch.tensor(sourceTensor).\n"
     ]
    },
    {
     "name": "stdout",
     "output_type": "stream",
     "text": [
      "train loss 3.997571427392927, validation loss 4.0614779210305425, validation accuracy 0.5372800893605139\n",
      "Epoch 12\n",
      "-------------------------------\n"
     ]
    },
    {
     "name": "stderr",
     "output_type": "stream",
     "text": [
      "100%|██████████| 1461/1461 [11:17<00:00,  2.16batch/s, loss=3.99]\n",
      "/home/kalytv/test_env/lib/python3.7/site-packages/ipykernel_launcher.py:136: UserWarning: To copy construct from a tensor, it is recommended to use sourceTensor.clone().detach() or sourceTensor.clone().detach().requires_grad_(True), rather than torch.tensor(sourceTensor).\n"
     ]
    },
    {
     "name": "stdout",
     "output_type": "stream",
     "text": [
      "train loss 3.9930475025777534, validation loss 4.056636352796812, validation accuracy 0.541189611840268\n",
      "Epoch 13\n",
      "-------------------------------\n"
     ]
    },
    {
     "name": "stderr",
     "output_type": "stream",
     "text": [
      "100%|██████████| 1461/1461 [16:49<00:00,  1.45batch/s, loss=3.99]\n",
      "/home/kalytv/test_env/lib/python3.7/site-packages/ipykernel_launcher.py:136: UserWarning: To copy construct from a tensor, it is recommended to use sourceTensor.clone().detach() or sourceTensor.clone().detach().requires_grad_(True), rather than torch.tensor(sourceTensor).\n"
     ]
    },
    {
     "name": "stdout",
     "output_type": "stream",
     "text": [
      "INFO: Early stopping counter 2 of 5\n",
      "train loss 3.988262579589572, validation loss 4.057820150444099, validation accuracy 0.5403518570231779\n",
      "Epoch 14\n",
      "-------------------------------\n"
     ]
    },
    {
     "name": "stderr",
     "output_type": "stream",
     "text": [
      "100%|██████████| 1461/1461 [09:33<00:00,  2.55batch/s, loss=3.99]\n",
      "/home/kalytv/test_env/lib/python3.7/site-packages/ipykernel_launcher.py:136: UserWarning: To copy construct from a tensor, it is recommended to use sourceTensor.clone().detach() or sourceTensor.clone().detach().requires_grad_(True), rather than torch.tensor(sourceTensor).\n"
     ]
    },
    {
     "name": "stdout",
     "output_type": "stream",
     "text": [
      "train loss 3.9853343730263315, validation loss 4.04680660823444, validation accuracy 0.5523596760681374\n",
      "Epoch 15\n",
      "-------------------------------\n"
     ]
    },
    {
     "name": "stderr",
     "output_type": "stream",
     "text": [
      "100%|██████████| 1461/1461 [11:38<00:00,  2.09batch/s, loss=3.98]\n",
      "/home/kalytv/test_env/lib/python3.7/site-packages/ipykernel_launcher.py:136: UserWarning: To copy construct from a tensor, it is recommended to use sourceTensor.clone().detach() or sourceTensor.clone().detach().requires_grad_(True), rather than torch.tensor(sourceTensor).\n"
     ]
    },
    {
     "name": "stdout",
     "output_type": "stream",
     "text": [
      "INFO: Early stopping counter 3 of 5\n",
      "train loss 3.980555595884904, validation loss 4.048006289714092, validation accuracy 0.5505445406311086\n",
      "Epoch 16\n",
      "-------------------------------\n"
     ]
    },
    {
     "name": "stderr",
     "output_type": "stream",
     "text": [
      "100%|██████████| 1461/1461 [09:34<00:00,  2.54batch/s, loss=3.98]\n",
      "/home/kalytv/test_env/lib/python3.7/site-packages/ipykernel_launcher.py:136: UserWarning: To copy construct from a tensor, it is recommended to use sourceTensor.clone().detach() or sourceTensor.clone().detach().requires_grad_(True), rather than torch.tensor(sourceTensor).\n"
     ]
    },
    {
     "name": "stdout",
     "output_type": "stream",
     "text": [
      "train loss 3.977091091777428, validation loss 4.042823016106546, validation accuracy 0.5548729405194079\n",
      "Epoch 17\n",
      "-------------------------------\n"
     ]
    },
    {
     "name": "stderr",
     "output_type": "stream",
     "text": [
      "100%|██████████| 1461/1461 [16:33<00:00,  1.47batch/s, loss=3.98]\n",
      "/home/kalytv/test_env/lib/python3.7/site-packages/ipykernel_launcher.py:136: UserWarning: To copy construct from a tensor, it is recommended to use sourceTensor.clone().detach() or sourceTensor.clone().detach().requires_grad_(True), rather than torch.tensor(sourceTensor).\n"
     ]
    },
    {
     "name": "stdout",
     "output_type": "stream",
     "text": [
      "INFO: Early stopping counter 4 of 5\n",
      "train loss 3.976732467152663, validation loss 4.048296187375043, validation accuracy 0.5498464116168668\n",
      "Epoch 18\n",
      "-------------------------------\n"
     ]
    },
    {
     "name": "stderr",
     "output_type": "stream",
     "text": [
      "100%|██████████| 1461/1461 [09:58<00:00,  2.44batch/s, loss=3.97]\n",
      "/home/kalytv/test_env/lib/python3.7/site-packages/ipykernel_launcher.py:136: UserWarning: To copy construct from a tensor, it is recommended to use sourceTensor.clone().detach() or sourceTensor.clone().detach().requires_grad_(True), rather than torch.tensor(sourceTensor).\n"
     ]
    },
    {
     "name": "stdout",
     "output_type": "stream",
     "text": [
      "train loss 3.971370152624236, validation loss 4.038085043967307, validation accuracy 0.5598994694219491\n",
      "Epoch 19\n",
      "-------------------------------\n"
     ]
    },
    {
     "name": "stderr",
     "output_type": "stream",
     "text": [
      "100%|██████████| 1461/1461 [09:34<00:00,  2.54batch/s, loss=3.97]\n",
      "/home/kalytv/test_env/lib/python3.7/site-packages/ipykernel_launcher.py:136: UserWarning: To copy construct from a tensor, it is recommended to use sourceTensor.clone().detach() or sourceTensor.clone().detach().requires_grad_(True), rather than torch.tensor(sourceTensor).\n"
     ]
    },
    {
     "name": "stdout",
     "output_type": "stream",
     "text": [
      "train loss 3.9693388245352157, validation loss 4.035476291501844, validation accuracy 0.5628316112817648\n",
      "Epoch 20\n",
      "-------------------------------\n"
     ]
    },
    {
     "name": "stderr",
     "output_type": "stream",
     "text": [
      "100%|██████████| 1461/1461 [11:36<00:00,  2.10batch/s, loss=3.97]\n",
      "/home/kalytv/test_env/lib/python3.7/site-packages/ipykernel_launcher.py:136: UserWarning: To copy construct from a tensor, it is recommended to use sourceTensor.clone().detach() or sourceTensor.clone().detach().requires_grad_(True), rather than torch.tensor(sourceTensor).\n"
     ]
    },
    {
     "name": "stdout",
     "output_type": "stream",
     "text": [
      "train loss 3.966742914886527, validation loss 4.033036640098503, validation accuracy 0.5653448757330355\n",
      "Epoch 21\n",
      "-------------------------------\n"
     ]
    },
    {
     "name": "stderr",
     "output_type": "stream",
     "text": [
      "100%|██████████| 1461/1461 [09:37<00:00,  2.53batch/s, loss=3.97]\n",
      "/home/kalytv/test_env/lib/python3.7/site-packages/ipykernel_launcher.py:136: UserWarning: To copy construct from a tensor, it is recommended to use sourceTensor.clone().detach() or sourceTensor.clone().detach().requires_grad_(True), rather than torch.tensor(sourceTensor).\n"
     ]
    },
    {
     "name": "stdout",
     "output_type": "stream",
     "text": [
      "train loss 3.965149909971839, validation loss 4.031298993944048, validation accuracy 0.567439262775761\n",
      "Epoch 22\n",
      "-------------------------------\n"
     ]
    },
    {
     "name": "stderr",
     "output_type": "stream",
     "text": [
      "100%|██████████| 1461/1461 [18:09<00:00,  1.34batch/s, loss=3.96]\n",
      "/home/kalytv/test_env/lib/python3.7/site-packages/ipykernel_launcher.py:136: UserWarning: To copy construct from a tensor, it is recommended to use sourceTensor.clone().detach() or sourceTensor.clone().detach().requires_grad_(True), rather than torch.tensor(sourceTensor).\n"
     ]
    },
    {
     "name": "stdout",
     "output_type": "stream",
     "text": [
      "INFO: Early stopping counter 5 of 5\n",
      "INFO: Early stopping\n"
     ]
    },
    {
     "name": "stderr",
     "output_type": "stream",
     "text": [
      "/home/kalytv/test_env/lib/python3.7/site-packages/ipykernel_launcher.py:136: UserWarning: To copy construct from a tensor, it is recommended to use sourceTensor.clone().detach() or sourceTensor.clone().detach().requires_grad_(True), rather than torch.tensor(sourceTensor).\n"
     ]
    },
    {
     "name": "stdout",
     "output_type": "stream",
     "text": [
      "Done! Saved model with test accuracy 0.5745958837558519 and loss 3.995113364255653\n"
     ]
    },
    {
     "data": {
      "image/png": "[encoded data removed]",
      "text/plain": [
       "<Figure size 720x504 with 1 Axes>"
      ]
     },
     "metadata": {},
     "output_type": "display_data"
    },
    {
     "data": {
      "image/png": "[encoded data removed]",
      "text/plain": [
       "<Figure size 720x504 with 1 Axes>"
      ]
     },
     "metadata": {},
     "output_type": "display_data"
    },
    {
     "name": "stdout",
     "output_type": "stream",
     "text": [
      "defaultdict(None, {'0': defaultdict(None, {'10': 0.7036775314312634, '20': 0.6412861054677149, '30': 0.5745958837558519})})\n",
      "Epoch 1\n",
      "-------------------------------\n"
     ]
    },
    {
     "name": "stderr",
     "output_type": "stream",
     "text": [
      "100%|██████████| 1461/1461 [09:38<00:00,  2.53batch/s, loss=4.32]\n",
      "/home/kalytv/test_env/lib/python3.7/site-packages/ipykernel_launcher.py:136: UserWarning: To copy construct from a tensor, it is recommended to use sourceTensor.clone().detach() or sourceTensor.clone().detach().requires_grad_(True), rather than torch.tensor(sourceTensor).\n"
     ]
    },
    {
     "name": "stdout",
     "output_type": "stream",
     "text": [
      "train loss 4.320605316854029, validation loss 4.313607241656329, validation accuracy 0.2871536523929471\n",
      "Epoch 2\n",
      "-------------------------------\n"
     ]
    },
    {
     "name": "stderr",
     "output_type": "stream",
     "text": [
      "100%|██████████| 1461/1461 [10:15<00:00,  2.38batch/s, loss=4.24]\n",
      "/home/kalytv/test_env/lib/python3.7/site-packages/ipykernel_launcher.py:136: UserWarning: To copy construct from a tensor, it is recommended to use sourceTensor.clone().detach() or sourceTensor.clone().detach().requires_grad_(True), rather than torch.tensor(sourceTensor).\n"
     ]
    },
    {
     "name": "stdout",
     "output_type": "stream",
     "text": [
      "train loss 4.237576983710987, validation loss 4.265473327121219, validation accuracy 0.33613210187517495\n",
      "Epoch 3\n",
      "-------------------------------\n"
     ]
    },
    {
     "name": "stderr",
     "output_type": "stream",
     "text": [
      "100%|██████████| 1461/1461 [10:27<00:00,  2.33batch/s, loss=4.22]\n",
      "/home/kalytv/test_env/lib/python3.7/site-packages/ipykernel_launcher.py:136: UserWarning: To copy construct from a tensor, it is recommended to use sourceTensor.clone().detach() or sourceTensor.clone().detach().requires_grad_(True), rather than torch.tensor(sourceTensor).\n"
     ]
    },
    {
     "name": "stdout",
     "output_type": "stream",
     "text": [
      "train loss 4.215077224290183, validation loss 4.258288121438241, validation accuracy 0.3418695773859502\n",
      "Epoch 4\n",
      "-------------------------------\n"
     ]
    },
    {
     "name": "stderr",
     "output_type": "stream",
     "text": [
      "100%|██████████| 1461/1461 [09:32<00:00,  2.55batch/s, loss=4.2]\n",
      "/home/kalytv/test_env/lib/python3.7/site-packages/ipykernel_launcher.py:136: UserWarning: To copy construct from a tensor, it is recommended to use sourceTensor.clone().detach() or sourceTensor.clone().detach().requires_grad_(True), rather than torch.tensor(sourceTensor).\n"
     ]
    },
    {
     "name": "stdout",
     "output_type": "stream",
     "text": [
      "train loss 4.200366818684572, validation loss 4.245643650089298, validation accuracy 0.3533445284075007\n",
      "Epoch 5\n",
      "-------------------------------\n"
     ]
    },
    {
     "name": "stderr",
     "output_type": "stream",
     "text": [
      "100%|██████████| 1461/1461 [18:29<00:00,  1.32batch/s, loss=4.18]\n",
      "/home/kalytv/test_env/lib/python3.7/site-packages/ipykernel_launcher.py:136: UserWarning: To copy construct from a tensor, it is recommended to use sourceTensor.clone().detach() or sourceTensor.clone().detach().requires_grad_(True), rather than torch.tensor(sourceTensor).\n"
     ]
    },
    {
     "name": "stdout",
     "output_type": "stream",
     "text": [
      "train loss 4.1813360693355195, validation loss 4.2159247398376465, validation accuracy 0.38399104394066613\n",
      "Epoch 6\n",
      "-------------------------------\n"
     ]
    },
    {
     "name": "stderr",
     "output_type": "stream",
     "text": [
      "100%|██████████| 1461/1461 [09:40<00:00,  2.52batch/s, loss=4.17]\n",
      "/home/kalytv/test_env/lib/python3.7/site-packages/ipykernel_launcher.py:136: UserWarning: To copy construct from a tensor, it is recommended to use sourceTensor.clone().detach() or sourceTensor.clone().detach().requires_grad_(True), rather than torch.tensor(sourceTensor).\n"
     ]
    },
    {
     "name": "stdout",
     "output_type": "stream",
     "text": [
      "train loss 4.167042054353227, validation loss 4.20900112444216, validation accuracy 0.39112790372236217\n",
      "Epoch 7\n",
      "-------------------------------\n"
     ]
    },
    {
     "name": "stderr",
     "output_type": "stream",
     "text": [
      "100%|██████████| 1461/1461 [09:37<00:00,  2.53batch/s, loss=4.16]\n",
      "/home/kalytv/test_env/lib/python3.7/site-packages/ipykernel_launcher.py:136: UserWarning: To copy construct from a tensor, it is recommended to use sourceTensor.clone().detach() or sourceTensor.clone().detach().requires_grad_(True), rather than torch.tensor(sourceTensor).\n"
     ]
    },
    {
     "name": "stdout",
     "output_type": "stream",
     "text": [
      "train loss 4.159541578345067, validation loss 4.205724419774236, validation accuracy 0.39392667226420375\n",
      "Epoch 8\n",
      "-------------------------------\n"
     ]
    },
    {
     "name": "stderr",
     "output_type": "stream",
     "text": [
      "100%|██████████| 1461/1461 [11:37<00:00,  2.09batch/s, loss=4.15]\n",
      "/home/kalytv/test_env/lib/python3.7/site-packages/ipykernel_launcher.py:136: UserWarning: To copy construct from a tensor, it is recommended to use sourceTensor.clone().detach() or sourceTensor.clone().detach().requires_grad_(True), rather than torch.tensor(sourceTensor).\n"
     ]
    },
    {
     "name": "stdout",
     "output_type": "stream",
     "text": [
      "train loss 4.153037625579782, validation loss 4.200631158845919, validation accuracy 0.3986845787853345\n",
      "Epoch 9\n",
      "-------------------------------\n"
     ]
    },
    {
     "name": "stderr",
     "output_type": "stream",
     "text": [
      "100%|██████████| 1461/1461 [09:36<00:00,  2.53batch/s, loss=4.15]\n",
      "/home/kalytv/test_env/lib/python3.7/site-packages/ipykernel_launcher.py:136: UserWarning: To copy construct from a tensor, it is recommended to use sourceTensor.clone().detach() or sourceTensor.clone().detach().requires_grad_(True), rather than torch.tensor(sourceTensor).\n"
     ]
    },
    {
     "name": "stdout",
     "output_type": "stream",
     "text": [
      "train loss 4.146114181933706, validation loss 4.193136318309887, validation accuracy 0.4059613769941226\n",
      "Epoch 10\n",
      "-------------------------------\n"
     ]
    },
    {
     "name": "stderr",
     "output_type": "stream",
     "text": [
      "100%|██████████| 1461/1461 [21:13<00:00,  1.15batch/s, loss=4.14]\n",
      "/home/kalytv/test_env/lib/python3.7/site-packages/ipykernel_launcher.py:136: UserWarning: To copy construct from a tensor, it is recommended to use sourceTensor.clone().detach() or sourceTensor.clone().detach().requires_grad_(True), rather than torch.tensor(sourceTensor).\n"
     ]
    },
    {
     "name": "stdout",
     "output_type": "stream",
     "text": [
      "INFO: Early stopping counter 1 of 5\n",
      "train loss 4.139211226292949, validation loss 4.194726617486627, validation accuracy 0.4038623005877414\n",
      "Epoch 11\n",
      "-------------------------------\n"
     ]
    },
    {
     "name": "stderr",
     "output_type": "stream",
     "text": [
      "100%|██████████| 1461/1461 [09:41<00:00,  2.51batch/s, loss=4.14]\n",
      "/home/kalytv/test_env/lib/python3.7/site-packages/ipykernel_launcher.py:136: UserWarning: To copy construct from a tensor, it is recommended to use sourceTensor.clone().detach() or sourceTensor.clone().detach().requires_grad_(True), rather than torch.tensor(sourceTensor).\n"
     ]
    },
    {
     "name": "stdout",
     "output_type": "stream",
     "text": [
      "train loss 4.136219239251243, validation loss 4.189517828795287, validation accuracy 0.41029946823397706\n",
      "Epoch 12\n",
      "-------------------------------\n"
     ]
    },
    {
     "name": "stderr",
     "output_type": "stream",
     "text": [
      "100%|██████████| 1461/1461 [11:10<00:00,  2.18batch/s, loss=4.13]\n",
      "/home/kalytv/test_env/lib/python3.7/site-packages/ipykernel_launcher.py:136: UserWarning: To copy construct from a tensor, it is recommended to use sourceTensor.clone().detach() or sourceTensor.clone().detach().requires_grad_(True), rather than torch.tensor(sourceTensor).\n"
     ]
    },
    {
     "name": "stdout",
     "output_type": "stream",
     "text": [
      "train loss 4.12925834479518, validation loss 4.1804079837627235, validation accuracy 0.4186957738595018\n",
      "Epoch 13\n",
      "-------------------------------\n"
     ]
    },
    {
     "name": "stderr",
     "output_type": "stream",
     "text": [
      "100%|██████████| 1461/1461 [09:39<00:00,  2.52batch/s, loss=4.13]\n",
      "/home/kalytv/test_env/lib/python3.7/site-packages/ipykernel_launcher.py:136: UserWarning: To copy construct from a tensor, it is recommended to use sourceTensor.clone().detach() or sourceTensor.clone().detach().requires_grad_(True), rather than torch.tensor(sourceTensor).\n"
     ]
    },
    {
     "name": "stdout",
     "output_type": "stream",
     "text": [
      "INFO: Early stopping counter 2 of 5\n",
      "train loss 4.125260870233127, validation loss 4.182386501415356, validation accuracy 0.417156451161489\n",
      "Epoch 14\n",
      "-------------------------------\n"
     ]
    },
    {
     "name": "stderr",
     "output_type": "stream",
     "text": [
      "100%|██████████| 1461/1461 [17:00<00:00,  1.43batch/s, loss=4.12]\n",
      "/home/kalytv/test_env/lib/python3.7/site-packages/ipykernel_launcher.py:136: UserWarning: To copy construct from a tensor, it is recommended to use sourceTensor.clone().detach() or sourceTensor.clone().detach().requires_grad_(True), rather than torch.tensor(sourceTensor).\n"
     ]
    },
    {
     "name": "stdout",
     "output_type": "stream",
     "text": [
      "train loss 4.122210223571965, validation loss 4.179735836682019, validation accuracy 0.41967534284914637\n",
      "Epoch 15\n",
      "-------------------------------\n"
     ]
    },
    {
     "name": "stderr",
     "output_type": "stream",
     "text": [
      "100%|██████████| 1461/1461 [10:08<00:00,  2.40batch/s, loss=4.12]\n",
      "/home/kalytv/test_env/lib/python3.7/site-packages/ipykernel_launcher.py:136: UserWarning: To copy construct from a tensor, it is recommended to use sourceTensor.clone().detach() or sourceTensor.clone().detach().requires_grad_(True), rather than torch.tensor(sourceTensor).\n"
     ]
    },
    {
     "name": "stdout",
     "output_type": "stream",
     "text": [
      "train loss 4.117855445723433, validation loss 4.176946622831327, validation accuracy 0.42233417296389586\n",
      "Epoch 16\n",
      "-------------------------------\n"
     ]
    },
    {
     "name": "stderr",
     "output_type": "stream",
     "text": [
      "100%|██████████| 1461/1461 [09:37<00:00,  2.53batch/s, loss=4.12]\n",
      "/home/kalytv/test_env/lib/python3.7/site-packages/ipykernel_launcher.py:136: UserWarning: To copy construct from a tensor, it is recommended to use sourceTensor.clone().detach() or sourceTensor.clone().detach().requires_grad_(True), rather than torch.tensor(sourceTensor).\n"
     ]
    },
    {
     "name": "stdout",
     "output_type": "stream",
     "text": [
      "INFO: Early stopping counter 3 of 5\n",
      "train loss 4.1161680241140255, validation loss 4.178606681995563, validation accuracy 0.42121466554715925\n",
      "Epoch 17\n",
      "-------------------------------\n"
     ]
    },
    {
     "name": "stderr",
     "output_type": "stream",
     "text": [
      "100%|██████████| 1461/1461 [09:37<00:00,  2.53batch/s, loss=4.12]\n",
      "/home/kalytv/test_env/lib/python3.7/site-packages/ipykernel_launcher.py:136: UserWarning: To copy construct from a tensor, it is recommended to use sourceTensor.clone().detach() or sourceTensor.clone().detach().requires_grad_(True), rather than torch.tensor(sourceTensor).\n"
     ]
    },
    {
     "name": "stdout",
     "output_type": "stream",
     "text": [
      "train loss 4.115059813598017, validation loss 4.173661322207065, validation accuracy 0.4256926952141058\n",
      "Epoch 18\n",
      "-------------------------------\n"
     ]
    },
    {
     "name": "stderr",
     "output_type": "stream",
     "text": [
      "100%|██████████| 1461/1461 [11:57<00:00,  2.04batch/s, loss=4.11]\n",
      "/home/kalytv/test_env/lib/python3.7/site-packages/ipykernel_launcher.py:136: UserWarning: To copy construct from a tensor, it is recommended to use sourceTensor.clone().detach() or sourceTensor.clone().detach().requires_grad_(True), rather than torch.tensor(sourceTensor).\n"
     ]
    },
    {
     "name": "stdout",
     "output_type": "stream",
     "text": [
      "INFO: Early stopping counter 4 of 5\n",
      "train loss 4.113674529197688, validation loss 4.179455220162332, validation accuracy 0.41967534284914637\n",
      "Epoch 19\n",
      "-------------------------------\n"
     ]
    },
    {
     "name": "stderr",
     "output_type": "stream",
     "text": [
      "100%|██████████| 1461/1461 [18:32<00:00,  1.31batch/s, loss=4.11]\n",
      "/home/kalytv/test_env/lib/python3.7/site-packages/ipykernel_launcher.py:136: UserWarning: To copy construct from a tensor, it is recommended to use sourceTensor.clone().detach() or sourceTensor.clone().detach().requires_grad_(True), rather than torch.tensor(sourceTensor).\n"
     ]
    },
    {
     "name": "stdout",
     "output_type": "stream",
     "text": [
      "train loss 4.112237885257792, validation loss 4.172429432740083, validation accuracy 0.4270920794850266\n",
      "Epoch 20\n",
      "-------------------------------\n"
     ]
    },
    {
     "name": "stderr",
     "output_type": "stream",
     "text": [
      "100%|██████████| 1461/1461 [09:40<00:00,  2.52batch/s, loss=4.11]\n",
      "/home/kalytv/test_env/lib/python3.7/site-packages/ipykernel_launcher.py:136: UserWarning: To copy construct from a tensor, it is recommended to use sourceTensor.clone().detach() or sourceTensor.clone().detach().requires_grad_(True), rather than torch.tensor(sourceTensor).\n"
     ]
    },
    {
     "name": "stdout",
     "output_type": "stream",
     "text": [
      "train loss 4.110514064752264, validation loss 4.1696731764991, validation accuracy 0.4297509095997761\n",
      "Epoch 21\n",
      "-------------------------------\n"
     ]
    },
    {
     "name": "stderr",
     "output_type": "stream",
     "text": [
      "100%|██████████| 1461/1461 [09:35<00:00,  2.54batch/s, loss=4.11]\n",
      "/home/kalytv/test_env/lib/python3.7/site-packages/ipykernel_launcher.py:136: UserWarning: To copy construct from a tensor, it is recommended to use sourceTensor.clone().detach() or sourceTensor.clone().detach().requires_grad_(True), rather than torch.tensor(sourceTensor).\n"
     ]
    },
    {
     "name": "stdout",
     "output_type": "stream",
     "text": [
      "INFO: Early stopping counter 5 of 5\n",
      "INFO: Early stopping\n"
     ]
    },
    {
     "name": "stderr",
     "output_type": "stream",
     "text": [
      "/home/kalytv/test_env/lib/python3.7/site-packages/ipykernel_launcher.py:136: UserWarning: To copy construct from a tensor, it is recommended to use sourceTensor.clone().detach() or sourceTensor.clone().detach().requires_grad_(True), rather than torch.tensor(sourceTensor).\n"
     ]
    }
   ],
   "source": [
    "for run, seed in enumerate(seeds):\n",
    "    #set manual seed\n",
    "    torch.manual_seed(seed)\n",
    "    np.random.seed(seed)\n",
    "    flat_accuracies['%s' %run] = defaultdict()\n",
    "    \n",
    "    for label_noise in label_noises:\n",
    "        label_noise_str = '00' if label_noise==0.0 else str(int(label_noise*100))\n",
    "\n",
    "        #prepare data\n",
    "        main_df = df[df['split_%s_%s' %(label_noise_str, run)] == \"main\"]\n",
    "        test_df = df[df['split_%s_%s' %(label_noise_str, run)] == \"test\"]\n",
    "        valid_df, train_df  = split_data(main_df, p=0.10)\n",
    "\n",
    "        # prepare dataloaders\n",
    "        batch_size = 64\n",
    "\n",
    "        test_dataset = IconDataset(test_df, test_transform, \"\", run, label_noise_str)\n",
    "        train_dataset = IconDataset(train_df, train_transform, \"\", run, label_noise_str)\n",
    "        validation_dataset = IconDataset(valid_df, test_transform, \"\", run, label_noise_str)\n",
    "\n",
    "        dl_train = torch.utils.data.DataLoader(train_dataset, batch_size=batch_size, shuffle=False)\n",
    "        dl_test = torch.utils.data.DataLoader(test_dataset, batch_size=batch_size, shuffle=False)\n",
    "        dl_valid = torch.utils.data.DataLoader(validation_dataset, batch_size=batch_size, shuffle=False)\n",
    "\n",
    "        # train flat model \n",
    "        gc.collect() \n",
    "        torch.cuda.empty_cache()\n",
    "        epochs= 40\n",
    "\n",
    "        model = Resnext50(n_classes, name=\"flat_model_Resnext50_icons_%s_%s\" %(run, label_noise_str))\n",
    "        optimizer = torch.optim.Adam(model.parameters(), lr=learning_rate)\n",
    "        model.state_dict(torch.load(fine_tuned_model_path))\n",
    "        model.to(device)\n",
    "        loss_fn = torch.nn.CrossEntropyLoss().to(device)\n",
    "\n",
    "        test_accuracy =train_and_validate(epochs, model, loss_fn, optimizer, \n",
    "                                                            dl_train, dl_test, dl_valid,\n",
    "                                                            model_path = '../../../teamdrive/transmediasp/kate/models/base/%s.pth' %model.name )\n",
    "        flat_accuracies['%s' %run]['%s' %label_noise_str] = test_accuracy\n",
    "        print(flat_accuracies)\n",
    "        with open('../../../teamdrive/transmediasp/kate/flat_accuracies.p', 'wb') as handle:\n",
    "            pickle.dump(flat_accuracies, handle)\n",
    "\n"
   ]
  },
  {
   "cell_type": "code",
   "execution_count": null,
   "id": "derived-antenna",
   "metadata": {},
   "outputs": [],
   "source": []
  }
 ],
 "metadata": {
  "kernelspec": {
   "display_name": "Python 3",
   "language": "python",
   "name": "python3"
  },
  "language_info": {
   "codemirror_mode": {
    "name": "ipython",
    "version": 3
   },
   "file_extension": ".py",
   "mimetype": "text/x-python",
   "name": "python",
   "nbconvert_exporter": "python",
   "pygments_lexer": "ipython3",
   "version": "3.8.10"
  }
 },
 "nbformat": 4,
 "nbformat_minor": 5
}
