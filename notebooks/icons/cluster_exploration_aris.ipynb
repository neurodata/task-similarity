{
 "cells": [
  {
   "cell_type": "code",
   "execution_count": 4,
   "id": "68a49f91",
   "metadata": {},
   "outputs": [],
   "source": [
    "from sklearn.metrics import adjusted_rand_score as ARI\n",
    "import pickle\n",
    "import numpy as np\n",
    "import pandas as pd"
   ]
  },
  {
   "cell_type": "code",
   "execution_count": 2,
   "id": "9f6f81af",
   "metadata": {},
   "outputs": [],
   "source": [
    "teamdrive_root = 'Path To Folder'"
   ]
  },
  {
   "cell_type": "code",
   "execution_count": 12,
   "id": "149330b1",
   "metadata": {},
   "outputs": [],
   "source": [
    "clusters_df = pd.read_csv(teamdrive_root +'icons_experiment/no_noise_clusters.csv', index_col=0)\n",
    "clusters = list(map(list, zip(*clusters.values.tolist())))"
   ]
  },
  {
   "cell_type": "code",
   "execution_count": 15,
   "id": "859755a8",
   "metadata": {},
   "outputs": [
    {
     "data": {
      "text/html": [
       "<div>\n",
       "<style scoped>\n",
       "    .dataframe tbody tr th:only-of-type {\n",
       "        vertical-align: middle;\n",
       "    }\n",
       "\n",
       "    .dataframe tbody tr th {\n",
       "        vertical-align: top;\n",
       "    }\n",
       "\n",
       "    .dataframe thead th {\n",
       "        text-align: right;\n",
       "    }\n",
       "</style>\n",
       "<table border=\"1\" class=\"dataframe\">\n",
       "  <thead>\n",
       "    <tr style=\"text-align: right;\">\n",
       "      <th></th>\n",
       "      <th>run_0</th>\n",
       "      <th>run_1</th>\n",
       "      <th>run_2</th>\n",
       "      <th>run_3</th>\n",
       "      <th>run_4</th>\n",
       "    </tr>\n",
       "  </thead>\n",
       "  <tbody>\n",
       "    <tr>\n",
       "      <th>0</th>\n",
       "      <td>10</td>\n",
       "      <td>10</td>\n",
       "      <td>10</td>\n",
       "      <td>10</td>\n",
       "      <td>17</td>\n",
       "    </tr>\n",
       "    <tr>\n",
       "      <th>1</th>\n",
       "      <td>0</td>\n",
       "      <td>0</td>\n",
       "      <td>15</td>\n",
       "      <td>15</td>\n",
       "      <td>0</td>\n",
       "    </tr>\n",
       "    <tr>\n",
       "      <th>2</th>\n",
       "      <td>9</td>\n",
       "      <td>6</td>\n",
       "      <td>12</td>\n",
       "      <td>6</td>\n",
       "      <td>5</td>\n",
       "    </tr>\n",
       "    <tr>\n",
       "      <th>3</th>\n",
       "      <td>11</td>\n",
       "      <td>2</td>\n",
       "      <td>17</td>\n",
       "      <td>14</td>\n",
       "      <td>3</td>\n",
       "    </tr>\n",
       "    <tr>\n",
       "      <th>4</th>\n",
       "      <td>11</td>\n",
       "      <td>4</td>\n",
       "      <td>5</td>\n",
       "      <td>11</td>\n",
       "      <td>18</td>\n",
       "    </tr>\n",
       "    <tr>\n",
       "      <th>5</th>\n",
       "      <td>7</td>\n",
       "      <td>1</td>\n",
       "      <td>8</td>\n",
       "      <td>5</td>\n",
       "      <td>1</td>\n",
       "    </tr>\n",
       "    <tr>\n",
       "      <th>6</th>\n",
       "      <td>1</td>\n",
       "      <td>18</td>\n",
       "      <td>1</td>\n",
       "      <td>12</td>\n",
       "      <td>11</td>\n",
       "    </tr>\n",
       "    <tr>\n",
       "      <th>7</th>\n",
       "      <td>9</td>\n",
       "      <td>17</td>\n",
       "      <td>12</td>\n",
       "      <td>17</td>\n",
       "      <td>16</td>\n",
       "    </tr>\n",
       "    <tr>\n",
       "      <th>8</th>\n",
       "      <td>12</td>\n",
       "      <td>11</td>\n",
       "      <td>11</td>\n",
       "      <td>16</td>\n",
       "      <td>19</td>\n",
       "    </tr>\n",
       "    <tr>\n",
       "      <th>9</th>\n",
       "      <td>9</td>\n",
       "      <td>17</td>\n",
       "      <td>0</td>\n",
       "      <td>17</td>\n",
       "      <td>16</td>\n",
       "    </tr>\n",
       "  </tbody>\n",
       "</table>\n",
       "</div>"
      ],
      "text/plain": [
       "   run_0  run_1  run_2  run_3  run_4\n",
       "0     10     10     10     10     17\n",
       "1      0      0     15     15      0\n",
       "2      9      6     12      6      5\n",
       "3     11      2     17     14      3\n",
       "4     11      4      5     11     18\n",
       "5      7      1      8      5      1\n",
       "6      1     18      1     12     11\n",
       "7      9     17     12     17     16\n",
       "8     12     11     11     16     19\n",
       "9      9     17      0     17     16"
      ]
     },
     "execution_count": 15,
     "metadata": {},
     "output_type": "execute_result"
    }
   ],
   "source": [
    "clusters_df.head(10)"
   ]
  },
  {
   "cell_type": "code",
   "execution_count": 13,
   "id": "295627b9",
   "metadata": {},
   "outputs": [
    {
     "name": "stdout",
     "output_type": "stream",
     "text": [
      "[10, 15, 12, 17, 5, 8, 1, 12, 11, 0, 7, 9, 12, 2, 6, 6, 4, 0, 9, 2, 2, 4, 6, 7, 4, 17, 0, 13, 14, 13, 4, 11, 6, 14, 9, 6, 2, 14, 15, 7, 16, 2, 2, 6, 14, 12, 9, 2, 2, 12, 18, 11, 6, 1, 15, 0, 1, 9, 1, 16, 8, 11, 15, 9, 4, 19, 17, 7, 9, 0, 8, 2, 4, 8, 19, 8, 9, 5, 8, 1, 1, 13, 8, 17, 19, 19, 3, 16, 2, 14, 14, 12, 9, 9]\n"
     ]
    }
   ],
   "source": [
    "\n",
    "pairwise_aris = np.zeros((len(clusters), len(clusters)))\n",
    "\n",
    "for i, c in enumerate(clusters):\n",
    "    for j, c_ in enumerate(clusters):\n",
    "        pairwise_aris[i,j] = ARI(c, c_)\n",
    "\n",
    "\n",
    "mean_aris = np.mean(pairwise_aris, axis=0)\n",
    "most_representative = np.argmax(mean_aris)\n",
    "print(clusters[most_representative])"
   ]
  },
  {
   "cell_type": "code",
   "execution_count": 14,
   "id": "9cd613fc",
   "metadata": {},
   "outputs": [
    {
     "data": {
      "text/plain": [
       "2"
      ]
     },
     "execution_count": 14,
     "metadata": {},
     "output_type": "execute_result"
    }
   ],
   "source": [
    "most_representative"
   ]
  },
  {
   "cell_type": "code",
   "execution_count": 16,
   "id": "5fa9414e",
   "metadata": {},
   "outputs": [
    {
     "data": {
      "text/plain": [
       "array([0.48065854, 0.45206934, 0.49862752, 0.48365406, 0.43037092])"
      ]
     },
     "execution_count": 16,
     "metadata": {},
     "output_type": "execute_result"
    }
   ],
   "source": [
    "mean_aris"
   ]
  },
  {
   "cell_type": "code",
   "execution_count": 17,
   "id": "baeffaae",
   "metadata": {},
   "outputs": [
    {
     "data": {
      "text/plain": [
       "array([[1.        , 0.2699834 , 0.36916366, 0.49108889, 0.27305674],\n",
       "       [0.2699834 , 1.        , 0.43679486, 0.26623419, 0.28733425],\n",
       "       [0.36916366, 0.43679486, 1.        , 0.37833134, 0.30884774],\n",
       "       [0.49108889, 0.26623419, 0.37833134, 1.        , 0.28261588],\n",
       "       [0.27305674, 0.28733425, 0.30884774, 0.28261588, 1.        ]])"
      ]
     },
     "execution_count": 17,
     "metadata": {},
     "output_type": "execute_result"
    }
   ],
   "source": [
    "pairwise_aris"
   ]
  }
 ],
 "metadata": {
  "kernelspec": {
   "display_name": "Python 3",
   "language": "python",
   "name": "python3"
  },
  "language_info": {
   "codemirror_mode": {
    "name": "ipython",
    "version": 3
   },
   "file_extension": ".py",
   "mimetype": "text/x-python",
   "name": "python",
   "nbconvert_exporter": "python",
   "pygments_lexer": "ipython3",
   "version": "3.8.10"
  }
 },
 "nbformat": 4,
 "nbformat_minor": 5
}
